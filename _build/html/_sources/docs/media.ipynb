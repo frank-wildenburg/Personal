{
 "cells": [
  {
   "cell_type": "markdown",
   "metadata": {},
   "source": [
    "# Media\n",
    "\n",
    "(Last updated: May 30, 2024)\n",
    "\n",
    "Since around 2020, I have been keeping track of almost all media I consume - mostly books and games, but also concerts (but not CD's), movies, museums, and other forms of culture. Here, you can find a quick summary of what I've been up to"
   ]
  },
  {
   "cell_type": "markdown",
   "metadata": {},
   "source": [
    "## Currently enjoying"
   ]
  },
  {
   "cell_type": "code",
   "execution_count": 288,
   "metadata": {
    "tags": [
     "remove-input"
    ]
   },
   "outputs": [
    {
     "name": "stdout",
     "output_type": "stream",
     "text": [
      "Last visited: Dvořáks Symfonie nr. 7 onder leiding van Lorenzo Viotti by Nederlands Philharmonisch Orkest\n",
      "Which I thought was: great\n"
     ]
    }
   ],
   "source": [
    "import pandas as pd\n",
    "df = pd.read_csv(\"media.csv\")\n",
    "\n",
    "verb_dict = {\"Book\":\"read\",\"Game\":\"played\",\"Movie\":\"watched\",\"Concert\":\"visited\",\"Museum\":\"visited\"}\n",
    "print(f\"Last {verb_dict.get(df['type'].iloc[-1], 'visited')}: {df['name'].iloc[-1]} by {df['creator'].iloc[-1]}\")\n",
    "score_dict = {10:'close to perfect!', 9:'fantastic!', 8:'great', 7:'good', 6:'okay', 5:'meh...', 4:'not great', 3:'bad', 2:'terrible', 1: 'abhorrent', 0:'the worst!'}\n",
    "print(f\"Which I thought was: {score_dict[round(df['score'].iloc[-1])]}\")"
   ]
  },
  {
   "cell_type": "markdown",
   "metadata": {},
   "source": [
    "## All-time favorites"
   ]
  },
  {
   "cell_type": "code",
   "execution_count": 289,
   "metadata": {
    "tags": [
     "remove-input"
    ]
   },
   "outputs": [
    {
     "name": "stdout",
     "output_type": "stream",
     "text": [
      "Some works I can wholeheartedly recommend are:\n",
      "* Men at Arms by Terry Pratchett, which I rated at 9.8\n",
      "* King Gizzard and the Wizard Lizard by King Gizzard and the Lizard Wizard, which I rated at 10.0\n",
      "* The Legend of Zelda: Tears of the Kingdom by Nintendo, which I rated at 10.0\n",
      "* Sekiro: Shadows Die Twice by FromSoftware, which I rated at 10.0\n",
      "* Roshambo, of Waarom we Steen-Papier-Schaar Spelen by DraeCKI, which I rated at 9.9\n"
     ]
    }
   ],
   "source": [
    "df3 = df.copy()\n",
    "sample = df3[df3['score'] > 9.5].sample(5).reset_index()\n",
    "print(\"Some works I can wholeheartedly recommend are:\")\n",
    "for i in range(len(sample)):\n",
    "    print(f\"* {sample['name'][i]} by {sample['creator'][i]}, which I rated at {sample['score'][i]}\")"
   ]
  },
  {
   "cell_type": "markdown",
   "metadata": {},
   "source": [
    "## What I play"
   ]
  },
  {
   "cell_type": "code",
   "execution_count": 290,
   "metadata": {
    "tags": [
     "remove-input"
    ]
   },
   "outputs": [
    {
     "data": {
      "application/vnd.plotly.v1+json": {
       "config": {
        "plotlyServerURL": "https://plot.ly"
       },
       "data": [
        {
         "branchvalues": "total",
         "domain": {
          "x": [
           0,
           1
          ],
          "y": [
           0,
           1
          ]
         },
         "hovertemplate": "<b>Amount: %{value} </b><br>%{label}",
         "ids": [
          "Book/score≈5.0",
          "Book/score≈6.0",
          "Conference/score≈6.5",
          "Movie/score≈6.5",
          "Book/score≈7.0",
          "Game/score≈7.0",
          "Movie/score≈7.0",
          "Museum/score≈7.0",
          "Series/score≈7.0",
          "Book/score≈7.5",
          "Concert/score≈7.5",
          "Game/score≈7.5",
          "Museum/score≈7.5",
          "Series/score≈7.5",
          "Book/score≈8.0",
          "Cabaret/score≈8.0",
          "Concert/score≈8.0",
          "Conference/score≈8.0",
          "Game/score≈8.0",
          "Movie/score≈8.0",
          "Museum/score≈8.0",
          "Book/score≈8.5",
          "Concert/score≈8.5",
          "Game/score≈8.5",
          "Movie/score≈8.5",
          "Museum/score≈8.5",
          "Series/score≈8.5",
          "Book/score≈9.0",
          "Concert/score≈9.0",
          "Game/score≈9.0",
          "Movie/score≈9.0",
          "Museum/score≈9.0",
          "Theater/score≈9.0",
          "Book/score≈9.5",
          "Concert/score≈9.5",
          "Game/score≈9.5",
          "Book/score≈9.9",
          "Concert/score≈9.9",
          "Game/score≈9.9",
          "Theater/score≈9.9",
          "Book",
          "Cabaret",
          "Concert",
          "Conference",
          "Game",
          "Movie",
          "Museum",
          "Series",
          "Theater"
         ],
         "labels": [
          "score≈5.0",
          "score≈6.0",
          "score≈6.5",
          "score≈6.5",
          "score≈7.0",
          "score≈7.0",
          "score≈7.0",
          "score≈7.0",
          "score≈7.0",
          "score≈7.5",
          "score≈7.5",
          "score≈7.5",
          "score≈7.5",
          "score≈7.5",
          "score≈8.0",
          "score≈8.0",
          "score≈8.0",
          "score≈8.0",
          "score≈8.0",
          "score≈8.0",
          "score≈8.0",
          "score≈8.5",
          "score≈8.5",
          "score≈8.5",
          "score≈8.5",
          "score≈8.5",
          "score≈8.5",
          "score≈9.0",
          "score≈9.0",
          "score≈9.0",
          "score≈9.0",
          "score≈9.0",
          "score≈9.0",
          "score≈9.5",
          "score≈9.5",
          "score≈9.5",
          "score≈9.9",
          "score≈9.9",
          "score≈9.9",
          "score≈9.9",
          "Book",
          "Cabaret",
          "Concert",
          "Conference",
          "Game",
          "Movie",
          "Museum",
          "Series",
          "Theater"
         ],
         "name": "",
         "parents": [
          "Book",
          "Book",
          "Conference",
          "Movie",
          "Book",
          "Game",
          "Movie",
          "Museum",
          "Series",
          "Book",
          "Concert",
          "Game",
          "Museum",
          "Series",
          "Book",
          "Cabaret",
          "Concert",
          "Conference",
          "Game",
          "Movie",
          "Museum",
          "Book",
          "Concert",
          "Game",
          "Movie",
          "Museum",
          "Series",
          "Book",
          "Concert",
          "Game",
          "Movie",
          "Museum",
          "Theater",
          "Book",
          "Concert",
          "Game",
          "Book",
          "Concert",
          "Game",
          "Theater",
          "",
          "",
          "",
          "",
          "",
          "",
          "",
          "",
          ""
         ],
         "sort": false,
         "type": "sunburst",
         "values": [
          1,
          1,
          1,
          1,
          6,
          4,
          1,
          1,
          1,
          13,
          6,
          6,
          4,
          1,
          23,
          1,
          6,
          1,
          19,
          2,
          2,
          18,
          6,
          16,
          3,
          1,
          1,
          23,
          2,
          24,
          2,
          4,
          1,
          6,
          1,
          11,
          5,
          1,
          8,
          1,
          96,
          1,
          22,
          2,
          88,
          9,
          12,
          3,
          2
         ]
        }
       ],
       "layout": {
        "legend": {
         "tracegroupgap": 0
        },
        "margin": {
         "b": 5,
         "l": 5,
         "r": 5,
         "t": 5
        },
        "showlegend": false,
        "template": {
         "data": {
          "bar": [
           {
            "error_x": {
             "color": "#2a3f5f"
            },
            "error_y": {
             "color": "#2a3f5f"
            },
            "marker": {
             "line": {
              "color": "#E5ECF6",
              "width": 0.5
             },
             "pattern": {
              "fillmode": "overlay",
              "size": 10,
              "solidity": 0.2
             }
            },
            "type": "bar"
           }
          ],
          "barpolar": [
           {
            "marker": {
             "line": {
              "color": "#E5ECF6",
              "width": 0.5
             },
             "pattern": {
              "fillmode": "overlay",
              "size": 10,
              "solidity": 0.2
             }
            },
            "type": "barpolar"
           }
          ],
          "carpet": [
           {
            "aaxis": {
             "endlinecolor": "#2a3f5f",
             "gridcolor": "white",
             "linecolor": "white",
             "minorgridcolor": "white",
             "startlinecolor": "#2a3f5f"
            },
            "baxis": {
             "endlinecolor": "#2a3f5f",
             "gridcolor": "white",
             "linecolor": "white",
             "minorgridcolor": "white",
             "startlinecolor": "#2a3f5f"
            },
            "type": "carpet"
           }
          ],
          "choropleth": [
           {
            "colorbar": {
             "outlinewidth": 0,
             "ticks": ""
            },
            "type": "choropleth"
           }
          ],
          "contour": [
           {
            "colorbar": {
             "outlinewidth": 0,
             "ticks": ""
            },
            "colorscale": [
             [
              0,
              "#0d0887"
             ],
             [
              0.1111111111111111,
              "#46039f"
             ],
             [
              0.2222222222222222,
              "#7201a8"
             ],
             [
              0.3333333333333333,
              "#9c179e"
             ],
             [
              0.4444444444444444,
              "#bd3786"
             ],
             [
              0.5555555555555556,
              "#d8576b"
             ],
             [
              0.6666666666666666,
              "#ed7953"
             ],
             [
              0.7777777777777778,
              "#fb9f3a"
             ],
             [
              0.8888888888888888,
              "#fdca26"
             ],
             [
              1,
              "#f0f921"
             ]
            ],
            "type": "contour"
           }
          ],
          "contourcarpet": [
           {
            "colorbar": {
             "outlinewidth": 0,
             "ticks": ""
            },
            "type": "contourcarpet"
           }
          ],
          "heatmap": [
           {
            "colorbar": {
             "outlinewidth": 0,
             "ticks": ""
            },
            "colorscale": [
             [
              0,
              "#0d0887"
             ],
             [
              0.1111111111111111,
              "#46039f"
             ],
             [
              0.2222222222222222,
              "#7201a8"
             ],
             [
              0.3333333333333333,
              "#9c179e"
             ],
             [
              0.4444444444444444,
              "#bd3786"
             ],
             [
              0.5555555555555556,
              "#d8576b"
             ],
             [
              0.6666666666666666,
              "#ed7953"
             ],
             [
              0.7777777777777778,
              "#fb9f3a"
             ],
             [
              0.8888888888888888,
              "#fdca26"
             ],
             [
              1,
              "#f0f921"
             ]
            ],
            "type": "heatmap"
           }
          ],
          "heatmapgl": [
           {
            "colorbar": {
             "outlinewidth": 0,
             "ticks": ""
            },
            "colorscale": [
             [
              0,
              "#0d0887"
             ],
             [
              0.1111111111111111,
              "#46039f"
             ],
             [
              0.2222222222222222,
              "#7201a8"
             ],
             [
              0.3333333333333333,
              "#9c179e"
             ],
             [
              0.4444444444444444,
              "#bd3786"
             ],
             [
              0.5555555555555556,
              "#d8576b"
             ],
             [
              0.6666666666666666,
              "#ed7953"
             ],
             [
              0.7777777777777778,
              "#fb9f3a"
             ],
             [
              0.8888888888888888,
              "#fdca26"
             ],
             [
              1,
              "#f0f921"
             ]
            ],
            "type": "heatmapgl"
           }
          ],
          "histogram": [
           {
            "marker": {
             "pattern": {
              "fillmode": "overlay",
              "size": 10,
              "solidity": 0.2
             }
            },
            "type": "histogram"
           }
          ],
          "histogram2d": [
           {
            "colorbar": {
             "outlinewidth": 0,
             "ticks": ""
            },
            "colorscale": [
             [
              0,
              "#0d0887"
             ],
             [
              0.1111111111111111,
              "#46039f"
             ],
             [
              0.2222222222222222,
              "#7201a8"
             ],
             [
              0.3333333333333333,
              "#9c179e"
             ],
             [
              0.4444444444444444,
              "#bd3786"
             ],
             [
              0.5555555555555556,
              "#d8576b"
             ],
             [
              0.6666666666666666,
              "#ed7953"
             ],
             [
              0.7777777777777778,
              "#fb9f3a"
             ],
             [
              0.8888888888888888,
              "#fdca26"
             ],
             [
              1,
              "#f0f921"
             ]
            ],
            "type": "histogram2d"
           }
          ],
          "histogram2dcontour": [
           {
            "colorbar": {
             "outlinewidth": 0,
             "ticks": ""
            },
            "colorscale": [
             [
              0,
              "#0d0887"
             ],
             [
              0.1111111111111111,
              "#46039f"
             ],
             [
              0.2222222222222222,
              "#7201a8"
             ],
             [
              0.3333333333333333,
              "#9c179e"
             ],
             [
              0.4444444444444444,
              "#bd3786"
             ],
             [
              0.5555555555555556,
              "#d8576b"
             ],
             [
              0.6666666666666666,
              "#ed7953"
             ],
             [
              0.7777777777777778,
              "#fb9f3a"
             ],
             [
              0.8888888888888888,
              "#fdca26"
             ],
             [
              1,
              "#f0f921"
             ]
            ],
            "type": "histogram2dcontour"
           }
          ],
          "mesh3d": [
           {
            "colorbar": {
             "outlinewidth": 0,
             "ticks": ""
            },
            "type": "mesh3d"
           }
          ],
          "parcoords": [
           {
            "line": {
             "colorbar": {
              "outlinewidth": 0,
              "ticks": ""
             }
            },
            "type": "parcoords"
           }
          ],
          "pie": [
           {
            "automargin": true,
            "type": "pie"
           }
          ],
          "scatter": [
           {
            "fillpattern": {
             "fillmode": "overlay",
             "size": 10,
             "solidity": 0.2
            },
            "type": "scatter"
           }
          ],
          "scatter3d": [
           {
            "line": {
             "colorbar": {
              "outlinewidth": 0,
              "ticks": ""
             }
            },
            "marker": {
             "colorbar": {
              "outlinewidth": 0,
              "ticks": ""
             }
            },
            "type": "scatter3d"
           }
          ],
          "scattercarpet": [
           {
            "marker": {
             "colorbar": {
              "outlinewidth": 0,
              "ticks": ""
             }
            },
            "type": "scattercarpet"
           }
          ],
          "scattergeo": [
           {
            "marker": {
             "colorbar": {
              "outlinewidth": 0,
              "ticks": ""
             }
            },
            "type": "scattergeo"
           }
          ],
          "scattergl": [
           {
            "marker": {
             "colorbar": {
              "outlinewidth": 0,
              "ticks": ""
             }
            },
            "type": "scattergl"
           }
          ],
          "scattermapbox": [
           {
            "marker": {
             "colorbar": {
              "outlinewidth": 0,
              "ticks": ""
             }
            },
            "type": "scattermapbox"
           }
          ],
          "scatterpolar": [
           {
            "marker": {
             "colorbar": {
              "outlinewidth": 0,
              "ticks": ""
             }
            },
            "type": "scatterpolar"
           }
          ],
          "scatterpolargl": [
           {
            "marker": {
             "colorbar": {
              "outlinewidth": 0,
              "ticks": ""
             }
            },
            "type": "scatterpolargl"
           }
          ],
          "scatterternary": [
           {
            "marker": {
             "colorbar": {
              "outlinewidth": 0,
              "ticks": ""
             }
            },
            "type": "scatterternary"
           }
          ],
          "surface": [
           {
            "colorbar": {
             "outlinewidth": 0,
             "ticks": ""
            },
            "colorscale": [
             [
              0,
              "#0d0887"
             ],
             [
              0.1111111111111111,
              "#46039f"
             ],
             [
              0.2222222222222222,
              "#7201a8"
             ],
             [
              0.3333333333333333,
              "#9c179e"
             ],
             [
              0.4444444444444444,
              "#bd3786"
             ],
             [
              0.5555555555555556,
              "#d8576b"
             ],
             [
              0.6666666666666666,
              "#ed7953"
             ],
             [
              0.7777777777777778,
              "#fb9f3a"
             ],
             [
              0.8888888888888888,
              "#fdca26"
             ],
             [
              1,
              "#f0f921"
             ]
            ],
            "type": "surface"
           }
          ],
          "table": [
           {
            "cells": {
             "fill": {
              "color": "#EBF0F8"
             },
             "line": {
              "color": "white"
             }
            },
            "header": {
             "fill": {
              "color": "#C8D4E3"
             },
             "line": {
              "color": "white"
             }
            },
            "type": "table"
           }
          ]
         },
         "layout": {
          "annotationdefaults": {
           "arrowcolor": "#2a3f5f",
           "arrowhead": 0,
           "arrowwidth": 1
          },
          "autotypenumbers": "strict",
          "coloraxis": {
           "colorbar": {
            "outlinewidth": 0,
            "ticks": ""
           }
          },
          "colorscale": {
           "diverging": [
            [
             0,
             "#8e0152"
            ],
            [
             0.1,
             "#c51b7d"
            ],
            [
             0.2,
             "#de77ae"
            ],
            [
             0.3,
             "#f1b6da"
            ],
            [
             0.4,
             "#fde0ef"
            ],
            [
             0.5,
             "#f7f7f7"
            ],
            [
             0.6,
             "#e6f5d0"
            ],
            [
             0.7,
             "#b8e186"
            ],
            [
             0.8,
             "#7fbc41"
            ],
            [
             0.9,
             "#4d9221"
            ],
            [
             1,
             "#276419"
            ]
           ],
           "sequential": [
            [
             0,
             "#0d0887"
            ],
            [
             0.1111111111111111,
             "#46039f"
            ],
            [
             0.2222222222222222,
             "#7201a8"
            ],
            [
             0.3333333333333333,
             "#9c179e"
            ],
            [
             0.4444444444444444,
             "#bd3786"
            ],
            [
             0.5555555555555556,
             "#d8576b"
            ],
            [
             0.6666666666666666,
             "#ed7953"
            ],
            [
             0.7777777777777778,
             "#fb9f3a"
            ],
            [
             0.8888888888888888,
             "#fdca26"
            ],
            [
             1,
             "#f0f921"
            ]
           ],
           "sequentialminus": [
            [
             0,
             "#0d0887"
            ],
            [
             0.1111111111111111,
             "#46039f"
            ],
            [
             0.2222222222222222,
             "#7201a8"
            ],
            [
             0.3333333333333333,
             "#9c179e"
            ],
            [
             0.4444444444444444,
             "#bd3786"
            ],
            [
             0.5555555555555556,
             "#d8576b"
            ],
            [
             0.6666666666666666,
             "#ed7953"
            ],
            [
             0.7777777777777778,
             "#fb9f3a"
            ],
            [
             0.8888888888888888,
             "#fdca26"
            ],
            [
             1,
             "#f0f921"
            ]
           ]
          },
          "colorway": [
           "#636efa",
           "#EF553B",
           "#00cc96",
           "#ab63fa",
           "#FFA15A",
           "#19d3f3",
           "#FF6692",
           "#B6E880",
           "#FF97FF",
           "#FECB52"
          ],
          "font": {
           "color": "#2a3f5f"
          },
          "geo": {
           "bgcolor": "white",
           "lakecolor": "white",
           "landcolor": "#E5ECF6",
           "showlakes": true,
           "showland": true,
           "subunitcolor": "white"
          },
          "hoverlabel": {
           "align": "left"
          },
          "hovermode": "closest",
          "mapbox": {
           "style": "light"
          },
          "paper_bgcolor": "white",
          "plot_bgcolor": "#E5ECF6",
          "polar": {
           "angularaxis": {
            "gridcolor": "white",
            "linecolor": "white",
            "ticks": ""
           },
           "bgcolor": "#E5ECF6",
           "radialaxis": {
            "gridcolor": "white",
            "linecolor": "white",
            "ticks": ""
           }
          },
          "scene": {
           "xaxis": {
            "backgroundcolor": "#E5ECF6",
            "gridcolor": "white",
            "gridwidth": 2,
            "linecolor": "white",
            "showbackground": true,
            "ticks": "",
            "zerolinecolor": "white"
           },
           "yaxis": {
            "backgroundcolor": "#E5ECF6",
            "gridcolor": "white",
            "gridwidth": 2,
            "linecolor": "white",
            "showbackground": true,
            "ticks": "",
            "zerolinecolor": "white"
           },
           "zaxis": {
            "backgroundcolor": "#E5ECF6",
            "gridcolor": "white",
            "gridwidth": 2,
            "linecolor": "white",
            "showbackground": true,
            "ticks": "",
            "zerolinecolor": "white"
           }
          },
          "shapedefaults": {
           "line": {
            "color": "#2a3f5f"
           }
          },
          "ternary": {
           "aaxis": {
            "gridcolor": "white",
            "linecolor": "white",
            "ticks": ""
           },
           "baxis": {
            "gridcolor": "white",
            "linecolor": "white",
            "ticks": ""
           },
           "bgcolor": "#E5ECF6",
           "caxis": {
            "gridcolor": "white",
            "linecolor": "white",
            "ticks": ""
           }
          },
          "title": {
           "x": 0.05
          },
          "xaxis": {
           "automargin": true,
           "gridcolor": "white",
           "linecolor": "white",
           "ticks": "",
           "title": {
            "standoff": 15
           },
           "zerolinecolor": "white",
           "zerolinewidth": 2
          },
          "yaxis": {
           "automargin": true,
           "gridcolor": "white",
           "linecolor": "white",
           "ticks": "",
           "title": {
            "standoff": 15
           },
           "zerolinecolor": "white",
           "zerolinewidth": 2
          }
         }
        }
       }
      }
     },
     "metadata": {},
     "output_type": "display_data"
    }
   ],
   "source": [
    "import plotly.express as px\n",
    "def rounder(score):\n",
    "    score = float(round(score*2))/2\n",
    "    if score == 10:\n",
    "        return \"score≈\" + str(9.9)\n",
    "    return \"score≈\" + str(score)\n",
    "\n",
    "df4 = df.copy()\n",
    "df4 = df4.groupby(['type', 'score']).size().rename_axis(['type', 'score']).reset_index(name='counts')\n",
    "df4['scoreactual'] = df4['score'].apply(lambda x: rounder(x))\n",
    "df4 = df4.sort_values(by=['type', 'score'])\n",
    "fig = px.sunburst(df4, path=['type', 'scoreactual'], values='counts', labels=[''],\n",
    "                    hover_data={\n",
    "                    })\n",
    "fig.update_layout(margin={'t':5,'l':5,'b':5,'r':5}, showlegend=False)\n",
    "fig.update_traces(sort=False, hovertemplate='<b>Amount: %{value} </b><br>%{label}')\n",
    "fig.show()"
   ]
  },
  {
   "cell_type": "markdown",
   "metadata": {},
   "source": [
    "## How much I play"
   ]
  },
  {
   "cell_type": "code",
   "execution_count": 292,
   "metadata": {
    "tags": [
     "remove-input"
    ]
   },
   "outputs": [
    {
     "data": {
      "application/vnd.plotly.v1+json": {
       "config": {
        "plotlyServerURL": "https://plot.ly"
       },
       "data": [
        {
         "customdata": [
          [
           "Book"
          ],
          [
           "Book"
          ],
          [
           "Book"
          ],
          [
           "Book"
          ],
          [
           "Book"
          ],
          [
           "Book"
          ],
          [
           "Book"
          ],
          [
           "Book"
          ],
          [
           "Book"
          ],
          [
           "Book"
          ],
          [
           "Book"
          ],
          [
           "Book"
          ]
         ],
         "hovertemplate": "Year=2021<extra></extra>",
         "legendgroup": "2021",
         "line": {
          "color": "#636efa",
          "dash": "solid"
         },
         "marker": {
          "symbol": "circle"
         },
         "mode": "lines",
         "name": "2021",
         "orientation": "v",
         "showlegend": true,
         "type": "scatter",
         "x": [
          "01",
          "02",
          "03",
          "04",
          "05",
          "06",
          "07",
          "08",
          "09",
          "10",
          "11",
          "12"
         ],
         "xaxis": "x",
         "y": [
          1,
          4,
          5,
          2,
          2,
          3,
          2,
          3,
          3,
          2,
          3,
          4
         ],
         "yaxis": "y"
        },
        {
         "customdata": [
          [
           "Book"
          ],
          [
           "Book"
          ],
          [
           "Book"
          ],
          [
           "Book"
          ],
          [
           "Book"
          ],
          [
           "Book"
          ],
          [
           "Book"
          ],
          [
           "Book"
          ],
          [
           "Book"
          ],
          [
           "Book"
          ],
          [
           "Book"
          ],
          [
           "Book"
          ]
         ],
         "hovertemplate": "Year=2022<extra></extra>",
         "legendgroup": "2022",
         "line": {
          "color": "#EF553B",
          "dash": "solid"
         },
         "marker": {
          "symbol": "circle"
         },
         "mode": "lines",
         "name": "2022",
         "orientation": "v",
         "showlegend": true,
         "type": "scatter",
         "x": [
          "01",
          "02",
          "03",
          "04",
          "05",
          "06",
          "07",
          "08",
          "09",
          "10",
          "11",
          "12"
         ],
         "xaxis": "x",
         "y": [
          4,
          3,
          3,
          4,
          1,
          1,
          1,
          "0",
          2,
          1,
          2,
          3
         ],
         "yaxis": "y"
        },
        {
         "customdata": [
          [
           "Book"
          ],
          [
           "Book"
          ],
          [
           "Book"
          ],
          [
           "Book"
          ],
          [
           "Book"
          ],
          [
           "Book"
          ],
          [
           "Book"
          ],
          [
           "Book"
          ],
          [
           "Book"
          ],
          [
           "Book"
          ],
          [
           "Book"
          ],
          [
           "Book"
          ]
         ],
         "hovertemplate": "Year=2023<extra></extra>",
         "legendgroup": "2023",
         "line": {
          "color": "#00cc96",
          "dash": "solid"
         },
         "marker": {
          "symbol": "circle"
         },
         "mode": "lines",
         "name": "2023",
         "orientation": "v",
         "showlegend": true,
         "type": "scatter",
         "x": [
          "01",
          "02",
          "03",
          "04",
          "05",
          "06",
          "07",
          "08",
          "09",
          "10",
          "11",
          "12"
         ],
         "xaxis": "x",
         "y": [
          2,
          3,
          "0",
          3,
          1,
          2,
          2,
          1,
          2,
          4,
          3,
          2
         ],
         "yaxis": "y"
        },
        {
         "customdata": [
          [
           "Book"
          ],
          [
           "Book"
          ],
          [
           "Book"
          ],
          [
           "Book"
          ],
          [
           "Book"
          ],
          [
           "Book"
          ],
          [
           "Book"
          ],
          [
           "Book"
          ],
          [
           "Book"
          ],
          [
           "Book"
          ],
          [
           "Book"
          ],
          [
           "Book"
          ]
         ],
         "hovertemplate": "Year=2024<extra></extra>",
         "legendgroup": "2024",
         "line": {
          "color": "#ab63fa",
          "dash": "solid"
         },
         "marker": {
          "symbol": "circle"
         },
         "mode": "lines",
         "name": "2024",
         "orientation": "v",
         "showlegend": true,
         "type": "scatter",
         "x": [
          "01",
          "02",
          "03",
          "04",
          "05",
          "06",
          "07",
          "08",
          "09",
          "10",
          "11",
          "12"
         ],
         "xaxis": "x",
         "y": [
          3,
          2,
          4,
          2,
          1,
          "0",
          "0",
          "0",
          "0",
          "0",
          "0",
          "0"
         ],
         "yaxis": "y"
        }
       ],
       "frames": [
        {
         "data": [
          {
           "customdata": [
            [
             "Book"
            ],
            [
             "Book"
            ],
            [
             "Book"
            ],
            [
             "Book"
            ],
            [
             "Book"
            ],
            [
             "Book"
            ],
            [
             "Book"
            ],
            [
             "Book"
            ],
            [
             "Book"
            ],
            [
             "Book"
            ],
            [
             "Book"
            ],
            [
             "Book"
            ]
           ],
           "hovertemplate": "Year=2021<extra></extra>",
           "legendgroup": "2021",
           "line": {
            "color": "#636efa",
            "dash": "solid"
           },
           "marker": {
            "symbol": "circle"
           },
           "mode": "lines",
           "name": "2021",
           "orientation": "v",
           "showlegend": true,
           "type": "scatter",
           "x": [
            "01",
            "02",
            "03",
            "04",
            "05",
            "06",
            "07",
            "08",
            "09",
            "10",
            "11",
            "12"
           ],
           "xaxis": "x",
           "y": [
            1,
            4,
            5,
            2,
            2,
            3,
            2,
            3,
            3,
            2,
            3,
            4
           ],
           "yaxis": "y"
          },
          {
           "customdata": [
            [
             "Book"
            ],
            [
             "Book"
            ],
            [
             "Book"
            ],
            [
             "Book"
            ],
            [
             "Book"
            ],
            [
             "Book"
            ],
            [
             "Book"
            ],
            [
             "Book"
            ],
            [
             "Book"
            ],
            [
             "Book"
            ],
            [
             "Book"
            ],
            [
             "Book"
            ]
           ],
           "hovertemplate": "Year=2022<extra></extra>",
           "legendgroup": "2022",
           "line": {
            "color": "#EF553B",
            "dash": "solid"
           },
           "marker": {
            "symbol": "circle"
           },
           "mode": "lines",
           "name": "2022",
           "orientation": "v",
           "showlegend": true,
           "type": "scatter",
           "x": [
            "01",
            "02",
            "03",
            "04",
            "05",
            "06",
            "07",
            "08",
            "09",
            "10",
            "11",
            "12"
           ],
           "xaxis": "x",
           "y": [
            4,
            3,
            3,
            4,
            1,
            1,
            1,
            "0",
            2,
            1,
            2,
            3
           ],
           "yaxis": "y"
          },
          {
           "customdata": [
            [
             "Book"
            ],
            [
             "Book"
            ],
            [
             "Book"
            ],
            [
             "Book"
            ],
            [
             "Book"
            ],
            [
             "Book"
            ],
            [
             "Book"
            ],
            [
             "Book"
            ],
            [
             "Book"
            ],
            [
             "Book"
            ],
            [
             "Book"
            ],
            [
             "Book"
            ]
           ],
           "hovertemplate": "Year=2023<extra></extra>",
           "legendgroup": "2023",
           "line": {
            "color": "#00cc96",
            "dash": "solid"
           },
           "marker": {
            "symbol": "circle"
           },
           "mode": "lines",
           "name": "2023",
           "orientation": "v",
           "showlegend": true,
           "type": "scatter",
           "x": [
            "01",
            "02",
            "03",
            "04",
            "05",
            "06",
            "07",
            "08",
            "09",
            "10",
            "11",
            "12"
           ],
           "xaxis": "x",
           "y": [
            2,
            3,
            "0",
            3,
            1,
            2,
            2,
            1,
            2,
            4,
            3,
            2
           ],
           "yaxis": "y"
          },
          {
           "customdata": [
            [
             "Book"
            ],
            [
             "Book"
            ],
            [
             "Book"
            ],
            [
             "Book"
            ],
            [
             "Book"
            ],
            [
             "Book"
            ],
            [
             "Book"
            ],
            [
             "Book"
            ],
            [
             "Book"
            ],
            [
             "Book"
            ],
            [
             "Book"
            ],
            [
             "Book"
            ]
           ],
           "hovertemplate": "Year=2024<extra></extra>",
           "legendgroup": "2024",
           "line": {
            "color": "#ab63fa",
            "dash": "solid"
           },
           "marker": {
            "symbol": "circle"
           },
           "mode": "lines",
           "name": "2024",
           "orientation": "v",
           "showlegend": true,
           "type": "scatter",
           "x": [
            "01",
            "02",
            "03",
            "04",
            "05",
            "06",
            "07",
            "08",
            "09",
            "10",
            "11",
            "12"
           ],
           "xaxis": "x",
           "y": [
            3,
            2,
            4,
            2,
            1,
            "0",
            "0",
            "0",
            "0",
            "0",
            "0",
            "0"
           ],
           "yaxis": "y"
          }
         ],
         "name": "Book"
        },
        {
         "data": [
          {
           "customdata": [
            [
             "Game"
            ],
            [
             "Game"
            ],
            [
             "Game"
            ],
            [
             "Game"
            ],
            [
             "Game"
            ],
            [
             "Game"
            ],
            [
             "Game"
            ],
            [
             "Game"
            ],
            [
             "Game"
            ],
            [
             "Game"
            ],
            [
             "Game"
            ],
            [
             "Game"
            ]
           ],
           "hovertemplate": "Year=2021<extra></extra>",
           "legendgroup": "2021",
           "line": {
            "color": "#636efa",
            "dash": "solid"
           },
           "marker": {
            "symbol": "circle"
           },
           "mode": "lines",
           "name": "2021",
           "orientation": "v",
           "showlegend": true,
           "type": "scatter",
           "x": [
            "01",
            "02",
            "03",
            "04",
            "05",
            "06",
            "07",
            "08",
            "09",
            "10",
            "11",
            "12"
           ],
           "xaxis": "x",
           "y": [
            2,
            3,
            2,
            2,
            3,
            2,
            7,
            5,
            2,
            1,
            2,
            1
           ],
           "yaxis": "y"
          },
          {
           "customdata": [
            [
             "Game"
            ],
            [
             "Game"
            ],
            [
             "Game"
            ],
            [
             "Game"
            ],
            [
             "Game"
            ],
            [
             "Game"
            ],
            [
             "Game"
            ],
            [
             "Game"
            ],
            [
             "Game"
            ],
            [
             "Game"
            ],
            [
             "Game"
            ],
            [
             "Game"
            ]
           ],
           "hovertemplate": "Year=2022<extra></extra>",
           "legendgroup": "2022",
           "line": {
            "color": "#EF553B",
            "dash": "solid"
           },
           "marker": {
            "symbol": "circle"
           },
           "mode": "lines",
           "name": "2022",
           "orientation": "v",
           "showlegend": true,
           "type": "scatter",
           "x": [
            "01",
            "02",
            "03",
            "04",
            "05",
            "06",
            "07",
            "08",
            "09",
            "10",
            "11",
            "12"
           ],
           "xaxis": "x",
           "y": [
            2,
            2,
            2,
            1,
            1,
            3,
            1,
            1,
            "0",
            "0",
            1,
            3
           ],
           "yaxis": "y"
          },
          {
           "customdata": [
            [
             "Game"
            ],
            [
             "Game"
            ],
            [
             "Game"
            ],
            [
             "Game"
            ],
            [
             "Game"
            ],
            [
             "Game"
            ],
            [
             "Game"
            ],
            [
             "Game"
            ],
            [
             "Game"
            ],
            [
             "Game"
            ],
            [
             "Game"
            ],
            [
             "Game"
            ]
           ],
           "hovertemplate": "Year=2023<extra></extra>",
           "legendgroup": "2023",
           "line": {
            "color": "#00cc96",
            "dash": "solid"
           },
           "marker": {
            "symbol": "circle"
           },
           "mode": "lines",
           "name": "2023",
           "orientation": "v",
           "showlegend": true,
           "type": "scatter",
           "x": [
            "01",
            "02",
            "03",
            "04",
            "05",
            "06",
            "07",
            "08",
            "09",
            "10",
            "11",
            "12"
           ],
           "xaxis": "x",
           "y": [
            6,
            2,
            2,
            "0",
            1,
            2,
            3,
            2,
            5,
            2,
            2,
            3
           ],
           "yaxis": "y"
          },
          {
           "customdata": [
            [
             "Game"
            ],
            [
             "Game"
            ],
            [
             "Game"
            ],
            [
             "Game"
            ],
            [
             "Game"
            ],
            [
             "Game"
            ],
            [
             "Game"
            ],
            [
             "Game"
            ],
            [
             "Game"
            ],
            [
             "Game"
            ],
            [
             "Game"
            ],
            [
             "Game"
            ]
           ],
           "hovertemplate": "Year=2024<extra></extra>",
           "legendgroup": "2024",
           "line": {
            "color": "#ab63fa",
            "dash": "solid"
           },
           "marker": {
            "symbol": "circle"
           },
           "mode": "lines",
           "name": "2024",
           "orientation": "v",
           "showlegend": true,
           "type": "scatter",
           "x": [
            "01",
            "02",
            "03",
            "04",
            "05",
            "06",
            "07",
            "08",
            "09",
            "10",
            "11",
            "12"
           ],
           "xaxis": "x",
           "y": [
            1,
            2,
            2,
            1,
            3,
            "0",
            "0",
            "0",
            "0",
            "0",
            "0",
            "0"
           ],
           "yaxis": "y"
          }
         ],
         "name": "Game"
        },
        {
         "data": [
          {
           "customdata": [
            [
             "Cabaret"
            ],
            [
             "Cabaret"
            ],
            [
             "Cabaret"
            ],
            [
             "Cabaret"
            ],
            [
             "Cabaret"
            ],
            [
             "Cabaret"
            ],
            [
             "Cabaret"
            ],
            [
             "Cabaret"
            ],
            [
             "Cabaret"
            ],
            [
             "Cabaret"
            ],
            [
             "Cabaret"
            ],
            [
             "Cabaret"
            ]
           ],
           "hovertemplate": "Year=2021<extra></extra>",
           "legendgroup": "2021",
           "line": {
            "color": "#636efa",
            "dash": "solid"
           },
           "marker": {
            "symbol": "circle"
           },
           "mode": "lines",
           "name": "2021",
           "orientation": "v",
           "showlegend": true,
           "type": "scatter",
           "x": [
            "01",
            "02",
            "03",
            "04",
            "05",
            "06",
            "07",
            "08",
            "09",
            "10",
            "11",
            "12"
           ],
           "xaxis": "x",
           "y": [
            "0",
            "0",
            "0",
            "0",
            "0",
            "0",
            "0",
            "0",
            "0",
            "0",
            "0",
            "0"
           ],
           "yaxis": "y"
          },
          {
           "customdata": [
            [
             "Cabaret"
            ],
            [
             "Cabaret"
            ],
            [
             "Cabaret"
            ],
            [
             "Cabaret"
            ],
            [
             "Cabaret"
            ],
            [
             "Cabaret"
            ],
            [
             "Cabaret"
            ],
            [
             "Cabaret"
            ],
            [
             "Cabaret"
            ],
            [
             "Cabaret"
            ],
            [
             "Cabaret"
            ],
            [
             "Cabaret"
            ]
           ],
           "hovertemplate": "Year=2022<extra></extra>",
           "legendgroup": "2022",
           "line": {
            "color": "#EF553B",
            "dash": "solid"
           },
           "marker": {
            "symbol": "circle"
           },
           "mode": "lines",
           "name": "2022",
           "orientation": "v",
           "showlegend": true,
           "type": "scatter",
           "x": [
            "01",
            "02",
            "03",
            "04",
            "05",
            "06",
            "07",
            "08",
            "09",
            "10",
            "11",
            "12"
           ],
           "xaxis": "x",
           "y": [
            "0",
            "0",
            "0",
            "0",
            1,
            "0",
            "0",
            "0",
            "0",
            "0",
            "0",
            "0"
           ],
           "yaxis": "y"
          },
          {
           "customdata": [
            [
             "Cabaret"
            ],
            [
             "Cabaret"
            ],
            [
             "Cabaret"
            ],
            [
             "Cabaret"
            ],
            [
             "Cabaret"
            ],
            [
             "Cabaret"
            ],
            [
             "Cabaret"
            ],
            [
             "Cabaret"
            ],
            [
             "Cabaret"
            ],
            [
             "Cabaret"
            ],
            [
             "Cabaret"
            ],
            [
             "Cabaret"
            ]
           ],
           "hovertemplate": "Year=2023<extra></extra>",
           "legendgroup": "2023",
           "line": {
            "color": "#00cc96",
            "dash": "solid"
           },
           "marker": {
            "symbol": "circle"
           },
           "mode": "lines",
           "name": "2023",
           "orientation": "v",
           "showlegend": true,
           "type": "scatter",
           "x": [
            "01",
            "02",
            "03",
            "04",
            "05",
            "06",
            "07",
            "08",
            "09",
            "10",
            "11",
            "12"
           ],
           "xaxis": "x",
           "y": [
            "0",
            "0",
            "0",
            "0",
            "0",
            "0",
            "0",
            "0",
            "0",
            "0",
            "0",
            "0"
           ],
           "yaxis": "y"
          },
          {
           "customdata": [
            [
             "Cabaret"
            ],
            [
             "Cabaret"
            ],
            [
             "Cabaret"
            ],
            [
             "Cabaret"
            ],
            [
             "Cabaret"
            ],
            [
             "Cabaret"
            ],
            [
             "Cabaret"
            ],
            [
             "Cabaret"
            ],
            [
             "Cabaret"
            ],
            [
             "Cabaret"
            ],
            [
             "Cabaret"
            ],
            [
             "Cabaret"
            ]
           ],
           "hovertemplate": "Year=2024<extra></extra>",
           "legendgroup": "2024",
           "line": {
            "color": "#ab63fa",
            "dash": "solid"
           },
           "marker": {
            "symbol": "circle"
           },
           "mode": "lines",
           "name": "2024",
           "orientation": "v",
           "showlegend": true,
           "type": "scatter",
           "x": [
            "01",
            "02",
            "03",
            "04",
            "05",
            "06",
            "07",
            "08",
            "09",
            "10",
            "11",
            "12"
           ],
           "xaxis": "x",
           "y": [
            "0",
            "0",
            "0",
            "0",
            "0",
            "0",
            "0",
            "0",
            "0",
            "0",
            "0",
            "0"
           ],
           "yaxis": "y"
          }
         ],
         "name": "Cabaret"
        },
        {
         "data": [
          {
           "customdata": [
            [
             "Concert"
            ],
            [
             "Concert"
            ],
            [
             "Concert"
            ],
            [
             "Concert"
            ],
            [
             "Concert"
            ],
            [
             "Concert"
            ],
            [
             "Concert"
            ],
            [
             "Concert"
            ],
            [
             "Concert"
            ],
            [
             "Concert"
            ],
            [
             "Concert"
            ],
            [
             "Concert"
            ]
           ],
           "hovertemplate": "Year=2021<extra></extra>",
           "legendgroup": "2021",
           "line": {
            "color": "#636efa",
            "dash": "solid"
           },
           "marker": {
            "symbol": "circle"
           },
           "mode": "lines",
           "name": "2021",
           "orientation": "v",
           "showlegend": true,
           "type": "scatter",
           "x": [
            "01",
            "02",
            "03",
            "04",
            "05",
            "06",
            "07",
            "08",
            "09",
            "10",
            "11",
            "12"
           ],
           "xaxis": "x",
           "y": [
            "0",
            "0",
            "0",
            "0",
            "0",
            "0",
            "0",
            "0",
            "0",
            "0",
            "0",
            "0"
           ],
           "yaxis": "y"
          },
          {
           "customdata": [
            [
             "Concert"
            ],
            [
             "Concert"
            ],
            [
             "Concert"
            ],
            [
             "Concert"
            ],
            [
             "Concert"
            ],
            [
             "Concert"
            ],
            [
             "Concert"
            ],
            [
             "Concert"
            ],
            [
             "Concert"
            ],
            [
             "Concert"
            ],
            [
             "Concert"
            ],
            [
             "Concert"
            ]
           ],
           "hovertemplate": "Year=2022<extra></extra>",
           "legendgroup": "2022",
           "line": {
            "color": "#EF553B",
            "dash": "solid"
           },
           "marker": {
            "symbol": "circle"
           },
           "mode": "lines",
           "name": "2022",
           "orientation": "v",
           "showlegend": true,
           "type": "scatter",
           "x": [
            "01",
            "02",
            "03",
            "04",
            "05",
            "06",
            "07",
            "08",
            "09",
            "10",
            "11",
            "12"
           ],
           "xaxis": "x",
           "y": [
            "0",
            "0",
            "0",
            "0",
            1,
            "0",
            "0",
            "0",
            "0",
            "0",
            2,
            2
           ],
           "yaxis": "y"
          },
          {
           "customdata": [
            [
             "Concert"
            ],
            [
             "Concert"
            ],
            [
             "Concert"
            ],
            [
             "Concert"
            ],
            [
             "Concert"
            ],
            [
             "Concert"
            ],
            [
             "Concert"
            ],
            [
             "Concert"
            ],
            [
             "Concert"
            ],
            [
             "Concert"
            ],
            [
             "Concert"
            ],
            [
             "Concert"
            ]
           ],
           "hovertemplate": "Year=2023<extra></extra>",
           "legendgroup": "2023",
           "line": {
            "color": "#00cc96",
            "dash": "solid"
           },
           "marker": {
            "symbol": "circle"
           },
           "mode": "lines",
           "name": "2023",
           "orientation": "v",
           "showlegend": true,
           "type": "scatter",
           "x": [
            "01",
            "02",
            "03",
            "04",
            "05",
            "06",
            "07",
            "08",
            "09",
            "10",
            "11",
            "12"
           ],
           "xaxis": "x",
           "y": [
            "0",
            1,
            2,
            "0",
            "0",
            3,
            2,
            "0",
            "0",
            2,
            1,
            1
           ],
           "yaxis": "y"
          },
          {
           "customdata": [
            [
             "Concert"
            ],
            [
             "Concert"
            ],
            [
             "Concert"
            ],
            [
             "Concert"
            ],
            [
             "Concert"
            ],
            [
             "Concert"
            ],
            [
             "Concert"
            ],
            [
             "Concert"
            ],
            [
             "Concert"
            ],
            [
             "Concert"
            ],
            [
             "Concert"
            ],
            [
             "Concert"
            ]
           ],
           "hovertemplate": "Year=2024<extra></extra>",
           "legendgroup": "2024",
           "line": {
            "color": "#ab63fa",
            "dash": "solid"
           },
           "marker": {
            "symbol": "circle"
           },
           "mode": "lines",
           "name": "2024",
           "orientation": "v",
           "showlegend": true,
           "type": "scatter",
           "x": [
            "01",
            "02",
            "03",
            "04",
            "05",
            "06",
            "07",
            "08",
            "09",
            "10",
            "11",
            "12"
           ],
           "xaxis": "x",
           "y": [
            "0",
            2,
            "0",
            1,
            2,
            "0",
            "0",
            "0",
            "0",
            "0",
            "0",
            "0"
           ],
           "yaxis": "y"
          }
         ],
         "name": "Concert"
        },
        {
         "data": [
          {
           "customdata": [
            [
             "Conference"
            ],
            [
             "Conference"
            ],
            [
             "Conference"
            ],
            [
             "Conference"
            ],
            [
             "Conference"
            ],
            [
             "Conference"
            ],
            [
             "Conference"
            ],
            [
             "Conference"
            ],
            [
             "Conference"
            ],
            [
             "Conference"
            ],
            [
             "Conference"
            ],
            [
             "Conference"
            ]
           ],
           "hovertemplate": "Year=2021<extra></extra>",
           "legendgroup": "2021",
           "line": {
            "color": "#636efa",
            "dash": "solid"
           },
           "marker": {
            "symbol": "circle"
           },
           "mode": "lines",
           "name": "2021",
           "orientation": "v",
           "showlegend": true,
           "type": "scatter",
           "x": [
            "01",
            "02",
            "03",
            "04",
            "05",
            "06",
            "07",
            "08",
            "09",
            "10",
            "11",
            "12"
           ],
           "xaxis": "x",
           "y": [
            "0",
            "0",
            "0",
            "0",
            "0",
            "0",
            "0",
            "0",
            "0",
            "0",
            "0",
            "0"
           ],
           "yaxis": "y"
          },
          {
           "customdata": [
            [
             "Conference"
            ],
            [
             "Conference"
            ],
            [
             "Conference"
            ],
            [
             "Conference"
            ],
            [
             "Conference"
            ],
            [
             "Conference"
            ],
            [
             "Conference"
            ],
            [
             "Conference"
            ],
            [
             "Conference"
            ],
            [
             "Conference"
            ],
            [
             "Conference"
            ],
            [
             "Conference"
            ]
           ],
           "hovertemplate": "Year=2022<extra></extra>",
           "legendgroup": "2022",
           "line": {
            "color": "#EF553B",
            "dash": "solid"
           },
           "marker": {
            "symbol": "circle"
           },
           "mode": "lines",
           "name": "2022",
           "orientation": "v",
           "showlegend": true,
           "type": "scatter",
           "x": [
            "01",
            "02",
            "03",
            "04",
            "05",
            "06",
            "07",
            "08",
            "09",
            "10",
            "11",
            "12"
           ],
           "xaxis": "x",
           "y": [
            "0",
            "0",
            "0",
            "0",
            "0",
            "0",
            "0",
            "0",
            "0",
            "0",
            "0",
            "0"
           ],
           "yaxis": "y"
          },
          {
           "customdata": [
            [
             "Conference"
            ],
            [
             "Conference"
            ],
            [
             "Conference"
            ],
            [
             "Conference"
            ],
            [
             "Conference"
            ],
            [
             "Conference"
            ],
            [
             "Conference"
            ],
            [
             "Conference"
            ],
            [
             "Conference"
            ],
            [
             "Conference"
            ],
            [
             "Conference"
            ],
            [
             "Conference"
            ]
           ],
           "hovertemplate": "Year=2023<extra></extra>",
           "legendgroup": "2023",
           "line": {
            "color": "#00cc96",
            "dash": "solid"
           },
           "marker": {
            "symbol": "circle"
           },
           "mode": "lines",
           "name": "2023",
           "orientation": "v",
           "showlegend": true,
           "type": "scatter",
           "x": [
            "01",
            "02",
            "03",
            "04",
            "05",
            "06",
            "07",
            "08",
            "09",
            "10",
            "11",
            "12"
           ],
           "xaxis": "x",
           "y": [
            "0",
            1,
            "0",
            "0",
            "0",
            1,
            "0",
            "0",
            "0",
            "0",
            "0",
            "0"
           ],
           "yaxis": "y"
          },
          {
           "customdata": [
            [
             "Conference"
            ],
            [
             "Conference"
            ],
            [
             "Conference"
            ],
            [
             "Conference"
            ],
            [
             "Conference"
            ],
            [
             "Conference"
            ],
            [
             "Conference"
            ],
            [
             "Conference"
            ],
            [
             "Conference"
            ],
            [
             "Conference"
            ],
            [
             "Conference"
            ],
            [
             "Conference"
            ]
           ],
           "hovertemplate": "Year=2024<extra></extra>",
           "legendgroup": "2024",
           "line": {
            "color": "#ab63fa",
            "dash": "solid"
           },
           "marker": {
            "symbol": "circle"
           },
           "mode": "lines",
           "name": "2024",
           "orientation": "v",
           "showlegend": true,
           "type": "scatter",
           "x": [
            "01",
            "02",
            "03",
            "04",
            "05",
            "06",
            "07",
            "08",
            "09",
            "10",
            "11",
            "12"
           ],
           "xaxis": "x",
           "y": [
            "0",
            "0",
            "0",
            "0",
            "0",
            "0",
            "0",
            "0",
            "0",
            "0",
            "0",
            "0"
           ],
           "yaxis": "y"
          }
         ],
         "name": "Conference"
        },
        {
         "data": [
          {
           "customdata": [
            [
             "Movie"
            ],
            [
             "Movie"
            ],
            [
             "Movie"
            ],
            [
             "Movie"
            ],
            [
             "Movie"
            ],
            [
             "Movie"
            ],
            [
             "Movie"
            ],
            [
             "Movie"
            ],
            [
             "Movie"
            ],
            [
             "Movie"
            ],
            [
             "Movie"
            ],
            [
             "Movie"
            ]
           ],
           "hovertemplate": "Year=2021<extra></extra>",
           "legendgroup": "2021",
           "line": {
            "color": "#636efa",
            "dash": "solid"
           },
           "marker": {
            "symbol": "circle"
           },
           "mode": "lines",
           "name": "2021",
           "orientation": "v",
           "showlegend": true,
           "type": "scatter",
           "x": [
            "01",
            "02",
            "03",
            "04",
            "05",
            "06",
            "07",
            "08",
            "09",
            "10",
            "11",
            "12"
           ],
           "xaxis": "x",
           "y": [
            "0",
            "0",
            "0",
            "0",
            "0",
            "0",
            "0",
            "0",
            "0",
            "0",
            "0",
            "0"
           ],
           "yaxis": "y"
          },
          {
           "customdata": [
            [
             "Movie"
            ],
            [
             "Movie"
            ],
            [
             "Movie"
            ],
            [
             "Movie"
            ],
            [
             "Movie"
            ],
            [
             "Movie"
            ],
            [
             "Movie"
            ],
            [
             "Movie"
            ],
            [
             "Movie"
            ],
            [
             "Movie"
            ],
            [
             "Movie"
            ],
            [
             "Movie"
            ]
           ],
           "hovertemplate": "Year=2022<extra></extra>",
           "legendgroup": "2022",
           "line": {
            "color": "#EF553B",
            "dash": "solid"
           },
           "marker": {
            "symbol": "circle"
           },
           "mode": "lines",
           "name": "2022",
           "orientation": "v",
           "showlegend": true,
           "type": "scatter",
           "x": [
            "01",
            "02",
            "03",
            "04",
            "05",
            "06",
            "07",
            "08",
            "09",
            "10",
            "11",
            "12"
           ],
           "xaxis": "x",
           "y": [
            1,
            "0",
            "0",
            "0",
            "0",
            "0",
            "0",
            "0",
            "0",
            "0",
            "0",
            "0"
           ],
           "yaxis": "y"
          },
          {
           "customdata": [
            [
             "Movie"
            ],
            [
             "Movie"
            ],
            [
             "Movie"
            ],
            [
             "Movie"
            ],
            [
             "Movie"
            ],
            [
             "Movie"
            ],
            [
             "Movie"
            ],
            [
             "Movie"
            ],
            [
             "Movie"
            ],
            [
             "Movie"
            ],
            [
             "Movie"
            ],
            [
             "Movie"
            ]
           ],
           "hovertemplate": "Year=2023<extra></extra>",
           "legendgroup": "2023",
           "line": {
            "color": "#00cc96",
            "dash": "solid"
           },
           "marker": {
            "symbol": "circle"
           },
           "mode": "lines",
           "name": "2023",
           "orientation": "v",
           "showlegend": true,
           "type": "scatter",
           "x": [
            "01",
            "02",
            "03",
            "04",
            "05",
            "06",
            "07",
            "08",
            "09",
            "10",
            "11",
            "12"
           ],
           "xaxis": "x",
           "y": [
            "0",
            "0",
            "0",
            "0",
            "0",
            "0",
            4,
            "0",
            "0",
            "0",
            1,
            1
           ],
           "yaxis": "y"
          },
          {
           "customdata": [
            [
             "Movie"
            ],
            [
             "Movie"
            ],
            [
             "Movie"
            ],
            [
             "Movie"
            ],
            [
             "Movie"
            ],
            [
             "Movie"
            ],
            [
             "Movie"
            ],
            [
             "Movie"
            ],
            [
             "Movie"
            ],
            [
             "Movie"
            ],
            [
             "Movie"
            ],
            [
             "Movie"
            ]
           ],
           "hovertemplate": "Year=2024<extra></extra>",
           "legendgroup": "2024",
           "line": {
            "color": "#ab63fa",
            "dash": "solid"
           },
           "marker": {
            "symbol": "circle"
           },
           "mode": "lines",
           "name": "2024",
           "orientation": "v",
           "showlegend": true,
           "type": "scatter",
           "x": [
            "01",
            "02",
            "03",
            "04",
            "05",
            "06",
            "07",
            "08",
            "09",
            "10",
            "11",
            "12"
           ],
           "xaxis": "x",
           "y": [
            1,
            "0",
            1,
            "0",
            "0",
            "0",
            "0",
            "0",
            "0",
            "0",
            "0",
            "0"
           ],
           "yaxis": "y"
          }
         ],
         "name": "Movie"
        },
        {
         "data": [
          {
           "customdata": [
            [
             "Museum"
            ],
            [
             "Museum"
            ],
            [
             "Museum"
            ],
            [
             "Museum"
            ],
            [
             "Museum"
            ],
            [
             "Museum"
            ],
            [
             "Museum"
            ],
            [
             "Museum"
            ],
            [
             "Museum"
            ],
            [
             "Museum"
            ],
            [
             "Museum"
            ],
            [
             "Museum"
            ]
           ],
           "hovertemplate": "Year=2021<extra></extra>",
           "legendgroup": "2021",
           "line": {
            "color": "#636efa",
            "dash": "solid"
           },
           "marker": {
            "symbol": "circle"
           },
           "mode": "lines",
           "name": "2021",
           "orientation": "v",
           "showlegend": true,
           "type": "scatter",
           "x": [
            "01",
            "02",
            "03",
            "04",
            "05",
            "06",
            "07",
            "08",
            "09",
            "10",
            "11",
            "12"
           ],
           "xaxis": "x",
           "y": [
            "0",
            "0",
            "0",
            "0",
            "0",
            "0",
            "0",
            "0",
            "0",
            "0",
            "0",
            "0"
           ],
           "yaxis": "y"
          },
          {
           "customdata": [
            [
             "Museum"
            ],
            [
             "Museum"
            ],
            [
             "Museum"
            ],
            [
             "Museum"
            ],
            [
             "Museum"
            ],
            [
             "Museum"
            ],
            [
             "Museum"
            ],
            [
             "Museum"
            ],
            [
             "Museum"
            ],
            [
             "Museum"
            ],
            [
             "Museum"
            ],
            [
             "Museum"
            ]
           ],
           "hovertemplate": "Year=2022<extra></extra>",
           "legendgroup": "2022",
           "line": {
            "color": "#EF553B",
            "dash": "solid"
           },
           "marker": {
            "symbol": "circle"
           },
           "mode": "lines",
           "name": "2022",
           "orientation": "v",
           "showlegend": true,
           "type": "scatter",
           "x": [
            "01",
            "02",
            "03",
            "04",
            "05",
            "06",
            "07",
            "08",
            "09",
            "10",
            "11",
            "12"
           ],
           "xaxis": "x",
           "y": [
            "0",
            "0",
            "0",
            "0",
            "0",
            "0",
            "0",
            1,
            1,
            1,
            1,
            "0"
           ],
           "yaxis": "y"
          },
          {
           "customdata": [
            [
             "Museum"
            ],
            [
             "Museum"
            ],
            [
             "Museum"
            ],
            [
             "Museum"
            ],
            [
             "Museum"
            ],
            [
             "Museum"
            ],
            [
             "Museum"
            ],
            [
             "Museum"
            ],
            [
             "Museum"
            ],
            [
             "Museum"
            ],
            [
             "Museum"
            ],
            [
             "Museum"
            ]
           ],
           "hovertemplate": "Year=2023<extra></extra>",
           "legendgroup": "2023",
           "line": {
            "color": "#00cc96",
            "dash": "solid"
           },
           "marker": {
            "symbol": "circle"
           },
           "mode": "lines",
           "name": "2023",
           "orientation": "v",
           "showlegend": true,
           "type": "scatter",
           "x": [
            "01",
            "02",
            "03",
            "04",
            "05",
            "06",
            "07",
            "08",
            "09",
            "10",
            "11",
            "12"
           ],
           "xaxis": "x",
           "y": [
            1,
            1,
            "0",
            1,
            "0",
            "0",
            2,
            1,
            "0",
            "0",
            "0",
            1
           ],
           "yaxis": "y"
          },
          {
           "customdata": [
            [
             "Museum"
            ],
            [
             "Museum"
            ],
            [
             "Museum"
            ],
            [
             "Museum"
            ],
            [
             "Museum"
            ],
            [
             "Museum"
            ],
            [
             "Museum"
            ],
            [
             "Museum"
            ],
            [
             "Museum"
            ],
            [
             "Museum"
            ],
            [
             "Museum"
            ],
            [
             "Museum"
            ]
           ],
           "hovertemplate": "Year=2024<extra></extra>",
           "legendgroup": "2024",
           "line": {
            "color": "#ab63fa",
            "dash": "solid"
           },
           "marker": {
            "symbol": "circle"
           },
           "mode": "lines",
           "name": "2024",
           "orientation": "v",
           "showlegend": true,
           "type": "scatter",
           "x": [
            "01",
            "02",
            "03",
            "04",
            "05",
            "06",
            "07",
            "08",
            "09",
            "10",
            "11",
            "12"
           ],
           "xaxis": "x",
           "y": [
            "0",
            "0",
            "0",
            "0",
            1,
            "0",
            "0",
            "0",
            "0",
            "0",
            "0",
            "0"
           ],
           "yaxis": "y"
          }
         ],
         "name": "Museum"
        },
        {
         "data": [
          {
           "customdata": [
            [
             "Series"
            ],
            [
             "Series"
            ],
            [
             "Series"
            ],
            [
             "Series"
            ],
            [
             "Series"
            ],
            [
             "Series"
            ],
            [
             "Series"
            ],
            [
             "Series"
            ],
            [
             "Series"
            ],
            [
             "Series"
            ],
            [
             "Series"
            ],
            [
             "Series"
            ]
           ],
           "hovertemplate": "Year=2021<extra></extra>",
           "legendgroup": "2021",
           "line": {
            "color": "#636efa",
            "dash": "solid"
           },
           "marker": {
            "symbol": "circle"
           },
           "mode": "lines",
           "name": "2021",
           "orientation": "v",
           "showlegend": true,
           "type": "scatter",
           "x": [
            "01",
            "02",
            "03",
            "04",
            "05",
            "06",
            "07",
            "08",
            "09",
            "10",
            "11",
            "12"
           ],
           "xaxis": "x",
           "y": [
            "0",
            "0",
            "0",
            "0",
            "0",
            "0",
            "0",
            "0",
            "0",
            "0",
            "0",
            "0"
           ],
           "yaxis": "y"
          },
          {
           "customdata": [
            [
             "Series"
            ],
            [
             "Series"
            ],
            [
             "Series"
            ],
            [
             "Series"
            ],
            [
             "Series"
            ],
            [
             "Series"
            ],
            [
             "Series"
            ],
            [
             "Series"
            ],
            [
             "Series"
            ],
            [
             "Series"
            ],
            [
             "Series"
            ],
            [
             "Series"
            ]
           ],
           "hovertemplate": "Year=2022<extra></extra>",
           "legendgroup": "2022",
           "line": {
            "color": "#EF553B",
            "dash": "solid"
           },
           "marker": {
            "symbol": "circle"
           },
           "mode": "lines",
           "name": "2022",
           "orientation": "v",
           "showlegend": true,
           "type": "scatter",
           "x": [
            "01",
            "02",
            "03",
            "04",
            "05",
            "06",
            "07",
            "08",
            "09",
            "10",
            "11",
            "12"
           ],
           "xaxis": "x",
           "y": [
            "0",
            "0",
            "0",
            "0",
            "0",
            "0",
            "0",
            "0",
            "0",
            "0",
            "0",
            "0"
           ],
           "yaxis": "y"
          },
          {
           "customdata": [
            [
             "Series"
            ],
            [
             "Series"
            ],
            [
             "Series"
            ],
            [
             "Series"
            ],
            [
             "Series"
            ],
            [
             "Series"
            ],
            [
             "Series"
            ],
            [
             "Series"
            ],
            [
             "Series"
            ],
            [
             "Series"
            ],
            [
             "Series"
            ],
            [
             "Series"
            ]
           ],
           "hovertemplate": "Year=2023<extra></extra>",
           "legendgroup": "2023",
           "line": {
            "color": "#00cc96",
            "dash": "solid"
           },
           "marker": {
            "symbol": "circle"
           },
           "mode": "lines",
           "name": "2023",
           "orientation": "v",
           "showlegend": true,
           "type": "scatter",
           "x": [
            "01",
            "02",
            "03",
            "04",
            "05",
            "06",
            "07",
            "08",
            "09",
            "10",
            "11",
            "12"
           ],
           "xaxis": "x",
           "y": [
            1,
            "0",
            "0",
            "0",
            "0",
            1,
            "0",
            "0",
            1,
            "0",
            "0",
            "0"
           ],
           "yaxis": "y"
          },
          {
           "customdata": [
            [
             "Series"
            ],
            [
             "Series"
            ],
            [
             "Series"
            ],
            [
             "Series"
            ],
            [
             "Series"
            ],
            [
             "Series"
            ],
            [
             "Series"
            ],
            [
             "Series"
            ],
            [
             "Series"
            ],
            [
             "Series"
            ],
            [
             "Series"
            ],
            [
             "Series"
            ]
           ],
           "hovertemplate": "Year=2024<extra></extra>",
           "legendgroup": "2024",
           "line": {
            "color": "#ab63fa",
            "dash": "solid"
           },
           "marker": {
            "symbol": "circle"
           },
           "mode": "lines",
           "name": "2024",
           "orientation": "v",
           "showlegend": true,
           "type": "scatter",
           "x": [
            "01",
            "02",
            "03",
            "04",
            "05",
            "06",
            "07",
            "08",
            "09",
            "10",
            "11",
            "12"
           ],
           "xaxis": "x",
           "y": [
            "0",
            "0",
            "0",
            "0",
            "0",
            "0",
            "0",
            "0",
            "0",
            "0",
            "0",
            "0"
           ],
           "yaxis": "y"
          }
         ],
         "name": "Series"
        },
        {
         "data": [
          {
           "customdata": [
            [
             "Theater"
            ],
            [
             "Theater"
            ],
            [
             "Theater"
            ],
            [
             "Theater"
            ],
            [
             "Theater"
            ],
            [
             "Theater"
            ],
            [
             "Theater"
            ],
            [
             "Theater"
            ],
            [
             "Theater"
            ],
            [
             "Theater"
            ],
            [
             "Theater"
            ],
            [
             "Theater"
            ]
           ],
           "hovertemplate": "Year=2021<extra></extra>",
           "legendgroup": "2021",
           "line": {
            "color": "#636efa",
            "dash": "solid"
           },
           "marker": {
            "symbol": "circle"
           },
           "mode": "lines",
           "name": "2021",
           "orientation": "v",
           "showlegend": true,
           "type": "scatter",
           "x": [
            "01",
            "02",
            "03",
            "04",
            "05",
            "06",
            "07",
            "08",
            "09",
            "10",
            "11",
            "12"
           ],
           "xaxis": "x",
           "y": [
            "0",
            "0",
            "0",
            "0",
            "0",
            "0",
            "0",
            "0",
            "0",
            "0",
            "0",
            "0"
           ],
           "yaxis": "y"
          },
          {
           "customdata": [
            [
             "Theater"
            ],
            [
             "Theater"
            ],
            [
             "Theater"
            ],
            [
             "Theater"
            ],
            [
             "Theater"
            ],
            [
             "Theater"
            ],
            [
             "Theater"
            ],
            [
             "Theater"
            ],
            [
             "Theater"
            ],
            [
             "Theater"
            ],
            [
             "Theater"
            ],
            [
             "Theater"
            ]
           ],
           "hovertemplate": "Year=2022<extra></extra>",
           "legendgroup": "2022",
           "line": {
            "color": "#EF553B",
            "dash": "solid"
           },
           "marker": {
            "symbol": "circle"
           },
           "mode": "lines",
           "name": "2022",
           "orientation": "v",
           "showlegend": true,
           "type": "scatter",
           "x": [
            "01",
            "02",
            "03",
            "04",
            "05",
            "06",
            "07",
            "08",
            "09",
            "10",
            "11",
            "12"
           ],
           "xaxis": "x",
           "y": [
            "0",
            "0",
            "0",
            "0",
            1,
            "0",
            "0",
            "0",
            "0",
            "0",
            "0",
            "0"
           ],
           "yaxis": "y"
          },
          {
           "customdata": [
            [
             "Theater"
            ],
            [
             "Theater"
            ],
            [
             "Theater"
            ],
            [
             "Theater"
            ],
            [
             "Theater"
            ],
            [
             "Theater"
            ],
            [
             "Theater"
            ],
            [
             "Theater"
            ],
            [
             "Theater"
            ],
            [
             "Theater"
            ],
            [
             "Theater"
            ],
            [
             "Theater"
            ]
           ],
           "hovertemplate": "Year=2023<extra></extra>",
           "legendgroup": "2023",
           "line": {
            "color": "#00cc96",
            "dash": "solid"
           },
           "marker": {
            "symbol": "circle"
           },
           "mode": "lines",
           "name": "2023",
           "orientation": "v",
           "showlegend": true,
           "type": "scatter",
           "x": [
            "01",
            "02",
            "03",
            "04",
            "05",
            "06",
            "07",
            "08",
            "09",
            "10",
            "11",
            "12"
           ],
           "xaxis": "x",
           "y": [
            "0",
            1,
            "0",
            "0",
            "0",
            "0",
            "0",
            "0",
            "0",
            "0",
            "0",
            "0"
           ],
           "yaxis": "y"
          },
          {
           "customdata": [
            [
             "Theater"
            ],
            [
             "Theater"
            ],
            [
             "Theater"
            ],
            [
             "Theater"
            ],
            [
             "Theater"
            ],
            [
             "Theater"
            ],
            [
             "Theater"
            ],
            [
             "Theater"
            ],
            [
             "Theater"
            ],
            [
             "Theater"
            ],
            [
             "Theater"
            ],
            [
             "Theater"
            ]
           ],
           "hovertemplate": "Year=2024<extra></extra>",
           "legendgroup": "2024",
           "line": {
            "color": "#ab63fa",
            "dash": "solid"
           },
           "marker": {
            "symbol": "circle"
           },
           "mode": "lines",
           "name": "2024",
           "orientation": "v",
           "showlegend": true,
           "type": "scatter",
           "x": [
            "01",
            "02",
            "03",
            "04",
            "05",
            "06",
            "07",
            "08",
            "09",
            "10",
            "11",
            "12"
           ],
           "xaxis": "x",
           "y": [
            "0",
            "0",
            "0",
            "0",
            "0",
            "0",
            "0",
            "0",
            "0",
            "0",
            "0",
            "0"
           ],
           "yaxis": "y"
          }
         ],
         "name": "Theater"
        },
        {
         "data": [
          {
           "customdata": [
            [
             "All"
            ],
            [
             "All"
            ],
            [
             "All"
            ],
            [
             "All"
            ],
            [
             "All"
            ],
            [
             "All"
            ],
            [
             "All"
            ],
            [
             "All"
            ],
            [
             "All"
            ],
            [
             "All"
            ],
            [
             "All"
            ],
            [
             "All"
            ]
           ],
           "hovertemplate": "Year=2021<extra></extra>",
           "legendgroup": "2021",
           "line": {
            "color": "#636efa",
            "dash": "solid"
           },
           "marker": {
            "symbol": "circle"
           },
           "mode": "lines",
           "name": "2021",
           "orientation": "v",
           "showlegend": true,
           "type": "scatter",
           "x": [
            "01",
            "02",
            "03",
            "04",
            "05",
            "06",
            "07",
            "08",
            "09",
            "10",
            "11",
            "12"
           ],
           "xaxis": "x",
           "y": [
            3,
            7,
            7,
            4,
            5,
            5,
            9,
            8,
            5,
            3,
            5,
            5
           ],
           "yaxis": "y"
          },
          {
           "customdata": [
            [
             "All"
            ],
            [
             "All"
            ],
            [
             "All"
            ],
            [
             "All"
            ],
            [
             "All"
            ],
            [
             "All"
            ],
            [
             "All"
            ],
            [
             "All"
            ],
            [
             "All"
            ],
            [
             "All"
            ],
            [
             "All"
            ],
            [
             "All"
            ]
           ],
           "hovertemplate": "Year=2022<extra></extra>",
           "legendgroup": "2022",
           "line": {
            "color": "#EF553B",
            "dash": "solid"
           },
           "marker": {
            "symbol": "circle"
           },
           "mode": "lines",
           "name": "2022",
           "orientation": "v",
           "showlegend": true,
           "type": "scatter",
           "x": [
            "01",
            "02",
            "03",
            "04",
            "05",
            "06",
            "07",
            "08",
            "09",
            "10",
            "11",
            "12"
           ],
           "xaxis": "x",
           "y": [
            7,
            5,
            5,
            5,
            5,
            4,
            2,
            2,
            3,
            2,
            6,
            8
           ],
           "yaxis": "y"
          },
          {
           "customdata": [
            [
             "All"
            ],
            [
             "All"
            ],
            [
             "All"
            ],
            [
             "All"
            ],
            [
             "All"
            ],
            [
             "All"
            ],
            [
             "All"
            ],
            [
             "All"
            ],
            [
             "All"
            ],
            [
             "All"
            ],
            [
             "All"
            ],
            [
             "All"
            ]
           ],
           "hovertemplate": "Year=2023<extra></extra>",
           "legendgroup": "2023",
           "line": {
            "color": "#00cc96",
            "dash": "solid"
           },
           "marker": {
            "symbol": "circle"
           },
           "mode": "lines",
           "name": "2023",
           "orientation": "v",
           "showlegend": true,
           "type": "scatter",
           "x": [
            "01",
            "02",
            "03",
            "04",
            "05",
            "06",
            "07",
            "08",
            "09",
            "10",
            "11",
            "12"
           ],
           "xaxis": "x",
           "y": [
            10,
            9,
            4,
            4,
            2,
            9,
            13,
            4,
            8,
            8,
            7,
            8
           ],
           "yaxis": "y"
          },
          {
           "customdata": [
            [
             "All"
            ],
            [
             "All"
            ],
            [
             "All"
            ],
            [
             "All"
            ],
            [
             "All"
            ],
            [
             "All"
            ],
            [
             "All"
            ],
            [
             "All"
            ],
            [
             "All"
            ],
            [
             "All"
            ],
            [
             "All"
            ],
            [
             "All"
            ]
           ],
           "hovertemplate": "Year=2024<extra></extra>",
           "legendgroup": "2024",
           "line": {
            "color": "#ab63fa",
            "dash": "solid"
           },
           "marker": {
            "symbol": "circle"
           },
           "mode": "lines",
           "name": "2024",
           "orientation": "v",
           "showlegend": true,
           "type": "scatter",
           "x": [
            "01",
            "02",
            "03",
            "04",
            "05",
            "06",
            "07",
            "08",
            "09",
            "10",
            "11",
            "12"
           ],
           "xaxis": "x",
           "y": [
            5,
            6,
            7,
            4,
            7,
            0,
            0,
            0,
            0,
            0,
            0,
            0
           ],
           "yaxis": "y"
          }
         ],
         "name": "All"
        }
       ],
       "layout": {
        "legend": {
         "title": {
          "text": "Year"
         },
         "tracegroupgap": 0
        },
        "margin": {
         "b": 0,
         "l": 0,
         "r": 0,
         "t": 10
        },
        "showlegend": false,
        "sliders": [
         {
          "active": 0,
          "currentvalue": {
           "prefix": "type="
          },
          "len": 0.9,
          "pad": {
           "b": 20,
           "r": 10,
           "t": 20
          },
          "steps": [
           {
            "args": [
             [
              "Book"
             ],
             {
              "frame": {
               "duration": 0,
               "redraw": false
              },
              "fromcurrent": true,
              "mode": "immediate",
              "transition": {
               "duration": 0,
               "easing": "linear"
              }
             }
            ],
            "label": "Book",
            "method": "animate"
           },
           {
            "args": [
             [
              "Game"
             ],
             {
              "frame": {
               "duration": 0,
               "redraw": false
              },
              "fromcurrent": true,
              "mode": "immediate",
              "transition": {
               "duration": 0,
               "easing": "linear"
              }
             }
            ],
            "label": "Game",
            "method": "animate"
           },
           {
            "args": [
             [
              "Cabaret"
             ],
             {
              "frame": {
               "duration": 0,
               "redraw": false
              },
              "fromcurrent": true,
              "mode": "immediate",
              "transition": {
               "duration": 0,
               "easing": "linear"
              }
             }
            ],
            "label": "Cabaret",
            "method": "animate"
           },
           {
            "args": [
             [
              "Concert"
             ],
             {
              "frame": {
               "duration": 0,
               "redraw": false
              },
              "fromcurrent": true,
              "mode": "immediate",
              "transition": {
               "duration": 0,
               "easing": "linear"
              }
             }
            ],
            "label": "Concert",
            "method": "animate"
           },
           {
            "args": [
             [
              "Conference"
             ],
             {
              "frame": {
               "duration": 0,
               "redraw": false
              },
              "fromcurrent": true,
              "mode": "immediate",
              "transition": {
               "duration": 0,
               "easing": "linear"
              }
             }
            ],
            "label": "Conference",
            "method": "animate"
           },
           {
            "args": [
             [
              "Movie"
             ],
             {
              "frame": {
               "duration": 0,
               "redraw": false
              },
              "fromcurrent": true,
              "mode": "immediate",
              "transition": {
               "duration": 0,
               "easing": "linear"
              }
             }
            ],
            "label": "Movie",
            "method": "animate"
           },
           {
            "args": [
             [
              "Museum"
             ],
             {
              "frame": {
               "duration": 0,
               "redraw": false
              },
              "fromcurrent": true,
              "mode": "immediate",
              "transition": {
               "duration": 0,
               "easing": "linear"
              }
             }
            ],
            "label": "Museum",
            "method": "animate"
           },
           {
            "args": [
             [
              "Series"
             ],
             {
              "frame": {
               "duration": 0,
               "redraw": false
              },
              "fromcurrent": true,
              "mode": "immediate",
              "transition": {
               "duration": 0,
               "easing": "linear"
              }
             }
            ],
            "label": "Series",
            "method": "animate"
           },
           {
            "args": [
             [
              "Theater"
             ],
             {
              "frame": {
               "duration": 0,
               "redraw": false
              },
              "fromcurrent": true,
              "mode": "immediate",
              "transition": {
               "duration": 0,
               "easing": "linear"
              }
             }
            ],
            "label": "Theater",
            "method": "animate"
           },
           {
            "args": [
             [
              "All"
             ],
             {
              "frame": {
               "duration": 0,
               "redraw": false
              },
              "fromcurrent": true,
              "mode": "immediate",
              "transition": {
               "duration": 0,
               "easing": "linear"
              }
             }
            ],
            "label": "All",
            "method": "animate"
           }
          ],
          "x": 0.1,
          "xanchor": "left",
          "y": 0,
          "yanchor": "top"
         }
        ],
        "template": {
         "data": {
          "bar": [
           {
            "error_x": {
             "color": "#2a3f5f"
            },
            "error_y": {
             "color": "#2a3f5f"
            },
            "marker": {
             "line": {
              "color": "#E5ECF6",
              "width": 0.5
             },
             "pattern": {
              "fillmode": "overlay",
              "size": 10,
              "solidity": 0.2
             }
            },
            "type": "bar"
           }
          ],
          "barpolar": [
           {
            "marker": {
             "line": {
              "color": "#E5ECF6",
              "width": 0.5
             },
             "pattern": {
              "fillmode": "overlay",
              "size": 10,
              "solidity": 0.2
             }
            },
            "type": "barpolar"
           }
          ],
          "carpet": [
           {
            "aaxis": {
             "endlinecolor": "#2a3f5f",
             "gridcolor": "white",
             "linecolor": "white",
             "minorgridcolor": "white",
             "startlinecolor": "#2a3f5f"
            },
            "baxis": {
             "endlinecolor": "#2a3f5f",
             "gridcolor": "white",
             "linecolor": "white",
             "minorgridcolor": "white",
             "startlinecolor": "#2a3f5f"
            },
            "type": "carpet"
           }
          ],
          "choropleth": [
           {
            "colorbar": {
             "outlinewidth": 0,
             "ticks": ""
            },
            "type": "choropleth"
           }
          ],
          "contour": [
           {
            "colorbar": {
             "outlinewidth": 0,
             "ticks": ""
            },
            "colorscale": [
             [
              0,
              "#0d0887"
             ],
             [
              0.1111111111111111,
              "#46039f"
             ],
             [
              0.2222222222222222,
              "#7201a8"
             ],
             [
              0.3333333333333333,
              "#9c179e"
             ],
             [
              0.4444444444444444,
              "#bd3786"
             ],
             [
              0.5555555555555556,
              "#d8576b"
             ],
             [
              0.6666666666666666,
              "#ed7953"
             ],
             [
              0.7777777777777778,
              "#fb9f3a"
             ],
             [
              0.8888888888888888,
              "#fdca26"
             ],
             [
              1,
              "#f0f921"
             ]
            ],
            "type": "contour"
           }
          ],
          "contourcarpet": [
           {
            "colorbar": {
             "outlinewidth": 0,
             "ticks": ""
            },
            "type": "contourcarpet"
           }
          ],
          "heatmap": [
           {
            "colorbar": {
             "outlinewidth": 0,
             "ticks": ""
            },
            "colorscale": [
             [
              0,
              "#0d0887"
             ],
             [
              0.1111111111111111,
              "#46039f"
             ],
             [
              0.2222222222222222,
              "#7201a8"
             ],
             [
              0.3333333333333333,
              "#9c179e"
             ],
             [
              0.4444444444444444,
              "#bd3786"
             ],
             [
              0.5555555555555556,
              "#d8576b"
             ],
             [
              0.6666666666666666,
              "#ed7953"
             ],
             [
              0.7777777777777778,
              "#fb9f3a"
             ],
             [
              0.8888888888888888,
              "#fdca26"
             ],
             [
              1,
              "#f0f921"
             ]
            ],
            "type": "heatmap"
           }
          ],
          "heatmapgl": [
           {
            "colorbar": {
             "outlinewidth": 0,
             "ticks": ""
            },
            "colorscale": [
             [
              0,
              "#0d0887"
             ],
             [
              0.1111111111111111,
              "#46039f"
             ],
             [
              0.2222222222222222,
              "#7201a8"
             ],
             [
              0.3333333333333333,
              "#9c179e"
             ],
             [
              0.4444444444444444,
              "#bd3786"
             ],
             [
              0.5555555555555556,
              "#d8576b"
             ],
             [
              0.6666666666666666,
              "#ed7953"
             ],
             [
              0.7777777777777778,
              "#fb9f3a"
             ],
             [
              0.8888888888888888,
              "#fdca26"
             ],
             [
              1,
              "#f0f921"
             ]
            ],
            "type": "heatmapgl"
           }
          ],
          "histogram": [
           {
            "marker": {
             "pattern": {
              "fillmode": "overlay",
              "size": 10,
              "solidity": 0.2
             }
            },
            "type": "histogram"
           }
          ],
          "histogram2d": [
           {
            "colorbar": {
             "outlinewidth": 0,
             "ticks": ""
            },
            "colorscale": [
             [
              0,
              "#0d0887"
             ],
             [
              0.1111111111111111,
              "#46039f"
             ],
             [
              0.2222222222222222,
              "#7201a8"
             ],
             [
              0.3333333333333333,
              "#9c179e"
             ],
             [
              0.4444444444444444,
              "#bd3786"
             ],
             [
              0.5555555555555556,
              "#d8576b"
             ],
             [
              0.6666666666666666,
              "#ed7953"
             ],
             [
              0.7777777777777778,
              "#fb9f3a"
             ],
             [
              0.8888888888888888,
              "#fdca26"
             ],
             [
              1,
              "#f0f921"
             ]
            ],
            "type": "histogram2d"
           }
          ],
          "histogram2dcontour": [
           {
            "colorbar": {
             "outlinewidth": 0,
             "ticks": ""
            },
            "colorscale": [
             [
              0,
              "#0d0887"
             ],
             [
              0.1111111111111111,
              "#46039f"
             ],
             [
              0.2222222222222222,
              "#7201a8"
             ],
             [
              0.3333333333333333,
              "#9c179e"
             ],
             [
              0.4444444444444444,
              "#bd3786"
             ],
             [
              0.5555555555555556,
              "#d8576b"
             ],
             [
              0.6666666666666666,
              "#ed7953"
             ],
             [
              0.7777777777777778,
              "#fb9f3a"
             ],
             [
              0.8888888888888888,
              "#fdca26"
             ],
             [
              1,
              "#f0f921"
             ]
            ],
            "type": "histogram2dcontour"
           }
          ],
          "mesh3d": [
           {
            "colorbar": {
             "outlinewidth": 0,
             "ticks": ""
            },
            "type": "mesh3d"
           }
          ],
          "parcoords": [
           {
            "line": {
             "colorbar": {
              "outlinewidth": 0,
              "ticks": ""
             }
            },
            "type": "parcoords"
           }
          ],
          "pie": [
           {
            "automargin": true,
            "type": "pie"
           }
          ],
          "scatter": [
           {
            "fillpattern": {
             "fillmode": "overlay",
             "size": 10,
             "solidity": 0.2
            },
            "type": "scatter"
           }
          ],
          "scatter3d": [
           {
            "line": {
             "colorbar": {
              "outlinewidth": 0,
              "ticks": ""
             }
            },
            "marker": {
             "colorbar": {
              "outlinewidth": 0,
              "ticks": ""
             }
            },
            "type": "scatter3d"
           }
          ],
          "scattercarpet": [
           {
            "marker": {
             "colorbar": {
              "outlinewidth": 0,
              "ticks": ""
             }
            },
            "type": "scattercarpet"
           }
          ],
          "scattergeo": [
           {
            "marker": {
             "colorbar": {
              "outlinewidth": 0,
              "ticks": ""
             }
            },
            "type": "scattergeo"
           }
          ],
          "scattergl": [
           {
            "marker": {
             "colorbar": {
              "outlinewidth": 0,
              "ticks": ""
             }
            },
            "type": "scattergl"
           }
          ],
          "scattermapbox": [
           {
            "marker": {
             "colorbar": {
              "outlinewidth": 0,
              "ticks": ""
             }
            },
            "type": "scattermapbox"
           }
          ],
          "scatterpolar": [
           {
            "marker": {
             "colorbar": {
              "outlinewidth": 0,
              "ticks": ""
             }
            },
            "type": "scatterpolar"
           }
          ],
          "scatterpolargl": [
           {
            "marker": {
             "colorbar": {
              "outlinewidth": 0,
              "ticks": ""
             }
            },
            "type": "scatterpolargl"
           }
          ],
          "scatterternary": [
           {
            "marker": {
             "colorbar": {
              "outlinewidth": 0,
              "ticks": ""
             }
            },
            "type": "scatterternary"
           }
          ],
          "surface": [
           {
            "colorbar": {
             "outlinewidth": 0,
             "ticks": ""
            },
            "colorscale": [
             [
              0,
              "#0d0887"
             ],
             [
              0.1111111111111111,
              "#46039f"
             ],
             [
              0.2222222222222222,
              "#7201a8"
             ],
             [
              0.3333333333333333,
              "#9c179e"
             ],
             [
              0.4444444444444444,
              "#bd3786"
             ],
             [
              0.5555555555555556,
              "#d8576b"
             ],
             [
              0.6666666666666666,
              "#ed7953"
             ],
             [
              0.7777777777777778,
              "#fb9f3a"
             ],
             [
              0.8888888888888888,
              "#fdca26"
             ],
             [
              1,
              "#f0f921"
             ]
            ],
            "type": "surface"
           }
          ],
          "table": [
           {
            "cells": {
             "fill": {
              "color": "#EBF0F8"
             },
             "line": {
              "color": "white"
             }
            },
            "header": {
             "fill": {
              "color": "#C8D4E3"
             },
             "line": {
              "color": "white"
             }
            },
            "type": "table"
           }
          ]
         },
         "layout": {
          "annotationdefaults": {
           "arrowcolor": "#2a3f5f",
           "arrowhead": 0,
           "arrowwidth": 1
          },
          "autotypenumbers": "strict",
          "coloraxis": {
           "colorbar": {
            "outlinewidth": 0,
            "ticks": ""
           }
          },
          "colorscale": {
           "diverging": [
            [
             0,
             "#8e0152"
            ],
            [
             0.1,
             "#c51b7d"
            ],
            [
             0.2,
             "#de77ae"
            ],
            [
             0.3,
             "#f1b6da"
            ],
            [
             0.4,
             "#fde0ef"
            ],
            [
             0.5,
             "#f7f7f7"
            ],
            [
             0.6,
             "#e6f5d0"
            ],
            [
             0.7,
             "#b8e186"
            ],
            [
             0.8,
             "#7fbc41"
            ],
            [
             0.9,
             "#4d9221"
            ],
            [
             1,
             "#276419"
            ]
           ],
           "sequential": [
            [
             0,
             "#0d0887"
            ],
            [
             0.1111111111111111,
             "#46039f"
            ],
            [
             0.2222222222222222,
             "#7201a8"
            ],
            [
             0.3333333333333333,
             "#9c179e"
            ],
            [
             0.4444444444444444,
             "#bd3786"
            ],
            [
             0.5555555555555556,
             "#d8576b"
            ],
            [
             0.6666666666666666,
             "#ed7953"
            ],
            [
             0.7777777777777778,
             "#fb9f3a"
            ],
            [
             0.8888888888888888,
             "#fdca26"
            ],
            [
             1,
             "#f0f921"
            ]
           ],
           "sequentialminus": [
            [
             0,
             "#0d0887"
            ],
            [
             0.1111111111111111,
             "#46039f"
            ],
            [
             0.2222222222222222,
             "#7201a8"
            ],
            [
             0.3333333333333333,
             "#9c179e"
            ],
            [
             0.4444444444444444,
             "#bd3786"
            ],
            [
             0.5555555555555556,
             "#d8576b"
            ],
            [
             0.6666666666666666,
             "#ed7953"
            ],
            [
             0.7777777777777778,
             "#fb9f3a"
            ],
            [
             0.8888888888888888,
             "#fdca26"
            ],
            [
             1,
             "#f0f921"
            ]
           ]
          },
          "colorway": [
           "#636efa",
           "#EF553B",
           "#00cc96",
           "#ab63fa",
           "#FFA15A",
           "#19d3f3",
           "#FF6692",
           "#B6E880",
           "#FF97FF",
           "#FECB52"
          ],
          "font": {
           "color": "#2a3f5f"
          },
          "geo": {
           "bgcolor": "white",
           "lakecolor": "white",
           "landcolor": "#E5ECF6",
           "showlakes": true,
           "showland": true,
           "subunitcolor": "white"
          },
          "hoverlabel": {
           "align": "left"
          },
          "hovermode": "closest",
          "mapbox": {
           "style": "light"
          },
          "paper_bgcolor": "white",
          "plot_bgcolor": "#E5ECF6",
          "polar": {
           "angularaxis": {
            "gridcolor": "white",
            "linecolor": "white",
            "ticks": ""
           },
           "bgcolor": "#E5ECF6",
           "radialaxis": {
            "gridcolor": "white",
            "linecolor": "white",
            "ticks": ""
           }
          },
          "scene": {
           "xaxis": {
            "backgroundcolor": "#E5ECF6",
            "gridcolor": "white",
            "gridwidth": 2,
            "linecolor": "white",
            "showbackground": true,
            "ticks": "",
            "zerolinecolor": "white"
           },
           "yaxis": {
            "backgroundcolor": "#E5ECF6",
            "gridcolor": "white",
            "gridwidth": 2,
            "linecolor": "white",
            "showbackground": true,
            "ticks": "",
            "zerolinecolor": "white"
           },
           "zaxis": {
            "backgroundcolor": "#E5ECF6",
            "gridcolor": "white",
            "gridwidth": 2,
            "linecolor": "white",
            "showbackground": true,
            "ticks": "",
            "zerolinecolor": "white"
           }
          },
          "shapedefaults": {
           "line": {
            "color": "#2a3f5f"
           }
          },
          "ternary": {
           "aaxis": {
            "gridcolor": "white",
            "linecolor": "white",
            "ticks": ""
           },
           "baxis": {
            "gridcolor": "white",
            "linecolor": "white",
            "ticks": ""
           },
           "bgcolor": "#E5ECF6",
           "caxis": {
            "gridcolor": "white",
            "linecolor": "white",
            "ticks": ""
           }
          },
          "title": {
           "x": 0.05
          },
          "xaxis": {
           "automargin": true,
           "gridcolor": "white",
           "linecolor": "white",
           "ticks": "",
           "title": {
            "standoff": 15
           },
           "zerolinecolor": "white",
           "zerolinewidth": 2
          },
          "yaxis": {
           "automargin": true,
           "gridcolor": "white",
           "linecolor": "white",
           "ticks": "",
           "title": {
            "standoff": 15
           },
           "zerolinecolor": "white",
           "zerolinewidth": 2
          }
         }
        },
        "xaxis": {
         "anchor": "y",
         "domain": [
          0,
          1
         ],
         "range": [
          0,
          11
         ],
         "tickmode": "array",
         "ticktext": [
          "Jan",
          "Feb",
          "Mar",
          "Apr",
          "May",
          "Jun",
          "Jul",
          "Aug",
          "Sep",
          "Oct",
          "Nov",
          "Dec"
         ],
         "tickvals": [
          "01",
          "02",
          "03",
          "04",
          "05",
          "06",
          "07",
          "08",
          "09",
          "10",
          "11",
          "12"
         ],
         "title": {
          "text": "Month"
         }
        },
        "yaxis": {
         "anchor": "x",
         "domain": [
          0,
          1
         ],
         "range": [
          0,
          15
         ],
         "title": {
          "text": "Amount"
         }
        }
       }
      }
     },
     "metadata": {},
     "output_type": "display_data"
    }
   ],
   "source": [
    "import plotly.express as px\n",
    "df2 = df.copy()\n",
    "df2 = df2.groupby(['type', 'date']).size().rename_axis(['type', 'date']).reset_index(name='counts')\n",
    "df2[['year','month']] = df2['date'].str.split('-',expand=True)\n",
    "df2 = df2.drop(columns=['date'])\n",
    "types = []; counts = []; years = []; months = []\n",
    "for year in range(min(df2['year'].astype(int)), max(df2['year'].astype(int)) + 1):\n",
    "    for month in range(1, 13):\n",
    "        actualmonth = '0' * (2 - len(str(month))) + str(month)\n",
    "        for type in df2['type'].unique():\n",
    "            if not ((df2['year'] == str(year)) & (df2['month'] == actualmonth) & (df2['type'] == type)).any():\n",
    "                types.append(type); counts.append(\"0\"); years.append(str(year)); months.append(actualmonth)\n",
    "for year in range(min(df2['year'].astype(int)), max(df2['year'].astype(int)) + 1):\n",
    "    for month in range(1, 13):\n",
    "        actualmonth = '0' * (2 - len(str(month))) + str(month)\n",
    "        types.append(\"All\"); counts.append(df2[(df2['year'] == str(year)) & (df2['month'] == actualmonth)]['counts'].sum()); years.append(str(year)); months.append(actualmonth)\n",
    "added_rows = pd.DataFrame({'type':types, 'counts':counts, 'year':years, 'month':months})\n",
    "df2 = pd.concat([df2, added_rows], ignore_index=True)\n",
    "df2 = df2.sort_values(by=['year', 'month'])\n",
    "fig = px.line(df2, x='month', y='counts', color='year', animation_frame='type',\n",
    "              labels={\n",
    "                     \"month\": \"Month\",\n",
    "                     \"counts\": \"Amount\",\n",
    "                     \"year\": \"Year\"\n",
    "                 },\n",
    "                 hover_data={\n",
    "                            'type':False,\n",
    "                            'month':False,\n",
    "                            'counts':False\n",
    "                        })\n",
    "fig.update_layout(margin={'t':10,'l':0,'b':0,'r':0}, yaxis_range=[0,15], xaxis_range=[0,11],\n",
    "                  xaxis = dict(\n",
    "                    tickmode = 'array',\n",
    "                    tickvals = ['01', '02', '03', '04', '05', '06', '07', '08', '09', '10', '11', '12'],\n",
    "                    ticktext = ['Jan', 'Feb', 'Mar', 'Apr', 'May', 'Jun', 'Jul', 'Aug', 'Sep', 'Oct', 'Nov', 'Dec']\n",
    "                ), showlegend=False)\n",
    "fig['layout']['sliders'][0]['pad']=dict(r= 10, t= 20, b=20)\n",
    "fig[\"layout\"].pop(\"updatemenus\")\n",
    "fig.show()\n"
   ]
  }
 ],
 "metadata": {
  "kernelspec": {
   "display_name": "Python 3 (ipykernel)",
   "language": "python",
   "name": "python3"
  },
  "language_info": {
   "codemirror_mode": {
    "name": "ipython",
    "version": 3
   },
   "file_extension": ".py",
   "mimetype": "text/x-python",
   "name": "python",
   "nbconvert_exporter": "python",
   "pygments_lexer": "ipython3",
   "version": "3.12.3"
  },
  "widgets": {
   "application/vnd.jupyter.widget-state+json": {
    "state": {},
    "version_major": 2,
    "version_minor": 0
   }
  }
 },
 "nbformat": 4,
 "nbformat_minor": 4
}
