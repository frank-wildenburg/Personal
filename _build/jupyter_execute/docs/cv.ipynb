{
 "cells": [
  {
   "cell_type": "markdown",
   "metadata": {},
   "source": [
    "# Bio\n"
   ]
  },
  {
   "cell_type": "code",
   "execution_count": 1,
   "metadata": {
    "tags": [
     "remove-input"
    ]
   },
   "outputs": [
    {
     "name": "stdout",
     "output_type": "stream",
     "text": [
      "Last updated: 2024-08-30\n"
     ]
    }
   ],
   "source": [
    "import datetime\n",
    "print(f\"Last updated: {str(datetime.datetime.now())[:10]}\")"
   ]
  },
  {
   "cell_type": "markdown",
   "metadata": {},
   "source": [
    "Here, you can find my previous work experience, my education, and any ancillary activities"
   ]
  },
  {
   "cell_type": "code",
   "execution_count": 2,
   "metadata": {
    "tags": [
     "remove-input"
    ]
   },
   "outputs": [
    {
     "ename": "ModuleNotFoundError",
     "evalue": "No module named 'pandas'",
     "output_type": "error",
     "traceback": [
      "\u001b[1;31m---------------------------------------------------------------------------\u001b[0m",
      "\u001b[1;31mModuleNotFoundError\u001b[0m                       Traceback (most recent call last)",
      "Cell \u001b[1;32mIn[2], line 1\u001b[0m\n\u001b[1;32m----> 1\u001b[0m \u001b[38;5;28;01mimport\u001b[39;00m \u001b[38;5;21;01mpandas\u001b[39;00m \u001b[38;5;28;01mas\u001b[39;00m \u001b[38;5;21;01mpd\u001b[39;00m\n\u001b[0;32m      2\u001b[0m \u001b[38;5;28;01mimport\u001b[39;00m \u001b[38;5;21;01mplotly\u001b[39;00m\u001b[38;5;21;01m.\u001b[39;00m\u001b[38;5;21;01mexpress\u001b[39;00m \u001b[38;5;28;01mas\u001b[39;00m \u001b[38;5;21;01mpx\u001b[39;00m\n\u001b[0;32m      3\u001b[0m \u001b[38;5;28;01mimport\u001b[39;00m \u001b[38;5;21;01mdatetime\u001b[39;00m\n",
      "\u001b[1;31mModuleNotFoundError\u001b[0m: No module named 'pandas'"
     ]
    }
   ],
   "source": [
    "import pandas as pd\n",
    "import plotly.express as px\n",
    "import datetime\n",
    "\n",
    "df = pd.read_csv(\"bio.csv\")\n",
    "df['length'] = (pd.to_datetime(df['end'].replace(\"Present\",datetime.datetime.now().strftime(\"%Y-%m\"))) - pd.to_datetime(df['beginning'])).dt.days\n",
    "df['text'] = 'Started: ' + df['beginning'].to_string() + '<br>Until: ' + df['end'].to_string()\n",
    "fig = px.scatter_mapbox(df, lat='lat', lon='lon', color=\"type\", hover_name=\"name\", \n",
    "                     size=\"length\",\n",
    "                     hover_data={'type':False,\n",
    "                                 'length':False,\n",
    "                                 'beginning':True,\n",
    "                                 'end':True,\n",
    "                                 'lat':False,\n",
    "                                 'lon':False},\n",
    "                    mapbox_style=\"carto-positron\")\n",
    "fig.update_traces(hovertemplate='<b>%{hovertext}</b><br>Began: %{customdata[2]} <br>Until: %{customdata[3]}')\n",
    "fig.update_layout(showlegend=False, margin={'t':0,'l':0,'b':0,'r':0})\n",
    "fig.update_geos(fitbounds=\"locations\")\n",
    "fig.show()"
   ]
  },
  {
   "cell_type": "markdown",
   "metadata": {},
   "source": [
    "## Employment\n",
    "<a name=\"emp\"></a>\n",
    "\n",
    "### 2023-Present: Teacher at University of Amsterdam\n",
    "After I finished my studies (for now), I stayed at the University of Amsterdam, now as a full-time teacher in the bachelor's programme in artificial intelligence. Here, I teach students, help professors in organizing their courses, and assist in ancillary activities such as study matching and evaluation of education. As an added bonus, being involved with these courses allows me to experience facets of the field of AI that weren't covered in the bachelor's programme in Utrecht.\n",
    "\n",
    "### 2021-2022: IT employee at Kliksafe\n",
    "As an IT employee at Kliksafe I worked in the business department, where we helped schools and companies access the internet safely. Among my tasks was safely processing data supplied by schools, installing operating systems, and tuning internet communication protocols.\n",
    "\n",
    "### 2015-2019: Employee at Het Goed Harderwijk\n",
    "When working at thrift store _Het Goed_, I helped behind the counter as well as in the store and by accepting donations. As the most experienced weekend employee, I was also often tasked with introducing new employees to the work done there, including people who worked at _Het Goed_ in the context of social programmes."
   ]
  },
  {
   "cell_type": "markdown",
   "metadata": {},
   "source": [
    "## Education\n",
    "<a name=\"edu\"></a>\n",
    "\n",
    "### 2021-2023: MSc Logic at University of Amsterdam\n",
    "\n",
    "After finishing my bachelor's degree, I continued with this master's degree at the Institute for Logic, Language and Computation. I took broad courses in logic as well as specialized courses in natural language processing, explainability in artificial intelligence, game theory, philosophy of technology and philosophy of mathematics. In 2023, I graduated from this degree _cum laude_.\n",
    "\n",
    "Highlights:\n",
    "- I wrote my master's thesis on the topic of _semantic underspecification_ under the supervision of [dr. Sandro Pezzelle](https://www.illc.uva.nl/People/person/4766/Dr-Sandro-Pezzelle). After finishing the thesis, we continued working on the topic, resulting in a paper accepted to the 2024 ACL Findings.\n",
    "- I took part in the [Philosophy of Mathematics Beyond the Armchair?!](https://beyond-the-armchair.netlify.app/) Summerschool on experimental methods in the philosophy of mathematics and, under the guidance of dr. Luca Incurvati, completed a project based on it.\n",
    "- For the course _Interpretability & Explainability in AI_ I presented our project at a student conference for all MSc AI students\n",
    "- I participated in a [project on Dialogue Modelling](https://msclogic.illc.uva.nl/current-students/courses/previous-projects/project/193/1st-Semester-2021-22-Dialogue-Modelling) under the guidance of dr. Raquel Fernández and Mario Giulianelli.\n",
    "\n",
    "\n",
    "### 2017-2020: BSc Artificial Intelligence at Utrecht University\n",
    "I began studying at the bachelor's degree in artificial intelligence at Utrecht University. After the broad introduction to all aspects of artificial intelligence I continued with two tracks: _Agents_, with courses on machine learning and intelligent systems, and _Reasoning and Language_, with courses on formal semantics and theoretical computer science. Besides the courses, I took part in many extracurricular activities.\n",
    "\n",
    "Highlights:\n",
    "- I took part in and completed the [Descartes College](https://students.uu.nl/onderwijs/honours/descartes-college) interdisciplinary honours programme, where I followed lectures and workshops by prominent speakers from academia and industry.\n",
    "- In the time between finishing my bachelor's degree and starting my master's degree, I finished a minor in computer science, during which I followed courses on computer science topics not covered during the AI bachelor programme.\n",
    "- I worked as a teaching assistant for the courses _Introduction to Adaptive Systems_, _Artificial Intelligence_ and _Intelligent Systems_ in the bachelor's programmes in artificial intelligence and computer science\n",
    "- I also completed the [Humanities Honours Programme](https://students.uu.nl/gw/honours), an interdisciplinary honours programme from students at the humanities faculty. Here, I learned to collaborate with students with very different backgrounds and gained my interest in the study of human culture.\n",
    "- With fellow students from the Humanities Honours Programme, I organized two conferences for students of the humanities faculty."
   ]
  },
  {
   "cell_type": "markdown",
   "metadata": {},
   "source": [
    "## Ancillary Activities\n",
    "<a name=\"anc\"></a>\n",
    "\n",
    "### 2022-2023: Secretary at S.V. Ergo\n",
    "Not satisfied with having been the secretary of the Descartes alumni society, I continued with a year as the secretary of study association Ergo of the Descartes honours programme.\n",
    "\n",
    "Highlights:\n",
    "- We organized a weekend trip to The Hague and a end-of-year weekend to Haarlem, with educative and social activity\n",
    "- With the honours study association from the UvA, we organized a _public sector event_ with speakers from the EU, OECD, WHO and other organisations working in the public sector.\n",
    "\n",
    "### 2021-2022: Secretary at Descartes Alumnigenootschap\n",
    "After finishing the Descartes college, I was the secretary of the _Descartes alumni society_, which attempts to provide further meetings for alumni of this interdisciplinary honours programme given at Utrecht University.\n",
    "\n",
    "Highlights:\n",
    "- We organized lectures by prominent speakers, such as distinguished professor prof. dr. Frits van Oostrom, member of the Dutch Outbreak Management Team and pediatrician drs. Károly Illy, and former _mbo-ambassadeur_ Desiree Hernandez\n",
    "- In collaboration with study association Ergo, we organized a gala for over 100 students"
   ]
  }
 ],
 "metadata": {
  "kernelspec": {
   "display_name": "Python 3 (ipykernel)",
   "language": "python",
   "name": "python3"
  },
  "language_info": {
   "codemirror_mode": {
    "name": "ipython",
    "version": 3
   },
   "file_extension": ".py",
   "mimetype": "text/x-python",
   "name": "python",
   "nbconvert_exporter": "python",
   "pygments_lexer": "ipython3",
   "version": "3.10.14"
  },
  "widgets": {
   "application/vnd.jupyter.widget-state+json": {
    "state": {},
    "version_major": 2,
    "version_minor": 0
   }
  }
 },
 "nbformat": 4,
 "nbformat_minor": 4
}