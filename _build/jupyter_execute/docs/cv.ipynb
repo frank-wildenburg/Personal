{
 "cells": [
  {
   "cell_type": "markdown",
   "metadata": {},
   "source": [
    "# Bio\n",
    "\n",
    "(Last updated: May 29, 2024)\n",
    "\n",
    "Here, you can find my previous work experience, my education, and any ancillary activities\n",
    "\n",
    "## Table of contents\n",
    "- [Employment](#emp)\n",
    "- [Education](#edu)\n",
    "- [Ancillary activities](#anc)"
   ]
  },
  {
   "cell_type": "markdown",
   "metadata": {},
   "source": [
    "## Employment\n",
    "<a name=\"emp\"></a>\n",
    "\n",
    "### 2023-Present: Teacher at University of Amsterdam\n",
    "\n",
    "### 2021-2022: IT employee at Kliksafe\n",
    "\n",
    "### 2015-2019: Employee at Het Goed Harderwijk"
   ]
  },
  {
   "cell_type": "markdown",
   "metadata": {},
   "source": [
    "## Education\n",
    "<a name=\"edu\"></a>\n",
    "\n",
    "### 2021-2023: MSc Logic at University of Amsterdam\n",
    "\n",
    "After finishing my bachelor's degree, I continued with this master's degree at the Institute for Logic, Language and Computation. I took broad courses in logic as well as specialized courses in natural language processing, explainability in artificial intelligence, game theory, philosophy of technology and philosophy of mathematics. In 2023, I graduated from this degree _cum laude_.\n",
    "\n",
    "Highlights:\n",
    "- I wrote my master's thesis on the topic of _semantic underspecification_ under the supervision of [dr. Sandro Pezzelle](https://www.illc.uva.nl/People/person/4766/Dr-Sandro-Pezzelle). After finishing the thesis, we continued working on the topic, resulting in a paper accepted to the 2024 ACL Findings.\n",
    "- I took part in the [Philosophy of Mathematics Beyond the Armchair?!](https://beyond-the-armchair.netlify.app/)Summerschool on experimental methods in the philosophy of mathematics and, under the guidance of dr. Luca Incurvati, completed a project based on it.\n",
    "- For the course _Interpretability & Explainability in AI_ I presented our project at a student conference for all MSc AI students\n",
    "- I participated in a [project on Dialogue Modelling](https://msclogic.illc.uva.nl/current-students/courses/previous-projects/project/193/1st-Semester-2021-22-Dialogue-Modelling) under the guidance of dr. Raquel Fernández and Mario Giulianelli.\n",
    "\n",
    "\n",
    "### 2017-2021: BSc Artificial Intelligence at Utrecht University\n",
    "I began studying at the bachelor's degree in artificial intelligence at Utrecht University. After the broad introduction to all aspects of artificial intelligence I continued with two tracks: _Agents_, with courses on machine learning and intelligent systems, and _Reasoning and Language_, with courses on formal semantics and theoretical computer science. Besides the courses, I took part in many extracurricular activities.\n",
    "\n",
    "Highlights:\n",
    "- I took part in and completed the [Descartes College](https://students.uu.nl/onderwijs/honours/descartes-college) interdisciplinary honours programme, where I followed lectures and workshops by prominent speakers from academia and industry.\n",
    "- In the time between finishing my bachelor's degree and starting my master's degree, I finished a minor in computer science, during which I followed courses on computer science topics not covered during the AI bachelor programme.\n",
    "- I worked as a teaching assistant for the courses _Introduction to Adaptive Systems_, _Artificial Intelligence_ and _Intelligent Systems_ in the bachelor's programmes in artificial intelligence and computer science\n",
    "- I also completed the [Humanities Honours Programme](https://students.uu.nl/gw/honours), an interdisciplinary honours programme from students at the humanities faculty. Here, I learned to collaborate with students with very different backgrounds and gained my interest in the study of human culture.\n",
    "- With fellow students from the Humanities Honours Programme, I organized two conferences for students of the humanities faculty."
   ]
  },
  {
   "cell_type": "markdown",
   "metadata": {},
   "source": [
    "## Ancillary Activities\n",
    "<a name=\"anc\"></a>\n",
    "\n",
    "### 2022-2023: Secretary at S.V. Ergo\n",
    "Not satisfied with having been the secretary of the Descartes alumni society, I continued with a year as the secretary of study association Ergo of the Descartes honours programme.\n",
    "\n",
    "Highlights:\n",
    "- We organized a weekend trip to The Hague and a end-of-year weekend to Haarlem, with educative and social activity\n",
    "- With the honours study association from the UvA, we organized a _public sector event_ with speakers from the EU, OECD, WHO and other organisations working in the public sector.\n",
    "\n",
    "### 2021-2022: Secretary at Descartes Alumnigenootschap\n",
    "After finishing the Descartes college, I was the secretary of the _Descartes alumni society_, which attempts to provide further meetings for alumni of this interdisciplinary honours programme given at Utrecht University.\n",
    "\n",
    "Highlights:\n",
    "- We organized lectures by prominent speakers, such as distinguished professor prof. dr. Frits van Oostrom, member of the Dutch Outbreak Management Team and pediatrician drs. Károly Illy, and former _mbo-ambassadeur_ Desiree Hernandez\n",
    "- In collaboration with study association Ergo, we organized a gala for over 100 students"
   ]
  }
 ],
 "metadata": {
  "kernelspec": {
   "display_name": "Python 3 (ipykernel)",
   "language": "python",
   "name": "python3"
  },
  "language_info": {
   "codemirror_mode": {
    "name": "ipython",
    "version": 3
   },
   "file_extension": ".py",
   "mimetype": "text/x-python",
   "name": "python",
   "nbconvert_exporter": "python",
   "pygments_lexer": "ipython3",
   "version": "3.12.3"
  },
  "widgets": {
   "application/vnd.jupyter.widget-state+json": {
    "state": {},
    "version_major": 2,
    "version_minor": 0
   }
  }
 },
 "nbformat": 4,
 "nbformat_minor": 4
}