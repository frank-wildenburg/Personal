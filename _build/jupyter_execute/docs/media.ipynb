{
 "cells": [
  {
   "cell_type": "markdown",
   "metadata": {},
   "source": [
    "# Media\n",
    "\n",
    "(Last updated: May 30, 2024)\n",
    "\n",
    "Since around 2020, I have been keeping track of almost all media I consume - mostly books and games, but also concerts (but not CD's), movies, museums, and other forms of culture. Here, you can find a quick summary of what I've been up to"
   ]
  },
  {
   "cell_type": "markdown",
   "metadata": {},
   "source": [
    "## Currently enjoying"
   ]
  },
  {
   "cell_type": "code",
   "execution_count": 1,
   "metadata": {
    "tags": [
     "remove-input"
    ]
   },
   "outputs": [
    {
     "name": "stdout",
     "output_type": "stream",
     "text": [
      "Last visited: Van Nellefabriek by nan\n",
      "Which I thought was: great\n"
     ]
    }
   ],
   "source": [
    "import pandas as pd\n",
    "df = pd.read_csv(\"media.csv\")\n",
    "\n",
    "verb_dict = {\"Book\":\"read\",\"Game\":\"played\",\"Movie\":\"watched\",\"Concert\":\"visited\",\"Museum\":\"visited\"}\n",
    "print(f\"Last {verb_dict.get(df['type'].iloc[-1], 'visited')}: {df['name'].iloc[-1]} by {df['creator'].iloc[-1]}\")\n",
    "score_dict = {10:'close to perfect!', 9:'fantastic!', 8:'great', 7:'good', 6:'okay', 5:'meh...', 4:'not great', 3:'bad', 2:'terrible', 1: 'abhorrent', 0:'the worst!'}\n",
    "print(f\"Which I thought was: {score_dict[round(df['score'].iloc[-1])]}\")"
   ]
  },
  {
   "cell_type": "markdown",
   "metadata": {},
   "source": [
    "## All-time favorites"
   ]
  },
  {
   "cell_type": "code",
   "execution_count": 2,
   "metadata": {
    "tags": [
     "remove-input"
    ]
   },
   "outputs": [
    {
     "name": "stdout",
     "output_type": "stream",
     "text": [
      "Some works I can wholeheartedly recommend are:\n",
      "* Deltarune: Chapter 2 by Toby Fox, which I rated at 10.0\n",
      "* Pikmin 4 by Nintendo, which I rated at 9.8\n",
      "* Men at Arms by Terry Pratchett, which I rated at 9.8\n",
      "* Guards! Guards! by Terry Pratchett, which I rated at 10.0\n",
      "* King Gizzard and the Wizard Lizard by King Gizzard and the Lizard Wizard, which I rated at 10.0\n"
     ]
    }
   ],
   "source": [
    "df3 = df.copy()\n",
    "sample = df3[df3['score'] > 9.5].sample(5).reset_index()\n",
    "print(\"Some works I can wholeheartedly recommend are:\")\n",
    "for i in range(len(sample)):\n",
    "    print(f\"* {sample['name'][i]} by {sample['creator'][i]}, which I rated at {sample['score'][i]}\")"
   ]
  },
  {
   "cell_type": "markdown",
   "metadata": {},
   "source": [
    "## What?"
   ]
  },
  {
   "cell_type": "code",
   "execution_count": 3,
   "metadata": {
    "tags": [
     "remove-input"
    ]
   },
   "outputs": [],
   "source": [
    "import plotly.express as px\n",
    "def rounder(score):\n",
    "    score = float(round(score*2))/2\n",
    "    #if score == 10:\n",
    "    #    return \"score≈\" + str(9.9)\n",
    "    #return \"score≈\" + str(score)\n",
    "    return score\n",
    "\n",
    "def counter(type, score):\n",
    "    return len(df4[(df4['type'] == type) & (df4['score'] == score)])\n",
    "\n",
    "df4 = df.copy()\n",
    "#df4 = df4.groupby(['type', 'score']).size().rename_axis(['type', 'score']).reset_index(name='counts')\n",
    "df4['counts'] = df4.apply(lambda x: counter(x.type, x.score), axis=1)\n",
    "df4['scoreactual'] = df4['score'].apply(lambda x: rounder(x))\n",
    "df4 = df4.sort_values(by=['type', 'score'])\n",
    "fig = px.sunburst(df4, path=['type', 'scoreactual', 'name'], \n",
    "                  labels=[''], maxdepth=2,\n",
    "                    hover_data={\n",
    "                    })\n",
    "fig.update_layout(margin={'t':5,'l':5,'b':5,'r':5}, showlegend=False)\n",
    "fig.update_traces(sort=False, hovertemplate='<b>Amount: %{value} </b><br>%{label}')\n",
    "fig.show()"
   ]
  },
  {
   "cell_type": "markdown",
   "metadata": {},
   "source": [
    "## How much?"
   ]
  },
  {
   "cell_type": "code",
   "execution_count": 11,
   "metadata": {
    "tags": [
     "remove-input"
    ]
   },
   "outputs": [
    {
     "data": {
      "application/vnd.plotly.v1+json": {
       "config": {
        "plotlyServerURL": "https://plot.ly"
       },
       "data": [
        {
         "customdata": [
          [
           "2021",
           "Book"
          ],
          [
           "2021",
           "Book"
          ],
          [
           "2021",
           "Book"
          ],
          [
           "2021",
           "Book"
          ],
          [
           "2021",
           "Book"
          ],
          [
           "2021",
           "Book"
          ],
          [
           "2021",
           "Book"
          ],
          [
           "2021",
           "Book"
          ],
          [
           "2021",
           "Book"
          ],
          [
           "2021",
           "Book"
          ],
          [
           "2021",
           "Book"
          ],
          [
           "2021",
           "Book"
          ]
         ],
         "hovertemplate": "%{customdata[0]}<extra></extra>",
         "legendgroup": "2021",
         "line": {
          "color": "#EF553B",
          "dash": "solid"
         },
         "marker": {
          "symbol": "circle"
         },
         "mode": "lines",
         "name": "2021",
         "opacity": 0.4,
         "orientation": "v",
         "showlegend": true,
         "type": "scatter",
         "x": [
          "01",
          "02",
          "03",
          "04",
          "05",
          "06",
          "07",
          "08",
          "09",
          "10",
          "11",
          "12"
         ],
         "xaxis": "x",
         "y": [
          1,
          4,
          5,
          2,
          2,
          3,
          2,
          3,
          3,
          2,
          3,
          4
         ],
         "yaxis": "y"
        },
        {
         "customdata": [
          [
           "2022",
           "Book"
          ],
          [
           "2022",
           "Book"
          ],
          [
           "2022",
           "Book"
          ],
          [
           "2022",
           "Book"
          ],
          [
           "2022",
           "Book"
          ],
          [
           "2022",
           "Book"
          ],
          [
           "2022",
           "Book"
          ],
          [
           "2022",
           "Book"
          ],
          [
           "2022",
           "Book"
          ],
          [
           "2022",
           "Book"
          ],
          [
           "2022",
           "Book"
          ],
          [
           "2022",
           "Book"
          ]
         ],
         "hovertemplate": "%{customdata[0]}<extra></extra>",
         "legendgroup": "2022",
         "line": {
          "color": "#00cc96",
          "dash": "solid"
         },
         "marker": {
          "symbol": "circle"
         },
         "mode": "lines",
         "name": "2022",
         "opacity": 0.4,
         "orientation": "v",
         "showlegend": true,
         "type": "scatter",
         "x": [
          "01",
          "02",
          "03",
          "04",
          "05",
          "06",
          "07",
          "08",
          "09",
          "10",
          "11",
          "12"
         ],
         "xaxis": "x",
         "y": [
          4,
          3,
          3,
          4,
          1,
          1,
          1,
          0,
          2,
          1,
          2,
          3
         ],
         "yaxis": "y"
        },
        {
         "customdata": [
          [
           "2023",
           "Book"
          ],
          [
           "2023",
           "Book"
          ],
          [
           "2023",
           "Book"
          ],
          [
           "2023",
           "Book"
          ],
          [
           "2023",
           "Book"
          ],
          [
           "2023",
           "Book"
          ],
          [
           "2023",
           "Book"
          ],
          [
           "2023",
           "Book"
          ],
          [
           "2023",
           "Book"
          ],
          [
           "2023",
           "Book"
          ],
          [
           "2023",
           "Book"
          ],
          [
           "2023",
           "Book"
          ]
         ],
         "hovertemplate": "%{customdata[0]}<extra></extra>",
         "legendgroup": "2023",
         "line": {
          "color": "#ab63fa",
          "dash": "solid"
         },
         "marker": {
          "symbol": "circle"
         },
         "mode": "lines",
         "name": "2023",
         "opacity": 0.4,
         "orientation": "v",
         "showlegend": true,
         "type": "scatter",
         "x": [
          "01",
          "02",
          "03",
          "04",
          "05",
          "06",
          "07",
          "08",
          "09",
          "10",
          "11",
          "12"
         ],
         "xaxis": "x",
         "y": [
          2,
          3,
          0,
          3,
          1,
          2,
          2,
          1,
          2,
          4,
          3,
          2
         ],
         "yaxis": "y"
        },
        {
         "customdata": [
          [
           "2024",
           "Book"
          ],
          [
           "2024",
           "Book"
          ],
          [
           "2024",
           "Book"
          ],
          [
           "2024",
           "Book"
          ],
          [
           "2024",
           "Book"
          ],
          [
           "2024",
           "Book"
          ],
          [
           "2024",
           "Book"
          ],
          [
           "2024",
           "Book"
          ],
          [
           "2024",
           "Book"
          ],
          [
           "2024",
           "Book"
          ],
          [
           "2024",
           "Book"
          ],
          [
           "2024",
           "Book"
          ]
         ],
         "hovertemplate": "%{customdata[0]}<extra></extra>",
         "legendgroup": "2024",
         "line": {
          "color": "#FFA15A",
          "dash": "solid"
         },
         "marker": {
          "symbol": "circle"
         },
         "mode": "lines",
         "name": "2024",
         "opacity": 0.4,
         "orientation": "v",
         "showlegend": true,
         "type": "scatter",
         "x": [
          "01",
          "02",
          "03",
          "04",
          "05",
          "06",
          "07",
          "08",
          "09",
          "10",
          "11",
          "12"
         ],
         "xaxis": "x",
         "y": [
          3,
          2,
          4,
          2,
          1,
          1,
          0,
          0,
          0,
          0,
          0,
          0
         ],
         "yaxis": "y"
        },
        {
         "customdata": [
          [
           "Mean",
           "Book"
          ],
          [
           "Mean",
           "Book"
          ],
          [
           "Mean",
           "Book"
          ],
          [
           "Mean",
           "Book"
          ],
          [
           "Mean",
           "Book"
          ],
          [
           "Mean",
           "Book"
          ],
          [
           "Mean",
           "Book"
          ],
          [
           "Mean",
           "Book"
          ],
          [
           "Mean",
           "Book"
          ],
          [
           "Mean",
           "Book"
          ],
          [
           "Mean",
           "Book"
          ],
          [
           "Mean",
           "Book"
          ]
         ],
         "hovertemplate": "%{customdata[0]}<extra></extra>",
         "legendgroup": "Mean",
         "line": {
          "color": "black",
          "dash": "solid"
         },
         "marker": {
          "symbol": "circle"
         },
         "mode": "lines",
         "name": "Mean",
         "opacity": 1,
         "orientation": "v",
         "showlegend": true,
         "type": "scatter",
         "x": [
          "01",
          "02",
          "03",
          "04",
          "05",
          "06",
          "07",
          "08",
          "09",
          "10",
          "11",
          "12"
         ],
         "xaxis": "x",
         "y": [
          2.5,
          3,
          3,
          2.75,
          1.25,
          1.75,
          1.25,
          1,
          1.75,
          1.75,
          2,
          2.25
         ],
         "yaxis": "y"
        }
       ],
       "frames": [
        {
         "data": [
          {
           "customdata": [
            [
             "2021",
             "Book"
            ],
            [
             "2021",
             "Book"
            ],
            [
             "2021",
             "Book"
            ],
            [
             "2021",
             "Book"
            ],
            [
             "2021",
             "Book"
            ],
            [
             "2021",
             "Book"
            ],
            [
             "2021",
             "Book"
            ],
            [
             "2021",
             "Book"
            ],
            [
             "2021",
             "Book"
            ],
            [
             "2021",
             "Book"
            ],
            [
             "2021",
             "Book"
            ],
            [
             "2021",
             "Book"
            ]
           ],
           "hovertemplate": "Year=2021<extra></extra>",
           "legendgroup": "2021",
           "line": {
            "color": "#EF553B",
            "dash": "solid"
           },
           "marker": {
            "symbol": "circle"
           },
           "mode": "lines",
           "name": "2021",
           "orientation": "v",
           "showlegend": true,
           "type": "scatter",
           "x": [
            "01",
            "02",
            "03",
            "04",
            "05",
            "06",
            "07",
            "08",
            "09",
            "10",
            "11",
            "12"
           ],
           "xaxis": "x",
           "y": [
            1,
            4,
            5,
            2,
            2,
            3,
            2,
            3,
            3,
            2,
            3,
            4
           ],
           "yaxis": "y"
          },
          {
           "customdata": [
            [
             "2022",
             "Book"
            ],
            [
             "2022",
             "Book"
            ],
            [
             "2022",
             "Book"
            ],
            [
             "2022",
             "Book"
            ],
            [
             "2022",
             "Book"
            ],
            [
             "2022",
             "Book"
            ],
            [
             "2022",
             "Book"
            ],
            [
             "2022",
             "Book"
            ],
            [
             "2022",
             "Book"
            ],
            [
             "2022",
             "Book"
            ],
            [
             "2022",
             "Book"
            ],
            [
             "2022",
             "Book"
            ]
           ],
           "hovertemplate": "Year=2022<extra></extra>",
           "legendgroup": "2022",
           "line": {
            "color": "#00cc96",
            "dash": "solid"
           },
           "marker": {
            "symbol": "circle"
           },
           "mode": "lines",
           "name": "2022",
           "orientation": "v",
           "showlegend": true,
           "type": "scatter",
           "x": [
            "01",
            "02",
            "03",
            "04",
            "05",
            "06",
            "07",
            "08",
            "09",
            "10",
            "11",
            "12"
           ],
           "xaxis": "x",
           "y": [
            4,
            3,
            3,
            4,
            1,
            1,
            1,
            0,
            2,
            1,
            2,
            3
           ],
           "yaxis": "y"
          },
          {
           "customdata": [
            [
             "2023",
             "Book"
            ],
            [
             "2023",
             "Book"
            ],
            [
             "2023",
             "Book"
            ],
            [
             "2023",
             "Book"
            ],
            [
             "2023",
             "Book"
            ],
            [
             "2023",
             "Book"
            ],
            [
             "2023",
             "Book"
            ],
            [
             "2023",
             "Book"
            ],
            [
             "2023",
             "Book"
            ],
            [
             "2023",
             "Book"
            ],
            [
             "2023",
             "Book"
            ],
            [
             "2023",
             "Book"
            ]
           ],
           "hovertemplate": "Year=2023<extra></extra>",
           "legendgroup": "2023",
           "line": {
            "color": "#ab63fa",
            "dash": "solid"
           },
           "marker": {
            "symbol": "circle"
           },
           "mode": "lines",
           "name": "2023",
           "orientation": "v",
           "showlegend": true,
           "type": "scatter",
           "x": [
            "01",
            "02",
            "03",
            "04",
            "05",
            "06",
            "07",
            "08",
            "09",
            "10",
            "11",
            "12"
           ],
           "xaxis": "x",
           "y": [
            2,
            3,
            0,
            3,
            1,
            2,
            2,
            1,
            2,
            4,
            3,
            2
           ],
           "yaxis": "y"
          },
          {
           "customdata": [
            [
             "2024",
             "Book"
            ],
            [
             "2024",
             "Book"
            ],
            [
             "2024",
             "Book"
            ],
            [
             "2024",
             "Book"
            ],
            [
             "2024",
             "Book"
            ],
            [
             "2024",
             "Book"
            ],
            [
             "2024",
             "Book"
            ],
            [
             "2024",
             "Book"
            ],
            [
             "2024",
             "Book"
            ],
            [
             "2024",
             "Book"
            ],
            [
             "2024",
             "Book"
            ],
            [
             "2024",
             "Book"
            ]
           ],
           "hovertemplate": "Year=2024<extra></extra>",
           "legendgroup": "2024",
           "line": {
            "color": "#FFA15A",
            "dash": "solid"
           },
           "marker": {
            "symbol": "circle"
           },
           "mode": "lines",
           "name": "2024",
           "orientation": "v",
           "showlegend": true,
           "type": "scatter",
           "x": [
            "01",
            "02",
            "03",
            "04",
            "05",
            "06",
            "07",
            "08",
            "09",
            "10",
            "11",
            "12"
           ],
           "xaxis": "x",
           "y": [
            3,
            2,
            4,
            2,
            1,
            1,
            0,
            0,
            0,
            0,
            0,
            0
           ],
           "yaxis": "y"
          },
          {
           "customdata": [
            [
             "Mean",
             "Book"
            ],
            [
             "Mean",
             "Book"
            ],
            [
             "Mean",
             "Book"
            ],
            [
             "Mean",
             "Book"
            ],
            [
             "Mean",
             "Book"
            ],
            [
             "Mean",
             "Book"
            ],
            [
             "Mean",
             "Book"
            ],
            [
             "Mean",
             "Book"
            ],
            [
             "Mean",
             "Book"
            ],
            [
             "Mean",
             "Book"
            ],
            [
             "Mean",
             "Book"
            ],
            [
             "Mean",
             "Book"
            ]
           ],
           "hovertemplate": "Year=Mean<extra></extra>",
           "legendgroup": "Mean",
           "line": {
            "color": "black",
            "dash": "solid"
           },
           "marker": {
            "symbol": "circle"
           },
           "mode": "lines",
           "name": "Mean",
           "orientation": "v",
           "showlegend": true,
           "type": "scatter",
           "x": [
            "01",
            "02",
            "03",
            "04",
            "05",
            "06",
            "07",
            "08",
            "09",
            "10",
            "11",
            "12"
           ],
           "xaxis": "x",
           "y": [
            2.5,
            3,
            3,
            2.75,
            1.25,
            1.75,
            1.25,
            1,
            1.75,
            1.75,
            2,
            2.25
           ],
           "yaxis": "y"
          }
         ],
         "name": "Book"
        },
        {
         "data": [
          {
           "customdata": [
            [
             "2021",
             "Game"
            ],
            [
             "2021",
             "Game"
            ],
            [
             "2021",
             "Game"
            ],
            [
             "2021",
             "Game"
            ],
            [
             "2021",
             "Game"
            ],
            [
             "2021",
             "Game"
            ],
            [
             "2021",
             "Game"
            ],
            [
             "2021",
             "Game"
            ],
            [
             "2021",
             "Game"
            ],
            [
             "2021",
             "Game"
            ],
            [
             "2021",
             "Game"
            ],
            [
             "2021",
             "Game"
            ]
           ],
           "hovertemplate": "Year=2021<extra></extra>",
           "legendgroup": "2021",
           "line": {
            "color": "#EF553B",
            "dash": "solid"
           },
           "marker": {
            "symbol": "circle"
           },
           "mode": "lines",
           "name": "2021",
           "orientation": "v",
           "showlegend": true,
           "type": "scatter",
           "x": [
            "01",
            "02",
            "03",
            "04",
            "05",
            "06",
            "07",
            "08",
            "09",
            "10",
            "11",
            "12"
           ],
           "xaxis": "x",
           "y": [
            2,
            3,
            2,
            2,
            3,
            2,
            7,
            5,
            2,
            1,
            2,
            1
           ],
           "yaxis": "y"
          },
          {
           "customdata": [
            [
             "2022",
             "Game"
            ],
            [
             "2022",
             "Game"
            ],
            [
             "2022",
             "Game"
            ],
            [
             "2022",
             "Game"
            ],
            [
             "2022",
             "Game"
            ],
            [
             "2022",
             "Game"
            ],
            [
             "2022",
             "Game"
            ],
            [
             "2022",
             "Game"
            ],
            [
             "2022",
             "Game"
            ],
            [
             "2022",
             "Game"
            ],
            [
             "2022",
             "Game"
            ],
            [
             "2022",
             "Game"
            ]
           ],
           "hovertemplate": "Year=2022<extra></extra>",
           "legendgroup": "2022",
           "line": {
            "color": "#00cc96",
            "dash": "solid"
           },
           "marker": {
            "symbol": "circle"
           },
           "mode": "lines",
           "name": "2022",
           "orientation": "v",
           "showlegend": true,
           "type": "scatter",
           "x": [
            "01",
            "02",
            "03",
            "04",
            "05",
            "06",
            "07",
            "08",
            "09",
            "10",
            "11",
            "12"
           ],
           "xaxis": "x",
           "y": [
            2,
            2,
            2,
            1,
            1,
            3,
            1,
            1,
            0,
            0,
            1,
            3
           ],
           "yaxis": "y"
          },
          {
           "customdata": [
            [
             "2023",
             "Game"
            ],
            [
             "2023",
             "Game"
            ],
            [
             "2023",
             "Game"
            ],
            [
             "2023",
             "Game"
            ],
            [
             "2023",
             "Game"
            ],
            [
             "2023",
             "Game"
            ],
            [
             "2023",
             "Game"
            ],
            [
             "2023",
             "Game"
            ],
            [
             "2023",
             "Game"
            ],
            [
             "2023",
             "Game"
            ],
            [
             "2023",
             "Game"
            ],
            [
             "2023",
             "Game"
            ]
           ],
           "hovertemplate": "Year=2023<extra></extra>",
           "legendgroup": "2023",
           "line": {
            "color": "#ab63fa",
            "dash": "solid"
           },
           "marker": {
            "symbol": "circle"
           },
           "mode": "lines",
           "name": "2023",
           "orientation": "v",
           "showlegend": true,
           "type": "scatter",
           "x": [
            "01",
            "02",
            "03",
            "04",
            "05",
            "06",
            "07",
            "08",
            "09",
            "10",
            "11",
            "12"
           ],
           "xaxis": "x",
           "y": [
            6,
            2,
            2,
            0,
            1,
            2,
            3,
            2,
            5,
            2,
            2,
            3
           ],
           "yaxis": "y"
          },
          {
           "customdata": [
            [
             "2024",
             "Game"
            ],
            [
             "2024",
             "Game"
            ],
            [
             "2024",
             "Game"
            ],
            [
             "2024",
             "Game"
            ],
            [
             "2024",
             "Game"
            ],
            [
             "2024",
             "Game"
            ],
            [
             "2024",
             "Game"
            ],
            [
             "2024",
             "Game"
            ],
            [
             "2024",
             "Game"
            ],
            [
             "2024",
             "Game"
            ],
            [
             "2024",
             "Game"
            ],
            [
             "2024",
             "Game"
            ]
           ],
           "hovertemplate": "Year=2024<extra></extra>",
           "legendgroup": "2024",
           "line": {
            "color": "#FFA15A",
            "dash": "solid"
           },
           "marker": {
            "symbol": "circle"
           },
           "mode": "lines",
           "name": "2024",
           "orientation": "v",
           "showlegend": true,
           "type": "scatter",
           "x": [
            "01",
            "02",
            "03",
            "04",
            "05",
            "06",
            "07",
            "08",
            "09",
            "10",
            "11",
            "12"
           ],
           "xaxis": "x",
           "y": [
            1,
            2,
            2,
            1,
            3,
            1,
            0,
            0,
            0,
            0,
            0,
            0
           ],
           "yaxis": "y"
          },
          {
           "customdata": [
            [
             "Mean",
             "Game"
            ],
            [
             "Mean",
             "Game"
            ],
            [
             "Mean",
             "Game"
            ],
            [
             "Mean",
             "Game"
            ],
            [
             "Mean",
             "Game"
            ],
            [
             "Mean",
             "Game"
            ],
            [
             "Mean",
             "Game"
            ],
            [
             "Mean",
             "Game"
            ],
            [
             "Mean",
             "Game"
            ],
            [
             "Mean",
             "Game"
            ],
            [
             "Mean",
             "Game"
            ],
            [
             "Mean",
             "Game"
            ]
           ],
           "hovertemplate": "Year=Mean<extra></extra>",
           "legendgroup": "Mean",
           "line": {
            "color": "black",
            "dash": "solid"
           },
           "marker": {
            "symbol": "circle"
           },
           "mode": "lines",
           "name": "Mean",
           "orientation": "v",
           "showlegend": true,
           "type": "scatter",
           "x": [
            "01",
            "02",
            "03",
            "04",
            "05",
            "06",
            "07",
            "08",
            "09",
            "10",
            "11",
            "12"
           ],
           "xaxis": "x",
           "y": [
            2.75,
            2.25,
            2,
            1,
            2,
            2,
            2.75,
            2,
            1.75,
            0.75,
            1.25,
            1.75
           ],
           "yaxis": "y"
          }
         ],
         "name": "Game"
        },
        {
         "data": [
          {
           "customdata": [
            [
             "2021",
             "Cabaret"
            ],
            [
             "2021",
             "Cabaret"
            ],
            [
             "2021",
             "Cabaret"
            ],
            [
             "2021",
             "Cabaret"
            ],
            [
             "2021",
             "Cabaret"
            ],
            [
             "2021",
             "Cabaret"
            ],
            [
             "2021",
             "Cabaret"
            ],
            [
             "2021",
             "Cabaret"
            ],
            [
             "2021",
             "Cabaret"
            ],
            [
             "2021",
             "Cabaret"
            ],
            [
             "2021",
             "Cabaret"
            ],
            [
             "2021",
             "Cabaret"
            ]
           ],
           "hovertemplate": "Year=2021<extra></extra>",
           "legendgroup": "2021",
           "line": {
            "color": "#EF553B",
            "dash": "solid"
           },
           "marker": {
            "symbol": "circle"
           },
           "mode": "lines",
           "name": "2021",
           "orientation": "v",
           "showlegend": true,
           "type": "scatter",
           "x": [
            "01",
            "02",
            "03",
            "04",
            "05",
            "06",
            "07",
            "08",
            "09",
            "10",
            "11",
            "12"
           ],
           "xaxis": "x",
           "y": [
            0,
            0,
            0,
            0,
            0,
            0,
            0,
            0,
            0,
            0,
            0,
            0
           ],
           "yaxis": "y"
          },
          {
           "customdata": [
            [
             "2022",
             "Cabaret"
            ],
            [
             "2022",
             "Cabaret"
            ],
            [
             "2022",
             "Cabaret"
            ],
            [
             "2022",
             "Cabaret"
            ],
            [
             "2022",
             "Cabaret"
            ],
            [
             "2022",
             "Cabaret"
            ],
            [
             "2022",
             "Cabaret"
            ],
            [
             "2022",
             "Cabaret"
            ],
            [
             "2022",
             "Cabaret"
            ],
            [
             "2022",
             "Cabaret"
            ],
            [
             "2022",
             "Cabaret"
            ],
            [
             "2022",
             "Cabaret"
            ]
           ],
           "hovertemplate": "Year=2022<extra></extra>",
           "legendgroup": "2022",
           "line": {
            "color": "#00cc96",
            "dash": "solid"
           },
           "marker": {
            "symbol": "circle"
           },
           "mode": "lines",
           "name": "2022",
           "orientation": "v",
           "showlegend": true,
           "type": "scatter",
           "x": [
            "01",
            "02",
            "03",
            "04",
            "05",
            "06",
            "07",
            "08",
            "09",
            "10",
            "11",
            "12"
           ],
           "xaxis": "x",
           "y": [
            0,
            0,
            0,
            0,
            1,
            0,
            0,
            0,
            0,
            0,
            0,
            0
           ],
           "yaxis": "y"
          },
          {
           "customdata": [
            [
             "2023",
             "Cabaret"
            ],
            [
             "2023",
             "Cabaret"
            ],
            [
             "2023",
             "Cabaret"
            ],
            [
             "2023",
             "Cabaret"
            ],
            [
             "2023",
             "Cabaret"
            ],
            [
             "2023",
             "Cabaret"
            ],
            [
             "2023",
             "Cabaret"
            ],
            [
             "2023",
             "Cabaret"
            ],
            [
             "2023",
             "Cabaret"
            ],
            [
             "2023",
             "Cabaret"
            ],
            [
             "2023",
             "Cabaret"
            ],
            [
             "2023",
             "Cabaret"
            ]
           ],
           "hovertemplate": "Year=2023<extra></extra>",
           "legendgroup": "2023",
           "line": {
            "color": "#ab63fa",
            "dash": "solid"
           },
           "marker": {
            "symbol": "circle"
           },
           "mode": "lines",
           "name": "2023",
           "orientation": "v",
           "showlegend": true,
           "type": "scatter",
           "x": [
            "01",
            "02",
            "03",
            "04",
            "05",
            "06",
            "07",
            "08",
            "09",
            "10",
            "11",
            "12"
           ],
           "xaxis": "x",
           "y": [
            0,
            0,
            0,
            0,
            0,
            0,
            0,
            0,
            0,
            0,
            0,
            0
           ],
           "yaxis": "y"
          },
          {
           "customdata": [
            [
             "2024",
             "Cabaret"
            ],
            [
             "2024",
             "Cabaret"
            ],
            [
             "2024",
             "Cabaret"
            ],
            [
             "2024",
             "Cabaret"
            ],
            [
             "2024",
             "Cabaret"
            ],
            [
             "2024",
             "Cabaret"
            ],
            [
             "2024",
             "Cabaret"
            ],
            [
             "2024",
             "Cabaret"
            ],
            [
             "2024",
             "Cabaret"
            ],
            [
             "2024",
             "Cabaret"
            ],
            [
             "2024",
             "Cabaret"
            ],
            [
             "2024",
             "Cabaret"
            ]
           ],
           "hovertemplate": "Year=2024<extra></extra>",
           "legendgroup": "2024",
           "line": {
            "color": "#FFA15A",
            "dash": "solid"
           },
           "marker": {
            "symbol": "circle"
           },
           "mode": "lines",
           "name": "2024",
           "orientation": "v",
           "showlegend": true,
           "type": "scatter",
           "x": [
            "01",
            "02",
            "03",
            "04",
            "05",
            "06",
            "07",
            "08",
            "09",
            "10",
            "11",
            "12"
           ],
           "xaxis": "x",
           "y": [
            0,
            0,
            0,
            0,
            0,
            0,
            0,
            0,
            0,
            0,
            0,
            0
           ],
           "yaxis": "y"
          },
          {
           "customdata": [
            [
             "Mean",
             "Cabaret"
            ],
            [
             "Mean",
             "Cabaret"
            ],
            [
             "Mean",
             "Cabaret"
            ],
            [
             "Mean",
             "Cabaret"
            ],
            [
             "Mean",
             "Cabaret"
            ],
            [
             "Mean",
             "Cabaret"
            ],
            [
             "Mean",
             "Cabaret"
            ],
            [
             "Mean",
             "Cabaret"
            ],
            [
             "Mean",
             "Cabaret"
            ],
            [
             "Mean",
             "Cabaret"
            ],
            [
             "Mean",
             "Cabaret"
            ],
            [
             "Mean",
             "Cabaret"
            ]
           ],
           "hovertemplate": "Year=Mean<extra></extra>",
           "legendgroup": "Mean",
           "line": {
            "color": "black",
            "dash": "solid"
           },
           "marker": {
            "symbol": "circle"
           },
           "mode": "lines",
           "name": "Mean",
           "orientation": "v",
           "showlegend": true,
           "type": "scatter",
           "x": [
            "01",
            "02",
            "03",
            "04",
            "05",
            "06",
            "07",
            "08",
            "09",
            "10",
            "11",
            "12"
           ],
           "xaxis": "x",
           "y": [
            0,
            0,
            0,
            0,
            0.25,
            0,
            0,
            0,
            0,
            0,
            0,
            0
           ],
           "yaxis": "y"
          }
         ],
         "name": "Cabaret"
        },
        {
         "data": [
          {
           "customdata": [
            [
             "2021",
             "Concert"
            ],
            [
             "2021",
             "Concert"
            ],
            [
             "2021",
             "Concert"
            ],
            [
             "2021",
             "Concert"
            ],
            [
             "2021",
             "Concert"
            ],
            [
             "2021",
             "Concert"
            ],
            [
             "2021",
             "Concert"
            ],
            [
             "2021",
             "Concert"
            ],
            [
             "2021",
             "Concert"
            ],
            [
             "2021",
             "Concert"
            ],
            [
             "2021",
             "Concert"
            ],
            [
             "2021",
             "Concert"
            ]
           ],
           "hovertemplate": "Year=2021<extra></extra>",
           "legendgroup": "2021",
           "line": {
            "color": "#EF553B",
            "dash": "solid"
           },
           "marker": {
            "symbol": "circle"
           },
           "mode": "lines",
           "name": "2021",
           "orientation": "v",
           "showlegend": true,
           "type": "scatter",
           "x": [
            "01",
            "02",
            "03",
            "04",
            "05",
            "06",
            "07",
            "08",
            "09",
            "10",
            "11",
            "12"
           ],
           "xaxis": "x",
           "y": [
            0,
            0,
            0,
            0,
            0,
            0,
            0,
            0,
            0,
            0,
            0,
            0
           ],
           "yaxis": "y"
          },
          {
           "customdata": [
            [
             "2022",
             "Concert"
            ],
            [
             "2022",
             "Concert"
            ],
            [
             "2022",
             "Concert"
            ],
            [
             "2022",
             "Concert"
            ],
            [
             "2022",
             "Concert"
            ],
            [
             "2022",
             "Concert"
            ],
            [
             "2022",
             "Concert"
            ],
            [
             "2022",
             "Concert"
            ],
            [
             "2022",
             "Concert"
            ],
            [
             "2022",
             "Concert"
            ],
            [
             "2022",
             "Concert"
            ],
            [
             "2022",
             "Concert"
            ]
           ],
           "hovertemplate": "Year=2022<extra></extra>",
           "legendgroup": "2022",
           "line": {
            "color": "#00cc96",
            "dash": "solid"
           },
           "marker": {
            "symbol": "circle"
           },
           "mode": "lines",
           "name": "2022",
           "orientation": "v",
           "showlegend": true,
           "type": "scatter",
           "x": [
            "01",
            "02",
            "03",
            "04",
            "05",
            "06",
            "07",
            "08",
            "09",
            "10",
            "11",
            "12"
           ],
           "xaxis": "x",
           "y": [
            0,
            0,
            0,
            0,
            1,
            0,
            0,
            0,
            0,
            0,
            2,
            2
           ],
           "yaxis": "y"
          },
          {
           "customdata": [
            [
             "2023",
             "Concert"
            ],
            [
             "2023",
             "Concert"
            ],
            [
             "2023",
             "Concert"
            ],
            [
             "2023",
             "Concert"
            ],
            [
             "2023",
             "Concert"
            ],
            [
             "2023",
             "Concert"
            ],
            [
             "2023",
             "Concert"
            ],
            [
             "2023",
             "Concert"
            ],
            [
             "2023",
             "Concert"
            ],
            [
             "2023",
             "Concert"
            ],
            [
             "2023",
             "Concert"
            ],
            [
             "2023",
             "Concert"
            ]
           ],
           "hovertemplate": "Year=2023<extra></extra>",
           "legendgroup": "2023",
           "line": {
            "color": "#ab63fa",
            "dash": "solid"
           },
           "marker": {
            "symbol": "circle"
           },
           "mode": "lines",
           "name": "2023",
           "orientation": "v",
           "showlegend": true,
           "type": "scatter",
           "x": [
            "01",
            "02",
            "03",
            "04",
            "05",
            "06",
            "07",
            "08",
            "09",
            "10",
            "11",
            "12"
           ],
           "xaxis": "x",
           "y": [
            0,
            1,
            2,
            0,
            0,
            3,
            2,
            0,
            0,
            2,
            1,
            1
           ],
           "yaxis": "y"
          },
          {
           "customdata": [
            [
             "2024",
             "Concert"
            ],
            [
             "2024",
             "Concert"
            ],
            [
             "2024",
             "Concert"
            ],
            [
             "2024",
             "Concert"
            ],
            [
             "2024",
             "Concert"
            ],
            [
             "2024",
             "Concert"
            ],
            [
             "2024",
             "Concert"
            ],
            [
             "2024",
             "Concert"
            ],
            [
             "2024",
             "Concert"
            ],
            [
             "2024",
             "Concert"
            ],
            [
             "2024",
             "Concert"
            ],
            [
             "2024",
             "Concert"
            ]
           ],
           "hovertemplate": "Year=2024<extra></extra>",
           "legendgroup": "2024",
           "line": {
            "color": "#FFA15A",
            "dash": "solid"
           },
           "marker": {
            "symbol": "circle"
           },
           "mode": "lines",
           "name": "2024",
           "orientation": "v",
           "showlegend": true,
           "type": "scatter",
           "x": [
            "01",
            "02",
            "03",
            "04",
            "05",
            "06",
            "07",
            "08",
            "09",
            "10",
            "11",
            "12"
           ],
           "xaxis": "x",
           "y": [
            0,
            2,
            0,
            1,
            2,
            0,
            0,
            0,
            0,
            0,
            0,
            0
           ],
           "yaxis": "y"
          },
          {
           "customdata": [
            [
             "Mean",
             "Concert"
            ],
            [
             "Mean",
             "Concert"
            ],
            [
             "Mean",
             "Concert"
            ],
            [
             "Mean",
             "Concert"
            ],
            [
             "Mean",
             "Concert"
            ],
            [
             "Mean",
             "Concert"
            ],
            [
             "Mean",
             "Concert"
            ],
            [
             "Mean",
             "Concert"
            ],
            [
             "Mean",
             "Concert"
            ],
            [
             "Mean",
             "Concert"
            ],
            [
             "Mean",
             "Concert"
            ],
            [
             "Mean",
             "Concert"
            ]
           ],
           "hovertemplate": "Year=Mean<extra></extra>",
           "legendgroup": "Mean",
           "line": {
            "color": "black",
            "dash": "solid"
           },
           "marker": {
            "symbol": "circle"
           },
           "mode": "lines",
           "name": "Mean",
           "orientation": "v",
           "showlegend": true,
           "type": "scatter",
           "x": [
            "01",
            "02",
            "03",
            "04",
            "05",
            "06",
            "07",
            "08",
            "09",
            "10",
            "11",
            "12"
           ],
           "xaxis": "x",
           "y": [
            0,
            0.75,
            0.5,
            0.25,
            0.75,
            0.75,
            0.5,
            0,
            0,
            0.5,
            0.75,
            0.75
           ],
           "yaxis": "y"
          }
         ],
         "name": "Concert"
        },
        {
         "data": [
          {
           "customdata": [
            [
             "2021",
             "Conference"
            ],
            [
             "2021",
             "Conference"
            ],
            [
             "2021",
             "Conference"
            ],
            [
             "2021",
             "Conference"
            ],
            [
             "2021",
             "Conference"
            ],
            [
             "2021",
             "Conference"
            ],
            [
             "2021",
             "Conference"
            ],
            [
             "2021",
             "Conference"
            ],
            [
             "2021",
             "Conference"
            ],
            [
             "2021",
             "Conference"
            ],
            [
             "2021",
             "Conference"
            ],
            [
             "2021",
             "Conference"
            ]
           ],
           "hovertemplate": "Year=2021<extra></extra>",
           "legendgroup": "2021",
           "line": {
            "color": "#EF553B",
            "dash": "solid"
           },
           "marker": {
            "symbol": "circle"
           },
           "mode": "lines",
           "name": "2021",
           "orientation": "v",
           "showlegend": true,
           "type": "scatter",
           "x": [
            "01",
            "02",
            "03",
            "04",
            "05",
            "06",
            "07",
            "08",
            "09",
            "10",
            "11",
            "12"
           ],
           "xaxis": "x",
           "y": [
            0,
            0,
            0,
            0,
            0,
            0,
            0,
            0,
            0,
            0,
            0,
            0
           ],
           "yaxis": "y"
          },
          {
           "customdata": [
            [
             "2022",
             "Conference"
            ],
            [
             "2022",
             "Conference"
            ],
            [
             "2022",
             "Conference"
            ],
            [
             "2022",
             "Conference"
            ],
            [
             "2022",
             "Conference"
            ],
            [
             "2022",
             "Conference"
            ],
            [
             "2022",
             "Conference"
            ],
            [
             "2022",
             "Conference"
            ],
            [
             "2022",
             "Conference"
            ],
            [
             "2022",
             "Conference"
            ],
            [
             "2022",
             "Conference"
            ],
            [
             "2022",
             "Conference"
            ]
           ],
           "hovertemplate": "Year=2022<extra></extra>",
           "legendgroup": "2022",
           "line": {
            "color": "#00cc96",
            "dash": "solid"
           },
           "marker": {
            "symbol": "circle"
           },
           "mode": "lines",
           "name": "2022",
           "orientation": "v",
           "showlegend": true,
           "type": "scatter",
           "x": [
            "01",
            "02",
            "03",
            "04",
            "05",
            "06",
            "07",
            "08",
            "09",
            "10",
            "11",
            "12"
           ],
           "xaxis": "x",
           "y": [
            0,
            0,
            0,
            0,
            0,
            0,
            0,
            0,
            0,
            0,
            0,
            0
           ],
           "yaxis": "y"
          },
          {
           "customdata": [
            [
             "2023",
             "Conference"
            ],
            [
             "2023",
             "Conference"
            ],
            [
             "2023",
             "Conference"
            ],
            [
             "2023",
             "Conference"
            ],
            [
             "2023",
             "Conference"
            ],
            [
             "2023",
             "Conference"
            ],
            [
             "2023",
             "Conference"
            ],
            [
             "2023",
             "Conference"
            ],
            [
             "2023",
             "Conference"
            ],
            [
             "2023",
             "Conference"
            ],
            [
             "2023",
             "Conference"
            ],
            [
             "2023",
             "Conference"
            ]
           ],
           "hovertemplate": "Year=2023<extra></extra>",
           "legendgroup": "2023",
           "line": {
            "color": "#ab63fa",
            "dash": "solid"
           },
           "marker": {
            "symbol": "circle"
           },
           "mode": "lines",
           "name": "2023",
           "orientation": "v",
           "showlegend": true,
           "type": "scatter",
           "x": [
            "01",
            "02",
            "03",
            "04",
            "05",
            "06",
            "07",
            "08",
            "09",
            "10",
            "11",
            "12"
           ],
           "xaxis": "x",
           "y": [
            0,
            1,
            0,
            0,
            0,
            1,
            0,
            0,
            0,
            0,
            0,
            0
           ],
           "yaxis": "y"
          },
          {
           "customdata": [
            [
             "2024",
             "Conference"
            ],
            [
             "2024",
             "Conference"
            ],
            [
             "2024",
             "Conference"
            ],
            [
             "2024",
             "Conference"
            ],
            [
             "2024",
             "Conference"
            ],
            [
             "2024",
             "Conference"
            ],
            [
             "2024",
             "Conference"
            ],
            [
             "2024",
             "Conference"
            ],
            [
             "2024",
             "Conference"
            ],
            [
             "2024",
             "Conference"
            ],
            [
             "2024",
             "Conference"
            ],
            [
             "2024",
             "Conference"
            ]
           ],
           "hovertemplate": "Year=2024<extra></extra>",
           "legendgroup": "2024",
           "line": {
            "color": "#FFA15A",
            "dash": "solid"
           },
           "marker": {
            "symbol": "circle"
           },
           "mode": "lines",
           "name": "2024",
           "orientation": "v",
           "showlegend": true,
           "type": "scatter",
           "x": [
            "01",
            "02",
            "03",
            "04",
            "05",
            "06",
            "07",
            "08",
            "09",
            "10",
            "11",
            "12"
           ],
           "xaxis": "x",
           "y": [
            0,
            0,
            0,
            0,
            0,
            0,
            0,
            0,
            0,
            0,
            0,
            0
           ],
           "yaxis": "y"
          },
          {
           "customdata": [
            [
             "Mean",
             "Conference"
            ],
            [
             "Mean",
             "Conference"
            ],
            [
             "Mean",
             "Conference"
            ],
            [
             "Mean",
             "Conference"
            ],
            [
             "Mean",
             "Conference"
            ],
            [
             "Mean",
             "Conference"
            ],
            [
             "Mean",
             "Conference"
            ],
            [
             "Mean",
             "Conference"
            ],
            [
             "Mean",
             "Conference"
            ],
            [
             "Mean",
             "Conference"
            ],
            [
             "Mean",
             "Conference"
            ],
            [
             "Mean",
             "Conference"
            ]
           ],
           "hovertemplate": "Year=Mean<extra></extra>",
           "legendgroup": "Mean",
           "line": {
            "color": "black",
            "dash": "solid"
           },
           "marker": {
            "symbol": "circle"
           },
           "mode": "lines",
           "name": "Mean",
           "orientation": "v",
           "showlegend": true,
           "type": "scatter",
           "x": [
            "01",
            "02",
            "03",
            "04",
            "05",
            "06",
            "07",
            "08",
            "09",
            "10",
            "11",
            "12"
           ],
           "xaxis": "x",
           "y": [
            0,
            0.25,
            0,
            0,
            0,
            0.25,
            0,
            0,
            0,
            0,
            0,
            0
           ],
           "yaxis": "y"
          }
         ],
         "name": "Conference"
        },
        {
         "data": [
          {
           "customdata": [
            [
             "2021",
             "Movie"
            ],
            [
             "2021",
             "Movie"
            ],
            [
             "2021",
             "Movie"
            ],
            [
             "2021",
             "Movie"
            ],
            [
             "2021",
             "Movie"
            ],
            [
             "2021",
             "Movie"
            ],
            [
             "2021",
             "Movie"
            ],
            [
             "2021",
             "Movie"
            ],
            [
             "2021",
             "Movie"
            ],
            [
             "2021",
             "Movie"
            ],
            [
             "2021",
             "Movie"
            ],
            [
             "2021",
             "Movie"
            ]
           ],
           "hovertemplate": "Year=2021<extra></extra>",
           "legendgroup": "2021",
           "line": {
            "color": "#EF553B",
            "dash": "solid"
           },
           "marker": {
            "symbol": "circle"
           },
           "mode": "lines",
           "name": "2021",
           "orientation": "v",
           "showlegend": true,
           "type": "scatter",
           "x": [
            "01",
            "02",
            "03",
            "04",
            "05",
            "06",
            "07",
            "08",
            "09",
            "10",
            "11",
            "12"
           ],
           "xaxis": "x",
           "y": [
            0,
            0,
            0,
            0,
            0,
            0,
            0,
            0,
            0,
            0,
            0,
            0
           ],
           "yaxis": "y"
          },
          {
           "customdata": [
            [
             "2022",
             "Movie"
            ],
            [
             "2022",
             "Movie"
            ],
            [
             "2022",
             "Movie"
            ],
            [
             "2022",
             "Movie"
            ],
            [
             "2022",
             "Movie"
            ],
            [
             "2022",
             "Movie"
            ],
            [
             "2022",
             "Movie"
            ],
            [
             "2022",
             "Movie"
            ],
            [
             "2022",
             "Movie"
            ],
            [
             "2022",
             "Movie"
            ],
            [
             "2022",
             "Movie"
            ],
            [
             "2022",
             "Movie"
            ]
           ],
           "hovertemplate": "Year=2022<extra></extra>",
           "legendgroup": "2022",
           "line": {
            "color": "#00cc96",
            "dash": "solid"
           },
           "marker": {
            "symbol": "circle"
           },
           "mode": "lines",
           "name": "2022",
           "orientation": "v",
           "showlegend": true,
           "type": "scatter",
           "x": [
            "01",
            "02",
            "03",
            "04",
            "05",
            "06",
            "07",
            "08",
            "09",
            "10",
            "11",
            "12"
           ],
           "xaxis": "x",
           "y": [
            1,
            0,
            0,
            0,
            0,
            0,
            0,
            0,
            0,
            0,
            0,
            0
           ],
           "yaxis": "y"
          },
          {
           "customdata": [
            [
             "2023",
             "Movie"
            ],
            [
             "2023",
             "Movie"
            ],
            [
             "2023",
             "Movie"
            ],
            [
             "2023",
             "Movie"
            ],
            [
             "2023",
             "Movie"
            ],
            [
             "2023",
             "Movie"
            ],
            [
             "2023",
             "Movie"
            ],
            [
             "2023",
             "Movie"
            ],
            [
             "2023",
             "Movie"
            ],
            [
             "2023",
             "Movie"
            ],
            [
             "2023",
             "Movie"
            ],
            [
             "2023",
             "Movie"
            ]
           ],
           "hovertemplate": "Year=2023<extra></extra>",
           "legendgroup": "2023",
           "line": {
            "color": "#ab63fa",
            "dash": "solid"
           },
           "marker": {
            "symbol": "circle"
           },
           "mode": "lines",
           "name": "2023",
           "orientation": "v",
           "showlegend": true,
           "type": "scatter",
           "x": [
            "01",
            "02",
            "03",
            "04",
            "05",
            "06",
            "07",
            "08",
            "09",
            "10",
            "11",
            "12"
           ],
           "xaxis": "x",
           "y": [
            0,
            0,
            0,
            0,
            0,
            0,
            4,
            0,
            0,
            0,
            1,
            1
           ],
           "yaxis": "y"
          },
          {
           "customdata": [
            [
             "2024",
             "Movie"
            ],
            [
             "2024",
             "Movie"
            ],
            [
             "2024",
             "Movie"
            ],
            [
             "2024",
             "Movie"
            ],
            [
             "2024",
             "Movie"
            ],
            [
             "2024",
             "Movie"
            ],
            [
             "2024",
             "Movie"
            ],
            [
             "2024",
             "Movie"
            ],
            [
             "2024",
             "Movie"
            ],
            [
             "2024",
             "Movie"
            ],
            [
             "2024",
             "Movie"
            ],
            [
             "2024",
             "Movie"
            ]
           ],
           "hovertemplate": "Year=2024<extra></extra>",
           "legendgroup": "2024",
           "line": {
            "color": "#FFA15A",
            "dash": "solid"
           },
           "marker": {
            "symbol": "circle"
           },
           "mode": "lines",
           "name": "2024",
           "orientation": "v",
           "showlegend": true,
           "type": "scatter",
           "x": [
            "01",
            "02",
            "03",
            "04",
            "05",
            "06",
            "07",
            "08",
            "09",
            "10",
            "11",
            "12"
           ],
           "xaxis": "x",
           "y": [
            1,
            0,
            1,
            0,
            0,
            0,
            0,
            0,
            0,
            0,
            0,
            0
           ],
           "yaxis": "y"
          },
          {
           "customdata": [
            [
             "Mean",
             "Movie"
            ],
            [
             "Mean",
             "Movie"
            ],
            [
             "Mean",
             "Movie"
            ],
            [
             "Mean",
             "Movie"
            ],
            [
             "Mean",
             "Movie"
            ],
            [
             "Mean",
             "Movie"
            ],
            [
             "Mean",
             "Movie"
            ],
            [
             "Mean",
             "Movie"
            ],
            [
             "Mean",
             "Movie"
            ],
            [
             "Mean",
             "Movie"
            ],
            [
             "Mean",
             "Movie"
            ],
            [
             "Mean",
             "Movie"
            ]
           ],
           "hovertemplate": "Year=Mean<extra></extra>",
           "legendgroup": "Mean",
           "line": {
            "color": "black",
            "dash": "solid"
           },
           "marker": {
            "symbol": "circle"
           },
           "mode": "lines",
           "name": "Mean",
           "orientation": "v",
           "showlegend": true,
           "type": "scatter",
           "x": [
            "01",
            "02",
            "03",
            "04",
            "05",
            "06",
            "07",
            "08",
            "09",
            "10",
            "11",
            "12"
           ],
           "xaxis": "x",
           "y": [
            0.5,
            0,
            0.25,
            0,
            0,
            0,
            1,
            0,
            0,
            0,
            0.25,
            0.25
           ],
           "yaxis": "y"
          }
         ],
         "name": "Movie"
        },
        {
         "data": [
          {
           "customdata": [
            [
             "2021",
             "Museum"
            ],
            [
             "2021",
             "Museum"
            ],
            [
             "2021",
             "Museum"
            ],
            [
             "2021",
             "Museum"
            ],
            [
             "2021",
             "Museum"
            ],
            [
             "2021",
             "Museum"
            ],
            [
             "2021",
             "Museum"
            ],
            [
             "2021",
             "Museum"
            ],
            [
             "2021",
             "Museum"
            ],
            [
             "2021",
             "Museum"
            ],
            [
             "2021",
             "Museum"
            ],
            [
             "2021",
             "Museum"
            ]
           ],
           "hovertemplate": "Year=2021<extra></extra>",
           "legendgroup": "2021",
           "line": {
            "color": "#EF553B",
            "dash": "solid"
           },
           "marker": {
            "symbol": "circle"
           },
           "mode": "lines",
           "name": "2021",
           "orientation": "v",
           "showlegend": true,
           "type": "scatter",
           "x": [
            "01",
            "02",
            "03",
            "04",
            "05",
            "06",
            "07",
            "08",
            "09",
            "10",
            "11",
            "12"
           ],
           "xaxis": "x",
           "y": [
            0,
            0,
            0,
            0,
            0,
            0,
            0,
            0,
            0,
            0,
            0,
            0
           ],
           "yaxis": "y"
          },
          {
           "customdata": [
            [
             "2022",
             "Museum"
            ],
            [
             "2022",
             "Museum"
            ],
            [
             "2022",
             "Museum"
            ],
            [
             "2022",
             "Museum"
            ],
            [
             "2022",
             "Museum"
            ],
            [
             "2022",
             "Museum"
            ],
            [
             "2022",
             "Museum"
            ],
            [
             "2022",
             "Museum"
            ],
            [
             "2022",
             "Museum"
            ],
            [
             "2022",
             "Museum"
            ],
            [
             "2022",
             "Museum"
            ],
            [
             "2022",
             "Museum"
            ]
           ],
           "hovertemplate": "Year=2022<extra></extra>",
           "legendgroup": "2022",
           "line": {
            "color": "#00cc96",
            "dash": "solid"
           },
           "marker": {
            "symbol": "circle"
           },
           "mode": "lines",
           "name": "2022",
           "orientation": "v",
           "showlegend": true,
           "type": "scatter",
           "x": [
            "01",
            "02",
            "03",
            "04",
            "05",
            "06",
            "07",
            "08",
            "09",
            "10",
            "11",
            "12"
           ],
           "xaxis": "x",
           "y": [
            0,
            0,
            0,
            0,
            0,
            0,
            0,
            1,
            1,
            1,
            1,
            0
           ],
           "yaxis": "y"
          },
          {
           "customdata": [
            [
             "2023",
             "Museum"
            ],
            [
             "2023",
             "Museum"
            ],
            [
             "2023",
             "Museum"
            ],
            [
             "2023",
             "Museum"
            ],
            [
             "2023",
             "Museum"
            ],
            [
             "2023",
             "Museum"
            ],
            [
             "2023",
             "Museum"
            ],
            [
             "2023",
             "Museum"
            ],
            [
             "2023",
             "Museum"
            ],
            [
             "2023",
             "Museum"
            ],
            [
             "2023",
             "Museum"
            ],
            [
             "2023",
             "Museum"
            ]
           ],
           "hovertemplate": "Year=2023<extra></extra>",
           "legendgroup": "2023",
           "line": {
            "color": "#ab63fa",
            "dash": "solid"
           },
           "marker": {
            "symbol": "circle"
           },
           "mode": "lines",
           "name": "2023",
           "orientation": "v",
           "showlegend": true,
           "type": "scatter",
           "x": [
            "01",
            "02",
            "03",
            "04",
            "05",
            "06",
            "07",
            "08",
            "09",
            "10",
            "11",
            "12"
           ],
           "xaxis": "x",
           "y": [
            1,
            1,
            0,
            1,
            0,
            0,
            2,
            1,
            0,
            0,
            0,
            1
           ],
           "yaxis": "y"
          },
          {
           "customdata": [
            [
             "2024",
             "Museum"
            ],
            [
             "2024",
             "Museum"
            ],
            [
             "2024",
             "Museum"
            ],
            [
             "2024",
             "Museum"
            ],
            [
             "2024",
             "Museum"
            ],
            [
             "2024",
             "Museum"
            ],
            [
             "2024",
             "Museum"
            ],
            [
             "2024",
             "Museum"
            ],
            [
             "2024",
             "Museum"
            ],
            [
             "2024",
             "Museum"
            ],
            [
             "2024",
             "Museum"
            ],
            [
             "2024",
             "Museum"
            ]
           ],
           "hovertemplate": "Year=2024<extra></extra>",
           "legendgroup": "2024",
           "line": {
            "color": "#FFA15A",
            "dash": "solid"
           },
           "marker": {
            "symbol": "circle"
           },
           "mode": "lines",
           "name": "2024",
           "orientation": "v",
           "showlegend": true,
           "type": "scatter",
           "x": [
            "01",
            "02",
            "03",
            "04",
            "05",
            "06",
            "07",
            "08",
            "09",
            "10",
            "11",
            "12"
           ],
           "xaxis": "x",
           "y": [
            0,
            0,
            0,
            0,
            1,
            0,
            0,
            0,
            0,
            0,
            0,
            0
           ],
           "yaxis": "y"
          },
          {
           "customdata": [
            [
             "Mean",
             "Museum"
            ],
            [
             "Mean",
             "Museum"
            ],
            [
             "Mean",
             "Museum"
            ],
            [
             "Mean",
             "Museum"
            ],
            [
             "Mean",
             "Museum"
            ],
            [
             "Mean",
             "Museum"
            ],
            [
             "Mean",
             "Museum"
            ],
            [
             "Mean",
             "Museum"
            ],
            [
             "Mean",
             "Museum"
            ],
            [
             "Mean",
             "Museum"
            ],
            [
             "Mean",
             "Museum"
            ],
            [
             "Mean",
             "Museum"
            ]
           ],
           "hovertemplate": "Year=Mean<extra></extra>",
           "legendgroup": "Mean",
           "line": {
            "color": "black",
            "dash": "solid"
           },
           "marker": {
            "symbol": "circle"
           },
           "mode": "lines",
           "name": "Mean",
           "orientation": "v",
           "showlegend": true,
           "type": "scatter",
           "x": [
            "01",
            "02",
            "03",
            "04",
            "05",
            "06",
            "07",
            "08",
            "09",
            "10",
            "11",
            "12"
           ],
           "xaxis": "x",
           "y": [
            0.25,
            0.25,
            0,
            0.25,
            0.25,
            0,
            0.5,
            0.5,
            0.25,
            0.25,
            0.25,
            0.25
           ],
           "yaxis": "y"
          }
         ],
         "name": "Museum"
        },
        {
         "data": [
          {
           "customdata": [
            [
             "2021",
             "Series"
            ],
            [
             "2021",
             "Series"
            ],
            [
             "2021",
             "Series"
            ],
            [
             "2021",
             "Series"
            ],
            [
             "2021",
             "Series"
            ],
            [
             "2021",
             "Series"
            ],
            [
             "2021",
             "Series"
            ],
            [
             "2021",
             "Series"
            ],
            [
             "2021",
             "Series"
            ],
            [
             "2021",
             "Series"
            ],
            [
             "2021",
             "Series"
            ],
            [
             "2021",
             "Series"
            ]
           ],
           "hovertemplate": "Year=2021<extra></extra>",
           "legendgroup": "2021",
           "line": {
            "color": "#EF553B",
            "dash": "solid"
           },
           "marker": {
            "symbol": "circle"
           },
           "mode": "lines",
           "name": "2021",
           "orientation": "v",
           "showlegend": true,
           "type": "scatter",
           "x": [
            "01",
            "02",
            "03",
            "04",
            "05",
            "06",
            "07",
            "08",
            "09",
            "10",
            "11",
            "12"
           ],
           "xaxis": "x",
           "y": [
            0,
            0,
            0,
            0,
            0,
            0,
            0,
            0,
            0,
            0,
            0,
            0
           ],
           "yaxis": "y"
          },
          {
           "customdata": [
            [
             "2022",
             "Series"
            ],
            [
             "2022",
             "Series"
            ],
            [
             "2022",
             "Series"
            ],
            [
             "2022",
             "Series"
            ],
            [
             "2022",
             "Series"
            ],
            [
             "2022",
             "Series"
            ],
            [
             "2022",
             "Series"
            ],
            [
             "2022",
             "Series"
            ],
            [
             "2022",
             "Series"
            ],
            [
             "2022",
             "Series"
            ],
            [
             "2022",
             "Series"
            ],
            [
             "2022",
             "Series"
            ]
           ],
           "hovertemplate": "Year=2022<extra></extra>",
           "legendgroup": "2022",
           "line": {
            "color": "#00cc96",
            "dash": "solid"
           },
           "marker": {
            "symbol": "circle"
           },
           "mode": "lines",
           "name": "2022",
           "orientation": "v",
           "showlegend": true,
           "type": "scatter",
           "x": [
            "01",
            "02",
            "03",
            "04",
            "05",
            "06",
            "07",
            "08",
            "09",
            "10",
            "11",
            "12"
           ],
           "xaxis": "x",
           "y": [
            0,
            0,
            0,
            0,
            0,
            0,
            0,
            0,
            0,
            0,
            0,
            0
           ],
           "yaxis": "y"
          },
          {
           "customdata": [
            [
             "2023",
             "Series"
            ],
            [
             "2023",
             "Series"
            ],
            [
             "2023",
             "Series"
            ],
            [
             "2023",
             "Series"
            ],
            [
             "2023",
             "Series"
            ],
            [
             "2023",
             "Series"
            ],
            [
             "2023",
             "Series"
            ],
            [
             "2023",
             "Series"
            ],
            [
             "2023",
             "Series"
            ],
            [
             "2023",
             "Series"
            ],
            [
             "2023",
             "Series"
            ],
            [
             "2023",
             "Series"
            ]
           ],
           "hovertemplate": "Year=2023<extra></extra>",
           "legendgroup": "2023",
           "line": {
            "color": "#ab63fa",
            "dash": "solid"
           },
           "marker": {
            "symbol": "circle"
           },
           "mode": "lines",
           "name": "2023",
           "orientation": "v",
           "showlegend": true,
           "type": "scatter",
           "x": [
            "01",
            "02",
            "03",
            "04",
            "05",
            "06",
            "07",
            "08",
            "09",
            "10",
            "11",
            "12"
           ],
           "xaxis": "x",
           "y": [
            1,
            0,
            0,
            0,
            0,
            1,
            0,
            0,
            1,
            0,
            0,
            0
           ],
           "yaxis": "y"
          },
          {
           "customdata": [
            [
             "2024",
             "Series"
            ],
            [
             "2024",
             "Series"
            ],
            [
             "2024",
             "Series"
            ],
            [
             "2024",
             "Series"
            ],
            [
             "2024",
             "Series"
            ],
            [
             "2024",
             "Series"
            ],
            [
             "2024",
             "Series"
            ],
            [
             "2024",
             "Series"
            ],
            [
             "2024",
             "Series"
            ],
            [
             "2024",
             "Series"
            ],
            [
             "2024",
             "Series"
            ],
            [
             "2024",
             "Series"
            ]
           ],
           "hovertemplate": "Year=2024<extra></extra>",
           "legendgroup": "2024",
           "line": {
            "color": "#FFA15A",
            "dash": "solid"
           },
           "marker": {
            "symbol": "circle"
           },
           "mode": "lines",
           "name": "2024",
           "orientation": "v",
           "showlegend": true,
           "type": "scatter",
           "x": [
            "01",
            "02",
            "03",
            "04",
            "05",
            "06",
            "07",
            "08",
            "09",
            "10",
            "11",
            "12"
           ],
           "xaxis": "x",
           "y": [
            0,
            0,
            0,
            0,
            0,
            0,
            0,
            0,
            0,
            0,
            0,
            0
           ],
           "yaxis": "y"
          },
          {
           "customdata": [
            [
             "Mean",
             "Series"
            ],
            [
             "Mean",
             "Series"
            ],
            [
             "Mean",
             "Series"
            ],
            [
             "Mean",
             "Series"
            ],
            [
             "Mean",
             "Series"
            ],
            [
             "Mean",
             "Series"
            ],
            [
             "Mean",
             "Series"
            ],
            [
             "Mean",
             "Series"
            ],
            [
             "Mean",
             "Series"
            ],
            [
             "Mean",
             "Series"
            ],
            [
             "Mean",
             "Series"
            ],
            [
             "Mean",
             "Series"
            ]
           ],
           "hovertemplate": "Year=Mean<extra></extra>",
           "legendgroup": "Mean",
           "line": {
            "color": "black",
            "dash": "solid"
           },
           "marker": {
            "symbol": "circle"
           },
           "mode": "lines",
           "name": "Mean",
           "orientation": "v",
           "showlegend": true,
           "type": "scatter",
           "x": [
            "01",
            "02",
            "03",
            "04",
            "05",
            "06",
            "07",
            "08",
            "09",
            "10",
            "11",
            "12"
           ],
           "xaxis": "x",
           "y": [
            0.25,
            0,
            0,
            0,
            0,
            0.25,
            0,
            0,
            0.25,
            0,
            0,
            0
           ],
           "yaxis": "y"
          }
         ],
         "name": "Series"
        },
        {
         "data": [
          {
           "customdata": [
            [
             "2021",
             "Theater"
            ],
            [
             "2021",
             "Theater"
            ],
            [
             "2021",
             "Theater"
            ],
            [
             "2021",
             "Theater"
            ],
            [
             "2021",
             "Theater"
            ],
            [
             "2021",
             "Theater"
            ],
            [
             "2021",
             "Theater"
            ],
            [
             "2021",
             "Theater"
            ],
            [
             "2021",
             "Theater"
            ],
            [
             "2021",
             "Theater"
            ],
            [
             "2021",
             "Theater"
            ],
            [
             "2021",
             "Theater"
            ]
           ],
           "hovertemplate": "Year=2021<extra></extra>",
           "legendgroup": "2021",
           "line": {
            "color": "#EF553B",
            "dash": "solid"
           },
           "marker": {
            "symbol": "circle"
           },
           "mode": "lines",
           "name": "2021",
           "orientation": "v",
           "showlegend": true,
           "type": "scatter",
           "x": [
            "01",
            "02",
            "03",
            "04",
            "05",
            "06",
            "07",
            "08",
            "09",
            "10",
            "11",
            "12"
           ],
           "xaxis": "x",
           "y": [
            0,
            0,
            0,
            0,
            0,
            0,
            0,
            0,
            0,
            0,
            0,
            0
           ],
           "yaxis": "y"
          },
          {
           "customdata": [
            [
             "2022",
             "Theater"
            ],
            [
             "2022",
             "Theater"
            ],
            [
             "2022",
             "Theater"
            ],
            [
             "2022",
             "Theater"
            ],
            [
             "2022",
             "Theater"
            ],
            [
             "2022",
             "Theater"
            ],
            [
             "2022",
             "Theater"
            ],
            [
             "2022",
             "Theater"
            ],
            [
             "2022",
             "Theater"
            ],
            [
             "2022",
             "Theater"
            ],
            [
             "2022",
             "Theater"
            ],
            [
             "2022",
             "Theater"
            ]
           ],
           "hovertemplate": "Year=2022<extra></extra>",
           "legendgroup": "2022",
           "line": {
            "color": "#00cc96",
            "dash": "solid"
           },
           "marker": {
            "symbol": "circle"
           },
           "mode": "lines",
           "name": "2022",
           "orientation": "v",
           "showlegend": true,
           "type": "scatter",
           "x": [
            "01",
            "02",
            "03",
            "04",
            "05",
            "06",
            "07",
            "08",
            "09",
            "10",
            "11",
            "12"
           ],
           "xaxis": "x",
           "y": [
            0,
            0,
            0,
            0,
            1,
            0,
            0,
            0,
            0,
            0,
            0,
            0
           ],
           "yaxis": "y"
          },
          {
           "customdata": [
            [
             "2023",
             "Theater"
            ],
            [
             "2023",
             "Theater"
            ],
            [
             "2023",
             "Theater"
            ],
            [
             "2023",
             "Theater"
            ],
            [
             "2023",
             "Theater"
            ],
            [
             "2023",
             "Theater"
            ],
            [
             "2023",
             "Theater"
            ],
            [
             "2023",
             "Theater"
            ],
            [
             "2023",
             "Theater"
            ],
            [
             "2023",
             "Theater"
            ],
            [
             "2023",
             "Theater"
            ],
            [
             "2023",
             "Theater"
            ]
           ],
           "hovertemplate": "Year=2023<extra></extra>",
           "legendgroup": "2023",
           "line": {
            "color": "#ab63fa",
            "dash": "solid"
           },
           "marker": {
            "symbol": "circle"
           },
           "mode": "lines",
           "name": "2023",
           "orientation": "v",
           "showlegend": true,
           "type": "scatter",
           "x": [
            "01",
            "02",
            "03",
            "04",
            "05",
            "06",
            "07",
            "08",
            "09",
            "10",
            "11",
            "12"
           ],
           "xaxis": "x",
           "y": [
            0,
            1,
            0,
            0,
            0,
            0,
            0,
            0,
            0,
            0,
            0,
            0
           ],
           "yaxis": "y"
          },
          {
           "customdata": [
            [
             "2024",
             "Theater"
            ],
            [
             "2024",
             "Theater"
            ],
            [
             "2024",
             "Theater"
            ],
            [
             "2024",
             "Theater"
            ],
            [
             "2024",
             "Theater"
            ],
            [
             "2024",
             "Theater"
            ],
            [
             "2024",
             "Theater"
            ],
            [
             "2024",
             "Theater"
            ],
            [
             "2024",
             "Theater"
            ],
            [
             "2024",
             "Theater"
            ],
            [
             "2024",
             "Theater"
            ],
            [
             "2024",
             "Theater"
            ]
           ],
           "hovertemplate": "Year=2024<extra></extra>",
           "legendgroup": "2024",
           "line": {
            "color": "#FFA15A",
            "dash": "solid"
           },
           "marker": {
            "symbol": "circle"
           },
           "mode": "lines",
           "name": "2024",
           "orientation": "v",
           "showlegend": true,
           "type": "scatter",
           "x": [
            "01",
            "02",
            "03",
            "04",
            "05",
            "06",
            "07",
            "08",
            "09",
            "10",
            "11",
            "12"
           ],
           "xaxis": "x",
           "y": [
            0,
            0,
            0,
            0,
            0,
            0,
            0,
            0,
            0,
            0,
            0,
            0
           ],
           "yaxis": "y"
          },
          {
           "customdata": [
            [
             "Mean",
             "Theater"
            ],
            [
             "Mean",
             "Theater"
            ],
            [
             "Mean",
             "Theater"
            ],
            [
             "Mean",
             "Theater"
            ],
            [
             "Mean",
             "Theater"
            ],
            [
             "Mean",
             "Theater"
            ],
            [
             "Mean",
             "Theater"
            ],
            [
             "Mean",
             "Theater"
            ],
            [
             "Mean",
             "Theater"
            ],
            [
             "Mean",
             "Theater"
            ],
            [
             "Mean",
             "Theater"
            ],
            [
             "Mean",
             "Theater"
            ]
           ],
           "hovertemplate": "Year=Mean<extra></extra>",
           "legendgroup": "Mean",
           "line": {
            "color": "black",
            "dash": "solid"
           },
           "marker": {
            "symbol": "circle"
           },
           "mode": "lines",
           "name": "Mean",
           "orientation": "v",
           "showlegend": true,
           "type": "scatter",
           "x": [
            "01",
            "02",
            "03",
            "04",
            "05",
            "06",
            "07",
            "08",
            "09",
            "10",
            "11",
            "12"
           ],
           "xaxis": "x",
           "y": [
            0,
            0.25,
            0,
            0,
            0.25,
            0,
            0,
            0,
            0,
            0,
            0,
            0
           ],
           "yaxis": "y"
          }
         ],
         "name": "Theater"
        },
        {
         "data": [
          {
           "customdata": [
            [
             "2021",
             "All"
            ],
            [
             "2021",
             "All"
            ],
            [
             "2021",
             "All"
            ],
            [
             "2021",
             "All"
            ],
            [
             "2021",
             "All"
            ],
            [
             "2021",
             "All"
            ],
            [
             "2021",
             "All"
            ],
            [
             "2021",
             "All"
            ],
            [
             "2021",
             "All"
            ],
            [
             "2021",
             "All"
            ],
            [
             "2021",
             "All"
            ],
            [
             "2021",
             "All"
            ]
           ],
           "hovertemplate": "Year=2021<extra></extra>",
           "legendgroup": "2021",
           "line": {
            "color": "#EF553B",
            "dash": "solid"
           },
           "marker": {
            "symbol": "circle"
           },
           "mode": "lines",
           "name": "2021",
           "orientation": "v",
           "showlegend": true,
           "type": "scatter",
           "x": [
            "01",
            "02",
            "03",
            "04",
            "05",
            "06",
            "07",
            "08",
            "09",
            "10",
            "11",
            "12"
           ],
           "xaxis": "x",
           "y": [
            3,
            7,
            7,
            4,
            5,
            5,
            9,
            8,
            5,
            3,
            5,
            5
           ],
           "yaxis": "y"
          },
          {
           "customdata": [
            [
             "2022",
             "All"
            ],
            [
             "2022",
             "All"
            ],
            [
             "2022",
             "All"
            ],
            [
             "2022",
             "All"
            ],
            [
             "2022",
             "All"
            ],
            [
             "2022",
             "All"
            ],
            [
             "2022",
             "All"
            ],
            [
             "2022",
             "All"
            ],
            [
             "2022",
             "All"
            ],
            [
             "2022",
             "All"
            ],
            [
             "2022",
             "All"
            ],
            [
             "2022",
             "All"
            ]
           ],
           "hovertemplate": "Year=2022<extra></extra>",
           "legendgroup": "2022",
           "line": {
            "color": "#00cc96",
            "dash": "solid"
           },
           "marker": {
            "symbol": "circle"
           },
           "mode": "lines",
           "name": "2022",
           "orientation": "v",
           "showlegend": true,
           "type": "scatter",
           "x": [
            "01",
            "02",
            "03",
            "04",
            "05",
            "06",
            "07",
            "08",
            "09",
            "10",
            "11",
            "12"
           ],
           "xaxis": "x",
           "y": [
            7,
            5,
            5,
            5,
            5,
            4,
            2,
            2,
            3,
            2,
            6,
            8
           ],
           "yaxis": "y"
          },
          {
           "customdata": [
            [
             "2023",
             "All"
            ],
            [
             "2023",
             "All"
            ],
            [
             "2023",
             "All"
            ],
            [
             "2023",
             "All"
            ],
            [
             "2023",
             "All"
            ],
            [
             "2023",
             "All"
            ],
            [
             "2023",
             "All"
            ],
            [
             "2023",
             "All"
            ],
            [
             "2023",
             "All"
            ],
            [
             "2023",
             "All"
            ],
            [
             "2023",
             "All"
            ],
            [
             "2023",
             "All"
            ]
           ],
           "hovertemplate": "Year=2023<extra></extra>",
           "legendgroup": "2023",
           "line": {
            "color": "#ab63fa",
            "dash": "solid"
           },
           "marker": {
            "symbol": "circle"
           },
           "mode": "lines",
           "name": "2023",
           "orientation": "v",
           "showlegend": true,
           "type": "scatter",
           "x": [
            "01",
            "02",
            "03",
            "04",
            "05",
            "06",
            "07",
            "08",
            "09",
            "10",
            "11",
            "12"
           ],
           "xaxis": "x",
           "y": [
            10,
            9,
            4,
            4,
            2,
            9,
            13,
            4,
            8,
            8,
            7,
            8
           ],
           "yaxis": "y"
          },
          {
           "customdata": [
            [
             "2024",
             "All"
            ],
            [
             "2024",
             "All"
            ],
            [
             "2024",
             "All"
            ],
            [
             "2024",
             "All"
            ],
            [
             "2024",
             "All"
            ],
            [
             "2024",
             "All"
            ],
            [
             "2024",
             "All"
            ],
            [
             "2024",
             "All"
            ],
            [
             "2024",
             "All"
            ],
            [
             "2024",
             "All"
            ],
            [
             "2024",
             "All"
            ],
            [
             "2024",
             "All"
            ]
           ],
           "hovertemplate": "Year=2024<extra></extra>",
           "legendgroup": "2024",
           "line": {
            "color": "#FFA15A",
            "dash": "solid"
           },
           "marker": {
            "symbol": "circle"
           },
           "mode": "lines",
           "name": "2024",
           "orientation": "v",
           "showlegend": true,
           "type": "scatter",
           "x": [
            "01",
            "02",
            "03",
            "04",
            "05",
            "06",
            "07",
            "08",
            "09",
            "10",
            "11",
            "12"
           ],
           "xaxis": "x",
           "y": [
            5,
            6,
            7,
            4,
            7,
            2,
            0,
            0,
            0,
            0,
            0,
            0
           ],
           "yaxis": "y"
          },
          {
           "customdata": [
            [
             "Mean",
             "All"
            ],
            [
             "Mean",
             "All"
            ],
            [
             "Mean",
             "All"
            ],
            [
             "Mean",
             "All"
            ],
            [
             "Mean",
             "All"
            ],
            [
             "Mean",
             "All"
            ],
            [
             "Mean",
             "All"
            ],
            [
             "Mean",
             "All"
            ],
            [
             "Mean",
             "All"
            ],
            [
             "Mean",
             "All"
            ],
            [
             "Mean",
             "All"
            ],
            [
             "Mean",
             "All"
            ]
           ],
           "hovertemplate": "Year=Mean<extra></extra>",
           "legendgroup": "Mean",
           "line": {
            "color": "black",
            "dash": "solid"
           },
           "marker": {
            "symbol": "circle"
           },
           "mode": "lines",
           "name": "Mean",
           "orientation": "v",
           "showlegend": true,
           "type": "scatter",
           "x": [
            "01",
            "02",
            "03",
            "04",
            "05",
            "06",
            "07",
            "08",
            "09",
            "10",
            "11",
            "12"
           ],
           "xaxis": "x",
           "y": [
            6.25,
            6.75,
            5.75,
            4.25,
            4.75,
            5,
            6,
            3.5,
            4,
            3.25,
            4.5,
            5.25
           ],
           "yaxis": "y"
          }
         ],
         "name": "All"
        }
       ],
       "layout": {
        "legend": {
         "title": {
          "text": "Year"
         },
         "tracegroupgap": 0
        },
        "margin": {
         "b": 0,
         "l": 0,
         "r": 0,
         "t": 10
        },
        "showlegend": false,
        "sliders": [
         {
          "active": 0,
          "currentvalue": {
           "prefix": "type="
          },
          "len": 0.9,
          "pad": {
           "b": 20,
           "r": 10,
           "t": 20
          },
          "steps": [
           {
            "args": [
             [
              "Book"
             ],
             {
              "frame": {
               "duration": 0,
               "redraw": false
              },
              "fromcurrent": true,
              "mode": "immediate",
              "transition": {
               "duration": 0,
               "easing": "linear"
              }
             }
            ],
            "label": "Book",
            "method": "animate"
           },
           {
            "args": [
             [
              "Game"
             ],
             {
              "frame": {
               "duration": 0,
               "redraw": false
              },
              "fromcurrent": true,
              "mode": "immediate",
              "transition": {
               "duration": 0,
               "easing": "linear"
              }
             }
            ],
            "label": "Game",
            "method": "animate"
           },
           {
            "args": [
             [
              "Cabaret"
             ],
             {
              "frame": {
               "duration": 0,
               "redraw": false
              },
              "fromcurrent": true,
              "mode": "immediate",
              "transition": {
               "duration": 0,
               "easing": "linear"
              }
             }
            ],
            "label": "Cabaret",
            "method": "animate"
           },
           {
            "args": [
             [
              "Concert"
             ],
             {
              "frame": {
               "duration": 0,
               "redraw": false
              },
              "fromcurrent": true,
              "mode": "immediate",
              "transition": {
               "duration": 0,
               "easing": "linear"
              }
             }
            ],
            "label": "Concert",
            "method": "animate"
           },
           {
            "args": [
             [
              "Conference"
             ],
             {
              "frame": {
               "duration": 0,
               "redraw": false
              },
              "fromcurrent": true,
              "mode": "immediate",
              "transition": {
               "duration": 0,
               "easing": "linear"
              }
             }
            ],
            "label": "Conference",
            "method": "animate"
           },
           {
            "args": [
             [
              "Movie"
             ],
             {
              "frame": {
               "duration": 0,
               "redraw": false
              },
              "fromcurrent": true,
              "mode": "immediate",
              "transition": {
               "duration": 0,
               "easing": "linear"
              }
             }
            ],
            "label": "Movie",
            "method": "animate"
           },
           {
            "args": [
             [
              "Museum"
             ],
             {
              "frame": {
               "duration": 0,
               "redraw": false
              },
              "fromcurrent": true,
              "mode": "immediate",
              "transition": {
               "duration": 0,
               "easing": "linear"
              }
             }
            ],
            "label": "Museum",
            "method": "animate"
           },
           {
            "args": [
             [
              "Series"
             ],
             {
              "frame": {
               "duration": 0,
               "redraw": false
              },
              "fromcurrent": true,
              "mode": "immediate",
              "transition": {
               "duration": 0,
               "easing": "linear"
              }
             }
            ],
            "label": "Series",
            "method": "animate"
           },
           {
            "args": [
             [
              "Theater"
             ],
             {
              "frame": {
               "duration": 0,
               "redraw": false
              },
              "fromcurrent": true,
              "mode": "immediate",
              "transition": {
               "duration": 0,
               "easing": "linear"
              }
             }
            ],
            "label": "Theater",
            "method": "animate"
           },
           {
            "args": [
             [
              "All"
             ],
             {
              "frame": {
               "duration": 0,
               "redraw": false
              },
              "fromcurrent": true,
              "mode": "immediate",
              "transition": {
               "duration": 0,
               "easing": "linear"
              }
             }
            ],
            "label": "All",
            "method": "animate"
           }
          ],
          "x": 0.1,
          "xanchor": "left",
          "y": 0,
          "yanchor": "top"
         }
        ],
        "template": {
         "data": {
          "bar": [
           {
            "error_x": {
             "color": "#2a3f5f"
            },
            "error_y": {
             "color": "#2a3f5f"
            },
            "marker": {
             "line": {
              "color": "white",
              "width": 0.5
             },
             "pattern": {
              "fillmode": "overlay",
              "size": 10,
              "solidity": 0.2
             }
            },
            "type": "bar"
           }
          ],
          "barpolar": [
           {
            "marker": {
             "line": {
              "color": "white",
              "width": 0.5
             },
             "pattern": {
              "fillmode": "overlay",
              "size": 10,
              "solidity": 0.2
             }
            },
            "type": "barpolar"
           }
          ],
          "carpet": [
           {
            "aaxis": {
             "endlinecolor": "#2a3f5f",
             "gridcolor": "#C8D4E3",
             "linecolor": "#C8D4E3",
             "minorgridcolor": "#C8D4E3",
             "startlinecolor": "#2a3f5f"
            },
            "baxis": {
             "endlinecolor": "#2a3f5f",
             "gridcolor": "#C8D4E3",
             "linecolor": "#C8D4E3",
             "minorgridcolor": "#C8D4E3",
             "startlinecolor": "#2a3f5f"
            },
            "type": "carpet"
           }
          ],
          "choropleth": [
           {
            "colorbar": {
             "outlinewidth": 0,
             "ticks": ""
            },
            "type": "choropleth"
           }
          ],
          "contour": [
           {
            "colorbar": {
             "outlinewidth": 0,
             "ticks": ""
            },
            "colorscale": [
             [
              0,
              "#0d0887"
             ],
             [
              0.1111111111111111,
              "#46039f"
             ],
             [
              0.2222222222222222,
              "#7201a8"
             ],
             [
              0.3333333333333333,
              "#9c179e"
             ],
             [
              0.4444444444444444,
              "#bd3786"
             ],
             [
              0.5555555555555556,
              "#d8576b"
             ],
             [
              0.6666666666666666,
              "#ed7953"
             ],
             [
              0.7777777777777778,
              "#fb9f3a"
             ],
             [
              0.8888888888888888,
              "#fdca26"
             ],
             [
              1,
              "#f0f921"
             ]
            ],
            "type": "contour"
           }
          ],
          "contourcarpet": [
           {
            "colorbar": {
             "outlinewidth": 0,
             "ticks": ""
            },
            "type": "contourcarpet"
           }
          ],
          "heatmap": [
           {
            "colorbar": {
             "outlinewidth": 0,
             "ticks": ""
            },
            "colorscale": [
             [
              0,
              "#0d0887"
             ],
             [
              0.1111111111111111,
              "#46039f"
             ],
             [
              0.2222222222222222,
              "#7201a8"
             ],
             [
              0.3333333333333333,
              "#9c179e"
             ],
             [
              0.4444444444444444,
              "#bd3786"
             ],
             [
              0.5555555555555556,
              "#d8576b"
             ],
             [
              0.6666666666666666,
              "#ed7953"
             ],
             [
              0.7777777777777778,
              "#fb9f3a"
             ],
             [
              0.8888888888888888,
              "#fdca26"
             ],
             [
              1,
              "#f0f921"
             ]
            ],
            "type": "heatmap"
           }
          ],
          "heatmapgl": [
           {
            "colorbar": {
             "outlinewidth": 0,
             "ticks": ""
            },
            "colorscale": [
             [
              0,
              "#0d0887"
             ],
             [
              0.1111111111111111,
              "#46039f"
             ],
             [
              0.2222222222222222,
              "#7201a8"
             ],
             [
              0.3333333333333333,
              "#9c179e"
             ],
             [
              0.4444444444444444,
              "#bd3786"
             ],
             [
              0.5555555555555556,
              "#d8576b"
             ],
             [
              0.6666666666666666,
              "#ed7953"
             ],
             [
              0.7777777777777778,
              "#fb9f3a"
             ],
             [
              0.8888888888888888,
              "#fdca26"
             ],
             [
              1,
              "#f0f921"
             ]
            ],
            "type": "heatmapgl"
           }
          ],
          "histogram": [
           {
            "marker": {
             "pattern": {
              "fillmode": "overlay",
              "size": 10,
              "solidity": 0.2
             }
            },
            "type": "histogram"
           }
          ],
          "histogram2d": [
           {
            "colorbar": {
             "outlinewidth": 0,
             "ticks": ""
            },
            "colorscale": [
             [
              0,
              "#0d0887"
             ],
             [
              0.1111111111111111,
              "#46039f"
             ],
             [
              0.2222222222222222,
              "#7201a8"
             ],
             [
              0.3333333333333333,
              "#9c179e"
             ],
             [
              0.4444444444444444,
              "#bd3786"
             ],
             [
              0.5555555555555556,
              "#d8576b"
             ],
             [
              0.6666666666666666,
              "#ed7953"
             ],
             [
              0.7777777777777778,
              "#fb9f3a"
             ],
             [
              0.8888888888888888,
              "#fdca26"
             ],
             [
              1,
              "#f0f921"
             ]
            ],
            "type": "histogram2d"
           }
          ],
          "histogram2dcontour": [
           {
            "colorbar": {
             "outlinewidth": 0,
             "ticks": ""
            },
            "colorscale": [
             [
              0,
              "#0d0887"
             ],
             [
              0.1111111111111111,
              "#46039f"
             ],
             [
              0.2222222222222222,
              "#7201a8"
             ],
             [
              0.3333333333333333,
              "#9c179e"
             ],
             [
              0.4444444444444444,
              "#bd3786"
             ],
             [
              0.5555555555555556,
              "#d8576b"
             ],
             [
              0.6666666666666666,
              "#ed7953"
             ],
             [
              0.7777777777777778,
              "#fb9f3a"
             ],
             [
              0.8888888888888888,
              "#fdca26"
             ],
             [
              1,
              "#f0f921"
             ]
            ],
            "type": "histogram2dcontour"
           }
          ],
          "mesh3d": [
           {
            "colorbar": {
             "outlinewidth": 0,
             "ticks": ""
            },
            "type": "mesh3d"
           }
          ],
          "parcoords": [
           {
            "line": {
             "colorbar": {
              "outlinewidth": 0,
              "ticks": ""
             }
            },
            "type": "parcoords"
           }
          ],
          "pie": [
           {
            "automargin": true,
            "type": "pie"
           }
          ],
          "scatter": [
           {
            "fillpattern": {
             "fillmode": "overlay",
             "size": 10,
             "solidity": 0.2
            },
            "type": "scatter"
           }
          ],
          "scatter3d": [
           {
            "line": {
             "colorbar": {
              "outlinewidth": 0,
              "ticks": ""
             }
            },
            "marker": {
             "colorbar": {
              "outlinewidth": 0,
              "ticks": ""
             }
            },
            "type": "scatter3d"
           }
          ],
          "scattercarpet": [
           {
            "marker": {
             "colorbar": {
              "outlinewidth": 0,
              "ticks": ""
             }
            },
            "type": "scattercarpet"
           }
          ],
          "scattergeo": [
           {
            "marker": {
             "colorbar": {
              "outlinewidth": 0,
              "ticks": ""
             }
            },
            "type": "scattergeo"
           }
          ],
          "scattergl": [
           {
            "marker": {
             "colorbar": {
              "outlinewidth": 0,
              "ticks": ""
             }
            },
            "type": "scattergl"
           }
          ],
          "scattermapbox": [
           {
            "marker": {
             "colorbar": {
              "outlinewidth": 0,
              "ticks": ""
             }
            },
            "type": "scattermapbox"
           }
          ],
          "scatterpolar": [
           {
            "marker": {
             "colorbar": {
              "outlinewidth": 0,
              "ticks": ""
             }
            },
            "type": "scatterpolar"
           }
          ],
          "scatterpolargl": [
           {
            "marker": {
             "colorbar": {
              "outlinewidth": 0,
              "ticks": ""
             }
            },
            "type": "scatterpolargl"
           }
          ],
          "scatterternary": [
           {
            "marker": {
             "colorbar": {
              "outlinewidth": 0,
              "ticks": ""
             }
            },
            "type": "scatterternary"
           }
          ],
          "surface": [
           {
            "colorbar": {
             "outlinewidth": 0,
             "ticks": ""
            },
            "colorscale": [
             [
              0,
              "#0d0887"
             ],
             [
              0.1111111111111111,
              "#46039f"
             ],
             [
              0.2222222222222222,
              "#7201a8"
             ],
             [
              0.3333333333333333,
              "#9c179e"
             ],
             [
              0.4444444444444444,
              "#bd3786"
             ],
             [
              0.5555555555555556,
              "#d8576b"
             ],
             [
              0.6666666666666666,
              "#ed7953"
             ],
             [
              0.7777777777777778,
              "#fb9f3a"
             ],
             [
              0.8888888888888888,
              "#fdca26"
             ],
             [
              1,
              "#f0f921"
             ]
            ],
            "type": "surface"
           }
          ],
          "table": [
           {
            "cells": {
             "fill": {
              "color": "#EBF0F8"
             },
             "line": {
              "color": "white"
             }
            },
            "header": {
             "fill": {
              "color": "#C8D4E3"
             },
             "line": {
              "color": "white"
             }
            },
            "type": "table"
           }
          ]
         },
         "layout": {
          "annotationdefaults": {
           "arrowcolor": "#2a3f5f",
           "arrowhead": 0,
           "arrowwidth": 1
          },
          "autotypenumbers": "strict",
          "coloraxis": {
           "colorbar": {
            "outlinewidth": 0,
            "ticks": ""
           }
          },
          "colorscale": {
           "diverging": [
            [
             0,
             "#8e0152"
            ],
            [
             0.1,
             "#c51b7d"
            ],
            [
             0.2,
             "#de77ae"
            ],
            [
             0.3,
             "#f1b6da"
            ],
            [
             0.4,
             "#fde0ef"
            ],
            [
             0.5,
             "#f7f7f7"
            ],
            [
             0.6,
             "#e6f5d0"
            ],
            [
             0.7,
             "#b8e186"
            ],
            [
             0.8,
             "#7fbc41"
            ],
            [
             0.9,
             "#4d9221"
            ],
            [
             1,
             "#276419"
            ]
           ],
           "sequential": [
            [
             0,
             "#0d0887"
            ],
            [
             0.1111111111111111,
             "#46039f"
            ],
            [
             0.2222222222222222,
             "#7201a8"
            ],
            [
             0.3333333333333333,
             "#9c179e"
            ],
            [
             0.4444444444444444,
             "#bd3786"
            ],
            [
             0.5555555555555556,
             "#d8576b"
            ],
            [
             0.6666666666666666,
             "#ed7953"
            ],
            [
             0.7777777777777778,
             "#fb9f3a"
            ],
            [
             0.8888888888888888,
             "#fdca26"
            ],
            [
             1,
             "#f0f921"
            ]
           ],
           "sequentialminus": [
            [
             0,
             "#0d0887"
            ],
            [
             0.1111111111111111,
             "#46039f"
            ],
            [
             0.2222222222222222,
             "#7201a8"
            ],
            [
             0.3333333333333333,
             "#9c179e"
            ],
            [
             0.4444444444444444,
             "#bd3786"
            ],
            [
             0.5555555555555556,
             "#d8576b"
            ],
            [
             0.6666666666666666,
             "#ed7953"
            ],
            [
             0.7777777777777778,
             "#fb9f3a"
            ],
            [
             0.8888888888888888,
             "#fdca26"
            ],
            [
             1,
             "#f0f921"
            ]
           ]
          },
          "colorway": [
           "#636efa",
           "#EF553B",
           "#00cc96",
           "#ab63fa",
           "#FFA15A",
           "#19d3f3",
           "#FF6692",
           "#B6E880",
           "#FF97FF",
           "#FECB52"
          ],
          "font": {
           "color": "#2a3f5f"
          },
          "geo": {
           "bgcolor": "white",
           "lakecolor": "white",
           "landcolor": "white",
           "showlakes": true,
           "showland": true,
           "subunitcolor": "#C8D4E3"
          },
          "hoverlabel": {
           "align": "left"
          },
          "hovermode": "closest",
          "mapbox": {
           "style": "light"
          },
          "paper_bgcolor": "white",
          "plot_bgcolor": "white",
          "polar": {
           "angularaxis": {
            "gridcolor": "#EBF0F8",
            "linecolor": "#EBF0F8",
            "ticks": ""
           },
           "bgcolor": "white",
           "radialaxis": {
            "gridcolor": "#EBF0F8",
            "linecolor": "#EBF0F8",
            "ticks": ""
           }
          },
          "scene": {
           "xaxis": {
            "backgroundcolor": "white",
            "gridcolor": "#DFE8F3",
            "gridwidth": 2,
            "linecolor": "#EBF0F8",
            "showbackground": true,
            "ticks": "",
            "zerolinecolor": "#EBF0F8"
           },
           "yaxis": {
            "backgroundcolor": "white",
            "gridcolor": "#DFE8F3",
            "gridwidth": 2,
            "linecolor": "#EBF0F8",
            "showbackground": true,
            "ticks": "",
            "zerolinecolor": "#EBF0F8"
           },
           "zaxis": {
            "backgroundcolor": "white",
            "gridcolor": "#DFE8F3",
            "gridwidth": 2,
            "linecolor": "#EBF0F8",
            "showbackground": true,
            "ticks": "",
            "zerolinecolor": "#EBF0F8"
           }
          },
          "shapedefaults": {
           "line": {
            "color": "#2a3f5f"
           }
          },
          "ternary": {
           "aaxis": {
            "gridcolor": "#DFE8F3",
            "linecolor": "#A2B1C6",
            "ticks": ""
           },
           "baxis": {
            "gridcolor": "#DFE8F3",
            "linecolor": "#A2B1C6",
            "ticks": ""
           },
           "bgcolor": "white",
           "caxis": {
            "gridcolor": "#DFE8F3",
            "linecolor": "#A2B1C6",
            "ticks": ""
           }
          },
          "title": {
           "x": 0.05
          },
          "xaxis": {
           "automargin": true,
           "gridcolor": "#EBF0F8",
           "linecolor": "#EBF0F8",
           "ticks": "",
           "title": {
            "standoff": 15
           },
           "zerolinecolor": "#EBF0F8",
           "zerolinewidth": 2
          },
          "yaxis": {
           "automargin": true,
           "gridcolor": "#EBF0F8",
           "linecolor": "#EBF0F8",
           "ticks": "",
           "title": {
            "standoff": 15
           },
           "zerolinecolor": "#EBF0F8",
           "zerolinewidth": 2
          }
         }
        },
        "xaxis": {
         "anchor": "y",
         "domain": [
          0,
          1
         ],
         "range": [
          0,
          11
         ],
         "tickmode": "array",
         "ticktext": [
          "Jan",
          "Feb",
          "Mar",
          "Apr",
          "May",
          "Jun",
          "Jul",
          "Aug",
          "Sep",
          "Oct",
          "Nov",
          "Dec"
         ],
         "tickvals": [
          "01",
          "02",
          "03",
          "04",
          "05",
          "06",
          "07",
          "08",
          "09",
          "10",
          "11",
          "12"
         ],
         "title": {
          "text": "Month"
         }
        },
        "yaxis": {
         "anchor": "x",
         "domain": [
          0,
          1
         ],
         "range": [
          0,
          15
         ],
         "title": {
          "text": "Amount"
         }
        }
       }
      }
     },
     "metadata": {},
     "output_type": "display_data"
    }
   ],
   "source": [
    "import plotly.express as px\n",
    "import numpy as np\n",
    "\n",
    "df2 = df.copy()\n",
    "df2 = df2.groupby(['type', 'date']).size().rename_axis(['type', 'date']).reset_index(name='counts')\n",
    "df2[['year','month']] = df2['date'].str.split('-',expand=True)\n",
    "df2 = df2.drop(columns=['date'])\n",
    "types = []; counts = []; years = []; months = []\n",
    "for year in range(min(df2['year'].astype(int)), max(df2['year'].astype(int)) + 1):\n",
    "    for month in range(1, 13):\n",
    "        actualmonth = '0' * (2 - len(str(month))) + str(month)\n",
    "        for type in df2['type'].unique():\n",
    "            if not ((df2['year'] == str(year)) & (df2['month'] == actualmonth) & (df2['type'] == type)).any():\n",
    "                types.append(type); counts.append(0); years.append(str(year)); months.append(actualmonth)\n",
    "for year in range(min(df2['year'].astype(int)), max(df2['year'].astype(int)) + 1):\n",
    "    for month in range(1, 13):\n",
    "        actualmonth = '0' * (2 - len(str(month))) + str(month)\n",
    "        types.append(\"All\"); counts.append(df2[(df2['year'] == str(year)) & (df2['month'] == actualmonth)]['counts'].sum()); years.append(str(year)); months.append(actualmonth)\n",
    "added_rows = pd.DataFrame({'type':types, 'counts':counts, 'year':years, 'month':months})\n",
    "df2 = pd.concat([df2, added_rows], ignore_index=True)\n",
    "types = []; counts = []; years = []; months = []\n",
    "for month in range(1, 13):\n",
    "    actualmonth = '0' * (2 - len(str(month))) + str(month)\n",
    "    for type in df2['type'].unique():\n",
    "        count = sum(df2[(df2['type'] == type) & (df2['month'] == actualmonth)]['counts']) / len(df2['year'].unique())\n",
    "        count = count if not np.isnan(count) else 0\n",
    "        types.append(type); counts.append(count); years.append(\"Mean\"); months.append(actualmonth)\n",
    "added_rows = pd.DataFrame({'type':types, 'counts':counts, 'year':years, 'month':months})\n",
    "df2 = pd.concat([df2, added_rows], ignore_index=True)\n",
    "df2 = df2.sort_values(by=['year', 'month'])\n",
    "fig = px.line(df2, x='month', y='counts', color='year', animation_frame='type',\n",
    "              color_discrete_map={\"Mean\": 'black'}, custom_data=['year'], template='plotly_white',\n",
    "              labels={\n",
    "                     \"month\": \"Month\",\n",
    "                     \"counts\": \"Amount\",\n",
    "                     \"year\": \"Year\"\n",
    "                 },\n",
    "                 hover_data={\n",
    "                            'type':False,\n",
    "                            'month':False,\n",
    "                            'counts':False\n",
    "                        })\n",
    "fig.update_layout(margin={'t':10,'l':0,'b':0,'r':0}, yaxis_range=[0,15], xaxis_range=[0,11],\n",
    "                  xaxis = dict(\n",
    "                    tickmode = 'array',\n",
    "                    tickvals = ['01', '02', '03', '04', '05', '06', '07', '08', '09', '10', '11', '12'],\n",
    "                    ticktext = ['Jan', 'Feb', 'Mar', 'Apr', 'May', 'Jun', 'Jul', 'Aug', 'Sep', 'Oct', 'Nov', 'Dec']\n",
    "                ), showlegend=False)\n",
    "fig.update_traces(opacity=.4)\n",
    "fig.update_traces(selector=dict(line_color=\"black\"), opacity=1)\n",
    "fig.update_traces(hovertemplate='%{customdata[0]}<extra></extra>')\n",
    "fig['layout']['sliders'][0]['pad']=dict(r= 10, t= 20, b=20)\n",
    "fig[\"layout\"].pop(\"updatemenus\")\n",
    "fig.show()\n"
   ]
  },
  {
   "cell_type": "markdown",
   "metadata": {},
   "source": [
    "## Albums\n",
    "One particular interest I have is collecting albums out of Rolling Stone's Top 500 Albums list. Below, you can see how many I already have (out of the 2020 list)."
   ]
  },
  {
   "cell_type": "code",
   "execution_count": 12,
   "metadata": {
    "tags": [
     "remove-input"
    ]
   },
   "outputs": [
    {
     "name": "stdout",
     "output_type": "stream",
     "text": [
      "Total:     [++++++++                                ] 102 out of 500\n",
      "\n",
      "1955-1964: [+                                       ] 1 out of 28\n",
      "1965-1974: [+++++++++                               ] 33 out of 146\n",
      "1975-1984: [++++++++                                ] 22 out of 106\n",
      "1985-1994: [+++++++++                               ] 21 out of 88\n",
      "1995-2004: [++++++++                                ] 17 out of 83\n",
      "2005-2014: [+++++++++                               ] 7 out of 31\n",
      "2015-2024: [++                                      ] 1 out of 18\n"
     ]
    }
   ],
   "source": [
    "albums_df = pd.read_csv(\"albums.csv\", sep=';')\n",
    "albums_df['Rounded year'] = albums_df['Year'].apply(lambda x: 10 * round(int(x) / 10))\n",
    "albums_df['Have'] = albums_df['Have'].apply(lambda x: 1 if x == \"X\" else x)\n",
    "score = len(albums_df[(albums_df['Have'] == 1)]) / len(albums_df)\n",
    "displays = int(score * 40)\n",
    "print(f\"Total:     [{\"+\" * displays}{\" \" * (40 - displays)}] {len(albums_df[(albums_df['Have'] == 1)])} out of {len(albums_df)}\\n\")\n",
    "for year in sorted(albums_df['Rounded year'].unique()):\n",
    "    score = len(albums_df[(albums_df['Rounded year'] == year) & (albums_df['Have'] == 1)]) / len(albums_df[albums_df['Rounded year'] == year])\n",
    "    displays = int(score * 40)\n",
    "    print(f\"{year-5}-{year+4}: [{\"+\" * displays}{\" \" * (40 - displays)}] {len(albums_df[(albums_df['Rounded year'] == year) & (albums_df['Have'] == 1)])} out of {len(albums_df[albums_df['Rounded year'] == year])}\")"
   ]
  },
  {
   "cell_type": "code",
   "execution_count": 13,
   "metadata": {
    "tags": [
     "remove-input"
    ]
   },
   "outputs": [
    {
     "data": {
      "application/vnd.plotly.v1+json": {
       "config": {
        "plotlyServerURL": "https://plot.ly"
       },
       "data": [
        {
         "hovertemplate": "Number of albums in top 500=%{x}<br>Amount in collection=%{y}<extra></extra>",
         "legendgroup": "",
         "line": {
          "color": "#636efa",
          "dash": "solid"
         },
         "marker": {
          "symbol": "circle"
         },
         "mode": "lines",
         "name": "",
         "orientation": "v",
         "showlegend": false,
         "type": "scatter",
         "x": [
          1,
          2,
          4,
          5,
          6,
          7,
          8,
          10,
          12,
          13,
          14,
          17,
          20,
          23,
          24,
          28,
          30,
          31,
          32,
          33,
          34,
          39,
          40,
          41,
          42,
          43,
          46,
          47,
          48,
          53,
          55,
          58,
          60,
          62,
          69,
          72,
          77,
          81,
          84,
          86,
          96,
          97,
          107,
          109,
          114,
          117,
          118,
          123,
          124,
          128,
          129,
          133,
          135,
          137,
          139,
          140,
          142,
          145,
          160,
          161,
          165,
          172,
          173,
          179,
          186,
          190,
          192,
          194,
          200,
          211,
          217,
          220,
          221,
          226,
          234,
          235,
          236,
          248,
          253,
          264,
          276,
          279,
          286,
          292,
          294,
          300,
          324,
          327,
          331,
          334,
          341,
          351,
          352,
          355,
          357,
          361,
          375,
          408,
          418,
          449,
          461,
          484
         ],
         "xaxis": "x",
         "y": [
          1,
          2,
          3,
          4,
          5,
          6,
          7,
          8,
          9,
          10,
          11,
          12,
          13,
          14,
          15,
          16,
          17,
          18,
          19,
          20,
          21,
          22,
          23,
          24,
          25,
          26,
          27,
          28,
          29,
          30,
          31,
          32,
          33,
          34,
          35,
          36,
          37,
          38,
          39,
          40,
          41,
          42,
          43,
          44,
          45,
          46,
          47,
          48,
          49,
          50,
          51,
          52,
          53,
          54,
          55,
          56,
          57,
          58,
          59,
          60,
          61,
          62,
          63,
          64,
          65,
          66,
          67,
          68,
          69,
          70,
          71,
          72,
          73,
          74,
          75,
          76,
          77,
          78,
          79,
          80,
          81,
          82,
          83,
          84,
          85,
          86,
          87,
          88,
          89,
          90,
          91,
          92,
          93,
          94,
          95,
          96,
          97,
          98,
          99,
          100,
          101,
          102
         ],
         "yaxis": "y"
        }
       ],
       "layout": {
        "legend": {
         "tracegroupgap": 0
        },
        "margin": {
         "b": 0,
         "l": 0,
         "r": 10,
         "t": 10
        },
        "showlegend": false,
        "template": {
         "data": {
          "bar": [
           {
            "error_x": {
             "color": "#2a3f5f"
            },
            "error_y": {
             "color": "#2a3f5f"
            },
            "marker": {
             "line": {
              "color": "white",
              "width": 0.5
             },
             "pattern": {
              "fillmode": "overlay",
              "size": 10,
              "solidity": 0.2
             }
            },
            "type": "bar"
           }
          ],
          "barpolar": [
           {
            "marker": {
             "line": {
              "color": "white",
              "width": 0.5
             },
             "pattern": {
              "fillmode": "overlay",
              "size": 10,
              "solidity": 0.2
             }
            },
            "type": "barpolar"
           }
          ],
          "carpet": [
           {
            "aaxis": {
             "endlinecolor": "#2a3f5f",
             "gridcolor": "#C8D4E3",
             "linecolor": "#C8D4E3",
             "minorgridcolor": "#C8D4E3",
             "startlinecolor": "#2a3f5f"
            },
            "baxis": {
             "endlinecolor": "#2a3f5f",
             "gridcolor": "#C8D4E3",
             "linecolor": "#C8D4E3",
             "minorgridcolor": "#C8D4E3",
             "startlinecolor": "#2a3f5f"
            },
            "type": "carpet"
           }
          ],
          "choropleth": [
           {
            "colorbar": {
             "outlinewidth": 0,
             "ticks": ""
            },
            "type": "choropleth"
           }
          ],
          "contour": [
           {
            "colorbar": {
             "outlinewidth": 0,
             "ticks": ""
            },
            "colorscale": [
             [
              0,
              "#0d0887"
             ],
             [
              0.1111111111111111,
              "#46039f"
             ],
             [
              0.2222222222222222,
              "#7201a8"
             ],
             [
              0.3333333333333333,
              "#9c179e"
             ],
             [
              0.4444444444444444,
              "#bd3786"
             ],
             [
              0.5555555555555556,
              "#d8576b"
             ],
             [
              0.6666666666666666,
              "#ed7953"
             ],
             [
              0.7777777777777778,
              "#fb9f3a"
             ],
             [
              0.8888888888888888,
              "#fdca26"
             ],
             [
              1,
              "#f0f921"
             ]
            ],
            "type": "contour"
           }
          ],
          "contourcarpet": [
           {
            "colorbar": {
             "outlinewidth": 0,
             "ticks": ""
            },
            "type": "contourcarpet"
           }
          ],
          "heatmap": [
           {
            "colorbar": {
             "outlinewidth": 0,
             "ticks": ""
            },
            "colorscale": [
             [
              0,
              "#0d0887"
             ],
             [
              0.1111111111111111,
              "#46039f"
             ],
             [
              0.2222222222222222,
              "#7201a8"
             ],
             [
              0.3333333333333333,
              "#9c179e"
             ],
             [
              0.4444444444444444,
              "#bd3786"
             ],
             [
              0.5555555555555556,
              "#d8576b"
             ],
             [
              0.6666666666666666,
              "#ed7953"
             ],
             [
              0.7777777777777778,
              "#fb9f3a"
             ],
             [
              0.8888888888888888,
              "#fdca26"
             ],
             [
              1,
              "#f0f921"
             ]
            ],
            "type": "heatmap"
           }
          ],
          "heatmapgl": [
           {
            "colorbar": {
             "outlinewidth": 0,
             "ticks": ""
            },
            "colorscale": [
             [
              0,
              "#0d0887"
             ],
             [
              0.1111111111111111,
              "#46039f"
             ],
             [
              0.2222222222222222,
              "#7201a8"
             ],
             [
              0.3333333333333333,
              "#9c179e"
             ],
             [
              0.4444444444444444,
              "#bd3786"
             ],
             [
              0.5555555555555556,
              "#d8576b"
             ],
             [
              0.6666666666666666,
              "#ed7953"
             ],
             [
              0.7777777777777778,
              "#fb9f3a"
             ],
             [
              0.8888888888888888,
              "#fdca26"
             ],
             [
              1,
              "#f0f921"
             ]
            ],
            "type": "heatmapgl"
           }
          ],
          "histogram": [
           {
            "marker": {
             "pattern": {
              "fillmode": "overlay",
              "size": 10,
              "solidity": 0.2
             }
            },
            "type": "histogram"
           }
          ],
          "histogram2d": [
           {
            "colorbar": {
             "outlinewidth": 0,
             "ticks": ""
            },
            "colorscale": [
             [
              0,
              "#0d0887"
             ],
             [
              0.1111111111111111,
              "#46039f"
             ],
             [
              0.2222222222222222,
              "#7201a8"
             ],
             [
              0.3333333333333333,
              "#9c179e"
             ],
             [
              0.4444444444444444,
              "#bd3786"
             ],
             [
              0.5555555555555556,
              "#d8576b"
             ],
             [
              0.6666666666666666,
              "#ed7953"
             ],
             [
              0.7777777777777778,
              "#fb9f3a"
             ],
             [
              0.8888888888888888,
              "#fdca26"
             ],
             [
              1,
              "#f0f921"
             ]
            ],
            "type": "histogram2d"
           }
          ],
          "histogram2dcontour": [
           {
            "colorbar": {
             "outlinewidth": 0,
             "ticks": ""
            },
            "colorscale": [
             [
              0,
              "#0d0887"
             ],
             [
              0.1111111111111111,
              "#46039f"
             ],
             [
              0.2222222222222222,
              "#7201a8"
             ],
             [
              0.3333333333333333,
              "#9c179e"
             ],
             [
              0.4444444444444444,
              "#bd3786"
             ],
             [
              0.5555555555555556,
              "#d8576b"
             ],
             [
              0.6666666666666666,
              "#ed7953"
             ],
             [
              0.7777777777777778,
              "#fb9f3a"
             ],
             [
              0.8888888888888888,
              "#fdca26"
             ],
             [
              1,
              "#f0f921"
             ]
            ],
            "type": "histogram2dcontour"
           }
          ],
          "mesh3d": [
           {
            "colorbar": {
             "outlinewidth": 0,
             "ticks": ""
            },
            "type": "mesh3d"
           }
          ],
          "parcoords": [
           {
            "line": {
             "colorbar": {
              "outlinewidth": 0,
              "ticks": ""
             }
            },
            "type": "parcoords"
           }
          ],
          "pie": [
           {
            "automargin": true,
            "type": "pie"
           }
          ],
          "scatter": [
           {
            "fillpattern": {
             "fillmode": "overlay",
             "size": 10,
             "solidity": 0.2
            },
            "type": "scatter"
           }
          ],
          "scatter3d": [
           {
            "line": {
             "colorbar": {
              "outlinewidth": 0,
              "ticks": ""
             }
            },
            "marker": {
             "colorbar": {
              "outlinewidth": 0,
              "ticks": ""
             }
            },
            "type": "scatter3d"
           }
          ],
          "scattercarpet": [
           {
            "marker": {
             "colorbar": {
              "outlinewidth": 0,
              "ticks": ""
             }
            },
            "type": "scattercarpet"
           }
          ],
          "scattergeo": [
           {
            "marker": {
             "colorbar": {
              "outlinewidth": 0,
              "ticks": ""
             }
            },
            "type": "scattergeo"
           }
          ],
          "scattergl": [
           {
            "marker": {
             "colorbar": {
              "outlinewidth": 0,
              "ticks": ""
             }
            },
            "type": "scattergl"
           }
          ],
          "scattermapbox": [
           {
            "marker": {
             "colorbar": {
              "outlinewidth": 0,
              "ticks": ""
             }
            },
            "type": "scattermapbox"
           }
          ],
          "scatterpolar": [
           {
            "marker": {
             "colorbar": {
              "outlinewidth": 0,
              "ticks": ""
             }
            },
            "type": "scatterpolar"
           }
          ],
          "scatterpolargl": [
           {
            "marker": {
             "colorbar": {
              "outlinewidth": 0,
              "ticks": ""
             }
            },
            "type": "scatterpolargl"
           }
          ],
          "scatterternary": [
           {
            "marker": {
             "colorbar": {
              "outlinewidth": 0,
              "ticks": ""
             }
            },
            "type": "scatterternary"
           }
          ],
          "surface": [
           {
            "colorbar": {
             "outlinewidth": 0,
             "ticks": ""
            },
            "colorscale": [
             [
              0,
              "#0d0887"
             ],
             [
              0.1111111111111111,
              "#46039f"
             ],
             [
              0.2222222222222222,
              "#7201a8"
             ],
             [
              0.3333333333333333,
              "#9c179e"
             ],
             [
              0.4444444444444444,
              "#bd3786"
             ],
             [
              0.5555555555555556,
              "#d8576b"
             ],
             [
              0.6666666666666666,
              "#ed7953"
             ],
             [
              0.7777777777777778,
              "#fb9f3a"
             ],
             [
              0.8888888888888888,
              "#fdca26"
             ],
             [
              1,
              "#f0f921"
             ]
            ],
            "type": "surface"
           }
          ],
          "table": [
           {
            "cells": {
             "fill": {
              "color": "#EBF0F8"
             },
             "line": {
              "color": "white"
             }
            },
            "header": {
             "fill": {
              "color": "#C8D4E3"
             },
             "line": {
              "color": "white"
             }
            },
            "type": "table"
           }
          ]
         },
         "layout": {
          "annotationdefaults": {
           "arrowcolor": "#2a3f5f",
           "arrowhead": 0,
           "arrowwidth": 1
          },
          "autotypenumbers": "strict",
          "coloraxis": {
           "colorbar": {
            "outlinewidth": 0,
            "ticks": ""
           }
          },
          "colorscale": {
           "diverging": [
            [
             0,
             "#8e0152"
            ],
            [
             0.1,
             "#c51b7d"
            ],
            [
             0.2,
             "#de77ae"
            ],
            [
             0.3,
             "#f1b6da"
            ],
            [
             0.4,
             "#fde0ef"
            ],
            [
             0.5,
             "#f7f7f7"
            ],
            [
             0.6,
             "#e6f5d0"
            ],
            [
             0.7,
             "#b8e186"
            ],
            [
             0.8,
             "#7fbc41"
            ],
            [
             0.9,
             "#4d9221"
            ],
            [
             1,
             "#276419"
            ]
           ],
           "sequential": [
            [
             0,
             "#0d0887"
            ],
            [
             0.1111111111111111,
             "#46039f"
            ],
            [
             0.2222222222222222,
             "#7201a8"
            ],
            [
             0.3333333333333333,
             "#9c179e"
            ],
            [
             0.4444444444444444,
             "#bd3786"
            ],
            [
             0.5555555555555556,
             "#d8576b"
            ],
            [
             0.6666666666666666,
             "#ed7953"
            ],
            [
             0.7777777777777778,
             "#fb9f3a"
            ],
            [
             0.8888888888888888,
             "#fdca26"
            ],
            [
             1,
             "#f0f921"
            ]
           ],
           "sequentialminus": [
            [
             0,
             "#0d0887"
            ],
            [
             0.1111111111111111,
             "#46039f"
            ],
            [
             0.2222222222222222,
             "#7201a8"
            ],
            [
             0.3333333333333333,
             "#9c179e"
            ],
            [
             0.4444444444444444,
             "#bd3786"
            ],
            [
             0.5555555555555556,
             "#d8576b"
            ],
            [
             0.6666666666666666,
             "#ed7953"
            ],
            [
             0.7777777777777778,
             "#fb9f3a"
            ],
            [
             0.8888888888888888,
             "#fdca26"
            ],
            [
             1,
             "#f0f921"
            ]
           ]
          },
          "colorway": [
           "#636efa",
           "#EF553B",
           "#00cc96",
           "#ab63fa",
           "#FFA15A",
           "#19d3f3",
           "#FF6692",
           "#B6E880",
           "#FF97FF",
           "#FECB52"
          ],
          "font": {
           "color": "#2a3f5f"
          },
          "geo": {
           "bgcolor": "white",
           "lakecolor": "white",
           "landcolor": "white",
           "showlakes": true,
           "showland": true,
           "subunitcolor": "#C8D4E3"
          },
          "hoverlabel": {
           "align": "left"
          },
          "hovermode": "closest",
          "mapbox": {
           "style": "light"
          },
          "paper_bgcolor": "white",
          "plot_bgcolor": "white",
          "polar": {
           "angularaxis": {
            "gridcolor": "#EBF0F8",
            "linecolor": "#EBF0F8",
            "ticks": ""
           },
           "bgcolor": "white",
           "radialaxis": {
            "gridcolor": "#EBF0F8",
            "linecolor": "#EBF0F8",
            "ticks": ""
           }
          },
          "scene": {
           "xaxis": {
            "backgroundcolor": "white",
            "gridcolor": "#DFE8F3",
            "gridwidth": 2,
            "linecolor": "#EBF0F8",
            "showbackground": true,
            "ticks": "",
            "zerolinecolor": "#EBF0F8"
           },
           "yaxis": {
            "backgroundcolor": "white",
            "gridcolor": "#DFE8F3",
            "gridwidth": 2,
            "linecolor": "#EBF0F8",
            "showbackground": true,
            "ticks": "",
            "zerolinecolor": "#EBF0F8"
           },
           "zaxis": {
            "backgroundcolor": "white",
            "gridcolor": "#DFE8F3",
            "gridwidth": 2,
            "linecolor": "#EBF0F8",
            "showbackground": true,
            "ticks": "",
            "zerolinecolor": "#EBF0F8"
           }
          },
          "shapedefaults": {
           "line": {
            "color": "#2a3f5f"
           }
          },
          "ternary": {
           "aaxis": {
            "gridcolor": "#DFE8F3",
            "linecolor": "#A2B1C6",
            "ticks": ""
           },
           "baxis": {
            "gridcolor": "#DFE8F3",
            "linecolor": "#A2B1C6",
            "ticks": ""
           },
           "bgcolor": "white",
           "caxis": {
            "gridcolor": "#DFE8F3",
            "linecolor": "#A2B1C6",
            "ticks": ""
           }
          },
          "title": {
           "x": 0.05
          },
          "xaxis": {
           "automargin": true,
           "gridcolor": "#EBF0F8",
           "linecolor": "#EBF0F8",
           "ticks": "",
           "title": {
            "standoff": 15
           },
           "zerolinecolor": "#EBF0F8",
           "zerolinewidth": 2
          },
          "yaxis": {
           "automargin": true,
           "gridcolor": "#EBF0F8",
           "linecolor": "#EBF0F8",
           "ticks": "",
           "title": {
            "standoff": 15
           },
           "zerolinecolor": "#EBF0F8",
           "zerolinewidth": 2
          }
         }
        },
        "xaxis": {
         "anchor": "y",
         "domain": [
          0,
          1
         ],
         "title": {
          "text": "Number of albums in top 500"
         }
        },
        "yaxis": {
         "anchor": "x",
         "domain": [
          0,
          1
         ],
         "title": {
          "text": "Amount in collection"
         }
        }
       }
      }
     },
     "metadata": {},
     "output_type": "display_data"
    }
   ],
   "source": [
    "albums_df['Have'] = albums_df['Have'].cumsum()\n",
    "albums_df = albums_df[albums_df['Have'].notnull()]\n",
    "fig = px.line(albums_df, x='#', y='Have', template='plotly_white',\n",
    "              labels={\n",
    "                     \"#\": \"Number of albums in top 500\",\n",
    "                     \"Have\": \"Amount in collection\",\n",
    "                 },)\n",
    "fig.update_layout(margin={'t':10,'l':0,'b':0,'r':10}, showlegend=False)\n",
    "fig.show()"
   ]
  }
 ],
 "metadata": {
  "kernelspec": {
   "display_name": "Python 3 (ipykernel)",
   "language": "python",
   "name": "python3"
  },
  "language_info": {
   "codemirror_mode": {
    "name": "ipython",
    "version": 3
   },
   "file_extension": ".py",
   "mimetype": "text/x-python",
   "name": "python",
   "nbconvert_exporter": "python",
   "pygments_lexer": "ipython3",
   "version": "3.12.3"
  },
  "widgets": {
   "application/vnd.jupyter.widget-state+json": {
    "state": {},
    "version_major": 2,
    "version_minor": 0
   }
  }
 },
 "nbformat": 4,
 "nbformat_minor": 4
}