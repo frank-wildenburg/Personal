{
 "cells": [
  {
   "cell_type": "markdown",
   "metadata": {},
   "source": [
    "# Travel\n",
    "\n",
    "(Last updated: May 29, 2024)\n",
    "\n",
    "After traveling to various cultural sites for some years, I found a rule of thumb for finding good spots to visit: check if something is a UNESCO World Heritage site. Sometimes this leads to obvious suggestions (Vatican City, Paris, Amsterdam) but more often than not visiting such sites has shown me sites that are very much worth visiting but not as touristy as the usual sites (e.g., Bologna, Orange, Albi).\n",
    "\n",
    "At first, my enthousiasm led to the dream of visiting all world heritage sites in Europe, but this dream soon showed to be too ambitious. All EU countries then? Still quite a lot. Some narrowing down brought me to the following goal: visit all world heritage sites in the continental part of the original member states of the European Union. Achievable, but also ambitious, with Germany, France and Italy as the biggest obstacles. Since then, I've been using this as a heuristic in planning vacations.\n",
    "\n",
    "(Of course, I still travel outside of these guidelines as well. Occasionally this leads to another world heritage site, and these are also included in the below map)\n",
    "\n"
   ]
  },
  {
   "cell_type": "code",
   "execution_count": 9,
   "metadata": {
    "tags": [
     "remove-input"
    ]
   },
   "outputs": [
    {
     "data": {
      "application/vnd.plotly.v1+json": {
       "config": {
        "plotlyServerURL": "https://plot.ly"
       },
       "data": [
        {
         "customdata": [
          [
           47.80055556,
           13.04333333
          ],
          [
           48.18666667,
           16.31333333
          ],
          [
           48.36444444,
           15.43416667
          ],
          [
           48.2094,
           16.3699
          ],
          [
           50.84668,
           4.35242
          ],
          [
           51.20891,
           3.22527
          ],
          [
           51.21833,
           4.39778
          ],
          [
           50.08972,
           14.41944
          ],
          [
           49.95,
           15.2666666667
          ],
          [
           59.43333,
           24.73333333
          ],
          [
           60.14722,
           24.98722
          ],
          [
           48.805,
           2.119444444
          ],
          [
           49.895,
           2.301666667
          ],
          [
           44.13572222,
           4.808416667
          ],
          [
           43.67763889,
           4.630694444
          ],
          [
           43.95277778,
           4.806111111
          ],
          [
           43.94722222,
           4.535277778
          ],
          [
           43.2070631,
           2.3636562
          ],
          [
           48.8655,
           2.3211388889
          ],
          [
           43.61138889,
           1.416388889
          ],
          [
           45.18405556,
           0.722944444
          ],
          [
           43.9283333333,
           2.1425
          ],
          [
           43.8382222222,
           4.3561111111
          ],
          [
           50.77444444,
           6.084444444
          ],
          [
           50.94111111,
           6.957222222
          ],
          [
           52.51972222,
           13.39861111
          ],
          [
           41.90216,
           12.45736
          ],
          [
           47.48242,
           19.07067
          ],
          [
           45.466,
           9.171
          ],
          [
           43.77306,
           11.25611
          ],
          [
           45.43430556,
           12.33894444
          ],
          [
           45.54916667,
           11.54944444
          ],
          [
           45.43861111,
           10.99388889
          ],
          [
           40.75,
           14.48333333
          ],
          [
           44.4913888889,
           11.3327777778
          ],
          [
           56.95417,
           24.11667
          ],
          [
           52.555,
           4.7913888889
          ],
          [
           52.0853333333,
           5.1475555556
          ],
          [
           52.365,
           4.8877777778
          ],
          [
           38.69194,
           -9.21583
          ],
          [
           38.78333,
           -9.41667
          ],
          [
           41.14166667,
           -8.616666667
          ],
          [
           51.499,
           -0.127
          ],
          [
           51.50805556,
           -0.076111111
          ],
          [
           48.1151944444,
           16.8613888889
          ],
          [
           50.17444,
           3.23139
          ],
          [
           52.1803333333,
           4.433
          ],
          [
           54.9926111111,
           -2.601
          ],
          [
           41.89022222,
           12.49230556
          ]
         ],
         "hovertemplate": "<b>%{hovertext}</b><br><br>Visited=True<extra></extra>",
         "hovertext": [
          "Historic Centre of the City of Salzburg",
          "Palace and Gardens of Schönbrunn",
          "Wachau Cultural Landscape",
          "Historic Centre of Vienna",
          "La Grand-Place, Brussels",
          "Historic Centre of Brugge",
          "Plantin-Moretus House-Workshops-Museum Complex",
          "Historic Centre of Prague",
          "Kutná Hora: Historical Town Centre with the Church of St Barbara and the Cathedral of Our Lady at Sedlec",
          "Historic Centre (Old Town) of Tallinn",
          "Fortress of Suomenlinna",
          "Palace and Park of Versailles",
          "Amiens Cathedral",
          "Roman Theatre and its Surroundings and the \"Triumphal Arch\" of Orange",
          "Arles, Roman and Romanesque Monuments",
          "Historic Centre of Avignon: Papal Palace, Episcopal Ensemble and Avignon Bridge",
          "Pont du Gard (Roman Aqueduct)",
          "Historic Fortified City of Carcassonne",
          "Paris, Banks of the Seine",
          "Canal du Midi",
          "Routes of Santiago de Compostela in France",
          "Episcopal City of Albi",
          "The Maison Carrée of Nîmes",
          "Aachen Cathedral ",
          "Cologne Cathedral",
          "Museumsinsel (Museum Island), Berlin",
          "Vatican City",
          "Budapest, including the Banks of the Danube, the Buda Castle Quarter and Andrássy Avenue",
          "Church and Dominican Convent of Santa Maria delle Grazie with “The Last Supper” by Leonardo da Vinci",
          "Historic Centre of Florence",
          "Venice and its Lagoon",
          "City of Vicenza and the Palladian Villas of the Veneto",
          "City of Verona",
          "Archaeological Areas of Pompei, Herculaneum and Torre Annunziata",
          "The Porticoes of Bologna",
          "Historic Centre of Riga",
          "Dutch Water Defence Lines",
          "Rietveld Schröderhuis (Rietveld Schröder House)",
          "Seventeenth-Century Canal Ring Area of Amsterdam inside the Singelgracht",
          "Monastery of the Hieronymites and Tower of Belém in Lisbon",
          "Cultural Landscape of Sintra",
          "Historic Centre of Oporto, Luiz I Bridge and Monastery of Serra do Pilar ",
          "Palace of Westminster and Westminster Abbey including Saint Margaret’s Church",
          "Tower of London",
          "Frontiers of the Roman Empire – The Danube Limes (Western Segment)",
          "Belfries of Belgium and France",
          "Frontiers of the Roman Empire – The Lower German Limes",
          "Frontiers of the Roman Empire",
          "Historic Centre of Rome, the Properties of the Holy See in that City Enjoying Extraterritorial Rights and San Paolo Fuori le Mura"
         ],
         "lat": [
          47.80055556,
          48.18666667,
          48.36444444,
          48.2094,
          50.84668,
          51.20891,
          51.21833,
          50.08972,
          49.95,
          59.43333,
          60.14722,
          48.805,
          49.895,
          44.13572222,
          43.67763889,
          43.95277778,
          43.94722222,
          43.2070631,
          48.8655,
          43.61138889,
          45.18405556,
          43.9283333333,
          43.8382222222,
          50.77444444,
          50.94111111,
          52.51972222,
          41.90216,
          47.48242,
          45.466,
          43.77306,
          45.43430556,
          45.54916667,
          45.43861111,
          40.75,
          44.4913888889,
          56.95417,
          52.555,
          52.0853333333,
          52.365,
          38.69194,
          38.78333,
          41.14166667,
          51.499,
          51.50805556,
          48.1151944444,
          50.17444,
          52.1803333333,
          54.9926111111,
          41.89022222
         ],
         "legendgroup": "True",
         "lon": [
          13.04333333,
          16.31333333,
          15.43416667,
          16.3699,
          4.35242,
          3.22527,
          4.39778,
          14.41944,
          15.2666666667,
          24.73333333,
          24.98722,
          2.119444444,
          2.301666667,
          4.808416667,
          4.630694444,
          4.806111111,
          4.535277778,
          2.3636562,
          2.3211388889,
          1.416388889,
          0.722944444,
          2.1425,
          4.3561111111,
          6.084444444,
          6.957222222,
          13.39861111,
          12.45736,
          19.07067,
          9.171,
          11.25611,
          12.33894444,
          11.54944444,
          10.99388889,
          14.48333333,
          11.3327777778,
          24.11667,
          4.7913888889,
          5.1475555556,
          4.8877777778,
          -9.21583,
          -9.41667,
          -8.616666667,
          -0.127,
          -0.076111111,
          16.8613888889,
          3.23139,
          4.433,
          -2.601,
          12.49230556
         ],
         "marker": {
          "color": "#636efa"
         },
         "mode": "markers",
         "name": "True",
         "showlegend": true,
         "subplot": "mapbox",
         "type": "scattermapbox"
        },
        {
         "customdata": [
          [
           51.03097222,
           4.47375
          ],
          [
           50.48111,
           4.13722
          ],
          [
           50.82806,
           4.36223
          ],
          [
           50.43077,
           3.97879
          ],
          [
           50.60603,
           3.38926
          ],
          [
           50.835,
           4.4161111111
          ],
          [
           50.4352777778,
           3.8383333333
          ],
          [
           48.63556,
           -1.51056
          ],
          [
           48.4475,
           1.487222222
          ],
          [
           47.46638889,
           3.748333333
          ],
          [
           45.0575,
           1.17
          ],
          [
           48.40194444,
           2.698055556
          ],
          [
           47.63944,
           4.38911
          ],
          [
           46.9375,
           5.8763888889
          ],
          [
           48.69361111,
           6.183333333
          ],
          [
           46.56472,
           0.86611
          ],
          [
           42.32519444,
           8.628833333
          ],
          [
           48.5844444444,
           7.7488888889
          ],
          [
           49.25333333,
           4.032777778
          ],
          [
           47.08222222,
           2.398333333
          ],
          [
           45.76722,
           4.83333
          ],
          [
           48.55972222,
           3.298888889
          ],
          [
           44.89472222,
           -0.1552777778
          ],
          [
           47.39889,
           0.70278
          ],
          [
           44.2202777778,
           3.4730555556
          ],
          [
           49.49278,
           0.1075
          ],
          [
           44.8388888889,
           -0.5722222222
          ],
          [
           47.2361111111,
           6.0269444444
          ],
          [
           50.4625,
           3.5461111111
          ],
          [
           47.0580555556,
           4.8644444444
          ],
          [
           44.3875,
           4.4161111111
          ],
          [
           45.7793888889,
           2.9651111111
          ],
          [
           49.0775,
           3.9461111111
          ],
          [
           45.5863055556,
           -1.1733333333
          ],
          [
           43.7016944444,
           7.2723055556
          ],
          [
           49.3172222222,
           8.4423888889
          ],
          [
           49.79278,
           9.93889
          ],
          [
           52.15278,
           9.94389
          ],
          [
           47.68127778,
           10.90013889
          ],
          [
           53.86667,
           10.69167
          ],
          [
           50.82502778,
           6.909777778
          ],
          [
           49.75,
           6.633333333
          ],
          [
           49.65369,
           8.56858
          ],
          [
           52.4,
           13.03333333
          ],
          [
           51.8425,
           12.42083
          ],
          [
           51.78333,
           11.15
          ],
          [
           49.00083,
           8.81306
          ],
          [
           51.82,
           10.34
          ],
          [
           49.89166667,
           10.88888889
          ],
          [
           49.2487222222,
           6.8442222222
          ],
          [
           49.918,
           8.757
          ],
          [
           50.9747777778,
           11.3295
          ],
          [
           51.86472,
           12.65278
          ],
          [
           50.9775,
           11.32861
          ],
          [
           50.96677778,
           10.307
          ],
          [
           47.69872222,
           9.061305556
          ],
          [
           51.49138889,
           7.046111111
          ],
          [
           50.17361111,
           7.694166667
          ],
          [
           54.3025,
           13.08527778
          ],
          [
           53.07597222,
           8.807472222
          ],
          [
           49.02055556,
           12.09916667
          ],
          [
           52.4483333333,
           13.45
          ],
          [
           51.9838888889,
           9.8122222222
          ],
          [
           49.944,
           11.579
          ],
          [
           51.3158333333,
           9.3930555556
          ],
          [
           51.7782777778,
           9.41025
          ],
          [
           53.5455555556,
           9.9994444444
          ],
          [
           51.1548055556,
           11.804
          ],
          [
           48.3877777778,
           9.7655555556
          ],
          [
           54.4619444444,
           9.4541111111
          ],
          [
           48.3654722222,
           10.902
          ],
          [
           49.8763888889,
           8.6675
          ],
          [
           49.3162111111,
           8.4395388889
          ],
          [
           50.9786638889,
           11.0292333333
          ],
          [
           45.95705556,
           10.29733333
          ],
          [
           43.8577777778,
           11.3041666667
          ],
          [
           43.72305556,
           10.39638889
          ],
          [
           41.08480556,
           16.27094444
          ],
          [
           41.07333,
           14.32639
          ],
          [
           43.46806,
           11.04167
          ],
          [
           40.66638889,
           16.61027778
          ],
          [
           43.31861111,
           11.33166667
          ],
          [
           40.85138889,
           14.26277778
          ],
          [
           45.59333,
           9.53833
          ],
          [
           44.83777778,
           11.61944444
          ],
          [
           40.7825,
           17.23694
          ],
          [
           44.42041667,
           12.19625
          ],
          [
           43.07694444,
           11.67861111
          ],
          [
           45.07253,
           7.68572
          ],
          [
           45.39911111,
           11.88066667
          ],
          [
           45.76833333,
           13.3675
          ],
          [
           44.10694,
           9.72917
          ],
          [
           44.64624,
           10.92568
          ],
          [
           43.725,
           12.63333
          ],
          [
           40.6333333333,
           14.6027777778
          ],
          [
           37.28972222,
           13.59333333
          ],
          [
           37.36611,
           14.33417
          ],
          [
           39.70583333,
           8.991388889
          ],
          [
           40.28333333,
           15.26666667
          ],
          [
           41.94416667,
           12.77197222
          ],
          [
           38.48786111,
           14.94558333
          ],
          [
           43.06616667,
           12.62244444
          ],
          [
           36.89319444,
           15.06891667
          ],
          [
           41.96391667,
           12.79625
          ],
          [
           43.06666667,
           11.55
          ],
          [
           45.97455556,
           9.169555556
          ],
          [
           42.00683333,
           12.10188889
          ],
          [
           37.05944,
           15.29306
          ],
          [
           44.4122222222,
           8.9311111111
          ],
          [
           46.6130555556,
           12.1630555556
          ],
          [
           45.1594444444,
           10.7944444444
          ],
          [
           46.0941666667,
           13.4330555556
          ],
          [
           44.6086111111,
           7.9636111111
          ],
          [
           37.7561111111,
           14.9966666667
          ],
          [
           38.1108333333,
           13.3530555556
          ],
          [
           45.4575,
           7.8691666667
          ],
          [
           45.9530277778,
           12.2261111111
          ],
          [
           45.4118888889,
           11.8796111111
          ],
          [
           44.3799444444,
           10.3889166667
          ],
          [
           49.61,
           6.13333
          ],
          [
           52.63861111,
           5.771666667
          ],
          [
           51.8825,
           4.649444444
          ],
          [
           52.84583,
           5.67889
          ],
          [
           52.54888889,
           4.911111111
          ],
          [
           51.9244444444,
           4.4325
          ],
          [
           53.187375,
           5.5437527778
          ],
          [
           48.9,
           22.1833333333
          ],
          [
           46.4684138889,
           6.8293361111
          ],
          [
           50.4922222222,
           5.8669444444
          ],
          [
           47.2783333333,
           8.2075
          ],
          [
           null,
           null
          ],
          [
           53.0422222222,
           6.3915888889
          ],
          [
           45.7033333333,
           9.6636111111
          ],
          [
           50.4065277778,
           12.8373444444
          ],
          [
           53.5286111111,
           8.5561111111
          ],
          [
           42.68542,
           -0.0005
          ]
         ],
         "hovertemplate": "<b>%{hovertext}</b><br><br>Visited=False<extra></extra>",
         "hovertext": [
          "Flemish Béguinages",
          "The Four Lifts on the Canal du Centre and their Environs, La Louvière and Le Roeulx (Hainaut)",
          "Major Town Houses of the Architect Victor Horta (Brussels)",
          "Neolithic Flint Mines at Spiennes (Mons)",
          "Notre-Dame Cathedral in Tournai",
          "Stoclet House",
          "Major Mining Sites of Wallonia",
          "Mont-Saint-Michel and its Bay",
          "Chartres Cathedral",
          "Vézelay, Church and Hill",
          "Prehistoric Sites and Decorated Caves of the Vézère Valley",
          "Palace and Park of Fontainebleau",
          "Cistercian Abbey of Fontenay",
          "From the Great Saltworks of Salins-les-Bains to the Royal Saltworks of Arc-et-Senans, the Production of Open-pan Salt ",
          "Place Stanislas, Place de la Carrière and Place d'Alliance in Nancy",
          "Abbey Church of Saint-Savin sur Gartempe",
          "Gulf of Porto: Calanche of Piana, Gulf of Girolata, Scandola Reserve",
          "Strasbourg, Grande-Île and <em>Neustadt</em>",
          "Cathedral of Notre-Dame, Former Abbey of Saint-Rémi and Palace of Tau, Reims",
          "Bourges Cathedral",
          "Historic Site of Lyon",
          "Provins, Town of Medieval Fairs",
          "Jurisdiction of Saint-Emilion",
          "The Loire Valley between Sully-sur-Loire and Chalonnes",
          "The Causses and the Cévennes, Mediterranean agro-pastoral Cultural Landscape",
          "Le Havre, the City Rebuilt by Auguste Perret",
          "Bordeaux, Port of the Moon",
          "Fortifications of Vauban",
          "Nord-Pas de Calais Mining Basin",
          "The Climats, terroirs of Burgundy",
          "Decorated Cave of Pont d’Arc, known as Grotte Chauvet-Pont d’Arc, Ardèche",
          "Chaîne des Puys - Limagne fault tectonic arena",
          "Champagne Hillsides, Houses and Cellars",
          "Cordouan Lighthouse",
          "Nice, Winter Resort Town of the Riviera",
          "Speyer Cathedral",
          "Würzburg Residence with the Court Gardens and Residence Square",
          "St Mary's Cathedral and St Michael's Church at Hildesheim",
          "Pilgrimage Church of Wies",
          "Hanseatic City of Lübeck",
          "Castles of Augustusburg and Falkenlust at Brühl",
          "Roman Monuments, Cathedral of St Peter and Church of Our Lady in Trier",
          "Abbey and Altenmünster of Lorsch",
          "Palaces and Parks of Potsdam and Berlin",
          "Garden Kingdom of Dessau-Wörlitz",
          "Collegiate Church, Castle and Old Town of Quedlinburg",
          "Maulbronn Monastery Complex",
          "Mines of Rammelsberg, Historic Town of Goslar and Upper Harz Water Management  System",
          "Town of Bamberg",
          "Völklingen Ironworks",
          "Messel Pit Fossil Site",
          "Bauhaus and its Sites in Weimar, Dessau and Bernau",
          "Luther Memorials in Eisleben and Wittenberg",
          "Classical Weimar",
          "Wartburg Castle",
          "Monastic Island of Reichenau",
          "Zollverein Coal Mine Industrial Complex in Essen",
          "Upper Middle Rhine Valley",
          "Historic Centres of Stralsund and Wismar",
          "Town Hall and Roland on the Marketplace of Bremen",
          "Old town of Regensburg with Stadtamhof",
          "Berlin Modernism Housing Estates",
          "Fagus Factory in Alfeld",
          "Margravial Opera House Bayreuth",
          "Bergpark Wilhelmshöhe",
          "Carolingian Westwork and Civitas Corvey",
          "Speicherstadt and Kontorhaus District with Chilehaus",
          "Naumburg Cathedral",
          "Caves and Ice Age Art in the Swabian Jura",
          "Archaeological Border complex of Hedeby and the Danevirke",
          "Water Management System of Augsburg",
          "Mathildenhöhe Darmstadt",
          "ShUM Sites of Speyer, Worms and Mainz",
          "Jewish-Medieval Heritage of Erfurt",
          "Rock Drawings in Valcamonica",
          "Medici Villas and Gardens in Tuscany",
          "Piazza del Duomo, Pisa",
          "Castel del Monte",
          "18th-Century Royal Palace at Caserta with the Park, the Aqueduct of Vanvitelli, and the San Leucio Complex",
          "Historic Centre of San Gimignano",
          "The Sassi and the Park of the Rupestrian Churches of Matera",
          "Historic Centre of Siena",
          "Historic Centre of Naples",
          "Crespi d'Adda",
          "Ferrara, City of the Renaissance, and its Po Delta",
          "The <I>Trulli</I> of Alberobello",
          "Early Christian Monuments of Ravenna",
          "Historic Centre of the City of Pienza",
          "Residences of the Royal House of Savoy",
          "Botanical Garden (Orto Botanico), Padua",
          "Archaeological Area and the Patriarchal Basilica of Aquileia",
          "Portovenere, Cinque Terre, and the Islands (Palmaria, Tino and Tinetto)",
          "Cathedral, Torre Civica and Piazza Grande, Modena",
          "Historic Centre of Urbino",
          "Costiera Amalfitana",
          "Archaeological Area of Agrigento",
          "Villa Romana del Casale",
          "Su Nuraxi di Barumini",
          "Cilento and Vallo di Diano National Park with the Archeological Sites of Paestum and Velia, and the Certosa di Padula",
          "Villa Adriana (Tivoli)",
          "Isole Eolie (Aeolian Islands)",
          "Assisi, the Basilica of San Francesco and Other Franciscan Sites",
          "Late Baroque Towns of the Val di Noto (South-Eastern Sicily)",
          "Villa d'Este, Tivoli",
          "Val d'Orcia",
          "<I>Sacri Monti</I> of Piedmont and Lombardy",
          "Etruscan Necropolises of Cerveteri and Tarquinia",
          "Syracuse and the Rocky Necropolis of Pantalica",
          "Genoa: <i>Le Strade Nuove</i> and the system of the<i> Palazzi dei Rolli</i>",
          "The Dolomites",
          "Mantua and Sabbioneta",
          "Longobards in Italy. Places of the Power (568-774 A.D.)",
          "Vineyard Landscape of Piedmont: Langhe-Roero and Monferrato",
          "Mount Etna",
          "Arab-Norman Palermo and the Cathedral Churches of Cefalú and Monreale",
          "Ivrea, industrial city of the 20th century",
          "Le Colline del Prosecco di Conegliano e Valdobbiadene",
          "Padua’s fourteenth-century fresco cycles",
          "Evaporitic Karst and Caves of Northern Apennines",
          "City of Luxembourg: its Old Quarters and Fortifications",
          "Schokland and Surroundings",
          "Mill Network at Kinderdijk-Elshout",
          "Ir.D.F. Woudagemaal (D.F. Wouda Steam Pumping Station)",
          "Droogmakerij de Beemster (Beemster Polder)",
          "Van Nellefabriek",
          "Eisinga Planetarium in Franeker",
          "Ancient and Primeval Beech Forests of the Carpathians and Other Regions of Europe",
          "The Architectural Work of Le Corbusier, an Outstanding Contribution to the Modern Movement",
          "The Great Spa Towns of Europe",
          "Prehistoric Pile Dwellings around the Alps",
          "Funerary and memory sites of the First World War (Western Front)",
          "Colonies of Benevolence",
          "Venetian Works of Defence between the 16th and 17th Centuries: <em>Stato da Terra</em> – Western <em>Stato da Mar</em>",
          "Erzgebirge/Krušnohoří Mining Region",
          "Wadden Sea",
          "Pyrénées - Mont Perdu"
         ],
         "lat": [
          51.03097222,
          50.48111,
          50.82806,
          50.43077,
          50.60603,
          50.835,
          50.4352777778,
          48.63556,
          48.4475,
          47.46638889,
          45.0575,
          48.40194444,
          47.63944,
          46.9375,
          48.69361111,
          46.56472,
          42.32519444,
          48.5844444444,
          49.25333333,
          47.08222222,
          45.76722,
          48.55972222,
          44.89472222,
          47.39889,
          44.2202777778,
          49.49278,
          44.8388888889,
          47.2361111111,
          50.4625,
          47.0580555556,
          44.3875,
          45.7793888889,
          49.0775,
          45.5863055556,
          43.7016944444,
          49.3172222222,
          49.79278,
          52.15278,
          47.68127778,
          53.86667,
          50.82502778,
          49.75,
          49.65369,
          52.4,
          51.8425,
          51.78333,
          49.00083,
          51.82,
          49.89166667,
          49.2487222222,
          49.918,
          50.9747777778,
          51.86472,
          50.9775,
          50.96677778,
          47.69872222,
          51.49138889,
          50.17361111,
          54.3025,
          53.07597222,
          49.02055556,
          52.4483333333,
          51.9838888889,
          49.944,
          51.3158333333,
          51.7782777778,
          53.5455555556,
          51.1548055556,
          48.3877777778,
          54.4619444444,
          48.3654722222,
          49.8763888889,
          49.3162111111,
          50.9786638889,
          45.95705556,
          43.8577777778,
          43.72305556,
          41.08480556,
          41.07333,
          43.46806,
          40.66638889,
          43.31861111,
          40.85138889,
          45.59333,
          44.83777778,
          40.7825,
          44.42041667,
          43.07694444,
          45.07253,
          45.39911111,
          45.76833333,
          44.10694,
          44.64624,
          43.725,
          40.6333333333,
          37.28972222,
          37.36611,
          39.70583333,
          40.28333333,
          41.94416667,
          38.48786111,
          43.06616667,
          36.89319444,
          41.96391667,
          43.06666667,
          45.97455556,
          42.00683333,
          37.05944,
          44.4122222222,
          46.6130555556,
          45.1594444444,
          46.0941666667,
          44.6086111111,
          37.7561111111,
          38.1108333333,
          45.4575,
          45.9530277778,
          45.4118888889,
          44.3799444444,
          49.61,
          52.63861111,
          51.8825,
          52.84583,
          52.54888889,
          51.9244444444,
          53.187375,
          48.9,
          46.4684138889,
          50.4922222222,
          47.2783333333,
          null,
          53.0422222222,
          45.7033333333,
          50.4065277778,
          53.5286111111,
          42.68542
         ],
         "legendgroup": "False",
         "lon": [
          4.47375,
          4.13722,
          4.36223,
          3.97879,
          3.38926,
          4.4161111111,
          3.8383333333,
          -1.51056,
          1.487222222,
          3.748333333,
          1.17,
          2.698055556,
          4.38911,
          5.8763888889,
          6.183333333,
          0.86611,
          8.628833333,
          7.7488888889,
          4.032777778,
          2.398333333,
          4.83333,
          3.298888889,
          -0.1552777778,
          0.70278,
          3.4730555556,
          0.1075,
          -0.5722222222,
          6.0269444444,
          3.5461111111,
          4.8644444444,
          4.4161111111,
          2.9651111111,
          3.9461111111,
          -1.1733333333,
          7.2723055556,
          8.4423888889,
          9.93889,
          9.94389,
          10.90013889,
          10.69167,
          6.909777778,
          6.633333333,
          8.56858,
          13.03333333,
          12.42083,
          11.15,
          8.81306,
          10.34,
          10.88888889,
          6.8442222222,
          8.757,
          11.3295,
          12.65278,
          11.32861,
          10.307,
          9.061305556,
          7.046111111,
          7.694166667,
          13.08527778,
          8.807472222,
          12.09916667,
          13.45,
          9.8122222222,
          11.579,
          9.3930555556,
          9.41025,
          9.9994444444,
          11.804,
          9.7655555556,
          9.4541111111,
          10.902,
          8.6675,
          8.4395388889,
          11.0292333333,
          10.29733333,
          11.3041666667,
          10.39638889,
          16.27094444,
          14.32639,
          11.04167,
          16.61027778,
          11.33166667,
          14.26277778,
          9.53833,
          11.61944444,
          17.23694,
          12.19625,
          11.67861111,
          7.68572,
          11.88066667,
          13.3675,
          9.72917,
          10.92568,
          12.63333,
          14.6027777778,
          13.59333333,
          14.33417,
          8.991388889,
          15.26666667,
          12.77197222,
          14.94558333,
          12.62244444,
          15.06891667,
          12.79625,
          11.55,
          9.169555556,
          12.10188889,
          15.29306,
          8.9311111111,
          12.1630555556,
          10.7944444444,
          13.4330555556,
          7.9636111111,
          14.9966666667,
          13.3530555556,
          7.8691666667,
          12.2261111111,
          11.8796111111,
          10.3889166667,
          6.13333,
          5.771666667,
          4.649444444,
          5.67889,
          4.911111111,
          4.4325,
          5.5437527778,
          22.1833333333,
          6.8293361111,
          5.8669444444,
          8.2075,
          null,
          6.3915888889,
          9.6636111111,
          12.8373444444,
          8.5561111111,
          -0.0005
         ],
         "marker": {
          "color": "#EF553B"
         },
         "mode": "markers",
         "name": "False",
         "showlegend": true,
         "subplot": "mapbox",
         "type": "scattermapbox"
        }
       ],
       "layout": {
        "legend": {
         "title": {
          "text": "Visited"
         },
         "tracegroupgap": 0
        },
        "mapbox": {
         "center": {
          "lat": 47.39933938587392,
          "lon": 8.447950764274458
         },
         "domain": {
          "x": [
           0,
           1
          ],
          "y": [
           0,
           1
          ]
         },
         "style": "carto-positron",
         "zoom": 2.7970443866950028
        },
        "margin": {
         "b": 0,
         "l": 0,
         "r": 0,
         "t": 0
        },
        "showlegend": false,
        "template": {
         "data": {
          "bar": [
           {
            "error_x": {
             "color": "#2a3f5f"
            },
            "error_y": {
             "color": "#2a3f5f"
            },
            "marker": {
             "line": {
              "color": "#E5ECF6",
              "width": 0.5
             },
             "pattern": {
              "fillmode": "overlay",
              "size": 10,
              "solidity": 0.2
             }
            },
            "type": "bar"
           }
          ],
          "barpolar": [
           {
            "marker": {
             "line": {
              "color": "#E5ECF6",
              "width": 0.5
             },
             "pattern": {
              "fillmode": "overlay",
              "size": 10,
              "solidity": 0.2
             }
            },
            "type": "barpolar"
           }
          ],
          "carpet": [
           {
            "aaxis": {
             "endlinecolor": "#2a3f5f",
             "gridcolor": "white",
             "linecolor": "white",
             "minorgridcolor": "white",
             "startlinecolor": "#2a3f5f"
            },
            "baxis": {
             "endlinecolor": "#2a3f5f",
             "gridcolor": "white",
             "linecolor": "white",
             "minorgridcolor": "white",
             "startlinecolor": "#2a3f5f"
            },
            "type": "carpet"
           }
          ],
          "choropleth": [
           {
            "colorbar": {
             "outlinewidth": 0,
             "ticks": ""
            },
            "type": "choropleth"
           }
          ],
          "contour": [
           {
            "colorbar": {
             "outlinewidth": 0,
             "ticks": ""
            },
            "colorscale": [
             [
              0,
              "#0d0887"
             ],
             [
              0.1111111111111111,
              "#46039f"
             ],
             [
              0.2222222222222222,
              "#7201a8"
             ],
             [
              0.3333333333333333,
              "#9c179e"
             ],
             [
              0.4444444444444444,
              "#bd3786"
             ],
             [
              0.5555555555555556,
              "#d8576b"
             ],
             [
              0.6666666666666666,
              "#ed7953"
             ],
             [
              0.7777777777777778,
              "#fb9f3a"
             ],
             [
              0.8888888888888888,
              "#fdca26"
             ],
             [
              1,
              "#f0f921"
             ]
            ],
            "type": "contour"
           }
          ],
          "contourcarpet": [
           {
            "colorbar": {
             "outlinewidth": 0,
             "ticks": ""
            },
            "type": "contourcarpet"
           }
          ],
          "heatmap": [
           {
            "colorbar": {
             "outlinewidth": 0,
             "ticks": ""
            },
            "colorscale": [
             [
              0,
              "#0d0887"
             ],
             [
              0.1111111111111111,
              "#46039f"
             ],
             [
              0.2222222222222222,
              "#7201a8"
             ],
             [
              0.3333333333333333,
              "#9c179e"
             ],
             [
              0.4444444444444444,
              "#bd3786"
             ],
             [
              0.5555555555555556,
              "#d8576b"
             ],
             [
              0.6666666666666666,
              "#ed7953"
             ],
             [
              0.7777777777777778,
              "#fb9f3a"
             ],
             [
              0.8888888888888888,
              "#fdca26"
             ],
             [
              1,
              "#f0f921"
             ]
            ],
            "type": "heatmap"
           }
          ],
          "heatmapgl": [
           {
            "colorbar": {
             "outlinewidth": 0,
             "ticks": ""
            },
            "colorscale": [
             [
              0,
              "#0d0887"
             ],
             [
              0.1111111111111111,
              "#46039f"
             ],
             [
              0.2222222222222222,
              "#7201a8"
             ],
             [
              0.3333333333333333,
              "#9c179e"
             ],
             [
              0.4444444444444444,
              "#bd3786"
             ],
             [
              0.5555555555555556,
              "#d8576b"
             ],
             [
              0.6666666666666666,
              "#ed7953"
             ],
             [
              0.7777777777777778,
              "#fb9f3a"
             ],
             [
              0.8888888888888888,
              "#fdca26"
             ],
             [
              1,
              "#f0f921"
             ]
            ],
            "type": "heatmapgl"
           }
          ],
          "histogram": [
           {
            "marker": {
             "pattern": {
              "fillmode": "overlay",
              "size": 10,
              "solidity": 0.2
             }
            },
            "type": "histogram"
           }
          ],
          "histogram2d": [
           {
            "colorbar": {
             "outlinewidth": 0,
             "ticks": ""
            },
            "colorscale": [
             [
              0,
              "#0d0887"
             ],
             [
              0.1111111111111111,
              "#46039f"
             ],
             [
              0.2222222222222222,
              "#7201a8"
             ],
             [
              0.3333333333333333,
              "#9c179e"
             ],
             [
              0.4444444444444444,
              "#bd3786"
             ],
             [
              0.5555555555555556,
              "#d8576b"
             ],
             [
              0.6666666666666666,
              "#ed7953"
             ],
             [
              0.7777777777777778,
              "#fb9f3a"
             ],
             [
              0.8888888888888888,
              "#fdca26"
             ],
             [
              1,
              "#f0f921"
             ]
            ],
            "type": "histogram2d"
           }
          ],
          "histogram2dcontour": [
           {
            "colorbar": {
             "outlinewidth": 0,
             "ticks": ""
            },
            "colorscale": [
             [
              0,
              "#0d0887"
             ],
             [
              0.1111111111111111,
              "#46039f"
             ],
             [
              0.2222222222222222,
              "#7201a8"
             ],
             [
              0.3333333333333333,
              "#9c179e"
             ],
             [
              0.4444444444444444,
              "#bd3786"
             ],
             [
              0.5555555555555556,
              "#d8576b"
             ],
             [
              0.6666666666666666,
              "#ed7953"
             ],
             [
              0.7777777777777778,
              "#fb9f3a"
             ],
             [
              0.8888888888888888,
              "#fdca26"
             ],
             [
              1,
              "#f0f921"
             ]
            ],
            "type": "histogram2dcontour"
           }
          ],
          "mesh3d": [
           {
            "colorbar": {
             "outlinewidth": 0,
             "ticks": ""
            },
            "type": "mesh3d"
           }
          ],
          "parcoords": [
           {
            "line": {
             "colorbar": {
              "outlinewidth": 0,
              "ticks": ""
             }
            },
            "type": "parcoords"
           }
          ],
          "pie": [
           {
            "automargin": true,
            "type": "pie"
           }
          ],
          "scatter": [
           {
            "fillpattern": {
             "fillmode": "overlay",
             "size": 10,
             "solidity": 0.2
            },
            "type": "scatter"
           }
          ],
          "scatter3d": [
           {
            "line": {
             "colorbar": {
              "outlinewidth": 0,
              "ticks": ""
             }
            },
            "marker": {
             "colorbar": {
              "outlinewidth": 0,
              "ticks": ""
             }
            },
            "type": "scatter3d"
           }
          ],
          "scattercarpet": [
           {
            "marker": {
             "colorbar": {
              "outlinewidth": 0,
              "ticks": ""
             }
            },
            "type": "scattercarpet"
           }
          ],
          "scattergeo": [
           {
            "marker": {
             "colorbar": {
              "outlinewidth": 0,
              "ticks": ""
             }
            },
            "type": "scattergeo"
           }
          ],
          "scattergl": [
           {
            "marker": {
             "colorbar": {
              "outlinewidth": 0,
              "ticks": ""
             }
            },
            "type": "scattergl"
           }
          ],
          "scattermapbox": [
           {
            "marker": {
             "colorbar": {
              "outlinewidth": 0,
              "ticks": ""
             }
            },
            "type": "scattermapbox"
           }
          ],
          "scatterpolar": [
           {
            "marker": {
             "colorbar": {
              "outlinewidth": 0,
              "ticks": ""
             }
            },
            "type": "scatterpolar"
           }
          ],
          "scatterpolargl": [
           {
            "marker": {
             "colorbar": {
              "outlinewidth": 0,
              "ticks": ""
             }
            },
            "type": "scatterpolargl"
           }
          ],
          "scatterternary": [
           {
            "marker": {
             "colorbar": {
              "outlinewidth": 0,
              "ticks": ""
             }
            },
            "type": "scatterternary"
           }
          ],
          "surface": [
           {
            "colorbar": {
             "outlinewidth": 0,
             "ticks": ""
            },
            "colorscale": [
             [
              0,
              "#0d0887"
             ],
             [
              0.1111111111111111,
              "#46039f"
             ],
             [
              0.2222222222222222,
              "#7201a8"
             ],
             [
              0.3333333333333333,
              "#9c179e"
             ],
             [
              0.4444444444444444,
              "#bd3786"
             ],
             [
              0.5555555555555556,
              "#d8576b"
             ],
             [
              0.6666666666666666,
              "#ed7953"
             ],
             [
              0.7777777777777778,
              "#fb9f3a"
             ],
             [
              0.8888888888888888,
              "#fdca26"
             ],
             [
              1,
              "#f0f921"
             ]
            ],
            "type": "surface"
           }
          ],
          "table": [
           {
            "cells": {
             "fill": {
              "color": "#EBF0F8"
             },
             "line": {
              "color": "white"
             }
            },
            "header": {
             "fill": {
              "color": "#C8D4E3"
             },
             "line": {
              "color": "white"
             }
            },
            "type": "table"
           }
          ]
         },
         "layout": {
          "annotationdefaults": {
           "arrowcolor": "#2a3f5f",
           "arrowhead": 0,
           "arrowwidth": 1
          },
          "autotypenumbers": "strict",
          "coloraxis": {
           "colorbar": {
            "outlinewidth": 0,
            "ticks": ""
           }
          },
          "colorscale": {
           "diverging": [
            [
             0,
             "#8e0152"
            ],
            [
             0.1,
             "#c51b7d"
            ],
            [
             0.2,
             "#de77ae"
            ],
            [
             0.3,
             "#f1b6da"
            ],
            [
             0.4,
             "#fde0ef"
            ],
            [
             0.5,
             "#f7f7f7"
            ],
            [
             0.6,
             "#e6f5d0"
            ],
            [
             0.7,
             "#b8e186"
            ],
            [
             0.8,
             "#7fbc41"
            ],
            [
             0.9,
             "#4d9221"
            ],
            [
             1,
             "#276419"
            ]
           ],
           "sequential": [
            [
             0,
             "#0d0887"
            ],
            [
             0.1111111111111111,
             "#46039f"
            ],
            [
             0.2222222222222222,
             "#7201a8"
            ],
            [
             0.3333333333333333,
             "#9c179e"
            ],
            [
             0.4444444444444444,
             "#bd3786"
            ],
            [
             0.5555555555555556,
             "#d8576b"
            ],
            [
             0.6666666666666666,
             "#ed7953"
            ],
            [
             0.7777777777777778,
             "#fb9f3a"
            ],
            [
             0.8888888888888888,
             "#fdca26"
            ],
            [
             1,
             "#f0f921"
            ]
           ],
           "sequentialminus": [
            [
             0,
             "#0d0887"
            ],
            [
             0.1111111111111111,
             "#46039f"
            ],
            [
             0.2222222222222222,
             "#7201a8"
            ],
            [
             0.3333333333333333,
             "#9c179e"
            ],
            [
             0.4444444444444444,
             "#bd3786"
            ],
            [
             0.5555555555555556,
             "#d8576b"
            ],
            [
             0.6666666666666666,
             "#ed7953"
            ],
            [
             0.7777777777777778,
             "#fb9f3a"
            ],
            [
             0.8888888888888888,
             "#fdca26"
            ],
            [
             1,
             "#f0f921"
            ]
           ]
          },
          "colorway": [
           "#636efa",
           "#EF553B",
           "#00cc96",
           "#ab63fa",
           "#FFA15A",
           "#19d3f3",
           "#FF6692",
           "#B6E880",
           "#FF97FF",
           "#FECB52"
          ],
          "font": {
           "color": "#2a3f5f"
          },
          "geo": {
           "bgcolor": "white",
           "lakecolor": "white",
           "landcolor": "#E5ECF6",
           "showlakes": true,
           "showland": true,
           "subunitcolor": "white"
          },
          "hoverlabel": {
           "align": "left"
          },
          "hovermode": "closest",
          "mapbox": {
           "style": "light"
          },
          "paper_bgcolor": "white",
          "plot_bgcolor": "#E5ECF6",
          "polar": {
           "angularaxis": {
            "gridcolor": "white",
            "linecolor": "white",
            "ticks": ""
           },
           "bgcolor": "#E5ECF6",
           "radialaxis": {
            "gridcolor": "white",
            "linecolor": "white",
            "ticks": ""
           }
          },
          "scene": {
           "xaxis": {
            "backgroundcolor": "#E5ECF6",
            "gridcolor": "white",
            "gridwidth": 2,
            "linecolor": "white",
            "showbackground": true,
            "ticks": "",
            "zerolinecolor": "white"
           },
           "yaxis": {
            "backgroundcolor": "#E5ECF6",
            "gridcolor": "white",
            "gridwidth": 2,
            "linecolor": "white",
            "showbackground": true,
            "ticks": "",
            "zerolinecolor": "white"
           },
           "zaxis": {
            "backgroundcolor": "#E5ECF6",
            "gridcolor": "white",
            "gridwidth": 2,
            "linecolor": "white",
            "showbackground": true,
            "ticks": "",
            "zerolinecolor": "white"
           }
          },
          "shapedefaults": {
           "line": {
            "color": "#2a3f5f"
           }
          },
          "ternary": {
           "aaxis": {
            "gridcolor": "white",
            "linecolor": "white",
            "ticks": ""
           },
           "baxis": {
            "gridcolor": "white",
            "linecolor": "white",
            "ticks": ""
           },
           "bgcolor": "#E5ECF6",
           "caxis": {
            "gridcolor": "white",
            "linecolor": "white",
            "ticks": ""
           }
          },
          "title": {
           "x": 0.05
          },
          "xaxis": {
           "automargin": true,
           "gridcolor": "white",
           "linecolor": "white",
           "ticks": "",
           "title": {
            "standoff": 15
           },
           "zerolinecolor": "white",
           "zerolinewidth": 2
          },
          "yaxis": {
           "automargin": true,
           "gridcolor": "white",
           "linecolor": "white",
           "ticks": "",
           "title": {
            "standoff": 15
           },
           "zerolinecolor": "white",
           "zerolinewidth": 2
          }
         }
        }
       }
      }
     },
     "metadata": {},
     "output_type": "display_data"
    }
   ],
   "source": [
    "import pandas as pd\n",
    "import plotly.express as px\n",
    "import numpy as np\n",
    "\n",
    "df = pd.read_csv(\"whc-sites-2023.csv\")\n",
    "df = df[df['Visited'].notna()]\n",
    "max_bound = max(abs(min(df['latitude'])-max(df['latitude'])), abs(min(df['longitude'])-max(df['longitude']))) * 175\n",
    "zoom = 11.5 - np.log(max_bound)\n",
    "fig = px.scatter_mapbox(df, lat='latitude', lon='longitude', color='Visited',\n",
    "                        hover_name='name_en', mapbox_style='carto-positron', zoom=zoom,\n",
    "                        hover_data={\n",
    "                            'latitude':False,\n",
    "                            'longitude':False\n",
    "                        })\n",
    "fig.update_layout(showlegend=False, margin={'t':0,'l':0,'b':0,'r':0})\n",
    "fig.show()\n"
   ]
  },
  {
   "cell_type": "code",
   "execution_count": 10,
   "metadata": {
    "tags": [
     "remove-input"
    ]
   },
   "outputs": [
    {
     "name": "stdout",
     "output_type": "stream",
     "text": [
      "Progress:\n",
      "Total:                [++++++++++..............................] 49 out of 185\n",
      "\n",
      "Netherlands:          [+++++++++++++...........................] 4 out of 12\n",
      "France:               [+++++++++++.............................] 13 out of 47\n",
      "Italy:                [+++++...................................] 8 out of 57\n",
      "Belgium:              [++++++++++..............................] 4 out of 16\n",
      "Germany:              [++++....................................] 6 out of 51\n",
      "Luxembourg:           [........................................] 0 out of 1\n"
     ]
    }
   ],
   "source": [
    "print(\"Progress:\")\n",
    "score = len(df[(df['Visited'])]) / len(df)\n",
    "displays = int(score * 40)\n",
    "print(f\"Total: {\" \" * (20 - len(\"Total\"))}[{\"+\" * displays}{\".\" * (40 - displays)}] {len(df[(df['Visited'])])} out of {len(df)}\\n\")\n",
    "for abbr, country in zip(['nld', 'fra', 'ita', 'bel', 'deu', 'lux'], [\"Netherlands\", \"France\", \"Italy\", \"Belgium\", \"Germany\", \"Luxembourg\"]):\n",
    "    score = len(df[(df['Visited']) & (df['udnp_code'].str.contains(abbr))]) / len(df[df['udnp_code'].str.contains(abbr)])\n",
    "    displays = int(score * 40)\n",
    "    print(f\"{country}: {\" \" * (20 - len(country))}[{\"+\" * displays}{\".\" * (40 - displays)}] {len(df[(df['Visited']) & (df['udnp_code'].str.contains(abbr))])} out of {len(df[df['udnp_code'].str.contains(abbr)])}\")"
   ]
  }
 ],
 "metadata": {
  "kernelspec": {
   "display_name": "Python 3 (ipykernel)",
   "language": "python",
   "name": "python3"
  },
  "language_info": {
   "codemirror_mode": {
    "name": "ipython",
    "version": 3
   },
   "file_extension": ".py",
   "mimetype": "text/x-python",
   "name": "python",
   "nbconvert_exporter": "python",
   "pygments_lexer": "ipython3",
   "version": "3.12.3"
  },
  "widgets": {
   "application/vnd.jupyter.widget-state+json": {
    "state": {},
    "version_major": 2,
    "version_minor": 0
   }
  }
 },
 "nbformat": 4,
 "nbformat_minor": 4
}
