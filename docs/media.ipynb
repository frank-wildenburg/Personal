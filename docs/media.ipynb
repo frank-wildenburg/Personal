{
 "cells": [
  {
   "cell_type": "markdown",
   "metadata": {},
   "source": [
    "# Media\n",
    "\n",
    "(Last updated: May 30, 2024)\n",
    "\n",
    "Since around 2020, I have been keeping track of almost all media I consume - mostly books and games, but also concerts (but not CD's), movies, museums, and other forms of culture. Here, you can find a quick summary of what I've been up to"
   ]
  },
  {
   "cell_type": "markdown",
   "metadata": {},
   "source": [
    "## Currently enjoying"
   ]
  },
  {
   "cell_type": "code",
   "execution_count": 1,
   "metadata": {
    "tags": [
     "remove-input"
    ]
   },
   "outputs": [
    {
     "name": "stdout",
     "output_type": "stream",
     "text": [
      "Last visited: Dvořáks Symfonie nr. 7 onder leiding van Lorenzo Viotti by Nederlands Philharmonisch Orkest\n",
      "Which I thought was: great\n"
     ]
    }
   ],
   "source": [
    "import pandas as pd\n",
    "df = pd.read_csv(\"media.csv\")\n",
    "\n",
    "verb_dict = {\"Book\":\"read\",\"Game\":\"played\",\"Movie\":\"watched\",\"Concert\":\"visited\",\"Museum\":\"visited\"}\n",
    "print(f\"Last {verb_dict.get(df['type'].iloc[-1], 'visited')}: {df['name'].iloc[-1]} by {df['creator'].iloc[-1]}\")\n",
    "score_dict = {10:'close to perfect!', 9:'fantastic!', 8:'great', 7:'good', 6:'okay', 5:'meh...', 4:'not great', 3:'bad', 2:'terrible', 1: 'abhorrent', 0:'the worst!'}\n",
    "print(f\"Which I thought was: {score_dict[round(df['score'].iloc[-1])]}\")"
   ]
  },
  {
   "cell_type": "markdown",
   "metadata": {},
   "source": [
    "## All-time favorites"
   ]
  },
  {
   "cell_type": "code",
   "execution_count": 2,
   "metadata": {
    "tags": [
     "remove-input"
    ]
   },
   "outputs": [
    {
     "name": "stdout",
     "output_type": "stream",
     "text": [
      "Some works I can wholeheartedly recommend are:\n",
      "* Stories of Your Life and Others by Ted Chiang, which I rated at 10.0\n",
      "* Hades by Supergiant Games, which I rated at 10.0\n",
      "* Pikmin 4 by Nintendo, which I rated at 9.8\n",
      "* The Legend of Zelda: Tears of the Kingdom by Nintendo, which I rated at 10.0\n",
      "* Deltarune: Chapter 2 by Toby Fox, which I rated at 10.0\n"
     ]
    }
   ],
   "source": [
    "df3 = df.copy()\n",
    "sample = df3[df3['score'] > 9.5].sample(5).reset_index()\n",
    "print(\"Some works I can wholeheartedly recommend are:\")\n",
    "for i in range(len(sample)):\n",
    "    print(f\"* {sample['name'][i]} by {sample['creator'][i]}, which I rated at {sample['score'][i]}\")"
   ]
  },
  {
   "cell_type": "markdown",
   "metadata": {},
   "source": [
    "## What?"
   ]
  },
  {
   "cell_type": "code",
   "execution_count": 3,
   "metadata": {
    "tags": [
     "remove-input"
    ]
   },
   "outputs": [
    {
     "data": {
      "application/vnd.plotly.v1+json": {
       "config": {
        "plotlyServerURL": "https://plot.ly"
       },
       "data": [
        {
         "branchvalues": "total",
         "domain": {
          "x": [
           0,
           1
          ],
          "y": [
           0,
           1
          ]
         },
         "hovertemplate": "<b>Amount: %{value} </b><br>%{label}",
         "ids": [
          "Book/8.5/2001: A Space Odyssey",
          "Book/8.0/A Clockwork Orange",
          "Game/9.0/A Dance of Ice and Fire",
          "Book/7.5/A Mathematician's Apology",
          "Book/9.0/A Science Fiction Omnibus",
          "Book/8.0/A Year in the Linear City",
          "Book/7.0/Aantekeningen uit het Ondergrondse",
          "Book/8.5/Almond",
          "Game/8.0/Animal Crossing: New Horizons",
          "Book/9.5/Animal Farm",
          "Book/7.5/Annihilation",
          "Museum/8.0/Antwerpen 2023: Chocolate Nation, Museum Plantin-Moretus",
          "Game/9.0/Armored Core 6: Fires of Rubicon",
          "Book/8.0/Art Nouveau",
          "Book/9.0/Avatar, the Last Airbender: The Rise of Kyoshi",
          "Book/9.0/Avatar, the Last Airbender: The Shadow of Kyoshi",
          "Concert/7.5/BADBADNOTGOOD",
          "Game/8.0/Baba is You",
          "Game/8.0/Bayonetta",
          "Game/8.0/Bayonetta 2",
          "Game/7.0/Before Your Eyes",
          "Game/9.0/Bowser's Fury",
          "Concert/8.0/Brass Against",
          "Game/8.5/Cadence of Hyrule - Crypt of the NecroDancer feat. The Legend of Zelda",
          "Game/8.5/Captain Toad: Treasure Tracker",
          "Book/7.5/Cat's Cradle",
          "Museum/7.0/Centraal Museum",
          "Concert/8.0/Central Park Festival",
          "Book/8.5/Chain-Gang All-Stars",
          "Book/7.5/Chernobyl Prayer",
          "Book/9.0/Chess: A Novel",
          "Game/9.0/Citizen Sleeper",
          "Book/8.0/Claudius de God",
          "Book/8.0/Cloud Atlas",
          "Book/8.5/Cognitive Psychology and its Implications",
          "Concert/7.5/Concertgebouworkest speelt Elgar en Vaughan Williams",
          "Game/8.5/Control",
          "Book/8.0/Cosmicomics",
          "Game/9.5/Cuphead",
          "Game/9.0/Cyberpunk 2077",
          "Museum/9.0/DAG-Stadshuisbezoek",
          "Book/8.5/De Adelaars",
          "Book/7.5/De Avonden",
          "Book/8.0/De Reyneart",
          "Book/8.0/De Utrechtse Student: 1945 tot Nu",
          "Game/8.5/Death Stranding",
          "Game/8.0/Deathloop",
          "Game/10.0/Deltarune: Chapter 2",
          "Book/8.0/Deltora Quest - The Forests of Silence/The Lake of Tears",
          "Book/7.5/Descartes Jaarboek",
          "Conference/6.5/Digital Climate",
          "Game/10.0/Disco Elysium",
          "Game/8.5/Dishonored",
          "Game/8.0/Donkey Kong Country: Tropical Freeze",
          "Game/8.0/Donut County",
          "Concert/7.5/Dr. Atomic",
          "Movie/8.5/Dr. Strangelove or: How I Learned to Stop Worrying and Love the Bomb",
          "Movie/9.0/Dune: Part 2",
          "Concert/8.5/Dvořáks Symfonie nr. 7 onder leiding van Lorenzo Viotti",
          "Book/9.5/Educated",
          "Cabaret/8.0/Ego",
          "Game/9.5/Elden Ring",
          "Game/10.0/Elden Ring",
          "Book/9.5/Ella Minnow Pea",
          "Concert/8.5/Enigma-Variaties met Adam Hickox",
          "Museum/9.0/Escher in het Paleis",
          "Book/10.0/Exhalation",
          "Concert/8.5/Fantasia",
          "Book/8.0/Ficciones",
          "Game/9.0/Finding Paradise",
          "Book/9.0/Flatland: A Romance of Many Dimensions",
          "Concert/9.5/Footprints Festival",
          "Game/8.5/Forza Horizon 4",
          "Book/9.5/Friday Black",
          "Book/5.0/Geyerstein's Dynamiek",
          "Game/9.0/God of War (2018)",
          "Museum/7.5/Groningen 2023: Groninger Museum, Storyworld",
          "Book/10.0/Guards! Guards!",
          "Game/10.0/Hades",
          "Book/8.0/Hallo Witte Mensen",
          "Book/8.0/Happy Stories, Mostly",
          "Book/9.0/Hard-Boiled Wonderland and the End of the World",
          "Concert/8.0/Hedvig Mollestad Trio",
          "Book/8.5/Het Arcanum",
          "Museum/7.5/Het Utrechts Archief",
          "Museum/8.0/Het Utrechts Archief",
          "Theater/9.0/Het Wrak van de Opulenta",
          "Game/9.0/Hi-Fi Rush",
          "Series/7.5/How to Build a Sex Room",
          "Movie/8.0/How to Train Your Dragon: The Hidden World",
          "Book/6.0/I Want to Die but I Want to Eat Tteokbokki",
          "Game/7.5/INSIDE",
          "Book/8.0/Ik, Claudius",
          "Game/8.0/In Other Waters",
          "Game/8.5/Inscryption",
          "Concert/8.0/Internationaal Kamermuziek Festival Utrecht Avondconcert",
          "Book/7.0/Je Bent Jong en Je Rouwt Wat",
          "Book/8.0/Je Kunt Het Maar Eén Keer Doen",
          "Game/8.0/Katamari Damacy REROLL",
          "Game/8.0/Katana ZERO",
          "Game/8.0/Kid A Mnesia Exhibition",
          "Concert/10.0/King Gizzard and the Wizard Lizard",
          "Game/8.5/Kirby and the Forgotten Land",
          "Book/8.5/Klara and the Sun",
          "Book/7.0/Kroniek van een Aangekondigde Dood",
          "Concert/7.5/Laat Je Horen!",
          "Movie/8.0/Legally Blonde",
          "Concert/9.0/Liefdesdaad",
          "Book/7.5/Living Proof",
          "Book/9.0/Logicomix",
          "Book/8.0/Lolita",
          "Movie/7.0/Love, Actually",
          "Book/7.5/Man's Search for Meaning",
          "Game/7.0/Mario + Rabbids: Sparks of Hope",
          "Book/10.0/Men at Arms",
          "Game/9.0/Metroid Dread",
          "Game/8.5/Metroid Prime Remastered",
          "Book/9.0/Monstrous Regiment",
          "Movie/8.5/Monty Python and the Holy Grail",
          "Book/8.5/Moving Pictures",
          "Book/7.5/Museums and Women and Other Stories",
          "Book/8.5/My Uncle Oswald",
          "Museum/7.5/NEMO Science Museum",
          "Museum/7.5/Naturalis",
          "Game/9.0/Neon White",
          "Book/8.0/Neuromancer",
          "Game/8.5/NieR: Automata",
          "Book/9.0/Nine Tomorrows",
          "Concert/8.0/North Sea Jazz 2023",
          "Book/9.0/Oer en Andere Tijden",
          "Game/9.0/Okami HD",
          "Book/8.0/Onder Professoren",
          "Game/9.5/One Finger Death Punch",
          "Book/9.0/One Flew Over the Cuckoo's Nest",
          "Book/8.5/Ontjoodst door de Wetenschap",
          "Concert/7.5/Orelon Trio met Yukine Kuroki",
          "Game/9.0/Ori and the Blind Forest",
          "Game/9.0/Overcooked 2",
          "Book/9.0/Pale Fire",
          "Game/7.0/Persona 5 Strikers",
          "Game/7.5/Pikmin",
          "Game/8.5/Pikmin 2",
          "Game/9.5/Pikmin 3 Deluxe",
          "Game/10.0/Pikmin 4",
          "Concert/9.0/Pinkpop 2023",
          "Game/9.0/Pokémon Legends: Arceus",
          "Concert/7.5/Prokofjev en Rachmaninov",
          "Game/8.0/Quarantine Circular",
          "Conference/8.0/REAIM",
          "Concert/8.0/Rabo Open Stage: Pega Loca",
          "Concert/8.5/Rabo Open Stage: TivoliVredenburg Jamsessie",
          "Concert/8.5/Randmeerconcert",
          "Game/9.5/Rayman Legends",
          "Game/8.0/Return of the Obra Dinn",
          "Museum/9.0/Rietveld-Schröderhuis",
          "Theater/10.0/Roshambo, of Waarom we Steen-Papier-Schaar Spelen",
          "Game/9.5/Sable",
          "Game/7.5/Save Room - Organization Puzzle",
          "Game/9.5/Sekiro: Shadows Die Twice",
          "Game/10.0/Sekiro: Shadows Die Twice",
          "Game/9.0/Shovel Knight: Treasure Trove",
          "Book/9.0/Siddharta",
          "Game/9.0/Sifu",
          "Book/8.5/Small Gods",
          "Game/7.5/Sonic Mania",
          "Game/8.5/Spider-Man (2018)",
          "Game/8.5/Spiritfarer",
          "Game/8.0/Splatoon 2",
          "Game/9.0/Stardew Valley",
          "Game/7.5/Starfield",
          "Movie/8.5/Stop Making Sense",
          "Book/10.0/Stories of Your Life and Others",
          "Game/9.0/Sunless Sea",
          "Game/9.5/Super Mario 3D World + Bowser's Fury",
          "Game/8.0/Super Mario Bros. Wonder",
          "Game/9.0/Super Mario Galaxy",
          "Game/9.0/Super Mario Maker 2",
          "Game/9.0/Super Mario RPG",
          "Game/9.0/Super Mario Sunshine",
          "Concert/8.5/Symphonie Fantastique",
          "Game/9.0/Tactical Breach Wizards Beta",
          "Movie/6.5/Ted",
          "Book/7.5/Terraform: Watch/Worlds/Burn",
          "Game/9.5/Terraria",
          "Game/8.0/The Art of Cuphead",
          "Book/8.0/The Art of How to Train Your Dragon",
          "Book/7.5/The Capital",
          "Book/9.0/The City and the City",
          "Game/8.5/The Corridor",
          "Book/8.0/The Devil Tree",
          "Series/7.0/The Dragon Prince, Book 4: Earth",
          "Series/8.5/The Dragon Prince, Book 5: Water",
          "Book/8.0/The Fowl Twins",
          "Book/8.5/The Last Days of Socrates",
          "Game/8.0/The Last Guardian",
          "Book/8.5/The Left Hand of Darkness",
          "Game/10.0/The Legend of Zelda: A Link Between Worlds",
          "Book/8.0/The Legend of Zelda: Breath of the Wild - Creating a Champion",
          "Game/10.0/The Legend of Zelda: Tears of the Kingdom",
          "Book/7.5/The Legend of Zelda: Twilight Princess, Vol. 2",
          "Book/10.0/The MANIAC",
          "Book/7.0/The Machine Stops",
          "Book/9.0/The Midnight Library",
          "Book/9.5/The Night Circus",
          "Book/9.0/The Outsider",
          "Book/9.0/The Paper Menagerie and Other Stories",
          "Book/8.5/The Penelopiad",
          "Book/7.0/The Penguin Book of Oulipo",
          "Book/7.5/The Republic",
          "Book/8.5/The Secret History",
          "Game/8.0/The Sexy Brutale",
          "Book/8.0/The Southern Book Club's Guide to Slaying Vampires",
          "Book/8.5/The Time Traveler's Wife",
          "Book/9.0/The Way of Kings, Part 1",
          "Book/9.0/This is How You Lose the Time War",
          "Book/9.0/Through the Moon",
          "Game/9.5/Tunic",
          "Museum/8.5/UU National Conference on Responsible AI (Spoorwegmuseum)",
          "Game/8.0/Uncharted: The Lost Legacy",
          "Book/8.0/Videogame Atlas: Mapping Interactive Worlds",
          "Game/7.5/WarioWare: Get It Together",
          "Book/7.0/Wat Maakt een Verzetsheld?",
          "Book/9.0/Wat Wij Zagen",
          "Book/8.5/We Need to Talk About Kevin",
          "Game/9.5/Webbed",
          "Book/8.5/Wegens Sterfgeval Gesloten (Commedia Della Morte)",
          "Game/8.5/What Remains of Edith Finch",
          "Book/9.0/When Einstein Walked with Gödel",
          "Book/9.5/When We Cease to Understand the World",
          "Book/9.0/Wij Slaven van Suriname",
          "Movie/9.0/Wreck-It Ralph",
          "Game/7.0/Xenoblade Chronicles 2",
          "Game/8.5/Xenoblade Chronicles 3",
          "Game/9.0/Yoku's Island Express",
          "Museum/9.0/Zuid-Frankrijk 2024: Musée du Pont du Gard, Maison Carrée, Arles Amphitheatre",
          "Book/5.0",
          "Book/6.0",
          "Conference/6.5",
          "Movie/6.5",
          "Book/7.0",
          "Game/7.0",
          "Movie/7.0",
          "Museum/7.0",
          "Series/7.0",
          "Book/7.5",
          "Concert/7.5",
          "Game/7.5",
          "Museum/7.5",
          "Series/7.5",
          "Book/8.0",
          "Cabaret/8.0",
          "Concert/8.0",
          "Conference/8.0",
          "Game/8.0",
          "Movie/8.0",
          "Museum/8.0",
          "Book/8.5",
          "Concert/8.5",
          "Game/8.5",
          "Movie/8.5",
          "Museum/8.5",
          "Series/8.5",
          "Book/9.0",
          "Concert/9.0",
          "Game/9.0",
          "Movie/9.0",
          "Museum/9.0",
          "Theater/9.0",
          "Book/9.5",
          "Concert/9.5",
          "Game/9.5",
          "Book/10.0",
          "Concert/10.0",
          "Game/10.0",
          "Theater/10.0",
          "Book",
          "Cabaret",
          "Concert",
          "Conference",
          "Game",
          "Movie",
          "Museum",
          "Series",
          "Theater"
         ],
         "labels": [
          "2001: A Space Odyssey",
          "A Clockwork Orange",
          "A Dance of Ice and Fire",
          "A Mathematician's Apology",
          "A Science Fiction Omnibus",
          "A Year in the Linear City",
          "Aantekeningen uit het Ondergrondse",
          "Almond",
          "Animal Crossing: New Horizons",
          "Animal Farm",
          "Annihilation",
          "Antwerpen 2023: Chocolate Nation, Museum Plantin-Moretus",
          "Armored Core 6: Fires of Rubicon",
          "Art Nouveau",
          "Avatar, the Last Airbender: The Rise of Kyoshi",
          "Avatar, the Last Airbender: The Shadow of Kyoshi",
          "BADBADNOTGOOD",
          "Baba is You",
          "Bayonetta",
          "Bayonetta 2",
          "Before Your Eyes",
          "Bowser's Fury",
          "Brass Against",
          "Cadence of Hyrule - Crypt of the NecroDancer feat. The Legend of Zelda",
          "Captain Toad: Treasure Tracker",
          "Cat's Cradle",
          "Centraal Museum",
          "Central Park Festival",
          "Chain-Gang All-Stars",
          "Chernobyl Prayer",
          "Chess: A Novel",
          "Citizen Sleeper",
          "Claudius de God",
          "Cloud Atlas",
          "Cognitive Psychology and its Implications",
          "Concertgebouworkest speelt Elgar en Vaughan Williams",
          "Control",
          "Cosmicomics",
          "Cuphead",
          "Cyberpunk 2077",
          "DAG-Stadshuisbezoek",
          "De Adelaars",
          "De Avonden",
          "De Reyneart",
          "De Utrechtse Student: 1945 tot Nu",
          "Death Stranding",
          "Deathloop",
          "Deltarune: Chapter 2",
          "Deltora Quest - The Forests of Silence/The Lake of Tears",
          "Descartes Jaarboek",
          "Digital Climate",
          "Disco Elysium",
          "Dishonored",
          "Donkey Kong Country: Tropical Freeze",
          "Donut County",
          "Dr. Atomic",
          "Dr. Strangelove or: How I Learned to Stop Worrying and Love the Bomb",
          "Dune: Part 2",
          "Dvořáks Symfonie nr. 7 onder leiding van Lorenzo Viotti",
          "Educated",
          "Ego",
          "Elden Ring",
          "Elden Ring",
          "Ella Minnow Pea",
          "Enigma-Variaties met Adam Hickox",
          "Escher in het Paleis",
          "Exhalation",
          "Fantasia",
          "Ficciones",
          "Finding Paradise",
          "Flatland: A Romance of Many Dimensions",
          "Footprints Festival",
          "Forza Horizon 4",
          "Friday Black",
          "Geyerstein's Dynamiek",
          "God of War (2018)",
          "Groningen 2023: Groninger Museum, Storyworld",
          "Guards! Guards!",
          "Hades",
          "Hallo Witte Mensen",
          "Happy Stories, Mostly",
          "Hard-Boiled Wonderland and the End of the World",
          "Hedvig Mollestad Trio",
          "Het Arcanum",
          "Het Utrechts Archief",
          "Het Utrechts Archief",
          "Het Wrak van de Opulenta",
          "Hi-Fi Rush",
          "How to Build a Sex Room",
          "How to Train Your Dragon: The Hidden World",
          "I Want to Die but I Want to Eat Tteokbokki",
          "INSIDE",
          "Ik, Claudius",
          "In Other Waters",
          "Inscryption",
          "Internationaal Kamermuziek Festival Utrecht Avondconcert",
          "Je Bent Jong en Je Rouwt Wat",
          "Je Kunt Het Maar Eén Keer Doen",
          "Katamari Damacy REROLL",
          "Katana ZERO",
          "Kid A Mnesia Exhibition",
          "King Gizzard and the Wizard Lizard",
          "Kirby and the Forgotten Land",
          "Klara and the Sun",
          "Kroniek van een Aangekondigde Dood",
          "Laat Je Horen!",
          "Legally Blonde",
          "Liefdesdaad",
          "Living Proof",
          "Logicomix",
          "Lolita",
          "Love, Actually",
          "Man's Search for Meaning",
          "Mario + Rabbids: Sparks of Hope",
          "Men at Arms",
          "Metroid Dread",
          "Metroid Prime Remastered",
          "Monstrous Regiment",
          "Monty Python and the Holy Grail",
          "Moving Pictures",
          "Museums and Women and Other Stories",
          "My Uncle Oswald",
          "NEMO Science Museum",
          "Naturalis",
          "Neon White",
          "Neuromancer",
          "NieR: Automata",
          "Nine Tomorrows",
          "North Sea Jazz 2023",
          "Oer en Andere Tijden",
          "Okami HD",
          "Onder Professoren",
          "One Finger Death Punch",
          "One Flew Over the Cuckoo's Nest",
          "Ontjoodst door de Wetenschap",
          "Orelon Trio met Yukine Kuroki",
          "Ori and the Blind Forest",
          "Overcooked 2",
          "Pale Fire",
          "Persona 5 Strikers",
          "Pikmin",
          "Pikmin 2",
          "Pikmin 3 Deluxe",
          "Pikmin 4",
          "Pinkpop 2023",
          "Pokémon Legends: Arceus",
          "Prokofjev en Rachmaninov",
          "Quarantine Circular",
          "REAIM",
          "Rabo Open Stage: Pega Loca",
          "Rabo Open Stage: TivoliVredenburg Jamsessie",
          "Randmeerconcert",
          "Rayman Legends",
          "Return of the Obra Dinn",
          "Rietveld-Schröderhuis",
          "Roshambo, of Waarom we Steen-Papier-Schaar Spelen",
          "Sable",
          "Save Room - Organization Puzzle",
          "Sekiro: Shadows Die Twice",
          "Sekiro: Shadows Die Twice",
          "Shovel Knight: Treasure Trove",
          "Siddharta",
          "Sifu",
          "Small Gods",
          "Sonic Mania",
          "Spider-Man (2018)",
          "Spiritfarer",
          "Splatoon 2",
          "Stardew Valley",
          "Starfield",
          "Stop Making Sense",
          "Stories of Your Life and Others",
          "Sunless Sea",
          "Super Mario 3D World + Bowser's Fury",
          "Super Mario Bros. Wonder",
          "Super Mario Galaxy",
          "Super Mario Maker 2",
          "Super Mario RPG",
          "Super Mario Sunshine",
          "Symphonie Fantastique",
          "Tactical Breach Wizards Beta",
          "Ted",
          "Terraform: Watch/Worlds/Burn",
          "Terraria",
          "The Art of Cuphead",
          "The Art of How to Train Your Dragon",
          "The Capital",
          "The City and the City",
          "The Corridor",
          "The Devil Tree",
          "The Dragon Prince, Book 4: Earth",
          "The Dragon Prince, Book 5: Water",
          "The Fowl Twins",
          "The Last Days of Socrates",
          "The Last Guardian",
          "The Left Hand of Darkness",
          "The Legend of Zelda: A Link Between Worlds",
          "The Legend of Zelda: Breath of the Wild - Creating a Champion",
          "The Legend of Zelda: Tears of the Kingdom",
          "The Legend of Zelda: Twilight Princess, Vol. 2",
          "The MANIAC",
          "The Machine Stops",
          "The Midnight Library",
          "The Night Circus",
          "The Outsider",
          "The Paper Menagerie and Other Stories",
          "The Penelopiad",
          "The Penguin Book of Oulipo",
          "The Republic",
          "The Secret History",
          "The Sexy Brutale",
          "The Southern Book Club's Guide to Slaying Vampires",
          "The Time Traveler's Wife",
          "The Way of Kings, Part 1",
          "This is How You Lose the Time War",
          "Through the Moon",
          "Tunic",
          "UU National Conference on Responsible AI (Spoorwegmuseum)",
          "Uncharted: The Lost Legacy",
          "Videogame Atlas: Mapping Interactive Worlds",
          "WarioWare: Get It Together",
          "Wat Maakt een Verzetsheld?",
          "Wat Wij Zagen",
          "We Need to Talk About Kevin",
          "Webbed",
          "Wegens Sterfgeval Gesloten (Commedia Della Morte)",
          "What Remains of Edith Finch",
          "When Einstein Walked with Gödel",
          "When We Cease to Understand the World",
          "Wij Slaven van Suriname",
          "Wreck-It Ralph",
          "Xenoblade Chronicles 2",
          "Xenoblade Chronicles 3",
          "Yoku's Island Express",
          "Zuid-Frankrijk 2024: Musée du Pont du Gard, Maison Carrée, Arles Amphitheatre",
          "5.0",
          "6.0",
          "6.5",
          "6.5",
          "7.0",
          "7.0",
          "7.0",
          "7.0",
          "7.0",
          "7.5",
          "7.5",
          "7.5",
          "7.5",
          "7.5",
          "8.0",
          "8.0",
          "8.0",
          "8.0",
          "8.0",
          "8.0",
          "8.0",
          "8.5",
          "8.5",
          "8.5",
          "8.5",
          "8.5",
          "8.5",
          "9.0",
          "9.0",
          "9.0",
          "9.0",
          "9.0",
          "9.0",
          "9.5",
          "9.5",
          "9.5",
          "10.0",
          "10.0",
          "10.0",
          "10.0",
          "Book",
          "Cabaret",
          "Concert",
          "Conference",
          "Game",
          "Movie",
          "Museum",
          "Series",
          "Theater"
         ],
         "maxdepth": 2,
         "name": "",
         "parents": [
          "Book/8.5",
          "Book/8.0",
          "Game/9.0",
          "Book/7.5",
          "Book/9.0",
          "Book/8.0",
          "Book/7.0",
          "Book/8.5",
          "Game/8.0",
          "Book/9.5",
          "Book/7.5",
          "Museum/8.0",
          "Game/9.0",
          "Book/8.0",
          "Book/9.0",
          "Book/9.0",
          "Concert/7.5",
          "Game/8.0",
          "Game/8.0",
          "Game/8.0",
          "Game/7.0",
          "Game/9.0",
          "Concert/8.0",
          "Game/8.5",
          "Game/8.5",
          "Book/7.5",
          "Museum/7.0",
          "Concert/8.0",
          "Book/8.5",
          "Book/7.5",
          "Book/9.0",
          "Game/9.0",
          "Book/8.0",
          "Book/8.0",
          "Book/8.5",
          "Concert/7.5",
          "Game/8.5",
          "Book/8.0",
          "Game/9.5",
          "Game/9.0",
          "Museum/9.0",
          "Book/8.5",
          "Book/7.5",
          "Book/8.0",
          "Book/8.0",
          "Game/8.5",
          "Game/8.0",
          "Game/10.0",
          "Book/8.0",
          "Book/7.5",
          "Conference/6.5",
          "Game/10.0",
          "Game/8.5",
          "Game/8.0",
          "Game/8.0",
          "Concert/7.5",
          "Movie/8.5",
          "Movie/9.0",
          "Concert/8.5",
          "Book/9.5",
          "Cabaret/8.0",
          "Game/9.5",
          "Game/10.0",
          "Book/9.5",
          "Concert/8.5",
          "Museum/9.0",
          "Book/10.0",
          "Concert/8.5",
          "Book/8.0",
          "Game/9.0",
          "Book/9.0",
          "Concert/9.5",
          "Game/8.5",
          "Book/9.5",
          "Book/5.0",
          "Game/9.0",
          "Museum/7.5",
          "Book/10.0",
          "Game/10.0",
          "Book/8.0",
          "Book/8.0",
          "Book/9.0",
          "Concert/8.0",
          "Book/8.5",
          "Museum/7.5",
          "Museum/8.0",
          "Theater/9.0",
          "Game/9.0",
          "Series/7.5",
          "Movie/8.0",
          "Book/6.0",
          "Game/7.5",
          "Book/8.0",
          "Game/8.0",
          "Game/8.5",
          "Concert/8.0",
          "Book/7.0",
          "Book/8.0",
          "Game/8.0",
          "Game/8.0",
          "Game/8.0",
          "Concert/10.0",
          "Game/8.5",
          "Book/8.5",
          "Book/7.0",
          "Concert/7.5",
          "Movie/8.0",
          "Concert/9.0",
          "Book/7.5",
          "Book/9.0",
          "Book/8.0",
          "Movie/7.0",
          "Book/7.5",
          "Game/7.0",
          "Book/10.0",
          "Game/9.0",
          "Game/8.5",
          "Book/9.0",
          "Movie/8.5",
          "Book/8.5",
          "Book/7.5",
          "Book/8.5",
          "Museum/7.5",
          "Museum/7.5",
          "Game/9.0",
          "Book/8.0",
          "Game/8.5",
          "Book/9.0",
          "Concert/8.0",
          "Book/9.0",
          "Game/9.0",
          "Book/8.0",
          "Game/9.5",
          "Book/9.0",
          "Book/8.5",
          "Concert/7.5",
          "Game/9.0",
          "Game/9.0",
          "Book/9.0",
          "Game/7.0",
          "Game/7.5",
          "Game/8.5",
          "Game/9.5",
          "Game/10.0",
          "Concert/9.0",
          "Game/9.0",
          "Concert/7.5",
          "Game/8.0",
          "Conference/8.0",
          "Concert/8.0",
          "Concert/8.5",
          "Concert/8.5",
          "Game/9.5",
          "Game/8.0",
          "Museum/9.0",
          "Theater/10.0",
          "Game/9.5",
          "Game/7.5",
          "Game/9.5",
          "Game/10.0",
          "Game/9.0",
          "Book/9.0",
          "Game/9.0",
          "Book/8.5",
          "Game/7.5",
          "Game/8.5",
          "Game/8.5",
          "Game/8.0",
          "Game/9.0",
          "Game/7.5",
          "Movie/8.5",
          "Book/10.0",
          "Game/9.0",
          "Game/9.5",
          "Game/8.0",
          "Game/9.0",
          "Game/9.0",
          "Game/9.0",
          "Game/9.0",
          "Concert/8.5",
          "Game/9.0",
          "Movie/6.5",
          "Book/7.5",
          "Game/9.5",
          "Game/8.0",
          "Book/8.0",
          "Book/7.5",
          "Book/9.0",
          "Game/8.5",
          "Book/8.0",
          "Series/7.0",
          "Series/8.5",
          "Book/8.0",
          "Book/8.5",
          "Game/8.0",
          "Book/8.5",
          "Game/10.0",
          "Book/8.0",
          "Game/10.0",
          "Book/7.5",
          "Book/10.0",
          "Book/7.0",
          "Book/9.0",
          "Book/9.5",
          "Book/9.0",
          "Book/9.0",
          "Book/8.5",
          "Book/7.0",
          "Book/7.5",
          "Book/8.5",
          "Game/8.0",
          "Book/8.0",
          "Book/8.5",
          "Book/9.0",
          "Book/9.0",
          "Book/9.0",
          "Game/9.5",
          "Museum/8.5",
          "Game/8.0",
          "Book/8.0",
          "Game/7.5",
          "Book/7.0",
          "Book/9.0",
          "Book/8.5",
          "Game/9.5",
          "Book/8.5",
          "Game/8.5",
          "Book/9.0",
          "Book/9.5",
          "Book/9.0",
          "Movie/9.0",
          "Game/7.0",
          "Game/8.5",
          "Game/9.0",
          "Museum/9.0",
          "Book",
          "Book",
          "Conference",
          "Movie",
          "Book",
          "Game",
          "Movie",
          "Museum",
          "Series",
          "Book",
          "Concert",
          "Game",
          "Museum",
          "Series",
          "Book",
          "Cabaret",
          "Concert",
          "Conference",
          "Game",
          "Movie",
          "Museum",
          "Book",
          "Concert",
          "Game",
          "Movie",
          "Museum",
          "Series",
          "Book",
          "Concert",
          "Game",
          "Movie",
          "Museum",
          "Theater",
          "Book",
          "Concert",
          "Game",
          "Book",
          "Concert",
          "Game",
          "Theater",
          "",
          "",
          "",
          "",
          "",
          "",
          "",
          "",
          ""
         ],
         "sort": false,
         "type": "sunburst",
         "values": [
          1,
          1,
          1,
          1,
          1,
          1,
          1,
          1,
          1,
          1,
          1,
          1,
          1,
          1,
          1,
          1,
          1,
          1,
          1,
          1,
          1,
          1,
          1,
          1,
          1,
          1,
          1,
          1,
          1,
          1,
          1,
          1,
          1,
          1,
          1,
          1,
          1,
          1,
          1,
          1,
          1,
          1,
          1,
          1,
          1,
          1,
          1,
          1,
          1,
          1,
          1,
          1,
          1,
          1,
          1,
          1,
          1,
          1,
          1,
          1,
          1,
          1,
          1,
          1,
          1,
          1,
          1,
          1,
          1,
          1,
          1,
          1,
          1,
          1,
          1,
          1,
          1,
          1,
          1,
          1,
          1,
          1,
          1,
          1,
          1,
          1,
          1,
          1,
          1,
          1,
          1,
          1,
          1,
          1,
          1,
          1,
          1,
          1,
          1,
          1,
          1,
          1,
          1,
          1,
          1,
          1,
          1,
          1,
          1,
          1,
          1,
          1,
          1,
          1,
          1,
          1,
          1,
          1,
          1,
          1,
          1,
          1,
          1,
          1,
          1,
          1,
          1,
          1,
          1,
          1,
          1,
          1,
          1,
          1,
          1,
          1,
          1,
          1,
          1,
          1,
          1,
          1,
          1,
          1,
          1,
          1,
          1,
          1,
          1,
          1,
          1,
          1,
          1,
          1,
          1,
          1,
          1,
          1,
          1,
          1,
          1,
          1,
          1,
          1,
          1,
          1,
          1,
          1,
          1,
          1,
          1,
          1,
          1,
          1,
          1,
          1,
          1,
          1,
          1,
          1,
          1,
          1,
          1,
          1,
          1,
          1,
          1,
          1,
          1,
          1,
          1,
          1,
          1,
          1,
          1,
          1,
          1,
          1,
          1,
          1,
          1,
          1,
          1,
          1,
          1,
          1,
          1,
          1,
          1,
          1,
          1,
          1,
          1,
          1,
          1,
          1,
          1,
          1,
          1,
          1,
          1,
          1,
          1,
          1,
          1,
          1,
          1,
          1,
          1,
          1,
          1,
          1,
          1,
          1,
          1,
          1,
          1,
          1,
          1,
          6,
          4,
          1,
          1,
          1,
          13,
          6,
          6,
          4,
          1,
          23,
          1,
          6,
          1,
          19,
          2,
          2,
          18,
          6,
          16,
          3,
          1,
          1,
          23,
          2,
          24,
          2,
          4,
          1,
          6,
          1,
          11,
          5,
          1,
          8,
          1,
          96,
          1,
          22,
          2,
          88,
          9,
          12,
          3,
          2
         ]
        }
       ],
       "layout": {
        "legend": {
         "tracegroupgap": 0
        },
        "margin": {
         "b": 5,
         "l": 5,
         "r": 5,
         "t": 5
        },
        "showlegend": false,
        "template": {
         "data": {
          "bar": [
           {
            "error_x": {
             "color": "#2a3f5f"
            },
            "error_y": {
             "color": "#2a3f5f"
            },
            "marker": {
             "line": {
              "color": "#E5ECF6",
              "width": 0.5
             },
             "pattern": {
              "fillmode": "overlay",
              "size": 10,
              "solidity": 0.2
             }
            },
            "type": "bar"
           }
          ],
          "barpolar": [
           {
            "marker": {
             "line": {
              "color": "#E5ECF6",
              "width": 0.5
             },
             "pattern": {
              "fillmode": "overlay",
              "size": 10,
              "solidity": 0.2
             }
            },
            "type": "barpolar"
           }
          ],
          "carpet": [
           {
            "aaxis": {
             "endlinecolor": "#2a3f5f",
             "gridcolor": "white",
             "linecolor": "white",
             "minorgridcolor": "white",
             "startlinecolor": "#2a3f5f"
            },
            "baxis": {
             "endlinecolor": "#2a3f5f",
             "gridcolor": "white",
             "linecolor": "white",
             "minorgridcolor": "white",
             "startlinecolor": "#2a3f5f"
            },
            "type": "carpet"
           }
          ],
          "choropleth": [
           {
            "colorbar": {
             "outlinewidth": 0,
             "ticks": ""
            },
            "type": "choropleth"
           }
          ],
          "contour": [
           {
            "colorbar": {
             "outlinewidth": 0,
             "ticks": ""
            },
            "colorscale": [
             [
              0,
              "#0d0887"
             ],
             [
              0.1111111111111111,
              "#46039f"
             ],
             [
              0.2222222222222222,
              "#7201a8"
             ],
             [
              0.3333333333333333,
              "#9c179e"
             ],
             [
              0.4444444444444444,
              "#bd3786"
             ],
             [
              0.5555555555555556,
              "#d8576b"
             ],
             [
              0.6666666666666666,
              "#ed7953"
             ],
             [
              0.7777777777777778,
              "#fb9f3a"
             ],
             [
              0.8888888888888888,
              "#fdca26"
             ],
             [
              1,
              "#f0f921"
             ]
            ],
            "type": "contour"
           }
          ],
          "contourcarpet": [
           {
            "colorbar": {
             "outlinewidth": 0,
             "ticks": ""
            },
            "type": "contourcarpet"
           }
          ],
          "heatmap": [
           {
            "colorbar": {
             "outlinewidth": 0,
             "ticks": ""
            },
            "colorscale": [
             [
              0,
              "#0d0887"
             ],
             [
              0.1111111111111111,
              "#46039f"
             ],
             [
              0.2222222222222222,
              "#7201a8"
             ],
             [
              0.3333333333333333,
              "#9c179e"
             ],
             [
              0.4444444444444444,
              "#bd3786"
             ],
             [
              0.5555555555555556,
              "#d8576b"
             ],
             [
              0.6666666666666666,
              "#ed7953"
             ],
             [
              0.7777777777777778,
              "#fb9f3a"
             ],
             [
              0.8888888888888888,
              "#fdca26"
             ],
             [
              1,
              "#f0f921"
             ]
            ],
            "type": "heatmap"
           }
          ],
          "heatmapgl": [
           {
            "colorbar": {
             "outlinewidth": 0,
             "ticks": ""
            },
            "colorscale": [
             [
              0,
              "#0d0887"
             ],
             [
              0.1111111111111111,
              "#46039f"
             ],
             [
              0.2222222222222222,
              "#7201a8"
             ],
             [
              0.3333333333333333,
              "#9c179e"
             ],
             [
              0.4444444444444444,
              "#bd3786"
             ],
             [
              0.5555555555555556,
              "#d8576b"
             ],
             [
              0.6666666666666666,
              "#ed7953"
             ],
             [
              0.7777777777777778,
              "#fb9f3a"
             ],
             [
              0.8888888888888888,
              "#fdca26"
             ],
             [
              1,
              "#f0f921"
             ]
            ],
            "type": "heatmapgl"
           }
          ],
          "histogram": [
           {
            "marker": {
             "pattern": {
              "fillmode": "overlay",
              "size": 10,
              "solidity": 0.2
             }
            },
            "type": "histogram"
           }
          ],
          "histogram2d": [
           {
            "colorbar": {
             "outlinewidth": 0,
             "ticks": ""
            },
            "colorscale": [
             [
              0,
              "#0d0887"
             ],
             [
              0.1111111111111111,
              "#46039f"
             ],
             [
              0.2222222222222222,
              "#7201a8"
             ],
             [
              0.3333333333333333,
              "#9c179e"
             ],
             [
              0.4444444444444444,
              "#bd3786"
             ],
             [
              0.5555555555555556,
              "#d8576b"
             ],
             [
              0.6666666666666666,
              "#ed7953"
             ],
             [
              0.7777777777777778,
              "#fb9f3a"
             ],
             [
              0.8888888888888888,
              "#fdca26"
             ],
             [
              1,
              "#f0f921"
             ]
            ],
            "type": "histogram2d"
           }
          ],
          "histogram2dcontour": [
           {
            "colorbar": {
             "outlinewidth": 0,
             "ticks": ""
            },
            "colorscale": [
             [
              0,
              "#0d0887"
             ],
             [
              0.1111111111111111,
              "#46039f"
             ],
             [
              0.2222222222222222,
              "#7201a8"
             ],
             [
              0.3333333333333333,
              "#9c179e"
             ],
             [
              0.4444444444444444,
              "#bd3786"
             ],
             [
              0.5555555555555556,
              "#d8576b"
             ],
             [
              0.6666666666666666,
              "#ed7953"
             ],
             [
              0.7777777777777778,
              "#fb9f3a"
             ],
             [
              0.8888888888888888,
              "#fdca26"
             ],
             [
              1,
              "#f0f921"
             ]
            ],
            "type": "histogram2dcontour"
           }
          ],
          "mesh3d": [
           {
            "colorbar": {
             "outlinewidth": 0,
             "ticks": ""
            },
            "type": "mesh3d"
           }
          ],
          "parcoords": [
           {
            "line": {
             "colorbar": {
              "outlinewidth": 0,
              "ticks": ""
             }
            },
            "type": "parcoords"
           }
          ],
          "pie": [
           {
            "automargin": true,
            "type": "pie"
           }
          ],
          "scatter": [
           {
            "fillpattern": {
             "fillmode": "overlay",
             "size": 10,
             "solidity": 0.2
            },
            "type": "scatter"
           }
          ],
          "scatter3d": [
           {
            "line": {
             "colorbar": {
              "outlinewidth": 0,
              "ticks": ""
             }
            },
            "marker": {
             "colorbar": {
              "outlinewidth": 0,
              "ticks": ""
             }
            },
            "type": "scatter3d"
           }
          ],
          "scattercarpet": [
           {
            "marker": {
             "colorbar": {
              "outlinewidth": 0,
              "ticks": ""
             }
            },
            "type": "scattercarpet"
           }
          ],
          "scattergeo": [
           {
            "marker": {
             "colorbar": {
              "outlinewidth": 0,
              "ticks": ""
             }
            },
            "type": "scattergeo"
           }
          ],
          "scattergl": [
           {
            "marker": {
             "colorbar": {
              "outlinewidth": 0,
              "ticks": ""
             }
            },
            "type": "scattergl"
           }
          ],
          "scattermapbox": [
           {
            "marker": {
             "colorbar": {
              "outlinewidth": 0,
              "ticks": ""
             }
            },
            "type": "scattermapbox"
           }
          ],
          "scatterpolar": [
           {
            "marker": {
             "colorbar": {
              "outlinewidth": 0,
              "ticks": ""
             }
            },
            "type": "scatterpolar"
           }
          ],
          "scatterpolargl": [
           {
            "marker": {
             "colorbar": {
              "outlinewidth": 0,
              "ticks": ""
             }
            },
            "type": "scatterpolargl"
           }
          ],
          "scatterternary": [
           {
            "marker": {
             "colorbar": {
              "outlinewidth": 0,
              "ticks": ""
             }
            },
            "type": "scatterternary"
           }
          ],
          "surface": [
           {
            "colorbar": {
             "outlinewidth": 0,
             "ticks": ""
            },
            "colorscale": [
             [
              0,
              "#0d0887"
             ],
             [
              0.1111111111111111,
              "#46039f"
             ],
             [
              0.2222222222222222,
              "#7201a8"
             ],
             [
              0.3333333333333333,
              "#9c179e"
             ],
             [
              0.4444444444444444,
              "#bd3786"
             ],
             [
              0.5555555555555556,
              "#d8576b"
             ],
             [
              0.6666666666666666,
              "#ed7953"
             ],
             [
              0.7777777777777778,
              "#fb9f3a"
             ],
             [
              0.8888888888888888,
              "#fdca26"
             ],
             [
              1,
              "#f0f921"
             ]
            ],
            "type": "surface"
           }
          ],
          "table": [
           {
            "cells": {
             "fill": {
              "color": "#EBF0F8"
             },
             "line": {
              "color": "white"
             }
            },
            "header": {
             "fill": {
              "color": "#C8D4E3"
             },
             "line": {
              "color": "white"
             }
            },
            "type": "table"
           }
          ]
         },
         "layout": {
          "annotationdefaults": {
           "arrowcolor": "#2a3f5f",
           "arrowhead": 0,
           "arrowwidth": 1
          },
          "autotypenumbers": "strict",
          "coloraxis": {
           "colorbar": {
            "outlinewidth": 0,
            "ticks": ""
           }
          },
          "colorscale": {
           "diverging": [
            [
             0,
             "#8e0152"
            ],
            [
             0.1,
             "#c51b7d"
            ],
            [
             0.2,
             "#de77ae"
            ],
            [
             0.3,
             "#f1b6da"
            ],
            [
             0.4,
             "#fde0ef"
            ],
            [
             0.5,
             "#f7f7f7"
            ],
            [
             0.6,
             "#e6f5d0"
            ],
            [
             0.7,
             "#b8e186"
            ],
            [
             0.8,
             "#7fbc41"
            ],
            [
             0.9,
             "#4d9221"
            ],
            [
             1,
             "#276419"
            ]
           ],
           "sequential": [
            [
             0,
             "#0d0887"
            ],
            [
             0.1111111111111111,
             "#46039f"
            ],
            [
             0.2222222222222222,
             "#7201a8"
            ],
            [
             0.3333333333333333,
             "#9c179e"
            ],
            [
             0.4444444444444444,
             "#bd3786"
            ],
            [
             0.5555555555555556,
             "#d8576b"
            ],
            [
             0.6666666666666666,
             "#ed7953"
            ],
            [
             0.7777777777777778,
             "#fb9f3a"
            ],
            [
             0.8888888888888888,
             "#fdca26"
            ],
            [
             1,
             "#f0f921"
            ]
           ],
           "sequentialminus": [
            [
             0,
             "#0d0887"
            ],
            [
             0.1111111111111111,
             "#46039f"
            ],
            [
             0.2222222222222222,
             "#7201a8"
            ],
            [
             0.3333333333333333,
             "#9c179e"
            ],
            [
             0.4444444444444444,
             "#bd3786"
            ],
            [
             0.5555555555555556,
             "#d8576b"
            ],
            [
             0.6666666666666666,
             "#ed7953"
            ],
            [
             0.7777777777777778,
             "#fb9f3a"
            ],
            [
             0.8888888888888888,
             "#fdca26"
            ],
            [
             1,
             "#f0f921"
            ]
           ]
          },
          "colorway": [
           "#636efa",
           "#EF553B",
           "#00cc96",
           "#ab63fa",
           "#FFA15A",
           "#19d3f3",
           "#FF6692",
           "#B6E880",
           "#FF97FF",
           "#FECB52"
          ],
          "font": {
           "color": "#2a3f5f"
          },
          "geo": {
           "bgcolor": "white",
           "lakecolor": "white",
           "landcolor": "#E5ECF6",
           "showlakes": true,
           "showland": true,
           "subunitcolor": "white"
          },
          "hoverlabel": {
           "align": "left"
          },
          "hovermode": "closest",
          "mapbox": {
           "style": "light"
          },
          "paper_bgcolor": "white",
          "plot_bgcolor": "#E5ECF6",
          "polar": {
           "angularaxis": {
            "gridcolor": "white",
            "linecolor": "white",
            "ticks": ""
           },
           "bgcolor": "#E5ECF6",
           "radialaxis": {
            "gridcolor": "white",
            "linecolor": "white",
            "ticks": ""
           }
          },
          "scene": {
           "xaxis": {
            "backgroundcolor": "#E5ECF6",
            "gridcolor": "white",
            "gridwidth": 2,
            "linecolor": "white",
            "showbackground": true,
            "ticks": "",
            "zerolinecolor": "white"
           },
           "yaxis": {
            "backgroundcolor": "#E5ECF6",
            "gridcolor": "white",
            "gridwidth": 2,
            "linecolor": "white",
            "showbackground": true,
            "ticks": "",
            "zerolinecolor": "white"
           },
           "zaxis": {
            "backgroundcolor": "#E5ECF6",
            "gridcolor": "white",
            "gridwidth": 2,
            "linecolor": "white",
            "showbackground": true,
            "ticks": "",
            "zerolinecolor": "white"
           }
          },
          "shapedefaults": {
           "line": {
            "color": "#2a3f5f"
           }
          },
          "ternary": {
           "aaxis": {
            "gridcolor": "white",
            "linecolor": "white",
            "ticks": ""
           },
           "baxis": {
            "gridcolor": "white",
            "linecolor": "white",
            "ticks": ""
           },
           "bgcolor": "#E5ECF6",
           "caxis": {
            "gridcolor": "white",
            "linecolor": "white",
            "ticks": ""
           }
          },
          "title": {
           "x": 0.05
          },
          "xaxis": {
           "automargin": true,
           "gridcolor": "white",
           "linecolor": "white",
           "ticks": "",
           "title": {
            "standoff": 15
           },
           "zerolinecolor": "white",
           "zerolinewidth": 2
          },
          "yaxis": {
           "automargin": true,
           "gridcolor": "white",
           "linecolor": "white",
           "ticks": "",
           "title": {
            "standoff": 15
           },
           "zerolinecolor": "white",
           "zerolinewidth": 2
          }
         }
        }
       }
      }
     },
     "metadata": {},
     "output_type": "display_data"
    }
   ],
   "source": [
    "import plotly.express as px\n",
    "def rounder(score):\n",
    "    score = float(round(score*2))/2\n",
    "    #if score == 10:\n",
    "    #    return \"score≈\" + str(9.9)\n",
    "    #return \"score≈\" + str(score)\n",
    "    return score\n",
    "\n",
    "def counter(type, score):\n",
    "    return len(df4[(df4['type'] == type) & (df4['score'] == score)])\n",
    "\n",
    "df4 = df.copy()\n",
    "#df4 = df4.groupby(['type', 'score']).size().rename_axis(['type', 'score']).reset_index(name='counts')\n",
    "df4['counts'] = df4.apply(lambda x: counter(x.type, x.score), axis=1)\n",
    "df4['scoreactual'] = df4['score'].apply(lambda x: rounder(x))\n",
    "df4 = df4.sort_values(by=['type', 'score'])\n",
    "fig = px.sunburst(df4, path=['type', 'scoreactual', 'name'], \n",
    "                  labels=[''], maxdepth=2,\n",
    "                    hover_data={\n",
    "                    })\n",
    "fig.update_layout(margin={'t':5,'l':5,'b':5,'r':5}, showlegend=False)\n",
    "fig.update_traces(sort=False, hovertemplate='<b>Amount: %{value} </b><br>%{label}')\n",
    "fig.show()"
   ]
  },
  {
   "cell_type": "markdown",
   "metadata": {},
   "source": [
    "## How much?"
   ]
  },
  {
   "cell_type": "code",
   "execution_count": 4,
   "metadata": {
    "tags": [
     "remove-input"
    ]
   },
   "outputs": [
    {
     "data": {
      "application/vnd.plotly.v1+json": {
       "config": {
        "plotlyServerURL": "https://plot.ly"
       },
       "data": [
        {
         "customdata": [
          [
           "Book"
          ],
          [
           "Book"
          ],
          [
           "Book"
          ],
          [
           "Book"
          ],
          [
           "Book"
          ],
          [
           "Book"
          ],
          [
           "Book"
          ],
          [
           "Book"
          ],
          [
           "Book"
          ],
          [
           "Book"
          ],
          [
           "Book"
          ],
          [
           "Book"
          ]
         ],
         "hovertemplate": "Year=2021<extra></extra>",
         "legendgroup": "2021",
         "line": {
          "color": "#636efa",
          "dash": "solid"
         },
         "marker": {
          "symbol": "circle"
         },
         "mode": "lines",
         "name": "2021",
         "orientation": "v",
         "showlegend": true,
         "type": "scatter",
         "x": [
          "01",
          "02",
          "03",
          "04",
          "05",
          "06",
          "07",
          "08",
          "09",
          "10",
          "11",
          "12"
         ],
         "xaxis": "x",
         "y": [
          1,
          4,
          5,
          2,
          2,
          3,
          2,
          3,
          3,
          2,
          3,
          4
         ],
         "yaxis": "y"
        },
        {
         "customdata": [
          [
           "Book"
          ],
          [
           "Book"
          ],
          [
           "Book"
          ],
          [
           "Book"
          ],
          [
           "Book"
          ],
          [
           "Book"
          ],
          [
           "Book"
          ],
          [
           "Book"
          ],
          [
           "Book"
          ],
          [
           "Book"
          ],
          [
           "Book"
          ],
          [
           "Book"
          ]
         ],
         "hovertemplate": "Year=2022<extra></extra>",
         "legendgroup": "2022",
         "line": {
          "color": "#EF553B",
          "dash": "solid"
         },
         "marker": {
          "symbol": "circle"
         },
         "mode": "lines",
         "name": "2022",
         "orientation": "v",
         "showlegend": true,
         "type": "scatter",
         "x": [
          "01",
          "02",
          "03",
          "04",
          "05",
          "06",
          "07",
          "08",
          "09",
          "10",
          "11",
          "12"
         ],
         "xaxis": "x",
         "y": [
          4,
          3,
          3,
          4,
          1,
          1,
          1,
          0,
          2,
          1,
          2,
          3
         ],
         "yaxis": "y"
        },
        {
         "customdata": [
          [
           "Book"
          ],
          [
           "Book"
          ],
          [
           "Book"
          ],
          [
           "Book"
          ],
          [
           "Book"
          ],
          [
           "Book"
          ],
          [
           "Book"
          ],
          [
           "Book"
          ],
          [
           "Book"
          ],
          [
           "Book"
          ],
          [
           "Book"
          ],
          [
           "Book"
          ]
         ],
         "hovertemplate": "Year=2023<extra></extra>",
         "legendgroup": "2023",
         "line": {
          "color": "#00cc96",
          "dash": "solid"
         },
         "marker": {
          "symbol": "circle"
         },
         "mode": "lines",
         "name": "2023",
         "orientation": "v",
         "showlegend": true,
         "type": "scatter",
         "x": [
          "01",
          "02",
          "03",
          "04",
          "05",
          "06",
          "07",
          "08",
          "09",
          "10",
          "11",
          "12"
         ],
         "xaxis": "x",
         "y": [
          2,
          3,
          0,
          3,
          1,
          2,
          2,
          1,
          2,
          4,
          3,
          2
         ],
         "yaxis": "y"
        },
        {
         "customdata": [
          [
           "Book"
          ],
          [
           "Book"
          ],
          [
           "Book"
          ],
          [
           "Book"
          ],
          [
           "Book"
          ],
          [
           "Book"
          ],
          [
           "Book"
          ],
          [
           "Book"
          ],
          [
           "Book"
          ],
          [
           "Book"
          ],
          [
           "Book"
          ],
          [
           "Book"
          ]
         ],
         "hovertemplate": "Year=2024<extra></extra>",
         "legendgroup": "2024",
         "line": {
          "color": "#ab63fa",
          "dash": "solid"
         },
         "marker": {
          "symbol": "circle"
         },
         "mode": "lines",
         "name": "2024",
         "orientation": "v",
         "showlegend": true,
         "type": "scatter",
         "x": [
          "01",
          "02",
          "03",
          "04",
          "05",
          "06",
          "07",
          "08",
          "09",
          "10",
          "11",
          "12"
         ],
         "xaxis": "x",
         "y": [
          3,
          2,
          4,
          2,
          1,
          0,
          0,
          0,
          0,
          0,
          0,
          0
         ],
         "yaxis": "y"
        },
        {
         "customdata": [
          [
           "Book"
          ],
          [
           "Book"
          ],
          [
           "Book"
          ],
          [
           "Book"
          ],
          [
           "Book"
          ],
          [
           "Book"
          ],
          [
           "Book"
          ],
          [
           "Book"
          ],
          [
           "Book"
          ],
          [
           "Book"
          ],
          [
           "Book"
          ],
          [
           "Book"
          ]
         ],
         "hovertemplate": "Year=Mean<extra></extra>",
         "legendgroup": "Mean",
         "line": {
          "color": "#FFA15A",
          "dash": "solid"
         },
         "marker": {
          "symbol": "circle"
         },
         "mode": "lines",
         "name": "Mean",
         "orientation": "v",
         "showlegend": true,
         "type": "scatter",
         "x": [
          "01",
          "02",
          "03",
          "04",
          "05",
          "06",
          "07",
          "08",
          "09",
          "10",
          "11",
          "12"
         ],
         "xaxis": "x",
         "y": [
          2.5,
          3,
          3,
          2.75,
          1.25,
          1.5,
          1.25,
          1,
          1.75,
          1.75,
          2,
          2.25
         ],
         "yaxis": "y"
        }
       ],
       "frames": [
        {
         "data": [
          {
           "customdata": [
            [
             "Book"
            ],
            [
             "Book"
            ],
            [
             "Book"
            ],
            [
             "Book"
            ],
            [
             "Book"
            ],
            [
             "Book"
            ],
            [
             "Book"
            ],
            [
             "Book"
            ],
            [
             "Book"
            ],
            [
             "Book"
            ],
            [
             "Book"
            ],
            [
             "Book"
            ]
           ],
           "hovertemplate": "Year=2021<extra></extra>",
           "legendgroup": "2021",
           "line": {
            "color": "#636efa",
            "dash": "solid"
           },
           "marker": {
            "symbol": "circle"
           },
           "mode": "lines",
           "name": "2021",
           "orientation": "v",
           "showlegend": true,
           "type": "scatter",
           "x": [
            "01",
            "02",
            "03",
            "04",
            "05",
            "06",
            "07",
            "08",
            "09",
            "10",
            "11",
            "12"
           ],
           "xaxis": "x",
           "y": [
            1,
            4,
            5,
            2,
            2,
            3,
            2,
            3,
            3,
            2,
            3,
            4
           ],
           "yaxis": "y"
          },
          {
           "customdata": [
            [
             "Book"
            ],
            [
             "Book"
            ],
            [
             "Book"
            ],
            [
             "Book"
            ],
            [
             "Book"
            ],
            [
             "Book"
            ],
            [
             "Book"
            ],
            [
             "Book"
            ],
            [
             "Book"
            ],
            [
             "Book"
            ],
            [
             "Book"
            ],
            [
             "Book"
            ]
           ],
           "hovertemplate": "Year=2022<extra></extra>",
           "legendgroup": "2022",
           "line": {
            "color": "#EF553B",
            "dash": "solid"
           },
           "marker": {
            "symbol": "circle"
           },
           "mode": "lines",
           "name": "2022",
           "orientation": "v",
           "showlegend": true,
           "type": "scatter",
           "x": [
            "01",
            "02",
            "03",
            "04",
            "05",
            "06",
            "07",
            "08",
            "09",
            "10",
            "11",
            "12"
           ],
           "xaxis": "x",
           "y": [
            4,
            3,
            3,
            4,
            1,
            1,
            1,
            0,
            2,
            1,
            2,
            3
           ],
           "yaxis": "y"
          },
          {
           "customdata": [
            [
             "Book"
            ],
            [
             "Book"
            ],
            [
             "Book"
            ],
            [
             "Book"
            ],
            [
             "Book"
            ],
            [
             "Book"
            ],
            [
             "Book"
            ],
            [
             "Book"
            ],
            [
             "Book"
            ],
            [
             "Book"
            ],
            [
             "Book"
            ],
            [
             "Book"
            ]
           ],
           "hovertemplate": "Year=2023<extra></extra>",
           "legendgroup": "2023",
           "line": {
            "color": "#00cc96",
            "dash": "solid"
           },
           "marker": {
            "symbol": "circle"
           },
           "mode": "lines",
           "name": "2023",
           "orientation": "v",
           "showlegend": true,
           "type": "scatter",
           "x": [
            "01",
            "02",
            "03",
            "04",
            "05",
            "06",
            "07",
            "08",
            "09",
            "10",
            "11",
            "12"
           ],
           "xaxis": "x",
           "y": [
            2,
            3,
            0,
            3,
            1,
            2,
            2,
            1,
            2,
            4,
            3,
            2
           ],
           "yaxis": "y"
          },
          {
           "customdata": [
            [
             "Book"
            ],
            [
             "Book"
            ],
            [
             "Book"
            ],
            [
             "Book"
            ],
            [
             "Book"
            ],
            [
             "Book"
            ],
            [
             "Book"
            ],
            [
             "Book"
            ],
            [
             "Book"
            ],
            [
             "Book"
            ],
            [
             "Book"
            ],
            [
             "Book"
            ]
           ],
           "hovertemplate": "Year=2024<extra></extra>",
           "legendgroup": "2024",
           "line": {
            "color": "#ab63fa",
            "dash": "solid"
           },
           "marker": {
            "symbol": "circle"
           },
           "mode": "lines",
           "name": "2024",
           "orientation": "v",
           "showlegend": true,
           "type": "scatter",
           "x": [
            "01",
            "02",
            "03",
            "04",
            "05",
            "06",
            "07",
            "08",
            "09",
            "10",
            "11",
            "12"
           ],
           "xaxis": "x",
           "y": [
            3,
            2,
            4,
            2,
            1,
            0,
            0,
            0,
            0,
            0,
            0,
            0
           ],
           "yaxis": "y"
          },
          {
           "customdata": [
            [
             "Book"
            ],
            [
             "Book"
            ],
            [
             "Book"
            ],
            [
             "Book"
            ],
            [
             "Book"
            ],
            [
             "Book"
            ],
            [
             "Book"
            ],
            [
             "Book"
            ],
            [
             "Book"
            ],
            [
             "Book"
            ],
            [
             "Book"
            ],
            [
             "Book"
            ]
           ],
           "hovertemplate": "Year=Mean<extra></extra>",
           "legendgroup": "Mean",
           "line": {
            "color": "#FFA15A",
            "dash": "solid"
           },
           "marker": {
            "symbol": "circle"
           },
           "mode": "lines",
           "name": "Mean",
           "orientation": "v",
           "showlegend": true,
           "type": "scatter",
           "x": [
            "01",
            "02",
            "03",
            "04",
            "05",
            "06",
            "07",
            "08",
            "09",
            "10",
            "11",
            "12"
           ],
           "xaxis": "x",
           "y": [
            2.5,
            3,
            3,
            2.75,
            1.25,
            1.5,
            1.25,
            1,
            1.75,
            1.75,
            2,
            2.25
           ],
           "yaxis": "y"
          }
         ],
         "name": "Book"
        },
        {
         "data": [
          {
           "customdata": [
            [
             "Game"
            ],
            [
             "Game"
            ],
            [
             "Game"
            ],
            [
             "Game"
            ],
            [
             "Game"
            ],
            [
             "Game"
            ],
            [
             "Game"
            ],
            [
             "Game"
            ],
            [
             "Game"
            ],
            [
             "Game"
            ],
            [
             "Game"
            ],
            [
             "Game"
            ]
           ],
           "hovertemplate": "Year=2021<extra></extra>",
           "legendgroup": "2021",
           "line": {
            "color": "#636efa",
            "dash": "solid"
           },
           "marker": {
            "symbol": "circle"
           },
           "mode": "lines",
           "name": "2021",
           "orientation": "v",
           "showlegend": true,
           "type": "scatter",
           "x": [
            "01",
            "02",
            "03",
            "04",
            "05",
            "06",
            "07",
            "08",
            "09",
            "10",
            "11",
            "12"
           ],
           "xaxis": "x",
           "y": [
            2,
            3,
            2,
            2,
            3,
            2,
            7,
            5,
            2,
            1,
            2,
            1
           ],
           "yaxis": "y"
          },
          {
           "customdata": [
            [
             "Game"
            ],
            [
             "Game"
            ],
            [
             "Game"
            ],
            [
             "Game"
            ],
            [
             "Game"
            ],
            [
             "Game"
            ],
            [
             "Game"
            ],
            [
             "Game"
            ],
            [
             "Game"
            ],
            [
             "Game"
            ],
            [
             "Game"
            ],
            [
             "Game"
            ]
           ],
           "hovertemplate": "Year=2022<extra></extra>",
           "legendgroup": "2022",
           "line": {
            "color": "#EF553B",
            "dash": "solid"
           },
           "marker": {
            "symbol": "circle"
           },
           "mode": "lines",
           "name": "2022",
           "orientation": "v",
           "showlegend": true,
           "type": "scatter",
           "x": [
            "01",
            "02",
            "03",
            "04",
            "05",
            "06",
            "07",
            "08",
            "09",
            "10",
            "11",
            "12"
           ],
           "xaxis": "x",
           "y": [
            2,
            2,
            2,
            1,
            1,
            3,
            1,
            1,
            0,
            0,
            1,
            3
           ],
           "yaxis": "y"
          },
          {
           "customdata": [
            [
             "Game"
            ],
            [
             "Game"
            ],
            [
             "Game"
            ],
            [
             "Game"
            ],
            [
             "Game"
            ],
            [
             "Game"
            ],
            [
             "Game"
            ],
            [
             "Game"
            ],
            [
             "Game"
            ],
            [
             "Game"
            ],
            [
             "Game"
            ],
            [
             "Game"
            ]
           ],
           "hovertemplate": "Year=2023<extra></extra>",
           "legendgroup": "2023",
           "line": {
            "color": "#00cc96",
            "dash": "solid"
           },
           "marker": {
            "symbol": "circle"
           },
           "mode": "lines",
           "name": "2023",
           "orientation": "v",
           "showlegend": true,
           "type": "scatter",
           "x": [
            "01",
            "02",
            "03",
            "04",
            "05",
            "06",
            "07",
            "08",
            "09",
            "10",
            "11",
            "12"
           ],
           "xaxis": "x",
           "y": [
            6,
            2,
            2,
            0,
            1,
            2,
            3,
            2,
            5,
            2,
            2,
            3
           ],
           "yaxis": "y"
          },
          {
           "customdata": [
            [
             "Game"
            ],
            [
             "Game"
            ],
            [
             "Game"
            ],
            [
             "Game"
            ],
            [
             "Game"
            ],
            [
             "Game"
            ],
            [
             "Game"
            ],
            [
             "Game"
            ],
            [
             "Game"
            ],
            [
             "Game"
            ],
            [
             "Game"
            ],
            [
             "Game"
            ]
           ],
           "hovertemplate": "Year=2024<extra></extra>",
           "legendgroup": "2024",
           "line": {
            "color": "#ab63fa",
            "dash": "solid"
           },
           "marker": {
            "symbol": "circle"
           },
           "mode": "lines",
           "name": "2024",
           "orientation": "v",
           "showlegend": true,
           "type": "scatter",
           "x": [
            "01",
            "02",
            "03",
            "04",
            "05",
            "06",
            "07",
            "08",
            "09",
            "10",
            "11",
            "12"
           ],
           "xaxis": "x",
           "y": [
            1,
            2,
            2,
            1,
            3,
            0,
            0,
            0,
            0,
            0,
            0,
            0
           ],
           "yaxis": "y"
          },
          {
           "customdata": [
            [
             "Game"
            ],
            [
             "Game"
            ],
            [
             "Game"
            ],
            [
             "Game"
            ],
            [
             "Game"
            ],
            [
             "Game"
            ],
            [
             "Game"
            ],
            [
             "Game"
            ],
            [
             "Game"
            ],
            [
             "Game"
            ],
            [
             "Game"
            ],
            [
             "Game"
            ]
           ],
           "hovertemplate": "Year=Mean<extra></extra>",
           "legendgroup": "Mean",
           "line": {
            "color": "#FFA15A",
            "dash": "solid"
           },
           "marker": {
            "symbol": "circle"
           },
           "mode": "lines",
           "name": "Mean",
           "orientation": "v",
           "showlegend": true,
           "type": "scatter",
           "x": [
            "01",
            "02",
            "03",
            "04",
            "05",
            "06",
            "07",
            "08",
            "09",
            "10",
            "11",
            "12"
           ],
           "xaxis": "x",
           "y": [
            2.75,
            2.25,
            2,
            1,
            2,
            1.75,
            2.75,
            2,
            1.75,
            0.75,
            1.25,
            1.75
           ],
           "yaxis": "y"
          }
         ],
         "name": "Game"
        },
        {
         "data": [
          {
           "customdata": [
            [
             "Cabaret"
            ],
            [
             "Cabaret"
            ],
            [
             "Cabaret"
            ],
            [
             "Cabaret"
            ],
            [
             "Cabaret"
            ],
            [
             "Cabaret"
            ],
            [
             "Cabaret"
            ],
            [
             "Cabaret"
            ],
            [
             "Cabaret"
            ],
            [
             "Cabaret"
            ],
            [
             "Cabaret"
            ],
            [
             "Cabaret"
            ]
           ],
           "hovertemplate": "Year=2021<extra></extra>",
           "legendgroup": "2021",
           "line": {
            "color": "#636efa",
            "dash": "solid"
           },
           "marker": {
            "symbol": "circle"
           },
           "mode": "lines",
           "name": "2021",
           "orientation": "v",
           "showlegend": true,
           "type": "scatter",
           "x": [
            "01",
            "02",
            "03",
            "04",
            "05",
            "06",
            "07",
            "08",
            "09",
            "10",
            "11",
            "12"
           ],
           "xaxis": "x",
           "y": [
            0,
            0,
            0,
            0,
            0,
            0,
            0,
            0,
            0,
            0,
            0,
            0
           ],
           "yaxis": "y"
          },
          {
           "customdata": [
            [
             "Cabaret"
            ],
            [
             "Cabaret"
            ],
            [
             "Cabaret"
            ],
            [
             "Cabaret"
            ],
            [
             "Cabaret"
            ],
            [
             "Cabaret"
            ],
            [
             "Cabaret"
            ],
            [
             "Cabaret"
            ],
            [
             "Cabaret"
            ],
            [
             "Cabaret"
            ],
            [
             "Cabaret"
            ],
            [
             "Cabaret"
            ]
           ],
           "hovertemplate": "Year=2022<extra></extra>",
           "legendgroup": "2022",
           "line": {
            "color": "#EF553B",
            "dash": "solid"
           },
           "marker": {
            "symbol": "circle"
           },
           "mode": "lines",
           "name": "2022",
           "orientation": "v",
           "showlegend": true,
           "type": "scatter",
           "x": [
            "01",
            "02",
            "03",
            "04",
            "05",
            "06",
            "07",
            "08",
            "09",
            "10",
            "11",
            "12"
           ],
           "xaxis": "x",
           "y": [
            0,
            0,
            0,
            0,
            1,
            0,
            0,
            0,
            0,
            0,
            0,
            0
           ],
           "yaxis": "y"
          },
          {
           "customdata": [
            [
             "Cabaret"
            ],
            [
             "Cabaret"
            ],
            [
             "Cabaret"
            ],
            [
             "Cabaret"
            ],
            [
             "Cabaret"
            ],
            [
             "Cabaret"
            ],
            [
             "Cabaret"
            ],
            [
             "Cabaret"
            ],
            [
             "Cabaret"
            ],
            [
             "Cabaret"
            ],
            [
             "Cabaret"
            ],
            [
             "Cabaret"
            ]
           ],
           "hovertemplate": "Year=2023<extra></extra>",
           "legendgroup": "2023",
           "line": {
            "color": "#00cc96",
            "dash": "solid"
           },
           "marker": {
            "symbol": "circle"
           },
           "mode": "lines",
           "name": "2023",
           "orientation": "v",
           "showlegend": true,
           "type": "scatter",
           "x": [
            "01",
            "02",
            "03",
            "04",
            "05",
            "06",
            "07",
            "08",
            "09",
            "10",
            "11",
            "12"
           ],
           "xaxis": "x",
           "y": [
            0,
            0,
            0,
            0,
            0,
            0,
            0,
            0,
            0,
            0,
            0,
            0
           ],
           "yaxis": "y"
          },
          {
           "customdata": [
            [
             "Cabaret"
            ],
            [
             "Cabaret"
            ],
            [
             "Cabaret"
            ],
            [
             "Cabaret"
            ],
            [
             "Cabaret"
            ],
            [
             "Cabaret"
            ],
            [
             "Cabaret"
            ],
            [
             "Cabaret"
            ],
            [
             "Cabaret"
            ],
            [
             "Cabaret"
            ],
            [
             "Cabaret"
            ],
            [
             "Cabaret"
            ]
           ],
           "hovertemplate": "Year=2024<extra></extra>",
           "legendgroup": "2024",
           "line": {
            "color": "#ab63fa",
            "dash": "solid"
           },
           "marker": {
            "symbol": "circle"
           },
           "mode": "lines",
           "name": "2024",
           "orientation": "v",
           "showlegend": true,
           "type": "scatter",
           "x": [
            "01",
            "02",
            "03",
            "04",
            "05",
            "06",
            "07",
            "08",
            "09",
            "10",
            "11",
            "12"
           ],
           "xaxis": "x",
           "y": [
            0,
            0,
            0,
            0,
            0,
            0,
            0,
            0,
            0,
            0,
            0,
            0
           ],
           "yaxis": "y"
          },
          {
           "customdata": [
            [
             "Cabaret"
            ],
            [
             "Cabaret"
            ],
            [
             "Cabaret"
            ],
            [
             "Cabaret"
            ],
            [
             "Cabaret"
            ],
            [
             "Cabaret"
            ],
            [
             "Cabaret"
            ],
            [
             "Cabaret"
            ],
            [
             "Cabaret"
            ],
            [
             "Cabaret"
            ],
            [
             "Cabaret"
            ],
            [
             "Cabaret"
            ]
           ],
           "hovertemplate": "Year=Mean<extra></extra>",
           "legendgroup": "Mean",
           "line": {
            "color": "#FFA15A",
            "dash": "solid"
           },
           "marker": {
            "symbol": "circle"
           },
           "mode": "lines",
           "name": "Mean",
           "orientation": "v",
           "showlegend": true,
           "type": "scatter",
           "x": [
            "01",
            "02",
            "03",
            "04",
            "05",
            "06",
            "07",
            "08",
            "09",
            "10",
            "11",
            "12"
           ],
           "xaxis": "x",
           "y": [
            0,
            0,
            0,
            0,
            0.25,
            0,
            0,
            0,
            0,
            0,
            0,
            0
           ],
           "yaxis": "y"
          }
         ],
         "name": "Cabaret"
        },
        {
         "data": [
          {
           "customdata": [
            [
             "Concert"
            ],
            [
             "Concert"
            ],
            [
             "Concert"
            ],
            [
             "Concert"
            ],
            [
             "Concert"
            ],
            [
             "Concert"
            ],
            [
             "Concert"
            ],
            [
             "Concert"
            ],
            [
             "Concert"
            ],
            [
             "Concert"
            ],
            [
             "Concert"
            ],
            [
             "Concert"
            ]
           ],
           "hovertemplate": "Year=2021<extra></extra>",
           "legendgroup": "2021",
           "line": {
            "color": "#636efa",
            "dash": "solid"
           },
           "marker": {
            "symbol": "circle"
           },
           "mode": "lines",
           "name": "2021",
           "orientation": "v",
           "showlegend": true,
           "type": "scatter",
           "x": [
            "01",
            "02",
            "03",
            "04",
            "05",
            "06",
            "07",
            "08",
            "09",
            "10",
            "11",
            "12"
           ],
           "xaxis": "x",
           "y": [
            0,
            0,
            0,
            0,
            0,
            0,
            0,
            0,
            0,
            0,
            0,
            0
           ],
           "yaxis": "y"
          },
          {
           "customdata": [
            [
             "Concert"
            ],
            [
             "Concert"
            ],
            [
             "Concert"
            ],
            [
             "Concert"
            ],
            [
             "Concert"
            ],
            [
             "Concert"
            ],
            [
             "Concert"
            ],
            [
             "Concert"
            ],
            [
             "Concert"
            ],
            [
             "Concert"
            ],
            [
             "Concert"
            ],
            [
             "Concert"
            ]
           ],
           "hovertemplate": "Year=2022<extra></extra>",
           "legendgroup": "2022",
           "line": {
            "color": "#EF553B",
            "dash": "solid"
           },
           "marker": {
            "symbol": "circle"
           },
           "mode": "lines",
           "name": "2022",
           "orientation": "v",
           "showlegend": true,
           "type": "scatter",
           "x": [
            "01",
            "02",
            "03",
            "04",
            "05",
            "06",
            "07",
            "08",
            "09",
            "10",
            "11",
            "12"
           ],
           "xaxis": "x",
           "y": [
            0,
            0,
            0,
            0,
            1,
            0,
            0,
            0,
            0,
            0,
            2,
            2
           ],
           "yaxis": "y"
          },
          {
           "customdata": [
            [
             "Concert"
            ],
            [
             "Concert"
            ],
            [
             "Concert"
            ],
            [
             "Concert"
            ],
            [
             "Concert"
            ],
            [
             "Concert"
            ],
            [
             "Concert"
            ],
            [
             "Concert"
            ],
            [
             "Concert"
            ],
            [
             "Concert"
            ],
            [
             "Concert"
            ],
            [
             "Concert"
            ]
           ],
           "hovertemplate": "Year=2023<extra></extra>",
           "legendgroup": "2023",
           "line": {
            "color": "#00cc96",
            "dash": "solid"
           },
           "marker": {
            "symbol": "circle"
           },
           "mode": "lines",
           "name": "2023",
           "orientation": "v",
           "showlegend": true,
           "type": "scatter",
           "x": [
            "01",
            "02",
            "03",
            "04",
            "05",
            "06",
            "07",
            "08",
            "09",
            "10",
            "11",
            "12"
           ],
           "xaxis": "x",
           "y": [
            0,
            1,
            2,
            0,
            0,
            3,
            2,
            0,
            0,
            2,
            1,
            1
           ],
           "yaxis": "y"
          },
          {
           "customdata": [
            [
             "Concert"
            ],
            [
             "Concert"
            ],
            [
             "Concert"
            ],
            [
             "Concert"
            ],
            [
             "Concert"
            ],
            [
             "Concert"
            ],
            [
             "Concert"
            ],
            [
             "Concert"
            ],
            [
             "Concert"
            ],
            [
             "Concert"
            ],
            [
             "Concert"
            ],
            [
             "Concert"
            ]
           ],
           "hovertemplate": "Year=2024<extra></extra>",
           "legendgroup": "2024",
           "line": {
            "color": "#ab63fa",
            "dash": "solid"
           },
           "marker": {
            "symbol": "circle"
           },
           "mode": "lines",
           "name": "2024",
           "orientation": "v",
           "showlegend": true,
           "type": "scatter",
           "x": [
            "01",
            "02",
            "03",
            "04",
            "05",
            "06",
            "07",
            "08",
            "09",
            "10",
            "11",
            "12"
           ],
           "xaxis": "x",
           "y": [
            0,
            2,
            0,
            1,
            2,
            0,
            0,
            0,
            0,
            0,
            0,
            0
           ],
           "yaxis": "y"
          },
          {
           "customdata": [
            [
             "Concert"
            ],
            [
             "Concert"
            ],
            [
             "Concert"
            ],
            [
             "Concert"
            ],
            [
             "Concert"
            ],
            [
             "Concert"
            ],
            [
             "Concert"
            ],
            [
             "Concert"
            ],
            [
             "Concert"
            ],
            [
             "Concert"
            ],
            [
             "Concert"
            ],
            [
             "Concert"
            ]
           ],
           "hovertemplate": "Year=Mean<extra></extra>",
           "legendgroup": "Mean",
           "line": {
            "color": "#FFA15A",
            "dash": "solid"
           },
           "marker": {
            "symbol": "circle"
           },
           "mode": "lines",
           "name": "Mean",
           "orientation": "v",
           "showlegend": true,
           "type": "scatter",
           "x": [
            "01",
            "02",
            "03",
            "04",
            "05",
            "06",
            "07",
            "08",
            "09",
            "10",
            "11",
            "12"
           ],
           "xaxis": "x",
           "y": [
            0,
            0.75,
            0.5,
            0.25,
            0.75,
            0.75,
            0.5,
            0,
            0,
            0.5,
            0.75,
            0.75
           ],
           "yaxis": "y"
          }
         ],
         "name": "Concert"
        },
        {
         "data": [
          {
           "customdata": [
            [
             "Conference"
            ],
            [
             "Conference"
            ],
            [
             "Conference"
            ],
            [
             "Conference"
            ],
            [
             "Conference"
            ],
            [
             "Conference"
            ],
            [
             "Conference"
            ],
            [
             "Conference"
            ],
            [
             "Conference"
            ],
            [
             "Conference"
            ],
            [
             "Conference"
            ],
            [
             "Conference"
            ]
           ],
           "hovertemplate": "Year=2021<extra></extra>",
           "legendgroup": "2021",
           "line": {
            "color": "#636efa",
            "dash": "solid"
           },
           "marker": {
            "symbol": "circle"
           },
           "mode": "lines",
           "name": "2021",
           "orientation": "v",
           "showlegend": true,
           "type": "scatter",
           "x": [
            "01",
            "02",
            "03",
            "04",
            "05",
            "06",
            "07",
            "08",
            "09",
            "10",
            "11",
            "12"
           ],
           "xaxis": "x",
           "y": [
            0,
            0,
            0,
            0,
            0,
            0,
            0,
            0,
            0,
            0,
            0,
            0
           ],
           "yaxis": "y"
          },
          {
           "customdata": [
            [
             "Conference"
            ],
            [
             "Conference"
            ],
            [
             "Conference"
            ],
            [
             "Conference"
            ],
            [
             "Conference"
            ],
            [
             "Conference"
            ],
            [
             "Conference"
            ],
            [
             "Conference"
            ],
            [
             "Conference"
            ],
            [
             "Conference"
            ],
            [
             "Conference"
            ],
            [
             "Conference"
            ]
           ],
           "hovertemplate": "Year=2022<extra></extra>",
           "legendgroup": "2022",
           "line": {
            "color": "#EF553B",
            "dash": "solid"
           },
           "marker": {
            "symbol": "circle"
           },
           "mode": "lines",
           "name": "2022",
           "orientation": "v",
           "showlegend": true,
           "type": "scatter",
           "x": [
            "01",
            "02",
            "03",
            "04",
            "05",
            "06",
            "07",
            "08",
            "09",
            "10",
            "11",
            "12"
           ],
           "xaxis": "x",
           "y": [
            0,
            0,
            0,
            0,
            0,
            0,
            0,
            0,
            0,
            0,
            0,
            0
           ],
           "yaxis": "y"
          },
          {
           "customdata": [
            [
             "Conference"
            ],
            [
             "Conference"
            ],
            [
             "Conference"
            ],
            [
             "Conference"
            ],
            [
             "Conference"
            ],
            [
             "Conference"
            ],
            [
             "Conference"
            ],
            [
             "Conference"
            ],
            [
             "Conference"
            ],
            [
             "Conference"
            ],
            [
             "Conference"
            ],
            [
             "Conference"
            ]
           ],
           "hovertemplate": "Year=2023<extra></extra>",
           "legendgroup": "2023",
           "line": {
            "color": "#00cc96",
            "dash": "solid"
           },
           "marker": {
            "symbol": "circle"
           },
           "mode": "lines",
           "name": "2023",
           "orientation": "v",
           "showlegend": true,
           "type": "scatter",
           "x": [
            "01",
            "02",
            "03",
            "04",
            "05",
            "06",
            "07",
            "08",
            "09",
            "10",
            "11",
            "12"
           ],
           "xaxis": "x",
           "y": [
            0,
            1,
            0,
            0,
            0,
            1,
            0,
            0,
            0,
            0,
            0,
            0
           ],
           "yaxis": "y"
          },
          {
           "customdata": [
            [
             "Conference"
            ],
            [
             "Conference"
            ],
            [
             "Conference"
            ],
            [
             "Conference"
            ],
            [
             "Conference"
            ],
            [
             "Conference"
            ],
            [
             "Conference"
            ],
            [
             "Conference"
            ],
            [
             "Conference"
            ],
            [
             "Conference"
            ],
            [
             "Conference"
            ],
            [
             "Conference"
            ]
           ],
           "hovertemplate": "Year=2024<extra></extra>",
           "legendgroup": "2024",
           "line": {
            "color": "#ab63fa",
            "dash": "solid"
           },
           "marker": {
            "symbol": "circle"
           },
           "mode": "lines",
           "name": "2024",
           "orientation": "v",
           "showlegend": true,
           "type": "scatter",
           "x": [
            "01",
            "02",
            "03",
            "04",
            "05",
            "06",
            "07",
            "08",
            "09",
            "10",
            "11",
            "12"
           ],
           "xaxis": "x",
           "y": [
            0,
            0,
            0,
            0,
            0,
            0,
            0,
            0,
            0,
            0,
            0,
            0
           ],
           "yaxis": "y"
          },
          {
           "customdata": [
            [
             "Conference"
            ],
            [
             "Conference"
            ],
            [
             "Conference"
            ],
            [
             "Conference"
            ],
            [
             "Conference"
            ],
            [
             "Conference"
            ],
            [
             "Conference"
            ],
            [
             "Conference"
            ],
            [
             "Conference"
            ],
            [
             "Conference"
            ],
            [
             "Conference"
            ],
            [
             "Conference"
            ]
           ],
           "hovertemplate": "Year=Mean<extra></extra>",
           "legendgroup": "Mean",
           "line": {
            "color": "#FFA15A",
            "dash": "solid"
           },
           "marker": {
            "symbol": "circle"
           },
           "mode": "lines",
           "name": "Mean",
           "orientation": "v",
           "showlegend": true,
           "type": "scatter",
           "x": [
            "01",
            "02",
            "03",
            "04",
            "05",
            "06",
            "07",
            "08",
            "09",
            "10",
            "11",
            "12"
           ],
           "xaxis": "x",
           "y": [
            0,
            0.25,
            0,
            0,
            0,
            0.25,
            0,
            0,
            0,
            0,
            0,
            0
           ],
           "yaxis": "y"
          }
         ],
         "name": "Conference"
        },
        {
         "data": [
          {
           "customdata": [
            [
             "Movie"
            ],
            [
             "Movie"
            ],
            [
             "Movie"
            ],
            [
             "Movie"
            ],
            [
             "Movie"
            ],
            [
             "Movie"
            ],
            [
             "Movie"
            ],
            [
             "Movie"
            ],
            [
             "Movie"
            ],
            [
             "Movie"
            ],
            [
             "Movie"
            ],
            [
             "Movie"
            ]
           ],
           "hovertemplate": "Year=2021<extra></extra>",
           "legendgroup": "2021",
           "line": {
            "color": "#636efa",
            "dash": "solid"
           },
           "marker": {
            "symbol": "circle"
           },
           "mode": "lines",
           "name": "2021",
           "orientation": "v",
           "showlegend": true,
           "type": "scatter",
           "x": [
            "01",
            "02",
            "03",
            "04",
            "05",
            "06",
            "07",
            "08",
            "09",
            "10",
            "11",
            "12"
           ],
           "xaxis": "x",
           "y": [
            0,
            0,
            0,
            0,
            0,
            0,
            0,
            0,
            0,
            0,
            0,
            0
           ],
           "yaxis": "y"
          },
          {
           "customdata": [
            [
             "Movie"
            ],
            [
             "Movie"
            ],
            [
             "Movie"
            ],
            [
             "Movie"
            ],
            [
             "Movie"
            ],
            [
             "Movie"
            ],
            [
             "Movie"
            ],
            [
             "Movie"
            ],
            [
             "Movie"
            ],
            [
             "Movie"
            ],
            [
             "Movie"
            ],
            [
             "Movie"
            ]
           ],
           "hovertemplate": "Year=2022<extra></extra>",
           "legendgroup": "2022",
           "line": {
            "color": "#EF553B",
            "dash": "solid"
           },
           "marker": {
            "symbol": "circle"
           },
           "mode": "lines",
           "name": "2022",
           "orientation": "v",
           "showlegend": true,
           "type": "scatter",
           "x": [
            "01",
            "02",
            "03",
            "04",
            "05",
            "06",
            "07",
            "08",
            "09",
            "10",
            "11",
            "12"
           ],
           "xaxis": "x",
           "y": [
            1,
            0,
            0,
            0,
            0,
            0,
            0,
            0,
            0,
            0,
            0,
            0
           ],
           "yaxis": "y"
          },
          {
           "customdata": [
            [
             "Movie"
            ],
            [
             "Movie"
            ],
            [
             "Movie"
            ],
            [
             "Movie"
            ],
            [
             "Movie"
            ],
            [
             "Movie"
            ],
            [
             "Movie"
            ],
            [
             "Movie"
            ],
            [
             "Movie"
            ],
            [
             "Movie"
            ],
            [
             "Movie"
            ],
            [
             "Movie"
            ]
           ],
           "hovertemplate": "Year=2023<extra></extra>",
           "legendgroup": "2023",
           "line": {
            "color": "#00cc96",
            "dash": "solid"
           },
           "marker": {
            "symbol": "circle"
           },
           "mode": "lines",
           "name": "2023",
           "orientation": "v",
           "showlegend": true,
           "type": "scatter",
           "x": [
            "01",
            "02",
            "03",
            "04",
            "05",
            "06",
            "07",
            "08",
            "09",
            "10",
            "11",
            "12"
           ],
           "xaxis": "x",
           "y": [
            0,
            0,
            0,
            0,
            0,
            0,
            4,
            0,
            0,
            0,
            1,
            1
           ],
           "yaxis": "y"
          },
          {
           "customdata": [
            [
             "Movie"
            ],
            [
             "Movie"
            ],
            [
             "Movie"
            ],
            [
             "Movie"
            ],
            [
             "Movie"
            ],
            [
             "Movie"
            ],
            [
             "Movie"
            ],
            [
             "Movie"
            ],
            [
             "Movie"
            ],
            [
             "Movie"
            ],
            [
             "Movie"
            ],
            [
             "Movie"
            ]
           ],
           "hovertemplate": "Year=2024<extra></extra>",
           "legendgroup": "2024",
           "line": {
            "color": "#ab63fa",
            "dash": "solid"
           },
           "marker": {
            "symbol": "circle"
           },
           "mode": "lines",
           "name": "2024",
           "orientation": "v",
           "showlegend": true,
           "type": "scatter",
           "x": [
            "01",
            "02",
            "03",
            "04",
            "05",
            "06",
            "07",
            "08",
            "09",
            "10",
            "11",
            "12"
           ],
           "xaxis": "x",
           "y": [
            1,
            0,
            1,
            0,
            0,
            0,
            0,
            0,
            0,
            0,
            0,
            0
           ],
           "yaxis": "y"
          },
          {
           "customdata": [
            [
             "Movie"
            ],
            [
             "Movie"
            ],
            [
             "Movie"
            ],
            [
             "Movie"
            ],
            [
             "Movie"
            ],
            [
             "Movie"
            ],
            [
             "Movie"
            ],
            [
             "Movie"
            ],
            [
             "Movie"
            ],
            [
             "Movie"
            ],
            [
             "Movie"
            ],
            [
             "Movie"
            ]
           ],
           "hovertemplate": "Year=Mean<extra></extra>",
           "legendgroup": "Mean",
           "line": {
            "color": "#FFA15A",
            "dash": "solid"
           },
           "marker": {
            "symbol": "circle"
           },
           "mode": "lines",
           "name": "Mean",
           "orientation": "v",
           "showlegend": true,
           "type": "scatter",
           "x": [
            "01",
            "02",
            "03",
            "04",
            "05",
            "06",
            "07",
            "08",
            "09",
            "10",
            "11",
            "12"
           ],
           "xaxis": "x",
           "y": [
            0.5,
            0,
            0.25,
            0,
            0,
            0,
            1,
            0,
            0,
            0,
            0.25,
            0.25
           ],
           "yaxis": "y"
          }
         ],
         "name": "Movie"
        },
        {
         "data": [
          {
           "customdata": [
            [
             "Museum"
            ],
            [
             "Museum"
            ],
            [
             "Museum"
            ],
            [
             "Museum"
            ],
            [
             "Museum"
            ],
            [
             "Museum"
            ],
            [
             "Museum"
            ],
            [
             "Museum"
            ],
            [
             "Museum"
            ],
            [
             "Museum"
            ],
            [
             "Museum"
            ],
            [
             "Museum"
            ]
           ],
           "hovertemplate": "Year=2021<extra></extra>",
           "legendgroup": "2021",
           "line": {
            "color": "#636efa",
            "dash": "solid"
           },
           "marker": {
            "symbol": "circle"
           },
           "mode": "lines",
           "name": "2021",
           "orientation": "v",
           "showlegend": true,
           "type": "scatter",
           "x": [
            "01",
            "02",
            "03",
            "04",
            "05",
            "06",
            "07",
            "08",
            "09",
            "10",
            "11",
            "12"
           ],
           "xaxis": "x",
           "y": [
            0,
            0,
            0,
            0,
            0,
            0,
            0,
            0,
            0,
            0,
            0,
            0
           ],
           "yaxis": "y"
          },
          {
           "customdata": [
            [
             "Museum"
            ],
            [
             "Museum"
            ],
            [
             "Museum"
            ],
            [
             "Museum"
            ],
            [
             "Museum"
            ],
            [
             "Museum"
            ],
            [
             "Museum"
            ],
            [
             "Museum"
            ],
            [
             "Museum"
            ],
            [
             "Museum"
            ],
            [
             "Museum"
            ],
            [
             "Museum"
            ]
           ],
           "hovertemplate": "Year=2022<extra></extra>",
           "legendgroup": "2022",
           "line": {
            "color": "#EF553B",
            "dash": "solid"
           },
           "marker": {
            "symbol": "circle"
           },
           "mode": "lines",
           "name": "2022",
           "orientation": "v",
           "showlegend": true,
           "type": "scatter",
           "x": [
            "01",
            "02",
            "03",
            "04",
            "05",
            "06",
            "07",
            "08",
            "09",
            "10",
            "11",
            "12"
           ],
           "xaxis": "x",
           "y": [
            0,
            0,
            0,
            0,
            0,
            0,
            0,
            1,
            1,
            1,
            1,
            0
           ],
           "yaxis": "y"
          },
          {
           "customdata": [
            [
             "Museum"
            ],
            [
             "Museum"
            ],
            [
             "Museum"
            ],
            [
             "Museum"
            ],
            [
             "Museum"
            ],
            [
             "Museum"
            ],
            [
             "Museum"
            ],
            [
             "Museum"
            ],
            [
             "Museum"
            ],
            [
             "Museum"
            ],
            [
             "Museum"
            ],
            [
             "Museum"
            ]
           ],
           "hovertemplate": "Year=2023<extra></extra>",
           "legendgroup": "2023",
           "line": {
            "color": "#00cc96",
            "dash": "solid"
           },
           "marker": {
            "symbol": "circle"
           },
           "mode": "lines",
           "name": "2023",
           "orientation": "v",
           "showlegend": true,
           "type": "scatter",
           "x": [
            "01",
            "02",
            "03",
            "04",
            "05",
            "06",
            "07",
            "08",
            "09",
            "10",
            "11",
            "12"
           ],
           "xaxis": "x",
           "y": [
            1,
            1,
            0,
            1,
            0,
            0,
            2,
            1,
            0,
            0,
            0,
            1
           ],
           "yaxis": "y"
          },
          {
           "customdata": [
            [
             "Museum"
            ],
            [
             "Museum"
            ],
            [
             "Museum"
            ],
            [
             "Museum"
            ],
            [
             "Museum"
            ],
            [
             "Museum"
            ],
            [
             "Museum"
            ],
            [
             "Museum"
            ],
            [
             "Museum"
            ],
            [
             "Museum"
            ],
            [
             "Museum"
            ],
            [
             "Museum"
            ]
           ],
           "hovertemplate": "Year=2024<extra></extra>",
           "legendgroup": "2024",
           "line": {
            "color": "#ab63fa",
            "dash": "solid"
           },
           "marker": {
            "symbol": "circle"
           },
           "mode": "lines",
           "name": "2024",
           "orientation": "v",
           "showlegend": true,
           "type": "scatter",
           "x": [
            "01",
            "02",
            "03",
            "04",
            "05",
            "06",
            "07",
            "08",
            "09",
            "10",
            "11",
            "12"
           ],
           "xaxis": "x",
           "y": [
            0,
            0,
            0,
            0,
            1,
            0,
            0,
            0,
            0,
            0,
            0,
            0
           ],
           "yaxis": "y"
          },
          {
           "customdata": [
            [
             "Museum"
            ],
            [
             "Museum"
            ],
            [
             "Museum"
            ],
            [
             "Museum"
            ],
            [
             "Museum"
            ],
            [
             "Museum"
            ],
            [
             "Museum"
            ],
            [
             "Museum"
            ],
            [
             "Museum"
            ],
            [
             "Museum"
            ],
            [
             "Museum"
            ],
            [
             "Museum"
            ]
           ],
           "hovertemplate": "Year=Mean<extra></extra>",
           "legendgroup": "Mean",
           "line": {
            "color": "#FFA15A",
            "dash": "solid"
           },
           "marker": {
            "symbol": "circle"
           },
           "mode": "lines",
           "name": "Mean",
           "orientation": "v",
           "showlegend": true,
           "type": "scatter",
           "x": [
            "01",
            "02",
            "03",
            "04",
            "05",
            "06",
            "07",
            "08",
            "09",
            "10",
            "11",
            "12"
           ],
           "xaxis": "x",
           "y": [
            0.25,
            0.25,
            0,
            0.25,
            0.25,
            0,
            0.5,
            0.5,
            0.25,
            0.25,
            0.25,
            0.25
           ],
           "yaxis": "y"
          }
         ],
         "name": "Museum"
        },
        {
         "data": [
          {
           "customdata": [
            [
             "Series"
            ],
            [
             "Series"
            ],
            [
             "Series"
            ],
            [
             "Series"
            ],
            [
             "Series"
            ],
            [
             "Series"
            ],
            [
             "Series"
            ],
            [
             "Series"
            ],
            [
             "Series"
            ],
            [
             "Series"
            ],
            [
             "Series"
            ],
            [
             "Series"
            ]
           ],
           "hovertemplate": "Year=2021<extra></extra>",
           "legendgroup": "2021",
           "line": {
            "color": "#636efa",
            "dash": "solid"
           },
           "marker": {
            "symbol": "circle"
           },
           "mode": "lines",
           "name": "2021",
           "orientation": "v",
           "showlegend": true,
           "type": "scatter",
           "x": [
            "01",
            "02",
            "03",
            "04",
            "05",
            "06",
            "07",
            "08",
            "09",
            "10",
            "11",
            "12"
           ],
           "xaxis": "x",
           "y": [
            0,
            0,
            0,
            0,
            0,
            0,
            0,
            0,
            0,
            0,
            0,
            0
           ],
           "yaxis": "y"
          },
          {
           "customdata": [
            [
             "Series"
            ],
            [
             "Series"
            ],
            [
             "Series"
            ],
            [
             "Series"
            ],
            [
             "Series"
            ],
            [
             "Series"
            ],
            [
             "Series"
            ],
            [
             "Series"
            ],
            [
             "Series"
            ],
            [
             "Series"
            ],
            [
             "Series"
            ],
            [
             "Series"
            ]
           ],
           "hovertemplate": "Year=2022<extra></extra>",
           "legendgroup": "2022",
           "line": {
            "color": "#EF553B",
            "dash": "solid"
           },
           "marker": {
            "symbol": "circle"
           },
           "mode": "lines",
           "name": "2022",
           "orientation": "v",
           "showlegend": true,
           "type": "scatter",
           "x": [
            "01",
            "02",
            "03",
            "04",
            "05",
            "06",
            "07",
            "08",
            "09",
            "10",
            "11",
            "12"
           ],
           "xaxis": "x",
           "y": [
            0,
            0,
            0,
            0,
            0,
            0,
            0,
            0,
            0,
            0,
            0,
            0
           ],
           "yaxis": "y"
          },
          {
           "customdata": [
            [
             "Series"
            ],
            [
             "Series"
            ],
            [
             "Series"
            ],
            [
             "Series"
            ],
            [
             "Series"
            ],
            [
             "Series"
            ],
            [
             "Series"
            ],
            [
             "Series"
            ],
            [
             "Series"
            ],
            [
             "Series"
            ],
            [
             "Series"
            ],
            [
             "Series"
            ]
           ],
           "hovertemplate": "Year=2023<extra></extra>",
           "legendgroup": "2023",
           "line": {
            "color": "#00cc96",
            "dash": "solid"
           },
           "marker": {
            "symbol": "circle"
           },
           "mode": "lines",
           "name": "2023",
           "orientation": "v",
           "showlegend": true,
           "type": "scatter",
           "x": [
            "01",
            "02",
            "03",
            "04",
            "05",
            "06",
            "07",
            "08",
            "09",
            "10",
            "11",
            "12"
           ],
           "xaxis": "x",
           "y": [
            1,
            0,
            0,
            0,
            0,
            1,
            0,
            0,
            1,
            0,
            0,
            0
           ],
           "yaxis": "y"
          },
          {
           "customdata": [
            [
             "Series"
            ],
            [
             "Series"
            ],
            [
             "Series"
            ],
            [
             "Series"
            ],
            [
             "Series"
            ],
            [
             "Series"
            ],
            [
             "Series"
            ],
            [
             "Series"
            ],
            [
             "Series"
            ],
            [
             "Series"
            ],
            [
             "Series"
            ],
            [
             "Series"
            ]
           ],
           "hovertemplate": "Year=2024<extra></extra>",
           "legendgroup": "2024",
           "line": {
            "color": "#ab63fa",
            "dash": "solid"
           },
           "marker": {
            "symbol": "circle"
           },
           "mode": "lines",
           "name": "2024",
           "orientation": "v",
           "showlegend": true,
           "type": "scatter",
           "x": [
            "01",
            "02",
            "03",
            "04",
            "05",
            "06",
            "07",
            "08",
            "09",
            "10",
            "11",
            "12"
           ],
           "xaxis": "x",
           "y": [
            0,
            0,
            0,
            0,
            0,
            0,
            0,
            0,
            0,
            0,
            0,
            0
           ],
           "yaxis": "y"
          },
          {
           "customdata": [
            [
             "Series"
            ],
            [
             "Series"
            ],
            [
             "Series"
            ],
            [
             "Series"
            ],
            [
             "Series"
            ],
            [
             "Series"
            ],
            [
             "Series"
            ],
            [
             "Series"
            ],
            [
             "Series"
            ],
            [
             "Series"
            ],
            [
             "Series"
            ],
            [
             "Series"
            ]
           ],
           "hovertemplate": "Year=Mean<extra></extra>",
           "legendgroup": "Mean",
           "line": {
            "color": "#FFA15A",
            "dash": "solid"
           },
           "marker": {
            "symbol": "circle"
           },
           "mode": "lines",
           "name": "Mean",
           "orientation": "v",
           "showlegend": true,
           "type": "scatter",
           "x": [
            "01",
            "02",
            "03",
            "04",
            "05",
            "06",
            "07",
            "08",
            "09",
            "10",
            "11",
            "12"
           ],
           "xaxis": "x",
           "y": [
            0.25,
            0,
            0,
            0,
            0,
            0.25,
            0,
            0,
            0.25,
            0,
            0,
            0
           ],
           "yaxis": "y"
          }
         ],
         "name": "Series"
        },
        {
         "data": [
          {
           "customdata": [
            [
             "Theater"
            ],
            [
             "Theater"
            ],
            [
             "Theater"
            ],
            [
             "Theater"
            ],
            [
             "Theater"
            ],
            [
             "Theater"
            ],
            [
             "Theater"
            ],
            [
             "Theater"
            ],
            [
             "Theater"
            ],
            [
             "Theater"
            ],
            [
             "Theater"
            ],
            [
             "Theater"
            ]
           ],
           "hovertemplate": "Year=2021<extra></extra>",
           "legendgroup": "2021",
           "line": {
            "color": "#636efa",
            "dash": "solid"
           },
           "marker": {
            "symbol": "circle"
           },
           "mode": "lines",
           "name": "2021",
           "orientation": "v",
           "showlegend": true,
           "type": "scatter",
           "x": [
            "01",
            "02",
            "03",
            "04",
            "05",
            "06",
            "07",
            "08",
            "09",
            "10",
            "11",
            "12"
           ],
           "xaxis": "x",
           "y": [
            0,
            0,
            0,
            0,
            0,
            0,
            0,
            0,
            0,
            0,
            0,
            0
           ],
           "yaxis": "y"
          },
          {
           "customdata": [
            [
             "Theater"
            ],
            [
             "Theater"
            ],
            [
             "Theater"
            ],
            [
             "Theater"
            ],
            [
             "Theater"
            ],
            [
             "Theater"
            ],
            [
             "Theater"
            ],
            [
             "Theater"
            ],
            [
             "Theater"
            ],
            [
             "Theater"
            ],
            [
             "Theater"
            ],
            [
             "Theater"
            ]
           ],
           "hovertemplate": "Year=2022<extra></extra>",
           "legendgroup": "2022",
           "line": {
            "color": "#EF553B",
            "dash": "solid"
           },
           "marker": {
            "symbol": "circle"
           },
           "mode": "lines",
           "name": "2022",
           "orientation": "v",
           "showlegend": true,
           "type": "scatter",
           "x": [
            "01",
            "02",
            "03",
            "04",
            "05",
            "06",
            "07",
            "08",
            "09",
            "10",
            "11",
            "12"
           ],
           "xaxis": "x",
           "y": [
            0,
            0,
            0,
            0,
            1,
            0,
            0,
            0,
            0,
            0,
            0,
            0
           ],
           "yaxis": "y"
          },
          {
           "customdata": [
            [
             "Theater"
            ],
            [
             "Theater"
            ],
            [
             "Theater"
            ],
            [
             "Theater"
            ],
            [
             "Theater"
            ],
            [
             "Theater"
            ],
            [
             "Theater"
            ],
            [
             "Theater"
            ],
            [
             "Theater"
            ],
            [
             "Theater"
            ],
            [
             "Theater"
            ],
            [
             "Theater"
            ]
           ],
           "hovertemplate": "Year=2023<extra></extra>",
           "legendgroup": "2023",
           "line": {
            "color": "#00cc96",
            "dash": "solid"
           },
           "marker": {
            "symbol": "circle"
           },
           "mode": "lines",
           "name": "2023",
           "orientation": "v",
           "showlegend": true,
           "type": "scatter",
           "x": [
            "01",
            "02",
            "03",
            "04",
            "05",
            "06",
            "07",
            "08",
            "09",
            "10",
            "11",
            "12"
           ],
           "xaxis": "x",
           "y": [
            0,
            1,
            0,
            0,
            0,
            0,
            0,
            0,
            0,
            0,
            0,
            0
           ],
           "yaxis": "y"
          },
          {
           "customdata": [
            [
             "Theater"
            ],
            [
             "Theater"
            ],
            [
             "Theater"
            ],
            [
             "Theater"
            ],
            [
             "Theater"
            ],
            [
             "Theater"
            ],
            [
             "Theater"
            ],
            [
             "Theater"
            ],
            [
             "Theater"
            ],
            [
             "Theater"
            ],
            [
             "Theater"
            ],
            [
             "Theater"
            ]
           ],
           "hovertemplate": "Year=2024<extra></extra>",
           "legendgroup": "2024",
           "line": {
            "color": "#ab63fa",
            "dash": "solid"
           },
           "marker": {
            "symbol": "circle"
           },
           "mode": "lines",
           "name": "2024",
           "orientation": "v",
           "showlegend": true,
           "type": "scatter",
           "x": [
            "01",
            "02",
            "03",
            "04",
            "05",
            "06",
            "07",
            "08",
            "09",
            "10",
            "11",
            "12"
           ],
           "xaxis": "x",
           "y": [
            0,
            0,
            0,
            0,
            0,
            0,
            0,
            0,
            0,
            0,
            0,
            0
           ],
           "yaxis": "y"
          },
          {
           "customdata": [
            [
             "Theater"
            ],
            [
             "Theater"
            ],
            [
             "Theater"
            ],
            [
             "Theater"
            ],
            [
             "Theater"
            ],
            [
             "Theater"
            ],
            [
             "Theater"
            ],
            [
             "Theater"
            ],
            [
             "Theater"
            ],
            [
             "Theater"
            ],
            [
             "Theater"
            ],
            [
             "Theater"
            ]
           ],
           "hovertemplate": "Year=Mean<extra></extra>",
           "legendgroup": "Mean",
           "line": {
            "color": "#FFA15A",
            "dash": "solid"
           },
           "marker": {
            "symbol": "circle"
           },
           "mode": "lines",
           "name": "Mean",
           "orientation": "v",
           "showlegend": true,
           "type": "scatter",
           "x": [
            "01",
            "02",
            "03",
            "04",
            "05",
            "06",
            "07",
            "08",
            "09",
            "10",
            "11",
            "12"
           ],
           "xaxis": "x",
           "y": [
            0,
            0.25,
            0,
            0,
            0.25,
            0,
            0,
            0,
            0,
            0,
            0,
            0
           ],
           "yaxis": "y"
          }
         ],
         "name": "Theater"
        },
        {
         "data": [
          {
           "customdata": [
            [
             "All"
            ],
            [
             "All"
            ],
            [
             "All"
            ],
            [
             "All"
            ],
            [
             "All"
            ],
            [
             "All"
            ],
            [
             "All"
            ],
            [
             "All"
            ],
            [
             "All"
            ],
            [
             "All"
            ],
            [
             "All"
            ],
            [
             "All"
            ]
           ],
           "hovertemplate": "Year=2021<extra></extra>",
           "legendgroup": "2021",
           "line": {
            "color": "#636efa",
            "dash": "solid"
           },
           "marker": {
            "symbol": "circle"
           },
           "mode": "lines",
           "name": "2021",
           "orientation": "v",
           "showlegend": true,
           "type": "scatter",
           "x": [
            "01",
            "02",
            "03",
            "04",
            "05",
            "06",
            "07",
            "08",
            "09",
            "10",
            "11",
            "12"
           ],
           "xaxis": "x",
           "y": [
            3,
            7,
            7,
            4,
            5,
            5,
            9,
            8,
            5,
            3,
            5,
            5
           ],
           "yaxis": "y"
          },
          {
           "customdata": [
            [
             "All"
            ],
            [
             "All"
            ],
            [
             "All"
            ],
            [
             "All"
            ],
            [
             "All"
            ],
            [
             "All"
            ],
            [
             "All"
            ],
            [
             "All"
            ],
            [
             "All"
            ],
            [
             "All"
            ],
            [
             "All"
            ],
            [
             "All"
            ]
           ],
           "hovertemplate": "Year=2022<extra></extra>",
           "legendgroup": "2022",
           "line": {
            "color": "#EF553B",
            "dash": "solid"
           },
           "marker": {
            "symbol": "circle"
           },
           "mode": "lines",
           "name": "2022",
           "orientation": "v",
           "showlegend": true,
           "type": "scatter",
           "x": [
            "01",
            "02",
            "03",
            "04",
            "05",
            "06",
            "07",
            "08",
            "09",
            "10",
            "11",
            "12"
           ],
           "xaxis": "x",
           "y": [
            7,
            5,
            5,
            5,
            5,
            4,
            2,
            2,
            3,
            2,
            6,
            8
           ],
           "yaxis": "y"
          },
          {
           "customdata": [
            [
             "All"
            ],
            [
             "All"
            ],
            [
             "All"
            ],
            [
             "All"
            ],
            [
             "All"
            ],
            [
             "All"
            ],
            [
             "All"
            ],
            [
             "All"
            ],
            [
             "All"
            ],
            [
             "All"
            ],
            [
             "All"
            ],
            [
             "All"
            ]
           ],
           "hovertemplate": "Year=2023<extra></extra>",
           "legendgroup": "2023",
           "line": {
            "color": "#00cc96",
            "dash": "solid"
           },
           "marker": {
            "symbol": "circle"
           },
           "mode": "lines",
           "name": "2023",
           "orientation": "v",
           "showlegend": true,
           "type": "scatter",
           "x": [
            "01",
            "02",
            "03",
            "04",
            "05",
            "06",
            "07",
            "08",
            "09",
            "10",
            "11",
            "12"
           ],
           "xaxis": "x",
           "y": [
            10,
            9,
            4,
            4,
            2,
            9,
            13,
            4,
            8,
            8,
            7,
            8
           ],
           "yaxis": "y"
          },
          {
           "customdata": [
            [
             "All"
            ],
            [
             "All"
            ],
            [
             "All"
            ],
            [
             "All"
            ],
            [
             "All"
            ],
            [
             "All"
            ],
            [
             "All"
            ],
            [
             "All"
            ],
            [
             "All"
            ],
            [
             "All"
            ],
            [
             "All"
            ],
            [
             "All"
            ]
           ],
           "hovertemplate": "Year=2024<extra></extra>",
           "legendgroup": "2024",
           "line": {
            "color": "#ab63fa",
            "dash": "solid"
           },
           "marker": {
            "symbol": "circle"
           },
           "mode": "lines",
           "name": "2024",
           "orientation": "v",
           "showlegend": true,
           "type": "scatter",
           "x": [
            "01",
            "02",
            "03",
            "04",
            "05",
            "06",
            "07",
            "08",
            "09",
            "10",
            "11",
            "12"
           ],
           "xaxis": "x",
           "y": [
            5,
            6,
            7,
            4,
            7,
            0,
            0,
            0,
            0,
            0,
            0,
            0
           ],
           "yaxis": "y"
          },
          {
           "customdata": [
            [
             "All"
            ],
            [
             "All"
            ],
            [
             "All"
            ],
            [
             "All"
            ],
            [
             "All"
            ],
            [
             "All"
            ],
            [
             "All"
            ],
            [
             "All"
            ],
            [
             "All"
            ],
            [
             "All"
            ],
            [
             "All"
            ],
            [
             "All"
            ]
           ],
           "hovertemplate": "Year=Mean<extra></extra>",
           "legendgroup": "Mean",
           "line": {
            "color": "#FFA15A",
            "dash": "solid"
           },
           "marker": {
            "symbol": "circle"
           },
           "mode": "lines",
           "name": "Mean",
           "orientation": "v",
           "showlegend": true,
           "type": "scatter",
           "x": [
            "01",
            "02",
            "03",
            "04",
            "05",
            "06",
            "07",
            "08",
            "09",
            "10",
            "11",
            "12"
           ],
           "xaxis": "x",
           "y": [
            6.25,
            6.75,
            5.75,
            4.25,
            4.75,
            4.5,
            6,
            3.5,
            4,
            3.25,
            4.5,
            5.25
           ],
           "yaxis": "y"
          }
         ],
         "name": "All"
        }
       ],
       "layout": {
        "legend": {
         "title": {
          "text": "Year"
         },
         "tracegroupgap": 0
        },
        "margin": {
         "b": 0,
         "l": 0,
         "r": 0,
         "t": 10
        },
        "showlegend": false,
        "sliders": [
         {
          "active": 0,
          "currentvalue": {
           "prefix": "type="
          },
          "len": 0.9,
          "pad": {
           "b": 20,
           "r": 10,
           "t": 20
          },
          "steps": [
           {
            "args": [
             [
              "Book"
             ],
             {
              "frame": {
               "duration": 0,
               "redraw": false
              },
              "fromcurrent": true,
              "mode": "immediate",
              "transition": {
               "duration": 0,
               "easing": "linear"
              }
             }
            ],
            "label": "Book",
            "method": "animate"
           },
           {
            "args": [
             [
              "Game"
             ],
             {
              "frame": {
               "duration": 0,
               "redraw": false
              },
              "fromcurrent": true,
              "mode": "immediate",
              "transition": {
               "duration": 0,
               "easing": "linear"
              }
             }
            ],
            "label": "Game",
            "method": "animate"
           },
           {
            "args": [
             [
              "Cabaret"
             ],
             {
              "frame": {
               "duration": 0,
               "redraw": false
              },
              "fromcurrent": true,
              "mode": "immediate",
              "transition": {
               "duration": 0,
               "easing": "linear"
              }
             }
            ],
            "label": "Cabaret",
            "method": "animate"
           },
           {
            "args": [
             [
              "Concert"
             ],
             {
              "frame": {
               "duration": 0,
               "redraw": false
              },
              "fromcurrent": true,
              "mode": "immediate",
              "transition": {
               "duration": 0,
               "easing": "linear"
              }
             }
            ],
            "label": "Concert",
            "method": "animate"
           },
           {
            "args": [
             [
              "Conference"
             ],
             {
              "frame": {
               "duration": 0,
               "redraw": false
              },
              "fromcurrent": true,
              "mode": "immediate",
              "transition": {
               "duration": 0,
               "easing": "linear"
              }
             }
            ],
            "label": "Conference",
            "method": "animate"
           },
           {
            "args": [
             [
              "Movie"
             ],
             {
              "frame": {
               "duration": 0,
               "redraw": false
              },
              "fromcurrent": true,
              "mode": "immediate",
              "transition": {
               "duration": 0,
               "easing": "linear"
              }
             }
            ],
            "label": "Movie",
            "method": "animate"
           },
           {
            "args": [
             [
              "Museum"
             ],
             {
              "frame": {
               "duration": 0,
               "redraw": false
              },
              "fromcurrent": true,
              "mode": "immediate",
              "transition": {
               "duration": 0,
               "easing": "linear"
              }
             }
            ],
            "label": "Museum",
            "method": "animate"
           },
           {
            "args": [
             [
              "Series"
             ],
             {
              "frame": {
               "duration": 0,
               "redraw": false
              },
              "fromcurrent": true,
              "mode": "immediate",
              "transition": {
               "duration": 0,
               "easing": "linear"
              }
             }
            ],
            "label": "Series",
            "method": "animate"
           },
           {
            "args": [
             [
              "Theater"
             ],
             {
              "frame": {
               "duration": 0,
               "redraw": false
              },
              "fromcurrent": true,
              "mode": "immediate",
              "transition": {
               "duration": 0,
               "easing": "linear"
              }
             }
            ],
            "label": "Theater",
            "method": "animate"
           },
           {
            "args": [
             [
              "All"
             ],
             {
              "frame": {
               "duration": 0,
               "redraw": false
              },
              "fromcurrent": true,
              "mode": "immediate",
              "transition": {
               "duration": 0,
               "easing": "linear"
              }
             }
            ],
            "label": "All",
            "method": "animate"
           }
          ],
          "x": 0.1,
          "xanchor": "left",
          "y": 0,
          "yanchor": "top"
         }
        ],
        "template": {
         "data": {
          "bar": [
           {
            "error_x": {
             "color": "#2a3f5f"
            },
            "error_y": {
             "color": "#2a3f5f"
            },
            "marker": {
             "line": {
              "color": "#E5ECF6",
              "width": 0.5
             },
             "pattern": {
              "fillmode": "overlay",
              "size": 10,
              "solidity": 0.2
             }
            },
            "type": "bar"
           }
          ],
          "barpolar": [
           {
            "marker": {
             "line": {
              "color": "#E5ECF6",
              "width": 0.5
             },
             "pattern": {
              "fillmode": "overlay",
              "size": 10,
              "solidity": 0.2
             }
            },
            "type": "barpolar"
           }
          ],
          "carpet": [
           {
            "aaxis": {
             "endlinecolor": "#2a3f5f",
             "gridcolor": "white",
             "linecolor": "white",
             "minorgridcolor": "white",
             "startlinecolor": "#2a3f5f"
            },
            "baxis": {
             "endlinecolor": "#2a3f5f",
             "gridcolor": "white",
             "linecolor": "white",
             "minorgridcolor": "white",
             "startlinecolor": "#2a3f5f"
            },
            "type": "carpet"
           }
          ],
          "choropleth": [
           {
            "colorbar": {
             "outlinewidth": 0,
             "ticks": ""
            },
            "type": "choropleth"
           }
          ],
          "contour": [
           {
            "colorbar": {
             "outlinewidth": 0,
             "ticks": ""
            },
            "colorscale": [
             [
              0,
              "#0d0887"
             ],
             [
              0.1111111111111111,
              "#46039f"
             ],
             [
              0.2222222222222222,
              "#7201a8"
             ],
             [
              0.3333333333333333,
              "#9c179e"
             ],
             [
              0.4444444444444444,
              "#bd3786"
             ],
             [
              0.5555555555555556,
              "#d8576b"
             ],
             [
              0.6666666666666666,
              "#ed7953"
             ],
             [
              0.7777777777777778,
              "#fb9f3a"
             ],
             [
              0.8888888888888888,
              "#fdca26"
             ],
             [
              1,
              "#f0f921"
             ]
            ],
            "type": "contour"
           }
          ],
          "contourcarpet": [
           {
            "colorbar": {
             "outlinewidth": 0,
             "ticks": ""
            },
            "type": "contourcarpet"
           }
          ],
          "heatmap": [
           {
            "colorbar": {
             "outlinewidth": 0,
             "ticks": ""
            },
            "colorscale": [
             [
              0,
              "#0d0887"
             ],
             [
              0.1111111111111111,
              "#46039f"
             ],
             [
              0.2222222222222222,
              "#7201a8"
             ],
             [
              0.3333333333333333,
              "#9c179e"
             ],
             [
              0.4444444444444444,
              "#bd3786"
             ],
             [
              0.5555555555555556,
              "#d8576b"
             ],
             [
              0.6666666666666666,
              "#ed7953"
             ],
             [
              0.7777777777777778,
              "#fb9f3a"
             ],
             [
              0.8888888888888888,
              "#fdca26"
             ],
             [
              1,
              "#f0f921"
             ]
            ],
            "type": "heatmap"
           }
          ],
          "heatmapgl": [
           {
            "colorbar": {
             "outlinewidth": 0,
             "ticks": ""
            },
            "colorscale": [
             [
              0,
              "#0d0887"
             ],
             [
              0.1111111111111111,
              "#46039f"
             ],
             [
              0.2222222222222222,
              "#7201a8"
             ],
             [
              0.3333333333333333,
              "#9c179e"
             ],
             [
              0.4444444444444444,
              "#bd3786"
             ],
             [
              0.5555555555555556,
              "#d8576b"
             ],
             [
              0.6666666666666666,
              "#ed7953"
             ],
             [
              0.7777777777777778,
              "#fb9f3a"
             ],
             [
              0.8888888888888888,
              "#fdca26"
             ],
             [
              1,
              "#f0f921"
             ]
            ],
            "type": "heatmapgl"
           }
          ],
          "histogram": [
           {
            "marker": {
             "pattern": {
              "fillmode": "overlay",
              "size": 10,
              "solidity": 0.2
             }
            },
            "type": "histogram"
           }
          ],
          "histogram2d": [
           {
            "colorbar": {
             "outlinewidth": 0,
             "ticks": ""
            },
            "colorscale": [
             [
              0,
              "#0d0887"
             ],
             [
              0.1111111111111111,
              "#46039f"
             ],
             [
              0.2222222222222222,
              "#7201a8"
             ],
             [
              0.3333333333333333,
              "#9c179e"
             ],
             [
              0.4444444444444444,
              "#bd3786"
             ],
             [
              0.5555555555555556,
              "#d8576b"
             ],
             [
              0.6666666666666666,
              "#ed7953"
             ],
             [
              0.7777777777777778,
              "#fb9f3a"
             ],
             [
              0.8888888888888888,
              "#fdca26"
             ],
             [
              1,
              "#f0f921"
             ]
            ],
            "type": "histogram2d"
           }
          ],
          "histogram2dcontour": [
           {
            "colorbar": {
             "outlinewidth": 0,
             "ticks": ""
            },
            "colorscale": [
             [
              0,
              "#0d0887"
             ],
             [
              0.1111111111111111,
              "#46039f"
             ],
             [
              0.2222222222222222,
              "#7201a8"
             ],
             [
              0.3333333333333333,
              "#9c179e"
             ],
             [
              0.4444444444444444,
              "#bd3786"
             ],
             [
              0.5555555555555556,
              "#d8576b"
             ],
             [
              0.6666666666666666,
              "#ed7953"
             ],
             [
              0.7777777777777778,
              "#fb9f3a"
             ],
             [
              0.8888888888888888,
              "#fdca26"
             ],
             [
              1,
              "#f0f921"
             ]
            ],
            "type": "histogram2dcontour"
           }
          ],
          "mesh3d": [
           {
            "colorbar": {
             "outlinewidth": 0,
             "ticks": ""
            },
            "type": "mesh3d"
           }
          ],
          "parcoords": [
           {
            "line": {
             "colorbar": {
              "outlinewidth": 0,
              "ticks": ""
             }
            },
            "type": "parcoords"
           }
          ],
          "pie": [
           {
            "automargin": true,
            "type": "pie"
           }
          ],
          "scatter": [
           {
            "fillpattern": {
             "fillmode": "overlay",
             "size": 10,
             "solidity": 0.2
            },
            "type": "scatter"
           }
          ],
          "scatter3d": [
           {
            "line": {
             "colorbar": {
              "outlinewidth": 0,
              "ticks": ""
             }
            },
            "marker": {
             "colorbar": {
              "outlinewidth": 0,
              "ticks": ""
             }
            },
            "type": "scatter3d"
           }
          ],
          "scattercarpet": [
           {
            "marker": {
             "colorbar": {
              "outlinewidth": 0,
              "ticks": ""
             }
            },
            "type": "scattercarpet"
           }
          ],
          "scattergeo": [
           {
            "marker": {
             "colorbar": {
              "outlinewidth": 0,
              "ticks": ""
             }
            },
            "type": "scattergeo"
           }
          ],
          "scattergl": [
           {
            "marker": {
             "colorbar": {
              "outlinewidth": 0,
              "ticks": ""
             }
            },
            "type": "scattergl"
           }
          ],
          "scattermapbox": [
           {
            "marker": {
             "colorbar": {
              "outlinewidth": 0,
              "ticks": ""
             }
            },
            "type": "scattermapbox"
           }
          ],
          "scatterpolar": [
           {
            "marker": {
             "colorbar": {
              "outlinewidth": 0,
              "ticks": ""
             }
            },
            "type": "scatterpolar"
           }
          ],
          "scatterpolargl": [
           {
            "marker": {
             "colorbar": {
              "outlinewidth": 0,
              "ticks": ""
             }
            },
            "type": "scatterpolargl"
           }
          ],
          "scatterternary": [
           {
            "marker": {
             "colorbar": {
              "outlinewidth": 0,
              "ticks": ""
             }
            },
            "type": "scatterternary"
           }
          ],
          "surface": [
           {
            "colorbar": {
             "outlinewidth": 0,
             "ticks": ""
            },
            "colorscale": [
             [
              0,
              "#0d0887"
             ],
             [
              0.1111111111111111,
              "#46039f"
             ],
             [
              0.2222222222222222,
              "#7201a8"
             ],
             [
              0.3333333333333333,
              "#9c179e"
             ],
             [
              0.4444444444444444,
              "#bd3786"
             ],
             [
              0.5555555555555556,
              "#d8576b"
             ],
             [
              0.6666666666666666,
              "#ed7953"
             ],
             [
              0.7777777777777778,
              "#fb9f3a"
             ],
             [
              0.8888888888888888,
              "#fdca26"
             ],
             [
              1,
              "#f0f921"
             ]
            ],
            "type": "surface"
           }
          ],
          "table": [
           {
            "cells": {
             "fill": {
              "color": "#EBF0F8"
             },
             "line": {
              "color": "white"
             }
            },
            "header": {
             "fill": {
              "color": "#C8D4E3"
             },
             "line": {
              "color": "white"
             }
            },
            "type": "table"
           }
          ]
         },
         "layout": {
          "annotationdefaults": {
           "arrowcolor": "#2a3f5f",
           "arrowhead": 0,
           "arrowwidth": 1
          },
          "autotypenumbers": "strict",
          "coloraxis": {
           "colorbar": {
            "outlinewidth": 0,
            "ticks": ""
           }
          },
          "colorscale": {
           "diverging": [
            [
             0,
             "#8e0152"
            ],
            [
             0.1,
             "#c51b7d"
            ],
            [
             0.2,
             "#de77ae"
            ],
            [
             0.3,
             "#f1b6da"
            ],
            [
             0.4,
             "#fde0ef"
            ],
            [
             0.5,
             "#f7f7f7"
            ],
            [
             0.6,
             "#e6f5d0"
            ],
            [
             0.7,
             "#b8e186"
            ],
            [
             0.8,
             "#7fbc41"
            ],
            [
             0.9,
             "#4d9221"
            ],
            [
             1,
             "#276419"
            ]
           ],
           "sequential": [
            [
             0,
             "#0d0887"
            ],
            [
             0.1111111111111111,
             "#46039f"
            ],
            [
             0.2222222222222222,
             "#7201a8"
            ],
            [
             0.3333333333333333,
             "#9c179e"
            ],
            [
             0.4444444444444444,
             "#bd3786"
            ],
            [
             0.5555555555555556,
             "#d8576b"
            ],
            [
             0.6666666666666666,
             "#ed7953"
            ],
            [
             0.7777777777777778,
             "#fb9f3a"
            ],
            [
             0.8888888888888888,
             "#fdca26"
            ],
            [
             1,
             "#f0f921"
            ]
           ],
           "sequentialminus": [
            [
             0,
             "#0d0887"
            ],
            [
             0.1111111111111111,
             "#46039f"
            ],
            [
             0.2222222222222222,
             "#7201a8"
            ],
            [
             0.3333333333333333,
             "#9c179e"
            ],
            [
             0.4444444444444444,
             "#bd3786"
            ],
            [
             0.5555555555555556,
             "#d8576b"
            ],
            [
             0.6666666666666666,
             "#ed7953"
            ],
            [
             0.7777777777777778,
             "#fb9f3a"
            ],
            [
             0.8888888888888888,
             "#fdca26"
            ],
            [
             1,
             "#f0f921"
            ]
           ]
          },
          "colorway": [
           "#636efa",
           "#EF553B",
           "#00cc96",
           "#ab63fa",
           "#FFA15A",
           "#19d3f3",
           "#FF6692",
           "#B6E880",
           "#FF97FF",
           "#FECB52"
          ],
          "font": {
           "color": "#2a3f5f"
          },
          "geo": {
           "bgcolor": "white",
           "lakecolor": "white",
           "landcolor": "#E5ECF6",
           "showlakes": true,
           "showland": true,
           "subunitcolor": "white"
          },
          "hoverlabel": {
           "align": "left"
          },
          "hovermode": "closest",
          "mapbox": {
           "style": "light"
          },
          "paper_bgcolor": "white",
          "plot_bgcolor": "#E5ECF6",
          "polar": {
           "angularaxis": {
            "gridcolor": "white",
            "linecolor": "white",
            "ticks": ""
           },
           "bgcolor": "#E5ECF6",
           "radialaxis": {
            "gridcolor": "white",
            "linecolor": "white",
            "ticks": ""
           }
          },
          "scene": {
           "xaxis": {
            "backgroundcolor": "#E5ECF6",
            "gridcolor": "white",
            "gridwidth": 2,
            "linecolor": "white",
            "showbackground": true,
            "ticks": "",
            "zerolinecolor": "white"
           },
           "yaxis": {
            "backgroundcolor": "#E5ECF6",
            "gridcolor": "white",
            "gridwidth": 2,
            "linecolor": "white",
            "showbackground": true,
            "ticks": "",
            "zerolinecolor": "white"
           },
           "zaxis": {
            "backgroundcolor": "#E5ECF6",
            "gridcolor": "white",
            "gridwidth": 2,
            "linecolor": "white",
            "showbackground": true,
            "ticks": "",
            "zerolinecolor": "white"
           }
          },
          "shapedefaults": {
           "line": {
            "color": "#2a3f5f"
           }
          },
          "ternary": {
           "aaxis": {
            "gridcolor": "white",
            "linecolor": "white",
            "ticks": ""
           },
           "baxis": {
            "gridcolor": "white",
            "linecolor": "white",
            "ticks": ""
           },
           "bgcolor": "#E5ECF6",
           "caxis": {
            "gridcolor": "white",
            "linecolor": "white",
            "ticks": ""
           }
          },
          "title": {
           "x": 0.05
          },
          "xaxis": {
           "automargin": true,
           "gridcolor": "white",
           "linecolor": "white",
           "ticks": "",
           "title": {
            "standoff": 15
           },
           "zerolinecolor": "white",
           "zerolinewidth": 2
          },
          "yaxis": {
           "automargin": true,
           "gridcolor": "white",
           "linecolor": "white",
           "ticks": "",
           "title": {
            "standoff": 15
           },
           "zerolinecolor": "white",
           "zerolinewidth": 2
          }
         }
        },
        "xaxis": {
         "anchor": "y",
         "domain": [
          0,
          1
         ],
         "range": [
          0,
          11
         ],
         "tickmode": "array",
         "ticktext": [
          "Jan",
          "Feb",
          "Mar",
          "Apr",
          "May",
          "Jun",
          "Jul",
          "Aug",
          "Sep",
          "Oct",
          "Nov",
          "Dec"
         ],
         "tickvals": [
          "01",
          "02",
          "03",
          "04",
          "05",
          "06",
          "07",
          "08",
          "09",
          "10",
          "11",
          "12"
         ],
         "title": {
          "text": "Month"
         }
        },
        "yaxis": {
         "anchor": "x",
         "domain": [
          0,
          1
         ],
         "range": [
          0,
          15
         ],
         "title": {
          "text": "Amount"
         }
        }
       }
      }
     },
     "metadata": {},
     "output_type": "display_data"
    }
   ],
   "source": [
    "import plotly.express as px\n",
    "import numpy as np\n",
    "\n",
    "df2 = df.copy()\n",
    "df2 = df2.groupby(['type', 'date']).size().rename_axis(['type', 'date']).reset_index(name='counts')\n",
    "df2[['year','month']] = df2['date'].str.split('-',expand=True)\n",
    "df2 = df2.drop(columns=['date'])\n",
    "types = []; counts = []; years = []; months = []\n",
    "for year in range(min(df2['year'].astype(int)), max(df2['year'].astype(int)) + 1):\n",
    "    for month in range(1, 13):\n",
    "        actualmonth = '0' * (2 - len(str(month))) + str(month)\n",
    "        for type in df2['type'].unique():\n",
    "            if not ((df2['year'] == str(year)) & (df2['month'] == actualmonth) & (df2['type'] == type)).any():\n",
    "                types.append(type); counts.append(0); years.append(str(year)); months.append(actualmonth)\n",
    "for year in range(min(df2['year'].astype(int)), max(df2['year'].astype(int)) + 1):\n",
    "    for month in range(1, 13):\n",
    "        actualmonth = '0' * (2 - len(str(month))) + str(month)\n",
    "        types.append(\"All\"); counts.append(df2[(df2['year'] == str(year)) & (df2['month'] == actualmonth)]['counts'].sum()); years.append(str(year)); months.append(actualmonth)\n",
    "added_rows = pd.DataFrame({'type':types, 'counts':counts, 'year':years, 'month':months})\n",
    "df2 = pd.concat([df2, added_rows], ignore_index=True)\n",
    "types = []; counts = []; years = []; months = []\n",
    "for month in range(1, 13):\n",
    "    actualmonth = '0' * (2 - len(str(month))) + str(month)\n",
    "    for type in df2['type'].unique():\n",
    "        count = sum(df2[(df2['type'] == type) & (df2['month'] == actualmonth)]['counts']) / len(df2['year'].unique())\n",
    "        count = count if not np.isnan(count) else 0\n",
    "        types.append(type); counts.append(count); years.append(\"Mean\"); months.append(actualmonth)\n",
    "added_rows = pd.DataFrame({'type':types, 'counts':counts, 'year':years, 'month':months})\n",
    "df2 = pd.concat([df2, added_rows], ignore_index=True)\n",
    "df2 = df2.sort_values(by=['year', 'month'])\n",
    "fig = px.line(df2, x='month', y='counts', color='year', animation_frame='type',\n",
    "              labels={\n",
    "                     \"month\": \"Month\",\n",
    "                     \"counts\": \"Amount\",\n",
    "                     \"year\": \"Year\"\n",
    "                 },\n",
    "                 hover_data={\n",
    "                            'type':False,\n",
    "                            'month':False,\n",
    "                            'counts':False\n",
    "                        })\n",
    "fig.update_layout(margin={'t':10,'l':0,'b':0,'r':0}, yaxis_range=[0,15], xaxis_range=[0,11],\n",
    "                  xaxis = dict(\n",
    "                    tickmode = 'array',\n",
    "                    tickvals = ['01', '02', '03', '04', '05', '06', '07', '08', '09', '10', '11', '12'],\n",
    "                    ticktext = ['Jan', 'Feb', 'Mar', 'Apr', 'May', 'Jun', 'Jul', 'Aug', 'Sep', 'Oct', 'Nov', 'Dec']\n",
    "                ), showlegend=False)\n",
    "fig.update_traces(selector=dict(line_color=\"blue\"), opacity=0.55)\n",
    "fig['layout']['sliders'][0]['pad']=dict(r= 10, t= 20, b=20)\n",
    "fig[\"layout\"].pop(\"updatemenus\")\n",
    "fig.show()\n"
   ]
  },
  {
   "cell_type": "markdown",
   "metadata": {},
   "source": [
    "## Albums\n",
    "One particular interest I have is collecting albums out of Rolling Stone's Top 500 Albums list. Below, you can see how many I already have."
   ]
  },
  {
   "cell_type": "code",
   "execution_count": 64,
   "metadata": {
    "tags": [
     "remove-input"
    ]
   },
   "outputs": [
    {
     "name": "stdout",
     "output_type": "stream",
     "text": [
      "Total:     [++++++++                                ] 102 out of 500\n",
      "\n",
      "1960-1970: [+                                       ] 1 out of 28\n",
      "1970-1980: [+++++++++                               ] 33 out of 146\n",
      "1980-1990: [++++++++                                ] 22 out of 106\n",
      "1990-2000: [+++++++++                               ] 21 out of 88\n",
      "2000-2010: [++++++++                                ] 17 out of 83\n",
      "2010-2020: [+++++++++                               ] 7 out of 31\n",
      "2020-2030: [++                                      ] 1 out of 18\n"
     ]
    }
   ],
   "source": [
    "albums_df = pd.read_csv(\"albums.csv\")\n",
    "albums_df['Rounded year'] = albums_df['Year'].apply(lambda x: 10 * round(int(x) / 10))\n",
    "albums_df['Have'] = albums_df['Have'].apply(lambda x: 1 if x == \"X\" else x)\n",
    "score = len(albums_df[(albums_df['Have'] == 1)]) / len(albums_df)\n",
    "displays = int(score * 40)\n",
    "print(f\"Total:     [{\"+\" * displays}{\" \" * (40 - displays)}] {len(albums_df[(albums_df['Have'] == 1)])} out of {len(albums_df)}\\n\")\n",
    "for year in sorted(albums_df['Rounded year'].unique()):\n",
    "    score = len(albums_df[(albums_df['Rounded year'] == year) & (albums_df['Have'] == 1)]) / len(albums_df[albums_df['Rounded year'] == year])\n",
    "    displays = int(score * 40)\n",
    "    print(f\"{year}-{year + 10}: [{\"+\" * displays}{\" \" * (40 - displays)}] {len(albums_df[(albums_df['Rounded year'] == year) & (albums_df['Have'] == 1)])} out of {len(albums_df[albums_df['Rounded year'] == year])}\")"
   ]
  },
  {
   "cell_type": "code",
   "execution_count": 65,
   "metadata": {
    "tags": [
     "remove-input"
    ]
   },
   "outputs": [
    {
     "data": {
      "application/vnd.plotly.v1+json": {
       "config": {
        "plotlyServerURL": "https://plot.ly"
       },
       "data": [
        {
         "hovertemplate": "Number albums in top 500=%{x}<br>Amount in collection=%{y}<extra></extra>",
         "legendgroup": "",
         "line": {
          "color": "#636efa",
          "dash": "solid"
         },
         "marker": {
          "symbol": "circle"
         },
         "mode": "lines",
         "name": "",
         "orientation": "v",
         "showlegend": false,
         "type": "scatter",
         "x": [
          1,
          2,
          4,
          5,
          6,
          7,
          8,
          10,
          12,
          13,
          14,
          17,
          20,
          23,
          24,
          28,
          30,
          31,
          32,
          33,
          34,
          39,
          40,
          41,
          42,
          43,
          46,
          47,
          48,
          53,
          55,
          58,
          60,
          62,
          69,
          72,
          77,
          81,
          84,
          86,
          96,
          97,
          107,
          109,
          114,
          117,
          118,
          123,
          124,
          128,
          129,
          133,
          135,
          137,
          139,
          140,
          142,
          145,
          160,
          161,
          165,
          172,
          173,
          179,
          186,
          190,
          192,
          194,
          200,
          211,
          217,
          220,
          221,
          226,
          234,
          235,
          236,
          248,
          253,
          264,
          276,
          279,
          286,
          292,
          294,
          300,
          324,
          327,
          331,
          334,
          341,
          351,
          352,
          355,
          357,
          361,
          375,
          408,
          418,
          449,
          461,
          484
         ],
         "xaxis": "x",
         "y": [
          1,
          2,
          3,
          4,
          5,
          6,
          7,
          8,
          9,
          10,
          11,
          12,
          13,
          14,
          15,
          16,
          17,
          18,
          19,
          20,
          21,
          22,
          23,
          24,
          25,
          26,
          27,
          28,
          29,
          30,
          31,
          32,
          33,
          34,
          35,
          36,
          37,
          38,
          39,
          40,
          41,
          42,
          43,
          44,
          45,
          46,
          47,
          48,
          49,
          50,
          51,
          52,
          53,
          54,
          55,
          56,
          57,
          58,
          59,
          60,
          61,
          62,
          63,
          64,
          65,
          66,
          67,
          68,
          69,
          70,
          71,
          72,
          73,
          74,
          75,
          76,
          77,
          78,
          79,
          80,
          81,
          82,
          83,
          84,
          85,
          86,
          87,
          88,
          89,
          90,
          91,
          92,
          93,
          94,
          95,
          96,
          97,
          98,
          99,
          100,
          101,
          102
         ],
         "yaxis": "y"
        }
       ],
       "layout": {
        "legend": {
         "tracegroupgap": 0
        },
        "margin": {
         "b": 0,
         "l": 0,
         "r": 10,
         "t": 10
        },
        "showlegend": false,
        "template": {
         "data": {
          "bar": [
           {
            "error_x": {
             "color": "#2a3f5f"
            },
            "error_y": {
             "color": "#2a3f5f"
            },
            "marker": {
             "line": {
              "color": "#E5ECF6",
              "width": 0.5
             },
             "pattern": {
              "fillmode": "overlay",
              "size": 10,
              "solidity": 0.2
             }
            },
            "type": "bar"
           }
          ],
          "barpolar": [
           {
            "marker": {
             "line": {
              "color": "#E5ECF6",
              "width": 0.5
             },
             "pattern": {
              "fillmode": "overlay",
              "size": 10,
              "solidity": 0.2
             }
            },
            "type": "barpolar"
           }
          ],
          "carpet": [
           {
            "aaxis": {
             "endlinecolor": "#2a3f5f",
             "gridcolor": "white",
             "linecolor": "white",
             "minorgridcolor": "white",
             "startlinecolor": "#2a3f5f"
            },
            "baxis": {
             "endlinecolor": "#2a3f5f",
             "gridcolor": "white",
             "linecolor": "white",
             "minorgridcolor": "white",
             "startlinecolor": "#2a3f5f"
            },
            "type": "carpet"
           }
          ],
          "choropleth": [
           {
            "colorbar": {
             "outlinewidth": 0,
             "ticks": ""
            },
            "type": "choropleth"
           }
          ],
          "contour": [
           {
            "colorbar": {
             "outlinewidth": 0,
             "ticks": ""
            },
            "colorscale": [
             [
              0,
              "#0d0887"
             ],
             [
              0.1111111111111111,
              "#46039f"
             ],
             [
              0.2222222222222222,
              "#7201a8"
             ],
             [
              0.3333333333333333,
              "#9c179e"
             ],
             [
              0.4444444444444444,
              "#bd3786"
             ],
             [
              0.5555555555555556,
              "#d8576b"
             ],
             [
              0.6666666666666666,
              "#ed7953"
             ],
             [
              0.7777777777777778,
              "#fb9f3a"
             ],
             [
              0.8888888888888888,
              "#fdca26"
             ],
             [
              1,
              "#f0f921"
             ]
            ],
            "type": "contour"
           }
          ],
          "contourcarpet": [
           {
            "colorbar": {
             "outlinewidth": 0,
             "ticks": ""
            },
            "type": "contourcarpet"
           }
          ],
          "heatmap": [
           {
            "colorbar": {
             "outlinewidth": 0,
             "ticks": ""
            },
            "colorscale": [
             [
              0,
              "#0d0887"
             ],
             [
              0.1111111111111111,
              "#46039f"
             ],
             [
              0.2222222222222222,
              "#7201a8"
             ],
             [
              0.3333333333333333,
              "#9c179e"
             ],
             [
              0.4444444444444444,
              "#bd3786"
             ],
             [
              0.5555555555555556,
              "#d8576b"
             ],
             [
              0.6666666666666666,
              "#ed7953"
             ],
             [
              0.7777777777777778,
              "#fb9f3a"
             ],
             [
              0.8888888888888888,
              "#fdca26"
             ],
             [
              1,
              "#f0f921"
             ]
            ],
            "type": "heatmap"
           }
          ],
          "heatmapgl": [
           {
            "colorbar": {
             "outlinewidth": 0,
             "ticks": ""
            },
            "colorscale": [
             [
              0,
              "#0d0887"
             ],
             [
              0.1111111111111111,
              "#46039f"
             ],
             [
              0.2222222222222222,
              "#7201a8"
             ],
             [
              0.3333333333333333,
              "#9c179e"
             ],
             [
              0.4444444444444444,
              "#bd3786"
             ],
             [
              0.5555555555555556,
              "#d8576b"
             ],
             [
              0.6666666666666666,
              "#ed7953"
             ],
             [
              0.7777777777777778,
              "#fb9f3a"
             ],
             [
              0.8888888888888888,
              "#fdca26"
             ],
             [
              1,
              "#f0f921"
             ]
            ],
            "type": "heatmapgl"
           }
          ],
          "histogram": [
           {
            "marker": {
             "pattern": {
              "fillmode": "overlay",
              "size": 10,
              "solidity": 0.2
             }
            },
            "type": "histogram"
           }
          ],
          "histogram2d": [
           {
            "colorbar": {
             "outlinewidth": 0,
             "ticks": ""
            },
            "colorscale": [
             [
              0,
              "#0d0887"
             ],
             [
              0.1111111111111111,
              "#46039f"
             ],
             [
              0.2222222222222222,
              "#7201a8"
             ],
             [
              0.3333333333333333,
              "#9c179e"
             ],
             [
              0.4444444444444444,
              "#bd3786"
             ],
             [
              0.5555555555555556,
              "#d8576b"
             ],
             [
              0.6666666666666666,
              "#ed7953"
             ],
             [
              0.7777777777777778,
              "#fb9f3a"
             ],
             [
              0.8888888888888888,
              "#fdca26"
             ],
             [
              1,
              "#f0f921"
             ]
            ],
            "type": "histogram2d"
           }
          ],
          "histogram2dcontour": [
           {
            "colorbar": {
             "outlinewidth": 0,
             "ticks": ""
            },
            "colorscale": [
             [
              0,
              "#0d0887"
             ],
             [
              0.1111111111111111,
              "#46039f"
             ],
             [
              0.2222222222222222,
              "#7201a8"
             ],
             [
              0.3333333333333333,
              "#9c179e"
             ],
             [
              0.4444444444444444,
              "#bd3786"
             ],
             [
              0.5555555555555556,
              "#d8576b"
             ],
             [
              0.6666666666666666,
              "#ed7953"
             ],
             [
              0.7777777777777778,
              "#fb9f3a"
             ],
             [
              0.8888888888888888,
              "#fdca26"
             ],
             [
              1,
              "#f0f921"
             ]
            ],
            "type": "histogram2dcontour"
           }
          ],
          "mesh3d": [
           {
            "colorbar": {
             "outlinewidth": 0,
             "ticks": ""
            },
            "type": "mesh3d"
           }
          ],
          "parcoords": [
           {
            "line": {
             "colorbar": {
              "outlinewidth": 0,
              "ticks": ""
             }
            },
            "type": "parcoords"
           }
          ],
          "pie": [
           {
            "automargin": true,
            "type": "pie"
           }
          ],
          "scatter": [
           {
            "fillpattern": {
             "fillmode": "overlay",
             "size": 10,
             "solidity": 0.2
            },
            "type": "scatter"
           }
          ],
          "scatter3d": [
           {
            "line": {
             "colorbar": {
              "outlinewidth": 0,
              "ticks": ""
             }
            },
            "marker": {
             "colorbar": {
              "outlinewidth": 0,
              "ticks": ""
             }
            },
            "type": "scatter3d"
           }
          ],
          "scattercarpet": [
           {
            "marker": {
             "colorbar": {
              "outlinewidth": 0,
              "ticks": ""
             }
            },
            "type": "scattercarpet"
           }
          ],
          "scattergeo": [
           {
            "marker": {
             "colorbar": {
              "outlinewidth": 0,
              "ticks": ""
             }
            },
            "type": "scattergeo"
           }
          ],
          "scattergl": [
           {
            "marker": {
             "colorbar": {
              "outlinewidth": 0,
              "ticks": ""
             }
            },
            "type": "scattergl"
           }
          ],
          "scattermapbox": [
           {
            "marker": {
             "colorbar": {
              "outlinewidth": 0,
              "ticks": ""
             }
            },
            "type": "scattermapbox"
           }
          ],
          "scatterpolar": [
           {
            "marker": {
             "colorbar": {
              "outlinewidth": 0,
              "ticks": ""
             }
            },
            "type": "scatterpolar"
           }
          ],
          "scatterpolargl": [
           {
            "marker": {
             "colorbar": {
              "outlinewidth": 0,
              "ticks": ""
             }
            },
            "type": "scatterpolargl"
           }
          ],
          "scatterternary": [
           {
            "marker": {
             "colorbar": {
              "outlinewidth": 0,
              "ticks": ""
             }
            },
            "type": "scatterternary"
           }
          ],
          "surface": [
           {
            "colorbar": {
             "outlinewidth": 0,
             "ticks": ""
            },
            "colorscale": [
             [
              0,
              "#0d0887"
             ],
             [
              0.1111111111111111,
              "#46039f"
             ],
             [
              0.2222222222222222,
              "#7201a8"
             ],
             [
              0.3333333333333333,
              "#9c179e"
             ],
             [
              0.4444444444444444,
              "#bd3786"
             ],
             [
              0.5555555555555556,
              "#d8576b"
             ],
             [
              0.6666666666666666,
              "#ed7953"
             ],
             [
              0.7777777777777778,
              "#fb9f3a"
             ],
             [
              0.8888888888888888,
              "#fdca26"
             ],
             [
              1,
              "#f0f921"
             ]
            ],
            "type": "surface"
           }
          ],
          "table": [
           {
            "cells": {
             "fill": {
              "color": "#EBF0F8"
             },
             "line": {
              "color": "white"
             }
            },
            "header": {
             "fill": {
              "color": "#C8D4E3"
             },
             "line": {
              "color": "white"
             }
            },
            "type": "table"
           }
          ]
         },
         "layout": {
          "annotationdefaults": {
           "arrowcolor": "#2a3f5f",
           "arrowhead": 0,
           "arrowwidth": 1
          },
          "autotypenumbers": "strict",
          "coloraxis": {
           "colorbar": {
            "outlinewidth": 0,
            "ticks": ""
           }
          },
          "colorscale": {
           "diverging": [
            [
             0,
             "#8e0152"
            ],
            [
             0.1,
             "#c51b7d"
            ],
            [
             0.2,
             "#de77ae"
            ],
            [
             0.3,
             "#f1b6da"
            ],
            [
             0.4,
             "#fde0ef"
            ],
            [
             0.5,
             "#f7f7f7"
            ],
            [
             0.6,
             "#e6f5d0"
            ],
            [
             0.7,
             "#b8e186"
            ],
            [
             0.8,
             "#7fbc41"
            ],
            [
             0.9,
             "#4d9221"
            ],
            [
             1,
             "#276419"
            ]
           ],
           "sequential": [
            [
             0,
             "#0d0887"
            ],
            [
             0.1111111111111111,
             "#46039f"
            ],
            [
             0.2222222222222222,
             "#7201a8"
            ],
            [
             0.3333333333333333,
             "#9c179e"
            ],
            [
             0.4444444444444444,
             "#bd3786"
            ],
            [
             0.5555555555555556,
             "#d8576b"
            ],
            [
             0.6666666666666666,
             "#ed7953"
            ],
            [
             0.7777777777777778,
             "#fb9f3a"
            ],
            [
             0.8888888888888888,
             "#fdca26"
            ],
            [
             1,
             "#f0f921"
            ]
           ],
           "sequentialminus": [
            [
             0,
             "#0d0887"
            ],
            [
             0.1111111111111111,
             "#46039f"
            ],
            [
             0.2222222222222222,
             "#7201a8"
            ],
            [
             0.3333333333333333,
             "#9c179e"
            ],
            [
             0.4444444444444444,
             "#bd3786"
            ],
            [
             0.5555555555555556,
             "#d8576b"
            ],
            [
             0.6666666666666666,
             "#ed7953"
            ],
            [
             0.7777777777777778,
             "#fb9f3a"
            ],
            [
             0.8888888888888888,
             "#fdca26"
            ],
            [
             1,
             "#f0f921"
            ]
           ]
          },
          "colorway": [
           "#636efa",
           "#EF553B",
           "#00cc96",
           "#ab63fa",
           "#FFA15A",
           "#19d3f3",
           "#FF6692",
           "#B6E880",
           "#FF97FF",
           "#FECB52"
          ],
          "font": {
           "color": "#2a3f5f"
          },
          "geo": {
           "bgcolor": "white",
           "lakecolor": "white",
           "landcolor": "#E5ECF6",
           "showlakes": true,
           "showland": true,
           "subunitcolor": "white"
          },
          "hoverlabel": {
           "align": "left"
          },
          "hovermode": "closest",
          "mapbox": {
           "style": "light"
          },
          "paper_bgcolor": "white",
          "plot_bgcolor": "#E5ECF6",
          "polar": {
           "angularaxis": {
            "gridcolor": "white",
            "linecolor": "white",
            "ticks": ""
           },
           "bgcolor": "#E5ECF6",
           "radialaxis": {
            "gridcolor": "white",
            "linecolor": "white",
            "ticks": ""
           }
          },
          "scene": {
           "xaxis": {
            "backgroundcolor": "#E5ECF6",
            "gridcolor": "white",
            "gridwidth": 2,
            "linecolor": "white",
            "showbackground": true,
            "ticks": "",
            "zerolinecolor": "white"
           },
           "yaxis": {
            "backgroundcolor": "#E5ECF6",
            "gridcolor": "white",
            "gridwidth": 2,
            "linecolor": "white",
            "showbackground": true,
            "ticks": "",
            "zerolinecolor": "white"
           },
           "zaxis": {
            "backgroundcolor": "#E5ECF6",
            "gridcolor": "white",
            "gridwidth": 2,
            "linecolor": "white",
            "showbackground": true,
            "ticks": "",
            "zerolinecolor": "white"
           }
          },
          "shapedefaults": {
           "line": {
            "color": "#2a3f5f"
           }
          },
          "ternary": {
           "aaxis": {
            "gridcolor": "white",
            "linecolor": "white",
            "ticks": ""
           },
           "baxis": {
            "gridcolor": "white",
            "linecolor": "white",
            "ticks": ""
           },
           "bgcolor": "#E5ECF6",
           "caxis": {
            "gridcolor": "white",
            "linecolor": "white",
            "ticks": ""
           }
          },
          "title": {
           "x": 0.05
          },
          "xaxis": {
           "automargin": true,
           "gridcolor": "white",
           "linecolor": "white",
           "ticks": "",
           "title": {
            "standoff": 15
           },
           "zerolinecolor": "white",
           "zerolinewidth": 2
          },
          "yaxis": {
           "automargin": true,
           "gridcolor": "white",
           "linecolor": "white",
           "ticks": "",
           "title": {
            "standoff": 15
           },
           "zerolinecolor": "white",
           "zerolinewidth": 2
          }
         }
        },
        "xaxis": {
         "anchor": "y",
         "domain": [
          0,
          1
         ],
         "title": {
          "text": "Number albums in top 500"
         }
        },
        "yaxis": {
         "anchor": "x",
         "domain": [
          0,
          1
         ],
         "title": {
          "text": "Amount in collection"
         }
        }
       }
      }
     },
     "metadata": {},
     "output_type": "display_data"
    }
   ],
   "source": [
    "albums_df['Have'] = albums_df['Have'].cumsum()\n",
    "albums_df = albums_df[albums_df['Have'].notnull()]\n",
    "fig = px.line(albums_df, x='#', y='Have',\n",
    "              labels={\n",
    "                     \"#\": \"Number albums in top 500\",\n",
    "                     \"Have\": \"Amount in collection\",\n",
    "                 },)\n",
    "fig.update_layout(margin={'t':10,'l':0,'b':0,'r':10}, showlegend=False)\n",
    "fig.show()"
   ]
  },
  {
   "cell_type": "code",
   "execution_count": null,
   "metadata": {},
   "outputs": [],
   "source": []
  }
 ],
 "metadata": {
  "kernelspec": {
   "display_name": "Python 3 (ipykernel)",
   "language": "python",
   "name": "python3"
  },
  "language_info": {
   "codemirror_mode": {
    "name": "ipython",
    "version": 3
   },
   "file_extension": ".py",
   "mimetype": "text/x-python",
   "name": "python",
   "nbconvert_exporter": "python",
   "pygments_lexer": "ipython3",
   "version": "3.12.3"
  },
  "widgets": {
   "application/vnd.jupyter.widget-state+json": {
    "state": {},
    "version_major": 2,
    "version_minor": 0
   }
  }
 },
 "nbformat": 4,
 "nbformat_minor": 4
}
